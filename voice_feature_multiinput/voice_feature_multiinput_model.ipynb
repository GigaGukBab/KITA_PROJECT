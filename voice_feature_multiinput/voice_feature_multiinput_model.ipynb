{
 "cells": [
  {
   "cell_type": "markdown",
   "metadata": {
    "id": "M0_XUo-MyZ8v"
   },
   "source": [
    "# **Multi-Input Model Full Code**"
   ]
  },
  {
   "cell_type": "markdown",
   "metadata": {},
   "source": [
    "### 압축파일 해제 코드(optional)"
   ]
  },
  {
   "cell_type": "code",
   "execution_count": null,
   "metadata": {},
   "outputs": [],
   "source": [
    "# unzip pitch file\n",
    "\n",
    "import zipfile\n",
    "\n",
    "zip_path_pitch_counsel_5244 = './pitch_counsel_5244.zip'\n",
    "dir_path_pitch_counsel_5244 = './pitch_councel(5244)'\n",
    "\n",
    "with zipfile.ZipFile(zip_path_pitch_counsel_5244, 'r') as zip_ref:\n",
    "    zip_ref.extractall(dir_path_pitch_counsel_5244)\n",
    "        \n",
    "zip_path_pitch_vp_4756 = './pitch_vp_4756.zip'\n",
    "dir_path_pitch_vp_4756 = './pitch_vp(4756)'\n",
    "\n",
    "with zipfile.ZipFile(zip_path_pitch_vp_4756, 'r') as zip_ref:\n",
    "    zip_ref.extractall(dir_path_pitch_vp_4756)"
   ]
  },
  {
   "cell_type": "code",
   "execution_count": null,
   "metadata": {},
   "outputs": [],
   "source": [
    "# unzip decibel file\n",
    "\n",
    "import zipfile\n",
    "\n",
    "zip_path_dB_counsel_5244 = './dB_counsel_5244.zip'\n",
    "dir_path_dB_counsel_5244 = './dB_councel(5244)'\n",
    "\n",
    "with zipfile.ZipFile(zip_path_dB_counsel_5244, 'r') as zip_ref:\n",
    "    zip_ref.extractall(dir_path_dB_counsel_5244)\n",
    "        \n",
    "zip_path_dB_vp_4756 = './dB_vp_4756.zip'\n",
    "dir_path_dB_vp_4756 = './dB_vp(4756)'\n",
    "\n",
    "with zipfile.ZipFile(zip_path_dB_vp_4756, 'r') as zip_ref:\n",
    "    zip_ref.extractall(dir_path_dB_vp_4756)"
   ]
  },
  {
   "cell_type": "markdown",
   "metadata": {
    "id": "LqhI_NV_yTYk"
   },
   "source": [
    "## 필요한 import 문들 및 Module"
   ]
  },
  {
   "cell_type": "code",
   "execution_count": 1,
   "metadata": {
    "executionInfo": {
     "elapsed": 3164,
     "status": "ok",
     "timestamp": 1691419383780,
     "user": {
      "displayName": "한진우",
      "userId": "09378292253830731671"
     },
     "user_tz": -540
    },
    "id": "D6tuOBoTU_Es"
   },
   "outputs": [
    {
     "name": "stderr",
     "output_type": "stream",
     "text": [
      "2023-08-17 01:19:18.859657: I tensorflow/core/platform/cpu_feature_guard.cc:193] This TensorFlow binary is optimized with oneAPI Deep Neural Network Library (oneDNN) to use the following CPU instructions in performance-critical operations:  AVX2 AVX512F FMA\n",
      "To enable them in other operations, rebuild TensorFlow with the appropriate compiler flags.\n"
     ]
    }
   ],
   "source": [
    "import os\n",
    "import numpy as np\n",
    "import glob\n",
    "from tensorflow.keras.layers.experimental.preprocessing import Normalization\n",
    "from tensorflow.keras.models import Sequential, Model\n",
    "from tensorflow.keras.layers import (Conv1D, Dense, MaxPooling1D,\n",
    "                                     BatchNormalization,\n",
    "                                     GlobalAveragePooling1D,\n",
    "                                     GlobalMaxPool1D,  Flatten, Dropout,\n",
    "                                     Activation, Input)\n",
    "from tensorflow.keras.callbacks import EarlyStopping, ModelCheckpoint, LearningRateScheduler\n",
    "from tensorflow.keras.optimizers import Adam\n",
    "from tensorflow.keras.layers import concatenate\n",
    "from tensorflow.keras.preprocessing.sequence import pad_sequences\n",
    "from sklearn.model_selection import train_test_split\n",
    "import keras.backend as K\n",
    "from tensorflow.keras.callbacks import EarlyStopping\n",
    "from tensorflow.keras.callbacks import LearningRateScheduler\n",
    "from tensorflow.keras.optimizers import Adam\n",
    "from tensorflow.keras.models import load_model\n",
    "import tensorflow as tf\n",
    "from keras.utils import plot_model\n",
    "import matplotlib.pyplot as plt\n",
    "import seaborn as sns"
   ]
  },
  {
   "cell_type": "markdown",
   "metadata": {
    "id": "WCmEvacjV6So"
   },
   "source": [
    "## load decibel data"
   ]
  },
  {
   "cell_type": "code",
   "execution_count": 2,
   "metadata": {
    "executionInfo": {
     "elapsed": 4,
     "status": "ok",
     "timestamp": 1691419383780,
     "user": {
      "displayName": "한진우",
      "userId": "09378292253830731671"
     },
     "user_tz": -540
    },
    "id": "qAKVDs38FQY1"
   },
   "outputs": [],
   "source": [
    "dir_path_dB_counsel_6352 = './dB_counel(5244)'\n",
    "dir_path_dB_vp_4756 = './dB_vp(4756)'"
   ]
  },
  {
   "cell_type": "code",
   "execution_count": 3,
   "metadata": {
    "executionInfo": {
     "elapsed": 14940,
     "status": "ok",
     "timestamp": 1691419398717,
     "user": {
      "displayName": "한진우",
      "userId": "09378292253830731671"
     },
     "user_tz": -540
    },
    "id": "v2OHmjLEocNo"
   },
   "outputs": [],
   "source": [
    "# Load data\n",
    "vp_dB_data = [np.load(os.path.join(dir_path_dB_vp_4756, f)).reshape(-1,1) for f in os.listdir(dir_path_dB_vp_4756) if f.endswith('.npy')]\n",
    "counsel_dB_data = [np.load(os.path.join(dir_path_dB_counsel_6352, f)).reshape(-1,1) for f in os.listdir(dir_path_dB_counsel_6352) if f.endswith('.npy')]"
   ]
  },
  {
   "cell_type": "code",
   "execution_count": 4,
   "metadata": {
    "colab": {
     "base_uri": "https://localhost:8080/"
    },
    "executionInfo": {
     "elapsed": 22,
     "status": "ok",
     "timestamp": 1691419398718,
     "user": {
      "displayName": "한진우",
      "userId": "09378292253830731671"
     },
     "user_tz": -540
    },
    "id": "FVyDmZBWJnEi",
    "outputId": "45d25837-cb6b-419c-8613-1ae630b8585f"
   },
   "outputs": [
    {
     "data": {
      "text/plain": [
       "(5244, 4756)"
      ]
     },
     "execution_count": 4,
     "metadata": {},
     "output_type": "execute_result"
    }
   ],
   "source": [
    "len(counsel_dB_data), len(vp_dB_data)"
   ]
  },
  {
   "cell_type": "code",
   "execution_count": 5,
   "metadata": {
    "colab": {
     "base_uri": "https://localhost:8080/"
    },
    "executionInfo": {
     "elapsed": 20,
     "status": "ok",
     "timestamp": 1691419398718,
     "user": {
      "displayName": "한진우",
      "userId": "09378292253830731671"
     },
     "user_tz": -540
    },
    "id": "PoSp1PGnLPq6",
    "outputId": "c5d7c63b-df91-458d-f294-11430ff86caf"
   },
   "outputs": [
    {
     "data": {
      "text/plain": [
       "((157, 1), (157, 1))"
      ]
     },
     "execution_count": 5,
     "metadata": {},
     "output_type": "execute_result"
    }
   ],
   "source": [
    "counsel_dB_data[0].shape, vp_dB_data[0].shape"
   ]
  },
  {
   "cell_type": "markdown",
   "metadata": {
    "id": "b2t2M8BxV8Qw"
   },
   "source": [
    "## load pitch data"
   ]
  },
  {
   "cell_type": "code",
   "execution_count": 6,
   "metadata": {
    "executionInfo": {
     "elapsed": 17,
     "status": "ok",
     "timestamp": 1691419398719,
     "user": {
      "displayName": "한진우",
      "userId": "09378292253830731671"
     },
     "user_tz": -540
    },
    "id": "Me-8-qaHWHi3"
   },
   "outputs": [],
   "source": [
    "dir_path_pitch_counsel_5244 = './pitch_councel(5244)'\n",
    "dir_path_pitch_vp_4756 = './pitch_vp(4756)'"
   ]
  },
  {
   "cell_type": "code",
   "execution_count": 7,
   "metadata": {
    "executionInfo": {
     "elapsed": 15414,
     "status": "ok",
     "timestamp": 1691419414116,
     "user": {
      "displayName": "한진우",
      "userId": "09378292253830731671"
     },
     "user_tz": -540
    },
    "id": "9MWZB4zOV-uu"
   },
   "outputs": [],
   "source": [
    "# Load data\n",
    "vp_pit_data = [np.load(os.path.join(dir_path_pitch_vp_4756, f)).reshape(-1,1) for f in os.listdir(dir_path_pitch_vp_4756) if f.endswith('.npy')]\n",
    "counsel_pit_data = [np.load(os.path.join(dir_path_pitch_counsel_5244, f)).reshape(-1,1) for f in os.listdir(dir_path_pitch_counsel_5244) if f.endswith('.npy')]"
   ]
  },
  {
   "cell_type": "code",
   "execution_count": 8,
   "metadata": {
    "colab": {
     "base_uri": "https://localhost:8080/"
    },
    "executionInfo": {
     "elapsed": 14,
     "status": "ok",
     "timestamp": 1691419414117,
     "user": {
      "displayName": "한진우",
      "userId": "09378292253830731671"
     },
     "user_tz": -540
    },
    "id": "culdNWoGW0HN",
    "outputId": "eb9feb03-5495-4acd-c8c6-005aad20b5af"
   },
   "outputs": [
    {
     "data": {
      "text/plain": [
       "(5244, 4756)"
      ]
     },
     "execution_count": 8,
     "metadata": {},
     "output_type": "execute_result"
    }
   ],
   "source": [
    "len(counsel_pit_data), len(vp_pit_data)"
   ]
  },
  {
   "cell_type": "code",
   "execution_count": 9,
   "metadata": {
    "colab": {
     "base_uri": "https://localhost:8080/"
    },
    "executionInfo": {
     "elapsed": 9,
     "status": "ok",
     "timestamp": 1691419414117,
     "user": {
      "displayName": "한진우",
      "userId": "09378292253830731671"
     },
     "user_tz": -540
    },
    "id": "_sBVJdDEW0HP",
    "outputId": "d34924c7-e267-48fd-a9fb-8cc23189366d"
   },
   "outputs": [
    {
     "data": {
      "text/plain": [
       "((157, 1), (157, 1))"
      ]
     },
     "execution_count": 9,
     "metadata": {},
     "output_type": "execute_result"
    }
   ],
   "source": [
    "counsel_pit_data[0].shape, vp_pit_data[0].shape"
   ]
  },
  {
   "cell_type": "markdown",
   "metadata": {
    "id": "8Yx2CjlaW1Sg"
   },
   "source": [
    "## data labeling(decibel data)"
   ]
  },
  {
   "cell_type": "code",
   "execution_count": 10,
   "metadata": {
    "executionInfo": {
     "elapsed": 7,
     "status": "ok",
     "timestamp": 1691419414117,
     "user": {
      "displayName": "한진우",
      "userId": "09378292253830731671"
     },
     "user_tz": -540
    },
    "id": "0bj2pvQiZA0g"
   },
   "outputs": [],
   "source": [
    "# Data labeling\n",
    "vp_dB_labels = [0] * len(vp_dB_data) # Label voice phishing data as 0\n",
    "counsel_dB_labels = [1] * len(counsel_dB_data) # Counseling data is labeled as 1"
   ]
  },
  {
   "cell_type": "markdown",
   "metadata": {
    "id": "p93JjFHzXjGx"
   },
   "source": [
    "## data labeling(pitch data)"
   ]
  },
  {
   "cell_type": "code",
   "execution_count": 11,
   "metadata": {
    "executionInfo": {
     "elapsed": 8,
     "status": "ok",
     "timestamp": 1691419414118,
     "user": {
      "displayName": "한진우",
      "userId": "09378292253830731671"
     },
     "user_tz": -540
    },
    "id": "UFOzY7kuXjG-"
   },
   "outputs": [],
   "source": [
    "# Data labeling\n",
    "vp_pit_labels = [0] * len(vp_pit_data) # Label voice phishing data as 0\n",
    "counsel_pit_labels = [1] * len(counsel_pit_data) # Counseling data is labeled as 1"
   ]
  },
  {
   "cell_type": "markdown",
   "metadata": {
    "id": "RFQiy68rXvCn"
   },
   "source": [
    "## combine decibel data"
   ]
  },
  {
   "cell_type": "code",
   "execution_count": 12,
   "metadata": {
    "executionInfo": {
     "elapsed": 9,
     "status": "ok",
     "timestamp": 1691419414120,
     "user": {
      "displayName": "한진우",
      "userId": "09378292253830731671"
     },
     "user_tz": -540
    },
    "id": "0ITCOfw3orfx"
   },
   "outputs": [],
   "source": [
    "# Combine data and labels into one list\n",
    "x_data_dB = vp_dB_data  + counsel_dB_data\n",
    "y_labels_dB = vp_dB_labels + counsel_dB_labels"
   ]
  },
  {
   "cell_type": "markdown",
   "metadata": {
    "id": "0NO0YkS-YLxh"
   },
   "source": [
    "## combine pitch data"
   ]
  },
  {
   "cell_type": "code",
   "execution_count": 13,
   "metadata": {
    "executionInfo": {
     "elapsed": 9,
     "status": "ok",
     "timestamp": 1691419414121,
     "user": {
      "displayName": "한진우",
      "userId": "09378292253830731671"
     },
     "user_tz": -540
    },
    "id": "8htdxU-GYLxq"
   },
   "outputs": [],
   "source": [
    "# Combine data and labels into one list\n",
    "x_data_pit = vp_pit_data  + counsel_pit_data\n",
    "y_labels_pit = vp_pit_labels + counsel_pit_labels"
   ]
  },
  {
   "cell_type": "markdown",
   "metadata": {
    "id": "AdMhyY5qZ6ej"
   },
   "source": [
    "## Convert list to numpy arrays"
   ]
  },
  {
   "cell_type": "code",
   "execution_count": 14,
   "metadata": {
    "executionInfo": {
     "elapsed": 9,
     "status": "ok",
     "timestamp": 1691419414121,
     "user": {
      "displayName": "한진우",
      "userId": "09378292253830731671"
     },
     "user_tz": -540
    },
    "id": "h4GGoeep88YD"
   },
   "outputs": [],
   "source": [
    "# Convert lists to numpy arrays\n",
    "x_data_dB = np.array(x_data_dB)\n",
    "y_labels_dB = np.array(y_labels_dB)\n",
    "\n",
    "# Convert lists to numpy arrays\n",
    "x_data_pit = np.array(x_data_pit)\n",
    "y_labels_pit = np.array(y_labels_pit)\n",
    "\n",
    "# Ensure the labels are the same for both types of data\n",
    "assert np.all(y_labels_dB == y_labels_pit), \"Mismatch in labels!\""
   ]
  },
  {
   "cell_type": "code",
   "execution_count": 15,
   "metadata": {},
   "outputs": [
    {
     "data": {
      "text/plain": [
       "10000"
      ]
     },
     "execution_count": 15,
     "metadata": {},
     "output_type": "execute_result"
    }
   ],
   "source": [
    "len(y_labels_dB)"
   ]
  },
  {
   "cell_type": "code",
   "execution_count": 16,
   "metadata": {},
   "outputs": [
    {
     "data": {
      "text/plain": [
       "10000"
      ]
     },
     "execution_count": 16,
     "metadata": {},
     "output_type": "execute_result"
    }
   ],
   "source": [
    "len(y_labels_pit)"
   ]
  },
  {
   "cell_type": "markdown",
   "metadata": {
    "id": "17e6vYAsaE_0"
   },
   "source": [
    "## data splitting"
   ]
  },
  {
   "cell_type": "code",
   "execution_count": 25,
   "metadata": {
    "executionInfo": {
     "elapsed": 3,
     "status": "ok",
     "timestamp": 1691419414605,
     "user": {
      "displayName": "한진우",
      "userId": "09378292253830731671"
     },
     "user_tz": -540
    },
    "id": "0uNA8z4LaEga"
   },
   "outputs": [],
   "source": [
    "from sklearn.model_selection import train_test_split\n",
    "\n",
    "# First, split the dataset into a temporary training set and test set.\n",
    "decibel_temp, decibel_test, pitch_temp, pitch_test, y_temp, y_test = train_test_split(x_data_dB, x_data_pit, y_labels_dB, test_size=1000, random_state=42, shuffle=True)\n",
    "\n",
    "# Split the temporary training set into a final training set and a validation set.\n",
    "decibel_train, decibel_val, pitch_train, pitch_val, y_train, y_val = train_test_split(decibel_temp, pitch_temp, y_temp, test_size=1500, random_state=42, shuffle=True)\n"
   ]
  },
  {
   "cell_type": "code",
   "execution_count": 26,
   "metadata": {
    "colab": {
     "base_uri": "https://localhost:8080/"
    },
    "executionInfo": {
     "elapsed": 4,
     "status": "ok",
     "timestamp": 1691419414958,
     "user": {
      "displayName": "한진우",
      "userId": "09378292253830731671"
     },
     "user_tz": -540
    },
    "id": "2MC-t1X-aJej",
    "outputId": "fedcc6cc-438d-4e0e-9842-fa45536db6d3"
   },
   "outputs": [
    {
     "name": "stdout",
     "output_type": "stream",
     "text": [
      "Decibel Train data shape: (7500, 157, 1)\n",
      "Decibel Validation data shape: (1500, 157, 1)\n",
      "Decibel Test data shape: (1000, 157, 1)\n",
      "\n",
      "Pitch Train data shape: (7500, 157, 1)\n",
      "Pitch Validation data shape: (1500, 157, 1)\n",
      "Pitch Test data shape: (1000, 157, 1)\n",
      "\n",
      "Train Labels shape: (7500,)\n",
      "Validation Labels shape: (1500,)\n",
      "Test Labels shape: (1000,)\n"
     ]
    }
   ],
   "source": [
    "# Print the shapes of the data arrays\n",
    "print(f\"Decibel Train data shape: {decibel_train.shape}\")\n",
    "print(f\"Decibel Validation data shape: {decibel_val.shape}\")\n",
    "print(f\"Decibel Test data shape: {decibel_test.shape}\")\n",
    "print()\n",
    "print(f\"Pitch Train data shape: {pitch_train.shape}\")\n",
    "print(f\"Pitch Validation data shape: {pitch_val.shape}\")\n",
    "print(f\"Pitch Test data shape: {pitch_test.shape}\")\n",
    "print()\n",
    "print(f\"Train Labels shape: {y_train.shape}\")\n",
    "print(f\"Validation Labels shape: {y_val.shape}\")\n",
    "print(f\"Test Labels shape: {y_test.shape}\")\n"
   ]
  },
  {
   "cell_type": "markdown",
   "metadata": {
    "id": "uJP9cXJSyBhD"
   },
   "source": [
    "## 모델 layer 초기화"
   ]
  },
  {
   "cell_type": "code",
   "execution_count": 27,
   "metadata": {
    "executionInfo": {
     "elapsed": 319,
     "status": "ok",
     "timestamp": 1691423138582,
     "user": {
      "displayName": "한진우",
      "userId": "09378292253830731671"
     },
     "user_tz": -540
    },
    "id": "UwBzpn2ak-EO"
   },
   "outputs": [],
   "source": [
    "K.clear_session()"
   ]
  },
  {
   "cell_type": "markdown",
   "metadata": {
    "id": "mFBWHq5ox5Ue"
   },
   "source": [
    "## Multi input model definition"
   ]
  },
  {
   "cell_type": "code",
   "execution_count": 28,
   "metadata": {
    "colab": {
     "base_uri": "https://localhost:8080/"
    },
    "executionInfo": {
     "elapsed": 354,
     "status": "ok",
     "timestamp": 1691423139427,
     "user": {
      "displayName": "한진우",
      "userId": "09378292253830731671"
     },
     "user_tz": -540
    },
    "id": "orYXqe6Hczjp",
    "outputId": "192d62d0-4e82-4670-e849-b40e8cd0113f",
    "scrolled": false
   },
   "outputs": [
    {
     "name": "stderr",
     "output_type": "stream",
     "text": [
      "2023-08-17 01:21:35.523244: I tensorflow/core/platform/cpu_feature_guard.cc:193] This TensorFlow binary is optimized with oneAPI Deep Neural Network Library (oneDNN) to use the following CPU instructions in performance-critical operations:  AVX2 AVX512F FMA\n",
      "To enable them in other operations, rebuild TensorFlow with the appropriate compiler flags.\n",
      "2023-08-17 01:21:37.102949: I tensorflow/core/common_runtime/gpu/gpu_device.cc:1613] Created device /job:localhost/replica:0/task:0/device:GPU:0 with 6635 MB memory:  -> device: 0, name: NVIDIA GeForce RTX 2080, pci bus id: 0000:17:00.0, compute capability: 7.5\n",
      "2023-08-17 01:21:37.103709: I tensorflow/core/common_runtime/gpu/gpu_device.cc:1613] Created device /job:localhost/replica:0/task:0/device:GPU:1 with 6534 MB memory:  -> device: 1, name: NVIDIA GeForce RTX 2080, pci bus id: 0000:b3:00.0, compute capability: 7.5\n"
     ]
    },
    {
     "name": "stdout",
     "output_type": "stream",
     "text": [
      "Model: \"model\"\n",
      "__________________________________________________________________________________________________\n",
      " Layer (type)                   Output Shape         Param #     Connected to                     \n",
      "==================================================================================================\n",
      " input_decibel (InputLayer)     [(None, 157, 1)]     0           []                               \n",
      "                                                                                                  \n",
      " input_pitch (InputLayer)       [(None, 157, 1)]     0           []                               \n",
      "                                                                                                  \n",
      " decibel_model_NormalizationLay  (None, 157, 1)      315         ['input_decibel[0][0]']          \n",
      " er (Normalization)                                                                               \n",
      "                                                                                                  \n",
      " pitch_model_NormalizationLayer  (None, 157, 1)      315         ['input_pitch[0][0]']            \n",
      "  (Normalization)                                                                                 \n",
      "                                                                                                  \n",
      " conv1d (Conv1D)                (None, 157, 32)      128         ['decibel_model_NormalizationLaye\n",
      "                                                                 r[0][0]']                        \n",
      "                                                                                                  \n",
      " conv1d_6 (Conv1D)              (None, 157, 32)      128         ['pitch_model_NormalizationLayer[\n",
      "                                                                 0][0]']                          \n",
      "                                                                                                  \n",
      " conv1d_1 (Conv1D)              (None, 157, 64)      6208        ['conv1d[0][0]']                 \n",
      "                                                                                                  \n",
      " conv1d_7 (Conv1D)              (None, 157, 64)      6208        ['conv1d_6[0][0]']               \n",
      "                                                                                                  \n",
      " conv1d_2 (Conv1D)              (None, 157, 128)     24704       ['conv1d_1[0][0]']               \n",
      "                                                                                                  \n",
      " conv1d_8 (Conv1D)              (None, 157, 128)     24704       ['conv1d_7[0][0]']               \n",
      "                                                                                                  \n",
      " conv1d_3 (Conv1D)              (None, 157, 128)     49280       ['conv1d_2[0][0]']               \n",
      "                                                                                                  \n",
      " conv1d_9 (Conv1D)              (None, 157, 128)     49280       ['conv1d_8[0][0]']               \n",
      "                                                                                                  \n",
      " conv1d_4 (Conv1D)              (None, 157, 256)     98560       ['conv1d_3[0][0]']               \n",
      "                                                                                                  \n",
      " conv1d_10 (Conv1D)             (None, 157, 256)     98560       ['conv1d_9[0][0]']               \n",
      "                                                                                                  \n",
      " conv1d_5 (Conv1D)              (None, 157, 512)     393728      ['conv1d_4[0][0]']               \n",
      "                                                                                                  \n",
      " conv1d_11 (Conv1D)             (None, 157, 512)     393728      ['conv1d_10[0][0]']              \n",
      "                                                                                                  \n",
      " global_average_pooling1d (Glob  (None, 512)         0           ['conv1d_5[0][0]']               \n",
      " alAveragePooling1D)                                                                              \n",
      "                                                                                                  \n",
      " global_average_pooling1d_1 (Gl  (None, 512)         0           ['conv1d_11[0][0]']              \n",
      " obalAveragePooling1D)                                                                            \n",
      "                                                                                                  \n",
      " concatenate (Concatenate)      (None, 1024)         0           ['global_average_pooling1d[0][0]'\n",
      "                                                                 , 'global_average_pooling1d_1[0][\n",
      "                                                                 0]']                             \n",
      "                                                                                                  \n",
      " dense_1 (Dense)                (None, 64)           65600       ['concatenate[0][0]']            \n",
      "                                                                                                  \n",
      " dense_2 (Dense)                (None, 32)           2080        ['dense_1[0][0]']                \n",
      "                                                                                                  \n",
      " output_layer (Dense)           (None, 1)            33          ['dense_2[0][0]']                \n",
      "                                                                                                  \n",
      "==================================================================================================\n",
      "Total params: 1,213,559\n",
      "Trainable params: 1,212,929\n",
      "Non-trainable params: 630\n",
      "__________________________________________________________________________________________________\n"
     ]
    }
   ],
   "source": [
    "import tensorflow as tf\n",
    "from tensorflow.keras.layers import Input, Conv1D, GlobalAveragePooling1D, Dense, Dropout, concatenate\n",
    "from tensorflow.keras.models import Model\n",
    "from tensorflow.keras.layers.experimental.preprocessing import Normalization\n",
    "\n",
    "# Create a normalization layer.\n",
    "norm_layerA = Normalization(name=\"decibel_model_NormalizationLayer\", axis=1)\n",
    "norm_layerB = Normalization(name=\"pitch_model_NormalizationLayer\", axis=1)\n",
    "\n",
    "# 레이어를 훈련 데이터에 적응시킵니다.\n",
    "norm_layerA.adapt(decibel_train)\n",
    "norm_layerB.adapt(pitch_train)\n",
    "\n",
    "# Define the shape of the input data. Here we assume (157, 1).\n",
    "input_shape = (157, 1)\n",
    "\n",
    "# Create two input layers.\n",
    "inputA = Input(shape=input_shape, name=\"input_decibel\")\n",
    "inputB = Input(shape=input_shape, name=\"input_pitch\")\n",
    "\n",
    "# Apply a normalization layer to the input data.\n",
    "x = norm_layerA(inputA)\n",
    "y = norm_layerB(inputB)\n",
    "\n",
    "# 첫번째 입력에 대한 Convolutional 레이어를 정의합니다.\n",
    "x = Conv1D(32, 3, dilation_rate=1, padding='causal', activation='relu')(x)\n",
    "x = Conv1D(64, 3, dilation_rate=2, padding='causal', activation='relu')(x)\n",
    "x = Conv1D(128, 3, dilation_rate=4, padding='causal', activation='relu')(x)\n",
    "x = Conv1D(128, 3, dilation_rate=8, padding='causal', activation='relu')(x)\n",
    "x = Conv1D(256, 3, dilation_rate=16, padding='causal', activation='relu')(x)\n",
    "x = Conv1D(512, 3, dilation_rate=32, padding='causal', activation='relu')(x)\n",
    "x = GlobalAveragePooling1D()(x)\n",
    "\n",
    "# 첫번째 입력에 대한 Convolutional 레이어를 정의합니다.\n",
    "y = Conv1D(32, 3, dilation_rate=1, padding='causal', activation='relu')(y)\n",
    "y = Conv1D(64, 3, dilation_rate=2, padding='causal', activation='relu')(y)\n",
    "y = Conv1D(128, 3, dilation_rate=4, padding='causal', activation='relu')(y)\n",
    "y = Conv1D(128, 3, dilation_rate=8, padding='causal', activation='relu')(y)\n",
    "y = Conv1D(256, 3, dilation_rate=16, padding='causal', activation='relu')(y)\n",
    "y = Conv1D(512, 3, dilation_rate=32, padding='causal', activation='relu')(y)\n",
    "y = GlobalAveragePooling1D()(y)\n",
    "\n",
    "\n",
    "# Combine the results of the two inputs.\n",
    "z = concatenate([x, y])\n",
    "\n",
    "# Use the combined data to generate the final output.\n",
    "z = Dense(64, activation=\"relu\", name=\"dense_1\")(z)\n",
    "# z = Dropout(0.2)(z)\n",
    "z = Dense(32, activation=\"relu\", name=\"dense_2\")(z)\n",
    "# z = Dropout(0.2)(z)\n",
    "z = Dense(1, activation=\"sigmoid\", name=\"output_layer\")(z)\n",
    "\n",
    "# Generate the final model.\n",
    "model = Model(inputs=[inputA, inputB], outputs=z)\n",
    "\n",
    "# Model summary\n",
    "model.summary()"
   ]
  },
  {
   "cell_type": "markdown",
   "metadata": {
    "id": "fk0ic1ojxVgq"
   },
   "source": [
    "## Plotting model"
   ]
  },
  {
   "cell_type": "code",
   "execution_count": 29,
   "metadata": {
    "colab": {
     "base_uri": "https://localhost:8080/",
     "height": 1000
    },
    "executionInfo": {
     "elapsed": 7,
     "status": "ok",
     "timestamp": 1691423149568,
     "user": {
      "displayName": "한진우",
      "userId": "09378292253830731671"
     },
     "user_tz": -540
    },
    "id": "KG453b0MRjJo",
    "outputId": "97381293-5b6a-404d-da20-6a0b368ec3ea"
   },
   "outputs": [],
   "source": [
    "# from tensorflow.keras.utils import plot_model\n",
    "# plot_model(model, show_shapes=True, show_layer_activations=True)"
   ]
  },
  {
   "cell_type": "markdown",
   "metadata": {
    "id": "cfGPCn6qxbCV"
   },
   "source": [
    "## Training Model with train data & Final Evaluatation with test data"
   ]
  },
  {
   "cell_type": "code",
   "execution_count": 30,
   "metadata": {
    "colab": {
     "base_uri": "https://localhost:8080/"
    },
    "executionInfo": {
     "elapsed": 121660,
     "status": "ok",
     "timestamp": 1691423279923,
     "user": {
      "displayName": "한진우",
      "userId": "09378292253830731671"
     },
     "user_tz": -540
    },
    "id": "HrH4O0z8C__o",
    "outputId": "991d342a-fdcb-4da3-e69d-e71554191a6d",
    "scrolled": false
   },
   "outputs": [
    {
     "name": "stdout",
     "output_type": "stream",
     "text": [
      "Epoch 1/100\n"
     ]
    },
    {
     "name": "stderr",
     "output_type": "stream",
     "text": [
      "2023-08-17 01:22:01.457243: I tensorflow/compiler/xla/stream_executor/cuda/cuda_dnn.cc:428] Loaded cuDNN version 8101\n",
      "2023-08-17 01:22:03.315806: I tensorflow/compiler/xla/service/service.cc:173] XLA service 0x4e667bc0 initialized for platform CUDA (this does not guarantee that XLA will be used). Devices:\n",
      "2023-08-17 01:22:03.315883: I tensorflow/compiler/xla/service/service.cc:181]   StreamExecutor device (0): NVIDIA GeForce RTX 2080, Compute Capability 7.5\n",
      "2023-08-17 01:22:03.315907: I tensorflow/compiler/xla/service/service.cc:181]   StreamExecutor device (1): NVIDIA GeForce RTX 2080, Compute Capability 7.5\n",
      "2023-08-17 01:22:03.326686: I tensorflow/compiler/mlir/tensorflow/utils/dump_mlir_util.cc:268] disabling MLIR crash reproducer, set env var `MLIR_CRASH_REPRODUCER_DIRECTORY` to enable.\n",
      "2023-08-17 01:22:03.505941: I tensorflow/compiler/jit/xla_compilation_cache.cc:477] Compiled cluster using XLA!  This line is logged at most once for the lifetime of the process.\n"
     ]
    },
    {
     "name": "stdout",
     "output_type": "stream",
     "text": [
      "118/118 [==============================] - ETA: 0s - loss: 0.5272 - accuracy: 0.7416\n",
      "Epoch 1: val_accuracy improved from -inf to 0.77867, saving model to multi_input_model.h5\n",
      "118/118 [==============================] - 18s 71ms/step - loss: 0.5272 - accuracy: 0.7416 - val_loss: 0.4951 - val_accuracy: 0.7787\n",
      "Epoch 2/100\n",
      "118/118 [==============================] - ETA: 0s - loss: 0.3910 - accuracy: 0.8251\n",
      "Epoch 2: val_accuracy improved from 0.77867 to 0.85000, saving model to multi_input_model.h5\n",
      "118/118 [==============================] - 4s 36ms/step - loss: 0.3910 - accuracy: 0.8251 - val_loss: 0.3438 - val_accuracy: 0.8500\n",
      "Epoch 3/100\n",
      "118/118 [==============================] - ETA: 0s - loss: 0.3437 - accuracy: 0.8524\n",
      "Epoch 3: val_accuracy did not improve from 0.85000\n",
      "118/118 [==============================] - 4s 34ms/step - loss: 0.3437 - accuracy: 0.8524 - val_loss: 0.3569 - val_accuracy: 0.8413\n",
      "Epoch 4/100\n",
      "117/118 [============================>.] - ETA: 0s - loss: 0.3177 - accuracy: 0.8695\n",
      "Epoch 4: val_accuracy improved from 0.85000 to 0.88333, saving model to multi_input_model.h5\n",
      "118/118 [==============================] - 4s 35ms/step - loss: 0.3174 - accuracy: 0.8696 - val_loss: 0.2799 - val_accuracy: 0.8833\n",
      "Epoch 5/100\n",
      "117/118 [============================>.] - ETA: 0s - loss: 0.3009 - accuracy: 0.8737\n",
      "Epoch 5: val_accuracy improved from 0.88333 to 0.88667, saving model to multi_input_model.h5\n",
      "118/118 [==============================] - 4s 35ms/step - loss: 0.3011 - accuracy: 0.8736 - val_loss: 0.2776 - val_accuracy: 0.8867\n",
      "Epoch 6/100\n",
      "117/118 [============================>.] - ETA: 0s - loss: 0.2923 - accuracy: 0.8799\n",
      "Epoch 6: val_accuracy did not improve from 0.88667\n",
      "118/118 [==============================] - 4s 33ms/step - loss: 0.2921 - accuracy: 0.8800 - val_loss: 0.3162 - val_accuracy: 0.8693\n",
      "Epoch 7/100\n",
      "117/118 [============================>.] - ETA: 0s - loss: 0.2575 - accuracy: 0.8920\n",
      "Epoch 7: val_accuracy did not improve from 0.88667\n",
      "118/118 [==============================] - 4s 34ms/step - loss: 0.2583 - accuracy: 0.8916 - val_loss: 0.2772 - val_accuracy: 0.8787\n",
      "Epoch 8/100\n",
      "117/118 [============================>.] - ETA: 0s - loss: 0.2430 - accuracy: 0.9013\n",
      "Epoch 8: val_accuracy did not improve from 0.88667\n",
      "118/118 [==============================] - 4s 34ms/step - loss: 0.2428 - accuracy: 0.9015 - val_loss: 0.3084 - val_accuracy: 0.8773\n",
      "Epoch 9/100\n",
      "117/118 [============================>.] - ETA: 0s - loss: 0.2296 - accuracy: 0.9064\n",
      "Epoch 9: val_accuracy improved from 0.88667 to 0.91533, saving model to multi_input_model.h5\n",
      "118/118 [==============================] - 4s 34ms/step - loss: 0.2296 - accuracy: 0.9064 - val_loss: 0.2040 - val_accuracy: 0.9153\n",
      "Epoch 10/100\n",
      "117/118 [============================>.] - ETA: 0s - loss: 0.2204 - accuracy: 0.9089\n",
      "Epoch 10: val_accuracy did not improve from 0.91533\n",
      "118/118 [==============================] - 4s 34ms/step - loss: 0.2208 - accuracy: 0.9088 - val_loss: 0.2028 - val_accuracy: 0.9153\n",
      "Epoch 11/100\n",
      "117/118 [============================>.] - ETA: 0s - loss: 0.1993 - accuracy: 0.9215\n",
      "Epoch 11: val_accuracy improved from 0.91533 to 0.92133, saving model to multi_input_model.h5\n",
      "118/118 [==============================] - 4s 35ms/step - loss: 0.1991 - accuracy: 0.9215 - val_loss: 0.2028 - val_accuracy: 0.9213\n",
      "Epoch 12/100\n",
      "117/118 [============================>.] - ETA: 0s - loss: 0.1895 - accuracy: 0.9241\n",
      "Epoch 12: val_accuracy improved from 0.92133 to 0.92200, saving model to multi_input_model.h5\n",
      "118/118 [==============================] - 4s 35ms/step - loss: 0.1893 - accuracy: 0.9243 - val_loss: 0.1919 - val_accuracy: 0.9220\n",
      "Epoch 13/100\n",
      "117/118 [============================>.] - ETA: 0s - loss: 0.1765 - accuracy: 0.9280\n",
      "Epoch 13: val_accuracy did not improve from 0.92200\n",
      "118/118 [==============================] - 4s 34ms/step - loss: 0.1763 - accuracy: 0.9281 - val_loss: 0.2498 - val_accuracy: 0.8900\n",
      "Epoch 14/100\n",
      "117/118 [============================>.] - ETA: 0s - loss: 0.1715 - accuracy: 0.9340\n",
      "Epoch 14: val_accuracy did not improve from 0.92200\n",
      "118/118 [==============================] - 4s 34ms/step - loss: 0.1713 - accuracy: 0.9341 - val_loss: 0.2169 - val_accuracy: 0.9113\n",
      "Epoch 15/100\n",
      "117/118 [============================>.] - ETA: 0s - loss: 0.1628 - accuracy: 0.9394\n",
      "Epoch 15: val_accuracy improved from 0.92200 to 0.92600, saving model to multi_input_model.h5\n",
      "118/118 [==============================] - 4s 35ms/step - loss: 0.1628 - accuracy: 0.9392 - val_loss: 0.1818 - val_accuracy: 0.9260\n",
      "Epoch 16/100\n",
      "117/118 [============================>.] - ETA: 0s - loss: 0.1604 - accuracy: 0.9384\n",
      "Epoch 16: val_accuracy did not improve from 0.92600\n",
      "118/118 [==============================] - 4s 33ms/step - loss: 0.1602 - accuracy: 0.9385 - val_loss: 0.2351 - val_accuracy: 0.9087\n",
      "Epoch 17/100\n",
      "117/118 [============================>.] - ETA: 0s - loss: 0.1457 - accuracy: 0.9426\n",
      "Epoch 17: val_accuracy did not improve from 0.92600\n",
      "118/118 [==============================] - 4s 34ms/step - loss: 0.1463 - accuracy: 0.9425 - val_loss: 0.1953 - val_accuracy: 0.9240\n",
      "Epoch 18/100\n",
      "117/118 [============================>.] - ETA: 0s - loss: 0.1637 - accuracy: 0.9335\n",
      "Epoch 18: val_accuracy did not improve from 0.92600\n",
      "118/118 [==============================] - 4s 34ms/step - loss: 0.1635 - accuracy: 0.9336 - val_loss: 0.2207 - val_accuracy: 0.9127\n"
     ]
    }
   ],
   "source": [
    "# EarlyStopping callback\n",
    "early_stopping = EarlyStopping(monitor='val_loss', patience=3, mode='auto')\n",
    "\n",
    "# ModelCheckpoint callback\n",
    "model_checkpoint = ModelCheckpoint(\n",
    "    'multi_input_model.h5',  # Path where to save the model\n",
    "    monitor='val_accuracy',  # The metric to monitor\n",
    "    verbose=1,  # Log info\n",
    "    save_best_only=True,  # Only save the best model\n",
    "    mode='max',  # Maximize val_accuracy\n",
    "    overwrite=True\n",
    ")\n",
    "\n",
    "callbacks = [early_stopping, model_checkpoint]\n",
    "\n",
    "# Compile the model\n",
    "model.compile(optimizer=Adam(), loss='binary_crossentropy', metrics=['accuracy'])\n",
    "\n",
    "# Fit the model\n",
    "history = model.fit([decibel_train, pitch_train], y_train,\n",
    "                    validation_data=([decibel_val, pitch_val], y_val),\n",
    "                    epochs=100, batch_size=64,\n",
    "                    callbacks=callbacks) # Add the callbacks to the model fit method\n"
   ]
  },
  {
   "cell_type": "markdown",
   "metadata": {
    "id": "IaOfUgutTvFB"
   },
   "source": [
    "## Plot Accuracy & Loss of train, validation data"
   ]
  },
  {
   "cell_type": "code",
   "execution_count": 31,
   "metadata": {
    "colab": {
     "base_uri": "https://localhost:8080/",
     "height": 501
    },
    "executionInfo": {
     "elapsed": 1252,
     "status": "ok",
     "timestamp": 1691423297896,
     "user": {
      "displayName": "한진우",
      "userId": "09378292253830731671"
     },
     "user_tz": -540
    },
    "id": "flJ75vYOTvFB",
    "outputId": "faec3447-61c3-43bc-c404-7580c812da7b",
    "scrolled": false
   },
   "outputs": [
    {
     "data": {
      "image/png": "[encoded data removed]",
      "text/plain": [
       "<Figure size 1200x500 with 2 Axes>"
      ]
     },
     "metadata": {},
     "output_type": "display_data"
    }
   ],
   "source": [
    "# seaborn 스타일 설정\n",
    "sns.set()\n",
    "\n",
    "# 그림 생성\n",
    "plt.figure(figsize=(12,5))\n",
    "\n",
    "# 훈련 및 검증 정확도 그리기\n",
    "plt.subplot(1,2,1)\n",
    "plt.plot(history.history['accuracy'])\n",
    "plt.plot(history.history['val_accuracy'])\n",
    "plt.title('Model Accuracy')\n",
    "plt.ylabel('Accuracy')\n",
    "plt.xlabel('Epoch')\n",
    "plt.legend(['Train', 'Validation'], loc='upper left')\n",
    "\n",
    "# 훈련 및 검증 손실 값 그리기\n",
    "plt.subplot(1,2,2)\n",
    "plt.plot(history.history['loss'])\n",
    "plt.plot(history.history['val_loss'])\n",
    "plt.title('Model Loss')\n",
    "plt.ylabel('Loss')\n",
    "plt.xlabel('Epoch')\n",
    "plt.legend(['Train', 'Validation'], loc='upper left')\n",
    "\n",
    "plt.tight_layout()\n",
    "plt.show()\n"
   ]
  },
  {
   "cell_type": "markdown",
   "metadata": {},
   "source": [
    "## Best val accuracy model로 final evaluate"
   ]
  },
  {
   "cell_type": "code",
   "execution_count": 32,
   "metadata": {},
   "outputs": [
    {
     "name": "stdout",
     "output_type": "stream",
     "text": [
      "32/32 [==============================] - 1s 14ms/step - loss: 0.2052 - accuracy: 0.9170\n",
      "Test Loss: 0.20517101883888245\n",
      "Test Accuracy: 0.9169999957084656\n"
     ]
    }
   ],
   "source": [
    "from tensorflow.keras.models import load_model\n",
    "\n",
    "# Load the saved model\n",
    "model_best = load_model('multi_input_model.h5')\n",
    "\n",
    "# Evaluate the model using test data\n",
    "test_loss, test_accuracy = model_best.evaluate([decibel_test, pitch_test], y_test)\n",
    "\n",
    "print(f'Test Loss: {test_loss}')\n",
    "print(f'Test Accuracy: {test_accuracy}')\n"
   ]
  },
  {
   "cell_type": "markdown",
   "metadata": {
    "id": "kWo45U3NTwkT"
   },
   "source": [
    "## draw confusion matrix"
   ]
  },
  {
   "cell_type": "code",
   "execution_count": 33,
   "metadata": {
    "colab": {
     "base_uri": "https://localhost:8080/",
     "height": 668
    },
    "executionInfo": {
     "elapsed": 1419,
     "status": "ok",
     "timestamp": 1691423304417,
     "user": {
      "displayName": "한진우",
      "userId": "09378292253830731671"
     },
     "user_tz": -540
    },
    "id": "HubWVnW5TvFA",
    "outputId": "12b4ad18-9264-45e1-d6be-bf904adb0a30"
   },
   "outputs": [
    {
     "name": "stdout",
     "output_type": "stream",
     "text": [
      "32/32 [==============================] - 1s 8ms/step\n"
     ]
    },
    {
     "data": {
      "image/png": "[encoded data removed]",
      "text/plain": [
       "<Figure size 1000x700 with 2 Axes>"
      ]
     },
     "metadata": {},
     "output_type": "display_data"
    }
   ],
   "source": [
    "import numpy as np\n",
    "from sklearn.metrics import confusion_matrix\n",
    "import seaborn as sns\n",
    "import matplotlib.pyplot as plt\n",
    "import pandas as pd\n",
    "\n",
    "# Assuming model is your trained model and X_test and y_test are your test data and labels:\n",
    "y_pred = model_best.predict([decibel_test, pitch_test])\n",
    "y_pred = np.round(y_pred).flatten()  # flatten and round predictions to match label format\n",
    "\n",
    "# Calculate the confusion matrix\n",
    "cm = confusion_matrix(y_test, y_pred)\n",
    "\n",
    "# Create a DataFrame from the confusion matrix\n",
    "# negative = 0 ; 보이스피싱범, positive = 1 ; 상담원\n",
    "cm_df = pd.DataFrame(cm, index=['Negative', 'Positive'], columns=['Negative', 'Positive'])\n",
    "\n",
    "# Plot confusion matrix\n",
    "plt.figure(figsize=(10, 7))\n",
    "sns.heatmap(cm_df, annot=True, fmt='d', cmap='Blues')  # 'd' stands for integer formatting\n",
    "plt.title('Confusion Matrix')\n",
    "plt.ylabel('True label')\n",
    "plt.xlabel('Predicted label')\n",
    "plt.show()\n"
   ]
  }
 ],
 "metadata": {
  "accelerator": "GPU",
  "colab": {
   "collapsed_sections": [
    "M0_XUo-MyZ8v",
    "b8q5NiHGyXUF",
    "LqhI_NV_yTYk",
    "WCmEvacjV6So",
    "b2t2M8BxV8Qw",
    "8Yx2CjlaW1Sg",
    "p93JjFHzXjGx",
    "RFQiy68rXvCn",
    "0NO0YkS-YLxh",
    "AdMhyY5qZ6ej",
    "17e6vYAsaE_0",
    "uJP9cXJSyBhD",
    "mFBWHq5ox5Ue",
    "35d1iRWDxsHi",
    "fk0ic1ojxVgq",
    "cfGPCn6qxbCV",
    "IaOfUgutTvFB",
    "kWo45U3NTwkT",
    "b0xNfRFVTFSc",
    "kr_Sg4IL0_sS",
    "yCXAYKoBBYQG",
    "QUhhgOhWvrvo",
    "l4xodsSyvmfE"
   ],
   "gpuType": "T4",
   "provenance": []
  },
  "kernelspec": {
   "display_name": "mldl_keras",
   "language": "python",
   "name": "mldl_keras"
  },
  "language_info": {
   "codemirror_mode": {
    "name": "ipython",
    "version": 3
   },
   "file_extension": ".py",
   "mimetype": "text/x-python",
   "name": "python",
   "nbconvert_exporter": "python",
   "pygments_lexer": "ipython3",
   "version": "3.8.17"
  }
 },
 "nbformat": 4,
 "nbformat_minor": 1
}
