{
 "cells": [
  {
   "cell_type": "markdown",
   "metadata": {
    "id": "s-iFfqfH7Xik"
   },
   "source": [
    "# **KoBERT Model with fine tuning**\n",
    "\n",
    " - 1번분석, 발화 내용 기반 보이스피싱 판별"
   ]
  },
  {
   "cell_type": "code",
   "execution_count": 1,
   "metadata": {
    "id": "gNaiWhP17Xio"
   },
   "outputs": [],
   "source": [
    "# # 원본 https://github.com/SKTBrain/KoBERT에 나와있는 using pytorch 코드\n",
    "# !pip install git+https://git@github.com/SKTBrain/KoBERT.git@master"
   ]
  },
  {
   "cell_type": "code",
   "execution_count": 2,
   "metadata": {
    "id": "IX4wdoTN7Xip"
   },
   "outputs": [
    {
     "name": "stderr",
     "output_type": "stream",
     "text": [
      "/anaconda/envs/mldl_torch/lib/python3.8/site-packages/mxnet/optimizer/optimizer.py:163: UserWarning: WARNING: New optimizer gluonnlp.optimizer.lamb.LAMB is overriding existing optimizer mxnet.optimizer.optimizer.LAMB\n",
      "  warnings.warn('WARNING: New optimizer %s.%s is overriding '\n"
     ]
    }
   ],
   "source": [
    "# # RUN\n",
    "# 필요 import 문 \n",
    "import torch\n",
    "from torch import nn\n",
    "import torch.nn.functional as F\n",
    "import torch.optim as optim\n",
    "from torch.utils.data import Dataset, DataLoader\n",
    "import gluonnlp as nlp\n",
    "import numpy as np  # 'ersion : '1.23.5'\n",
    "from tqdm.notebook import tqdm\n",
    "import pandas as pd\n",
    "from sklearn.model_selection import train_test_split\n",
    "import matplotlib.pyplot as plt"
   ]
  },
  {
   "cell_type": "code",
   "execution_count": 3,
   "metadata": {
    "id": "0d6Cw07B7Xiq",
    "scrolled": false
   },
   "outputs": [],
   "source": [
    "# # 원본 https://github.com/SKTBrain/KoBERT에 나와있는 using pytorch 코드\n",
    "# from kobert import get_tokenizer\n",
    "# from kobert import get_pytorch_kobert_model"
   ]
  },
  {
   "cell_type": "code",
   "execution_count": 4,
   "metadata": {},
   "outputs": [],
   "source": [
    "# # 원본 https://github.com/SKTBrain/KoBERT에 나와있는 using pytorch 코드\n",
    "# bertmodel, vocab = get_pytorch_kobert_model(cachedir=\".cache\")"
   ]
  },
  {
   "cell_type": "markdown",
   "metadata": {},
   "source": [
    "## HuggingFace 우회"
   ]
  },
  {
   "cell_type": "code",
   "execution_count": 5,
   "metadata": {},
   "outputs": [],
   "source": [
    "# # RUN\n",
    "# ModuleNotFoundError: No module named 'kobert'로 인한 허깅페이스 우회\n",
    "# !pip install 'git+https://github.com/SKTBrain/KoBERT.git#egg=kobert_tokenizer&subdirectory=kobert_hf'"
   ]
  },
  {
   "cell_type": "code",
   "execution_count": 6,
   "metadata": {},
   "outputs": [],
   "source": [
    "# # RUN\n",
    "from kobert_tokenizer import KoBERTTokenizer\n",
    "from transformers import BertModel"
   ]
  },
  {
   "cell_type": "code",
   "execution_count": 7,
   "metadata": {},
   "outputs": [],
   "source": [
    "# # RUN\n",
    "tokenizer = KoBERTTokenizer.from_pretrained('skt/kobert-base-v1')\n",
    "bertmodel = BertModel.from_pretrained('skt/kobert-base-v1', return_dict=False)\n",
    "vocab = nlp.vocab.BERTVocab.from_sentencepiece(tokenizer.vocab_file, padding_token='[PAD]')"
   ]
  },
  {
   "cell_type": "code",
   "execution_count": 8,
   "metadata": {
    "id": "Qn13zOr57Xiq"
   },
   "outputs": [
    {
     "name": "stderr",
     "output_type": "stream",
     "text": [
      "2023-08-15 15:21:34.125512: I tensorflow/tsl/cuda/cudart_stub.cc:28] Could not find cuda drivers on your machine, GPU will not be used.\n",
      "2023-08-15 15:21:34.166291: I tensorflow/tsl/cuda/cudart_stub.cc:28] Could not find cuda drivers on your machine, GPU will not be used.\n",
      "2023-08-15 15:21:34.166897: I tensorflow/core/platform/cpu_feature_guard.cc:182] This TensorFlow binary is optimized to use available CPU instructions in performance-critical operations.\n",
      "To enable the following instructions: AVX2 AVX512F FMA, in other operations, rebuild TensorFlow with the appropriate compiler flags.\n",
      "2023-08-15 15:21:35.104007: W tensorflow/compiler/tf2tensorrt/utils/py_utils.cc:38] TF-TRT Warning: Could not find TensorRT\n"
     ]
    }
   ],
   "source": [
    "# RUN\n",
    "from transformers import AdamW\n",
    "from transformers.optimization import get_cosine_schedule_with_warmup"
   ]
  },
  {
   "cell_type": "code",
   "execution_count": 9,
   "metadata": {
    "id": "p9YRdvhE7Xiq",
    "scrolled": true
   },
   "outputs": [
    {
     "name": "stdout",
     "output_type": "stream",
     "text": [
      "torch version: 1.10.1+cu102\n",
      "현재 가상환경 GPU 사용 가능상태\n"
     ]
    }
   ],
   "source": [
    "# # RUN\n",
    "# # 그래픽 카드 사용\n",
    "print('torch version: {}'.format(torch.__version__))\n",
    "\n",
    "if torch.cuda.is_available() == True:\n",
    "    device = 'cuda:0'\n",
    "    print('현재 가상환경 GPU 사용 가능상태')\n",
    "else:\n",
    "    device = 'cpu'\n",
    "    print('GPU 사용 불가능 상태')"
   ]
  },
  {
   "cell_type": "code",
   "execution_count": 10,
   "metadata": {},
   "outputs": [
    {
     "data": {
      "text/plain": [
       "'NVIDIA GeForce RTX 2080'"
      ]
     },
     "execution_count": 10,
     "metadata": {},
     "output_type": "execute_result"
    }
   ],
   "source": [
    "# 사용하는 Graffic card 이름 확인\n",
    "torch.cuda.is_available()\n",
    "torch.cuda.get_device_name()"
   ]
  },
  {
   "cell_type": "code",
   "execution_count": 11,
   "metadata": {},
   "outputs": [
    {
     "name": "stdout",
     "output_type": "stream",
     "text": [
      "Allocated memory: 0.00 MB\n",
      "Reserved memory: 0.00 MB\n"
     ]
    }
   ],
   "source": [
    "# GPU 용량 확인\n",
    "# Get the current memory usage (in bytes)\n",
    "allocated = torch.cuda.memory_allocated(device)\n",
    "reserved = torch.cuda.memory_reserved(device)\n",
    "\n",
    "# Convert to MB\n",
    "allocated_mb = allocated / 1024 / 1024\n",
    "reserved_mb = reserved / 1024 / 1024\n",
    "\n",
    "print(f'Allocated memory: {allocated_mb:.2f} MB')\n",
    "print(f'Reserved memory: {reserved_mb:.2f} MB')"
   ]
  },
  {
   "cell_type": "markdown",
   "metadata": {},
   "source": [
    "### Loading Data and preprocessing"
   ]
  },
  {
   "cell_type": "code",
   "execution_count": 12,
   "metadata": {},
   "outputs": [
    {
     "data": {
      "text/plain": [
       "'/KITA_Project'"
      ]
     },
     "execution_count": 12,
     "metadata": {},
     "output_type": "execute_result"
    }
   ],
   "source": [
    "import os\n",
    "os.getcwd()"
   ]
  },
  {
   "cell_type": "code",
   "execution_count": 13,
   "metadata": {
    "scrolled": true
   },
   "outputs": [
    {
     "data": {
      "text/html": [
       "<div>\n",
       "<style scoped>\n",
       "    .dataframe tbody tr th:only-of-type {\n",
       "        vertical-align: middle;\n",
       "    }\n",
       "\n",
       "    .dataframe tbody tr th {\n",
       "        vertical-align: top;\n",
       "    }\n",
       "\n",
       "    .dataframe thead th {\n",
       "        text-align: right;\n",
       "    }\n",
       "</style>\n",
       "<table border=\"1\" class=\"dataframe\">\n",
       "  <thead>\n",
       "    <tr style=\"text-align: right;\">\n",
       "      <th></th>\n",
       "      <th>label</th>\n",
       "      <th>Sentence</th>\n",
       "    </tr>\n",
       "  </thead>\n",
       "  <tbody>\n",
       "    <tr>\n",
       "      <th>0</th>\n",
       "      <td>councel</td>\n",
       "      <td>어플에서 가능합니다.</td>\n",
       "    </tr>\n",
       "    <tr>\n",
       "      <th>1</th>\n",
       "      <td>councel</td>\n",
       "      <td>네, 맞습니다.</td>\n",
       "    </tr>\n",
       "    <tr>\n",
       "      <th>2</th>\n",
       "      <td>voice_phising</td>\n",
       "      <td>그것만 하시면 어차피 반복 업무예요.</td>\n",
       "    </tr>\n",
       "    <tr>\n",
       "      <th>3</th>\n",
       "      <td>voice_phising</td>\n",
       "      <td>다른 은행권 계좌가 도예가 될 가능성이 높다는 거예요.</td>\n",
       "    </tr>\n",
       "    <tr>\n",
       "      <th>4</th>\n",
       "      <td>voice_phising</td>\n",
       "      <td>그래서 묻는 거예요.</td>\n",
       "    </tr>\n",
       "  </tbody>\n",
       "</table>\n",
       "</div>"
      ],
      "text/plain": [
       "           label                        Sentence\n",
       "0        councel                     어플에서 가능합니다.\n",
       "1        councel                        네, 맞습니다.\n",
       "2  voice_phising            그것만 하시면 어차피 반복 업무예요.\n",
       "3  voice_phising  다른 은행권 계좌가 도예가 될 가능성이 높다는 거예요.\n",
       "4  voice_phising                     그래서 묻는 거예요."
      ]
     },
     "execution_count": 13,
     "metadata": {},
     "output_type": "execute_result"
    }
   ],
   "source": [
    "# 데이터 파일 경로\n",
    "file_path_data= \"/KITA_Project/text_data_shuffled.csv\"   # 필요에 따라 파일 경로 변경\n",
    "\n",
    "df_text = pd.read_csv(file_path_data, encoding='utf-8')\n",
    "df_text.head()\n"
   ]
  },
  {
   "cell_type": "code",
   "execution_count": 14,
   "metadata": {
    "scrolled": true
   },
   "outputs": [
    {
     "data": {
      "text/plain": [
       "array(['councel', 'voice_phising'], dtype=object)"
      ]
     },
     "execution_count": 14,
     "metadata": {},
     "output_type": "execute_result"
    }
   ],
   "source": [
    "# label 확인\n",
    "\n",
    "df_text['label'].unique()"
   ]
  },
  {
   "cell_type": "code",
   "execution_count": 15,
   "metadata": {},
   "outputs": [
    {
     "data": {
      "image/png": "[encoded data removed]",
      "text/plain": [
       "<Figure size 1200x600 with 1 Axes>"
      ]
     },
     "metadata": {},
     "output_type": "display_data"
    }
   ],
   "source": [
    "# counsel, voice phishing label 분포도 확인\n",
    "\n",
    "label_counts = df_text['label'].value_counts()\n",
    "\n",
    "plt.figure(figsize=(12,6))\n",
    "label_counts.plot(kind='bar')\n",
    "plt.xlabel('Labels')\n",
    "plt.ylabel('Frequency')\n",
    "plt.title('Distribution of Labels')\n",
    "plt.show()\n"
   ]
  },
  {
   "cell_type": "code",
   "execution_count": 16,
   "metadata": {},
   "outputs": [],
   "source": [
    "# 레이블 인코딩\n",
    "\n",
    "df_text.loc[(df_text['label'] == \"voice_phising\"), 'label'] = 0  # voice phishing → 0\n",
    "df_text.loc[(df_text['label'] == \"councel\"), 'label'] = 1  # councel → 1"
   ]
  },
  {
   "cell_type": "code",
   "execution_count": 17,
   "metadata": {
    "scrolled": true
   },
   "outputs": [
    {
     "name": "stdout",
     "output_type": "stream",
     "text": [
      "35759\n",
      "['어플에서 가능합니다.', '1']\n",
      "['이용권에 따라 다릅니다.', '1']\n",
      "['혹시 피해자라는 걸 지금처럼만 말씀하시면 되고요.', '0']\n",
      "['그러면 지금 스마트 뱅킹이나 인터넷 뱅킹을 사용하고 계신 건가요?', '0']\n"
     ]
    }
   ],
   "source": [
    "# text, label 형식의 데이터 list로 만들어주기\n",
    "\n",
    "data_list= []\n",
    "for q, label in zip(df_text['Sentence'], df_text['label'])  :\n",
    "    data = []\n",
    "    data.append(q)\n",
    "    data.append(str(label))\n",
    "    data_list.append(data)\n",
    "    \n",
    "print(len(data_list))\n",
    "print(data_list[0])\n",
    "print(data_list[6000])\n",
    "print(data_list[12000])\n",
    "print(data_list[-1])"
   ]
  },
  {
   "cell_type": "markdown",
   "metadata": {},
   "source": [
    "### Data Splitting"
   ]
  },
  {
   "cell_type": "code",
   "execution_count": 18,
   "metadata": {
    "scrolled": true
   },
   "outputs": [
    {
     "name": "stdout",
     "output_type": "stream",
     "text": [
      "28607\n",
      "5721\n",
      "1431\n"
     ]
    }
   ],
   "source": [
    "# Split data into training, validation, and testing sets\n",
    "# Assuming data_list is your full data\n",
    "dataset_train, dataset_temp = train_test_split(data_list, test_size=0.2, random_state=42, shuffle=True)\n",
    "dataset_valid, dataset_test = train_test_split(dataset_temp, test_size=0.2, random_state=42, shuffle=True)\n",
    "print(len(dataset_train))\n",
    "print(len(dataset_valid))\n",
    "print(len(dataset_test))\n"
   ]
  },
  {
   "cell_type": "code",
   "execution_count": 19,
   "metadata": {},
   "outputs": [
    {
     "name": "stdout",
     "output_type": "stream",
     "text": [
      "['휴대폰 번호 말씀해 주세요.', '1']\n",
      "['노원들은 국민은행 안 쓰는데.', '0']\n",
      "['고객님도 그 부분은 이해 좀 해 주세요, 형님, 저희가 전화상으로만 대출 진행을 하기 때문에 요즘에 은행을 사칭하는 곳이 너무 많지 않습니까, 그런 부분 때문에 저희도 요금 많이 얻어먹습니다, 솔직하게.', '0']\n",
      "['또는 제가 직원을 그쪽으로 보낼게요.', '0']\n",
      "['네, 그렇습니다. 고객님.', '1']\n"
     ]
    }
   ],
   "source": [
    "print(dataset_train[0])\n",
    "print(dataset_train[5000])\n",
    "print(dataset_train[10000])\n",
    "print(dataset_train[20000])\n",
    "print(dataset_train[25000])"
   ]
  },
  {
   "cell_type": "code",
   "execution_count": 20,
   "metadata": {},
   "outputs": [
    {
     "name": "stdout",
     "output_type": "stream",
     "text": [
      "['충청도 경산으로 되어 있어요.', '0']\n",
      "['네. 맞습니다.', '1']\n",
      "['궁금한 게 통장을 개설할 때 주민등록증하고 주민등록증하고 왜 본인이 같은 서울 영등포구 문래동 물래 지점에서 농협과 신한의 통장 결산하신 적 있습니까?', '0']\n",
      "['메모하고 계셨습니까?', '0']\n",
      "['네, 쿠폰은 같이 드립니다. 단 삼 단계는 현재 재고가 다 소진되어 있습니다.', '1']\n"
     ]
    }
   ],
   "source": [
    "print(dataset_valid[0])\n",
    "print(dataset_valid[2000])\n",
    "print(dataset_valid[3000])\n",
    "print(dataset_valid[3500])\n",
    "print(dataset_valid[4500])"
   ]
  },
  {
   "cell_type": "code",
   "execution_count": 21,
   "metadata": {},
   "outputs": [
    {
     "name": "stdout",
     "output_type": "stream",
     "text": [
      "['아, 네 가능합니다.', '1']\n",
      "['오천 원입니다.', '1']\n",
      "['선생님께 안내 의무가 있는 걸로 알고 있는데요. 지금 한번 확인해 보겠습니다.', '1']\n",
      "['안녕하세요.', '1']\n",
      "['저희 농협 대출 나가면 그거 가지고 친구분한테 빌렸던 거 갚아주면 되는 거니까요.', '0']\n"
     ]
    }
   ],
   "source": [
    "print(dataset_test[0])\n",
    "print(dataset_test[1000])\n",
    "print(dataset_test[1200])\n",
    "print(dataset_test[1250])\n",
    "print(dataset_test[1400])"
   ]
  },
  {
   "cell_type": "code",
   "execution_count": 22,
   "metadata": {},
   "outputs": [],
   "source": [
    "class BERTDataset(Dataset):\n",
    "    def __init__(self, dataset, sent_idx, label_idx, bert_tokenizer, max_len, vocab, pad, pair):\n",
    "        transform = nlp.data.BERTSentenceTransform(\n",
    "            bert_tokenizer, max_seq_length=max_len, vocab=vocab, pad=pad, pair=pair)\n",
    "\n",
    "        self.sentences = [transform([i[sent_idx]]) for i in dataset]\n",
    "        self.labels = [np.int32(i[label_idx]) for i in dataset]\n",
    "\n",
    "    def __getitem__(self, i):\n",
    "        return (self.sentences[i] + (self.labels[i], ))\n",
    "\n",
    "    def __len__(self):\n",
    "        return (len(self.labels))\n"
   ]
  },
  {
   "cell_type": "code",
   "execution_count": 23,
   "metadata": {},
   "outputs": [],
   "source": [
    "# Setting parameters\n",
    "max_len = 64\n",
    "batch_size = 64\n",
    "warmup_ratio = 0.1\n",
    "num_epochs = 10\n",
    "max_grad_norm = 1\n",
    "log_interval = 500\n",
    "learning_rate =  5e-5"
   ]
  },
  {
   "cell_type": "code",
   "execution_count": 24,
   "metadata": {},
   "outputs": [],
   "source": [
    "# Define your datasets\n",
    "dataset_train = BERTDataset(dataset_train, 0, 1, tokenizer, max_len, vocab, True, False)\n",
    "dataset_valid = BERTDataset(dataset_valid, 0, 1, tokenizer, max_len, vocab, True, False)\n",
    "dataset_test = BERTDataset(dataset_test, 0, 1, tokenizer, max_len, vocab, True, False)"
   ]
  },
  {
   "cell_type": "code",
   "execution_count": 25,
   "metadata": {},
   "outputs": [
    {
     "data": {
      "text/plain": [
       "(array([   2, 5194,  517, 6330, 1961, 7848,  517, 7282,   54,    3,    1,\n",
       "           1,    1,    1,    1,    1,    1,    1,    1,    1,    1,    1,\n",
       "           1,    1,    1,    1,    1,    1,    1,    1,    1,    1,    1,\n",
       "           1,    1,    1,    1,    1,    1,    1,    1,    1,    1,    1,\n",
       "           1,    1,    1,    1,    1,    1,    1,    1,    1,    1,    1,\n",
       "           1,    1,    1,    1,    1,    1,    1,    1,    1], dtype=int32),\n",
       " array(10, dtype=int32),\n",
       " array([0, 0, 0, 0, 0, 0, 0, 0, 0, 0, 0, 0, 0, 0, 0, 0, 0, 0, 0, 0, 0, 0,\n",
       "        0, 0, 0, 0, 0, 0, 0, 0, 0, 0, 0, 0, 0, 0, 0, 0, 0, 0, 0, 0, 0, 0,\n",
       "        0, 0, 0, 0, 0, 0, 0, 0, 0, 0, 0, 0, 0, 0, 0, 0, 0, 0, 0, 0],\n",
       "       dtype=int32),\n",
       " 1)"
      ]
     },
     "execution_count": 25,
     "metadata": {},
     "output_type": "execute_result"
    }
   ],
   "source": [
    "dataset_train[0]"
   ]
  },
  {
   "cell_type": "code",
   "execution_count": 26,
   "metadata": {},
   "outputs": [
    {
     "data": {
      "text/plain": [
       "(array([   2, 4597, 5859,  953, 6516, 7078, 1767, 3868, 6999,   54,    3,\n",
       "           1,    1,    1,    1,    1,    1,    1,    1,    1,    1,    1,\n",
       "           1,    1,    1,    1,    1,    1,    1,    1,    1,    1,    1,\n",
       "           1,    1,    1,    1,    1,    1,    1,    1,    1,    1,    1,\n",
       "           1,    1,    1,    1,    1,    1,    1,    1,    1,    1,    1,\n",
       "           1,    1,    1,    1,    1,    1,    1,    1,    1], dtype=int32),\n",
       " array(11, dtype=int32),\n",
       " array([0, 0, 0, 0, 0, 0, 0, 0, 0, 0, 0, 0, 0, 0, 0, 0, 0, 0, 0, 0, 0, 0,\n",
       "        0, 0, 0, 0, 0, 0, 0, 0, 0, 0, 0, 0, 0, 0, 0, 0, 0, 0, 0, 0, 0, 0,\n",
       "        0, 0, 0, 0, 0, 0, 0, 0, 0, 0, 0, 0, 0, 0, 0, 0, 0, 0, 0, 0],\n",
       "       dtype=int32),\n",
       " 0)"
      ]
     },
     "execution_count": 26,
     "metadata": {},
     "output_type": "execute_result"
    }
   ],
   "source": [
    "dataset_valid[0]"
   ]
  },
  {
   "cell_type": "code",
   "execution_count": 27,
   "metadata": {},
   "outputs": [
    {
     "data": {
      "text/plain": [
       "(array([   2, 3093,   46, 1469,  737, 7843,   54,    3,    1,    1,    1,\n",
       "           1,    1,    1,    1,    1,    1,    1,    1,    1,    1,    1,\n",
       "           1,    1,    1,    1,    1,    1,    1,    1,    1,    1,    1,\n",
       "           1,    1,    1,    1,    1,    1,    1,    1,    1,    1,    1,\n",
       "           1,    1,    1,    1,    1,    1,    1,    1,    1,    1,    1,\n",
       "           1,    1,    1,    1,    1,    1,    1,    1,    1], dtype=int32),\n",
       " array(8, dtype=int32),\n",
       " array([0, 0, 0, 0, 0, 0, 0, 0, 0, 0, 0, 0, 0, 0, 0, 0, 0, 0, 0, 0, 0, 0,\n",
       "        0, 0, 0, 0, 0, 0, 0, 0, 0, 0, 0, 0, 0, 0, 0, 0, 0, 0, 0, 0, 0, 0,\n",
       "        0, 0, 0, 0, 0, 0, 0, 0, 0, 0, 0, 0, 0, 0, 0, 0, 0, 0, 0, 0],\n",
       "       dtype=int32),\n",
       " 1)"
      ]
     },
     "execution_count": 27,
     "metadata": {},
     "output_type": "execute_result"
    }
   ],
   "source": [
    "dataset_test[0]"
   ]
  },
  {
   "cell_type": "code",
   "execution_count": 28,
   "metadata": {},
   "outputs": [],
   "source": [
    "# Define your dataloaders\n",
    "train_dataloader = DataLoader(dataset_train, batch_size=batch_size, shuffle=True, num_workers=5)\n",
    "valid_dataloader = DataLoader(dataset_valid, batch_size=batch_size, shuffle=True, num_workers=5)\n",
    "test_dataloader = DataLoader(dataset_test, batch_size=batch_size, shuffle=True, num_workers=5)"
   ]
  },
  {
   "cell_type": "code",
   "execution_count": 29,
   "metadata": {},
   "outputs": [],
   "source": [
    "class BERTClassifier(nn.Module):\n",
    "    def __init__(self,\n",
    "                 bert,\n",
    "                 hidden_size = 768,\n",
    "                 num_classes=2,\n",
    "                 dr_rate=None,\n",
    "                 params=None):\n",
    "        super(BERTClassifier, self).__init__()\n",
    "        self.bert = bert\n",
    "        self.dr_rate = dr_rate\n",
    "\n",
    "        self.classifier = nn.Linear(hidden_size , num_classes)\n",
    "        if dr_rate:\n",
    "            self.dropout = nn.Dropout(p=dr_rate)\n",
    "\n",
    "    def gen_attention_mask(self, token_ids, valid_length):\n",
    "        attention_mask = torch.zeros_like(token_ids)\n",
    "        for i, v in enumerate(valid_length):\n",
    "            attention_mask[i][:v] = 1\n",
    "        return attention_mask.float()\n",
    "\n",
    "    def forward(self, token_ids, valid_length, segment_ids):\n",
    "        attention_mask = self.gen_attention_mask(token_ids, valid_length)\n",
    "\n",
    "        _, pooler = self.bert(input_ids = token_ids, token_type_ids = segment_ids.long(), attention_mask = attention_mask.float().to(token_ids.device))\n",
    "        if self.dr_rate:\n",
    "            out = self.dropout(pooler)\n",
    "        return self.classifier(out)"
   ]
  },
  {
   "cell_type": "code",
   "execution_count": 30,
   "metadata": {},
   "outputs": [],
   "source": [
    "model = BERTClassifier(bertmodel,  dr_rate=0.5).to(device)"
   ]
  },
  {
   "cell_type": "code",
   "execution_count": 31,
   "metadata": {
    "scrolled": true
   },
   "outputs": [],
   "source": [
    "# Prepare optimizer and schedule (linear warmup and decay)\n",
    "no_decay = ['bias', 'LayerNorm.weight']\n",
    "optimizer_grouped_parameters = [\n",
    "    {'params': [p for n, p in model.named_parameters() if not any(nd in n for nd in no_decay)], 'weight_decay': 0.01},\n",
    "    {'params': [p for n, p in model.named_parameters() if any(nd in n for nd in no_decay)], 'weight_decay': 0.0}\n",
    "]\n",
    "optimizer = AdamW(optimizer_grouped_parameters, lr=learning_rate)\n",
    "\n",
    "loss_fn = nn.CrossEntropyLoss()\n",
    "\n",
    "t_total = len(train_dataloader) * num_epochs\n",
    "warmup_step = int(t_total * warmup_ratio)\n",
    "\n",
    "scheduler = get_cosine_schedule_with_warmup(optimizer, num_warmup_steps=warmup_step, num_training_steps=t_total)"
   ]
  },
  {
   "cell_type": "code",
   "execution_count": 32,
   "metadata": {},
   "outputs": [],
   "source": [
    "def calc_accuracy(X,Y):\n",
    "    max_vals, max_indices = torch.max(X, 1)\n",
    "    train_acc = (max_indices == Y).sum().data.cpu().numpy()/max_indices.size()[0]\n",
    "    return train_acc"
   ]
  },
  {
   "cell_type": "code",
   "execution_count": 33,
   "metadata": {},
   "outputs": [],
   "source": [
    "class EarlyStopping:\n",
    "    def __init__(self, patience=5, verbose=False, delta=0, path='checkpoint.pt', trace_func=print):\n",
    "        self.patience = patience\n",
    "        self.verbose = verbose\n",
    "        self.counter = 0\n",
    "        self.best_score = None\n",
    "        self.early_stop = False\n",
    "        self.valid_score_min = np.Inf\n",
    "        self.delta = delta\n",
    "        self.path = path\n",
    "        self.trace_func = trace_func\n",
    "\n",
    "    def __call__(self, valid_score, model):\n",
    "        score = -valid_score\n",
    "        if self.best_score is None:\n",
    "            self.best_score = score\n",
    "            self.save_checkpoint(valid_score, model)\n",
    "        elif score < self.best_score + self.delta:\n",
    "            self.counter += 1\n",
    "            self.trace_func(f'EarlyStopping counter: {self.counter} out of {self.patience}')\n",
    "            if self.counter >= self.patience:\n",
    "                self.early_stop = True\n",
    "        else:\n",
    "            self.best_score = score\n",
    "            self.save_checkpoint(valid_score, model)\n",
    "            self.counter = 0\n",
    "\n",
    "    def save_checkpoint(self, valid_score, model):\n",
    "        if self.verbose:\n",
    "            self.trace_func(f'Validation score decreased ({self.valid_score_min:.6f} --> {valid_score:.6f}).  Saving model ...')\n",
    "        torch.save(model.state_dict(), self.path)\n",
    "        self.valid_score_min = valid_score"
   ]
  },
  {
   "cell_type": "markdown",
   "metadata": {},
   "source": [
    "### Model train"
   ]
  },
  {
   "cell_type": "code",
   "execution_count": 34,
   "metadata": {
    "scrolled": false
   },
   "outputs": [
    {
     "data": {
      "application/vnd.jupyter.widget-view+json": {
       "model_id": "a70840c34440428880a8f807fac0c47e",
       "version_major": 2,
       "version_minor": 0
      },
      "text/plain": [
       "  0%|          | 0/447 [00:00<?, ?it/s]"
      ]
     },
     "metadata": {},
     "output_type": "display_data"
    },
    {
     "name": "stdout",
     "output_type": "stream",
     "text": [
      "epoch 1 batch id 1 loss 0.8055591583251953 train acc 0.40625\n",
      "epoch 1 train acc 0.9018800379958098\n"
     ]
    },
    {
     "data": {
      "application/vnd.jupyter.widget-view+json": {
       "model_id": "0d6412270a8f46dca6355bd0b98bfef9",
       "version_major": 2,
       "version_minor": 0
      },
      "text/plain": [
       "  0%|          | 0/90 [00:00<?, ?it/s]"
      ]
     },
     "metadata": {},
     "output_type": "display_data"
    },
    {
     "name": "stdout",
     "output_type": "stream",
     "text": [
      "epoch 1 valid acc 0.9748263888888888\n",
      "Validation score decreased (inf --> 0.081193).  Saving model ...\n"
     ]
    },
    {
     "data": {
      "application/vnd.jupyter.widget-view+json": {
       "model_id": "3b0ee9dcd0d94b4781cacd2a111a1930",
       "version_major": 2,
       "version_minor": 0
      },
      "text/plain": [
       "  0%|          | 0/447 [00:00<?, ?it/s]"
      ]
     },
     "metadata": {},
     "output_type": "display_data"
    },
    {
     "name": "stdout",
     "output_type": "stream",
     "text": [
      "epoch 2 batch id 1 loss 0.03668553754687309 train acc 0.984375\n",
      "epoch 2 train acc 0.9845841766982707\n"
     ]
    },
    {
     "data": {
      "application/vnd.jupyter.widget-view+json": {
       "model_id": "badde5763f90469d9f7aa37a83aab9c6",
       "version_major": 2,
       "version_minor": 0
      },
      "text/plain": [
       "  0%|          | 0/90 [00:00<?, ?it/s]"
      ]
     },
     "metadata": {},
     "output_type": "display_data"
    },
    {
     "name": "stdout",
     "output_type": "stream",
     "text": [
      "epoch 2 valid acc 0.9865347222222222\n",
      "Validation score decreased (0.081193 --> 0.053727).  Saving model ...\n"
     ]
    },
    {
     "data": {
      "application/vnd.jupyter.widget-view+json": {
       "model_id": "deabf394607a478da66b00101d7232e2",
       "version_major": 2,
       "version_minor": 0
      },
      "text/plain": [
       "  0%|          | 0/447 [00:00<?, ?it/s]"
      ]
     },
     "metadata": {},
     "output_type": "display_data"
    },
    {
     "name": "stdout",
     "output_type": "stream",
     "text": [
      "epoch 3 batch id 1 loss 0.017573675140738487 train acc 0.984375\n",
      "epoch 3 train acc 0.9928341722595079\n"
     ]
    },
    {
     "data": {
      "application/vnd.jupyter.widget-view+json": {
       "model_id": "38033d811004428088ebc0faa401008a",
       "version_major": 2,
       "version_minor": 0
      },
      "text/plain": [
       "  0%|          | 0/90 [00:00<?, ?it/s]"
      ]
     },
     "metadata": {},
     "output_type": "display_data"
    },
    {
     "name": "stdout",
     "output_type": "stream",
     "text": [
      "epoch 3 valid acc 0.9897569444444444\n",
      "Validation score decreased (0.053727 --> 0.039542).  Saving model ...\n"
     ]
    },
    {
     "data": {
      "application/vnd.jupyter.widget-view+json": {
       "model_id": "f7b572454fed4b49bc3005db1711ac3c",
       "version_major": 2,
       "version_minor": 0
      },
      "text/plain": [
       "  0%|          | 0/447 [00:00<?, ?it/s]"
      ]
     },
     "metadata": {},
     "output_type": "display_data"
    },
    {
     "name": "stdout",
     "output_type": "stream",
     "text": [
      "epoch 4 batch id 1 loss 0.0023181792348623276 train acc 1.0\n",
      "epoch 4 train acc 0.9955950827385391\n"
     ]
    },
    {
     "data": {
      "application/vnd.jupyter.widget-view+json": {
       "model_id": "f115d4c8017e4506be42930b64fc3061",
       "version_major": 2,
       "version_minor": 0
      },
      "text/plain": [
       "  0%|          | 0/90 [00:00<?, ?it/s]"
      ]
     },
     "metadata": {},
     "output_type": "display_data"
    },
    {
     "name": "stdout",
     "output_type": "stream",
     "text": [
      "epoch 4 valid acc 0.9902777777777778\n",
      "EarlyStopping counter: 1 out of 3\n"
     ]
    },
    {
     "data": {
      "application/vnd.jupyter.widget-view+json": {
       "model_id": "2b5ff9163b904b9a87a2e27b436d80c3",
       "version_major": 2,
       "version_minor": 0
      },
      "text/plain": [
       "  0%|          | 0/447 [00:00<?, ?it/s]"
      ]
     },
     "metadata": {},
     "output_type": "display_data"
    },
    {
     "name": "stdout",
     "output_type": "stream",
     "text": [
      "epoch 5 batch id 1 loss 0.0004904699744656682 train acc 1.0\n",
      "epoch 5 train acc 0.9977978187919463\n"
     ]
    },
    {
     "data": {
      "application/vnd.jupyter.widget-view+json": {
       "model_id": "a1bef76768bd46179101d09c8b536258",
       "version_major": 2,
       "version_minor": 0
      },
      "text/plain": [
       "  0%|          | 0/90 [00:00<?, ?it/s]"
      ]
     },
     "metadata": {},
     "output_type": "display_data"
    },
    {
     "name": "stdout",
     "output_type": "stream",
     "text": [
      "epoch 5 valid acc 0.9895833333333334\n",
      "EarlyStopping counter: 2 out of 3\n"
     ]
    },
    {
     "data": {
      "application/vnd.jupyter.widget-view+json": {
       "model_id": "7151243858fa4cd9abcd917d237bbf3b",
       "version_major": 2,
       "version_minor": 0
      },
      "text/plain": [
       "  0%|          | 0/447 [00:00<?, ?it/s]"
      ]
     },
     "metadata": {},
     "output_type": "display_data"
    },
    {
     "name": "stdout",
     "output_type": "stream",
     "text": [
      "epoch 6 batch id 1 loss 0.0002618173020891845 train acc 1.0\n",
      "epoch 6 train acc 0.9988814317673378\n"
     ]
    },
    {
     "data": {
      "application/vnd.jupyter.widget-view+json": {
       "model_id": "e497a115ad6144a8a40c7739fb061a3e",
       "version_major": 2,
       "version_minor": 0
      },
      "text/plain": [
       "  0%|          | 0/90 [00:00<?, ?it/s]"
      ]
     },
     "metadata": {},
     "output_type": "display_data"
    },
    {
     "name": "stdout",
     "output_type": "stream",
     "text": [
      "epoch 6 valid acc 0.9878472222222222\n",
      "EarlyStopping counter: 3 out of 3\n",
      "Early stopping\n"
     ]
    }
   ],
   "source": [
    "# Initialize lists for storing history\n",
    "train_history = []\n",
    "valid_history = []\n",
    "test_history = []\n",
    "loss_history = []\n",
    "valid_loss_history = []\n",
    "test_loss_history = []\n",
    "\n",
    "# Initialize early_stopping object\n",
    "early_stopping = EarlyStopping(patience=3, verbose=True, path='vp_text_classification_model.pt')\n",
    "\n",
    "best_valid_acc = 0.0\n",
    "\n",
    "# Training loop\n",
    "for e in range(num_epochs):\n",
    "    train_acc = 0.0\n",
    "    train_loss = 0.0\n",
    "    valid_acc = 0.0\n",
    "    valid_loss = 0.0\n",
    "    test_acc = 0.0\n",
    "    test_loss = 0.0\n",
    "    model.train()  # Set the model to training mode\n",
    "\n",
    "    for batch_id, (token_ids, valid_length, segment_ids, label) in enumerate(tqdm(train_dataloader)):\n",
    "        # Clear gradients\n",
    "        optimizer.zero_grad()\n",
    "        \n",
    "        # Move tensors to the configured device\n",
    "        token_ids = token_ids.long().to(device)\n",
    "        segment_ids = segment_ids.long().to(device)\n",
    "        valid_length = valid_length.to(device)\n",
    "        label = label.long().to(device)\n",
    "\n",
    "        out = model(token_ids, valid_length, segment_ids)  # Forward pass\n",
    "\n",
    "        loss = loss_fn(out, label)  # Compute the loss\n",
    "        loss.backward()  # Perform backpropagation\n",
    "        torch.nn.utils.clip_grad_norm_(model.parameters(), max_grad_norm)  # Clip gradients\n",
    "        optimizer.step()  # Update weights\n",
    "        scheduler.step()  # Update learning rate schedule\n",
    "\n",
    "        train_loss += loss.item()\n",
    "        train_acc += calc_accuracy(out, label)  # Calculate accuracy\n",
    "\n",
    "        if batch_id % log_interval == 0:\n",
    "            print(f\"epoch {e+1} batch id {batch_id+1} loss {loss.item()} train acc {train_acc / (batch_id+1)}\")\n",
    "            train_history.append(train_acc / (batch_id+1))  # Update training history\n",
    "            loss_history.append(loss.item())  # Update loss history\n",
    "\n",
    "    print(f\"epoch {e+1} train acc {train_acc / (len(train_dataloader))}\")\n",
    "    train_loss /= len(train_dataloader)\n",
    "\n",
    "    model.eval()  # Set the model to evaluation mode\n",
    "    for batch_id, (token_ids, valid_length, segment_ids, label) in enumerate(tqdm(valid_dataloader)):\n",
    "        token_ids = token_ids.long().to(device)\n",
    "        segment_ids = segment_ids.long().to(device)\n",
    "        valid_length = valid_length.to(device)\n",
    "        label = label.long().to(device)\n",
    "\n",
    "        with torch.no_grad():\n",
    "            out = model(token_ids, valid_length, segment_ids)  # Forward pass\n",
    "        loss = loss_fn(out, label)\n",
    "        valid_loss += loss.item()\n",
    "        valid_acc += calc_accuracy(out, label)  # Calculate accuracy\n",
    "\n",
    "    print(f\"epoch {e+1} valid acc {valid_acc / (len(valid_dataloader))}\")\n",
    "    valid_history.append(valid_acc / (len(valid_dataloader)))  # Update validation history\n",
    "    valid_loss /= len(valid_dataloader)\n",
    "    valid_loss_history.append(valid_loss)\n",
    "\n",
    "    # If the validation accuracy of this epoch is better than before, save the model\n",
    "    if valid_acc > best_valid_acc:\n",
    "        best_valid_acc = valid_acc\n",
    "        torch.save(model.state_dict(), f'vp_text_classification_model_{e+1}.pt')\n",
    "\n",
    "    # Early stopping\n",
    "    early_stopping(valid_loss, model)\n",
    "    \n",
    "    if early_stopping.early_stop:\n",
    "        print(\"Early stopping\")\n",
    "        break"
   ]
  },
  {
   "cell_type": "markdown",
   "metadata": {},
   "source": [
    "### Final Evaluation"
   ]
  },
  {
   "cell_type": "code",
   "execution_count": 35,
   "metadata": {},
   "outputs": [
    {
     "data": {
      "application/vnd.jupyter.widget-view+json": {
       "model_id": "d8e3546ff2f14a4b97a74ee60d9a3b9b",
       "version_major": 2,
       "version_minor": 0
      },
      "text/plain": [
       "  0%|          | 0/23 [00:00<?, ?it/s]"
      ]
     },
     "metadata": {},
     "output_type": "display_data"
    },
    {
     "name": "stdout",
     "output_type": "stream",
     "text": [
      "test acc 0.9898097826086957\n"
     ]
    }
   ],
   "source": [
    "# Finally, your testing code will be the same as before\n",
    "model.eval()  # Set the model to evaluation mode\n",
    "for batch_id, (token_ids, valid_length, segment_ids, label) in enumerate(tqdm(test_dataloader)):\n",
    "    token_ids = token_ids.long().to(device)\n",
    "    segment_ids = segment_ids.long().to(device)\n",
    "    valid_length = valid_length.to(device)\n",
    "    label = label.long().to(device)\n",
    "\n",
    "    with torch.no_grad():\n",
    "        out = model(token_ids, valid_length, segment_ids)  # Forward pass\n",
    "    loss = loss_fn(out, label)\n",
    "    test_loss += loss.item()\n",
    "    test_acc += calc_accuracy(out, label)  # Calculate accuracy\n",
    "\n",
    "print(f\"test acc {test_acc / (len(test_dataloader))}\")\n",
    "test_history.append(test_acc / (len(test_dataloader)))  # Update test history\n",
    "test_loss /= len(test_dataloader)\n",
    "test_loss_history.append(test_loss)\n",
    "\n"
   ]
  },
  {
   "cell_type": "markdown",
   "metadata": {},
   "source": [
    "### Plotting training, validation data's Accuracy and Loss"
   ]
  },
  {
   "cell_type": "code",
   "execution_count": 36,
   "metadata": {
    "scrolled": false
   },
   "outputs": [
    {
     "data": {
      "image/png": "[encoded data removed]",
      "text/plain": [
       "<Figure size 1000x500 with 1 Axes>"
      ]
     },
     "metadata": {},
     "output_type": "display_data"
    },
    {
     "data": {
      "image/png": "[encoded data removed]",
      "text/plain": [
       "<Figure size 1000x500 with 1 Axes>"
      ]
     },
     "metadata": {},
     "output_type": "display_data"
    }
   ],
   "source": [
    "# Plot training and validation loss\n",
    "plt.figure(figsize=(10,5))\n",
    "plt.title(\"Training and Validation Loss\")\n",
    "plt.plot(loss_history, label=\"train\")\n",
    "plt.plot(valid_loss_history, label=\"valid\")\n",
    "plt.xlabel(\"Epochs\")\n",
    "plt.ylabel(\"Loss\")\n",
    "plt.legend()\n",
    "plt.show()\n",
    "\n",
    "# Plot training and validation accuracy\n",
    "plt.figure(figsize=(10,5))\n",
    "plt.title(\"Training and Validation Accuracy\")\n",
    "plt.plot(train_history, label=\"train\")\n",
    "plt.plot(valid_history, label=\"valid\")\n",
    "plt.xlabel(\"Epochs\")\n",
    "plt.ylabel(\"Accuracy\")\n",
    "plt.legend()\n",
    "plt.show()"
   ]
  },
  {
   "cell_type": "markdown",
   "metadata": {},
   "source": [
    "### Model Load & test evaluation"
   ]
  },
  {
   "cell_type": "code",
   "execution_count": 37,
   "metadata": {},
   "outputs": [
    {
     "data": {
      "application/vnd.jupyter.widget-view+json": {
       "model_id": "d5988f24110d47ab8ebad5bad38112a1",
       "version_major": 2,
       "version_minor": 0
      },
      "text/plain": [
       "  0%|          | 0/23 [00:00<?, ?it/s]"
      ]
     },
     "metadata": {},
     "output_type": "display_data"
    },
    {
     "name": "stdout",
     "output_type": "stream",
     "text": [
      "test acc 0.9870923913043478\n",
      "test loss 0.04845100545334508\n"
     ]
    }
   ],
   "source": [
    "# Load the best model\n",
    "model_path = 'vp_text_classification_model.pt'  # adjust the path if needed\n",
    "model.load_state_dict(torch.load(model_path))\n",
    "\n",
    "# Initialize variables\n",
    "test_acc = 0.0\n",
    "test_loss = 0.0\n",
    "\n",
    "# Set the model to evaluation mode\n",
    "model.eval()\n",
    "\n",
    "# Loop over test data\n",
    "for batch_id, (token_ids, valid_length, segment_ids, label) in enumerate(tqdm(test_dataloader)):\n",
    "    token_ids = token_ids.long().to(device)\n",
    "    segment_ids = segment_ids.long().to(device)\n",
    "    valid_length = valid_length.to(device)\n",
    "    label = label.long().to(device)\n",
    "\n",
    "    # Make predictions\n",
    "    with torch.no_grad():\n",
    "        out = model(token_ids, valid_length, segment_ids)\n",
    "\n",
    "    # Compute loss and accuracy\n",
    "    loss = loss_fn(out, label)\n",
    "    test_loss += loss.item()\n",
    "    test_acc += calc_accuracy(out, label)\n",
    "\n",
    "# Compute average test loss and accuracy\n",
    "test_acc /= len(test_dataloader)\n",
    "test_loss /= len(test_dataloader)\n",
    "\n",
    "# Print results\n",
    "print(f\"test acc {test_acc}\")\n",
    "print(f\"test loss {test_loss}\")\n"
   ]
  }
 ],
 "metadata": {
  "colab": {
   "provenance": []
  },
  "kernelspec": {
   "display_name": "mldl_torch",
   "language": "python",
   "name": "mldl_torch"
  },
  "language_info": {
   "codemirror_mode": {
    "name": "ipython",
    "version": 3
   },
   "file_extension": ".py",
   "mimetype": "text/x-python",
   "name": "python",
   "nbconvert_exporter": "python",
   "pygments_lexer": "ipython3",
   "version": "3.8.17"
  }
 },
 "nbformat": 4,
 "nbformat_minor": 4
}
