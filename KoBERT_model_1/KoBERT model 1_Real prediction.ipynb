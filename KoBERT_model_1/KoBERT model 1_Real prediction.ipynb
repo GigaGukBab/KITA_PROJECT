{
 "cells": [
  {
   "cell_type": "markdown",
   "id": "d9548490",
   "metadata": {},
   "source": [
    "# Load Model, Real Predictions\n",
    "\n",
    " - load wav file, STT"
   ]
  },
  {
   "cell_type": "code",
   "execution_count": null,
   "id": "59522802",
   "metadata": {},
   "outputs": [],
   "source": [
    "# 필요 import 문\n",
    "\n",
    "import urllib3\n",
    "import json\n",
    "import base64\n",
    "import kss\n",
    "import torch\n",
    "from torch import nn\n",
    "import torch.nn.functional as F\n",
    "from transformers import BertModel, BertTokenizer\n",
    "import gluonnlp as nlp\n",
    "from tqdm.notebook import tqdm\n",
    "import pandas as pd\n",
    "from sklearn.model_selection import train_test_split\n",
    "import matplotlib.pyplot as plt\n",
    "from kobert_tokenizer import KoBERTTokenizer"
   ]
  },
  {
   "cell_type": "code",
   "execution_count": null,
   "id": "2882b100",
   "metadata": {},
   "outputs": [],
   "source": [
    "## STT 관련 필요 코드\n",
    "\n",
    "openApiURL = \"http://aiopen.etri.re.kr:8000/WiseASR/Recognition\"\n",
    "accessKey = \"624e30a6-6843-4f56-a417-3685c5ceda16\"  # replace with your key\n",
    "languageCode = \"korean\"\n",
    "http = urllib3.PoolManager()"
   ]
  },
  {
   "cell_type": "code",
   "execution_count": null,
   "id": "04575ea2",
   "metadata": {},
   "outputs": [],
   "source": [
    "##### STT 변환 함수 정의 #####\n",
    "\n",
    "def wav_to_stt(filename, openApiURL, languageCode, accessKey, http):\n",
    "    result = []\n",
    "\n",
    "    with open(filename, \"rb\") as file:\n",
    "        audioContents = base64.b64encode(file.read()).decode(\"utf8\")\n",
    "\n",
    "    requestJson = {\n",
    "        \"argument\": {\n",
    "            \"language_code\": languageCode,\n",
    "            \"audio\": audioContents\n",
    "        }\n",
    "    }\n",
    "\n",
    "    response = http.request(\n",
    "        \"POST\",\n",
    "        openApiURL,\n",
    "        headers={\n",
    "            \"Content-Type\": \"application/json; charset=UTF-8\",\n",
    "            \"Authorization\": accessKey\n",
    "        },\n",
    "        body=json.dumps(requestJson)\n",
    "    )\n",
    "\n",
    "    try:\n",
    "        response_body = json.loads(response.data.decode('utf-8'))\n",
    "    except json.JSONDecodeError:\n",
    "        print(\"Failed to decode the response as JSON:\")\n",
    "        raise\n",
    "\n",
    "    stt_result = response_body.get('return_object', {}).get('recognized', '')\n",
    "    result = stt_result\n",
    "\n",
    "    return result"
   ]
  },
  {
   "cell_type": "code",
   "execution_count": null,
   "id": "07992c17",
   "metadata": {},
   "outputs": [],
   "source": [
    "def stt_to_kss(result):\n",
    "    sentences = kss.split_sentences(result)\n",
    "    return sentences"
   ]
  },
  {
   "cell_type": "code",
   "execution_count": 22,
   "id": "ee085534",
   "metadata": {
    "collapsed": true
   },
   "outputs": [
    {
     "name": "stdout",
     "output_type": "stream",
     "text": [
      "['네, 카드번호와 명의자 통화 부탁드립니다.', '확인되었습니다.', '저는 추가로 넣어드렸습니다.', '더 필요한 사항 없으십니까?', '태양교육상담사 김민재였습니다.', '감사합니다.']\n",
      "Sentence 1: 네, 카드번호와 명의자 통화 부탁드립니다.\n",
      "Predicted Label: 1\n",
      "Predicted Probabilities:\n",
      " [0.00862525 0.9913748 ]\n",
      "----------\n",
      "Sentence 2: 확인되었습니다.\n",
      "Predicted Label: 1\n",
      "Predicted Probabilities:\n",
      " [0.00456362 0.9954364 ]\n",
      "----------\n",
      "Sentence 3: 저는 추가로 넣어드렸습니다.\n",
      "Predicted Label: 0\n",
      "Predicted Probabilities:\n",
      " [0.98966867 0.01033128]\n",
      "----------\n",
      "Sentence 4: 더 필요한 사항 없으십니까?\n",
      "Predicted Label: 1\n",
      "Predicted Probabilities:\n",
      " [0.01941818 0.9805818 ]\n",
      "----------\n",
      "Sentence 5: 태양교육상담사 김민재였습니다.\n",
      "Predicted Label: 1\n",
      "Predicted Probabilities:\n",
      " [0.00408685 0.9959131 ]\n",
      "----------\n",
      "Sentence 6: 감사합니다.\n",
      "Predicted Label: 1\n",
      "Predicted Probabilities:\n",
      " [0.00311304 0.9968869 ]\n",
      "----------\n",
      "Predicted Labels: tensor([1, 1, 0, 1, 1, 1], device='cuda:0')\n",
      "Predicted Probabilities:\n",
      " tensor([[0.0086, 0.9914],\n",
      "        [0.0046, 0.9954],\n",
      "        [0.9897, 0.0103],\n",
      "        [0.0194, 0.9806],\n",
      "        [0.0041, 0.9959],\n",
      "        [0.0031, 0.9969]], device='cuda:0')\n"
     ]
    }
   ],
   "source": [
    "##### KoBERT 모델 관련 코드 #####\n",
    "\n",
    "tokenizer = KoBERTTokenizer.from_pretrained('skt/kobert-base-v1')\n",
    "bertmodel = BertModel.from_pretrained('skt/kobert-base-v1', return_dict=False)\n",
    "vocab = nlp.vocab.BERTVocab.from_sentencepiece(tokenizer.vocab_file, padding_token='[PAD]')\n",
    "\n",
    "class BERTClassifier(nn.Module):\n",
    "    def __init__(self, bert, hidden_size=768, num_classes=2, dr_rate=None, params=None):\n",
    "        super(BERTClassifier, self).__init__()\n",
    "        self.bert = bert\n",
    "        self.dr_rate = dr_rate\n",
    "\n",
    "        self.classifier = nn.Linear(hidden_size, num_classes)\n",
    "        if dr_rate:\n",
    "            self.dropout = nn.Dropout(p=dr_rate)\n",
    "\n",
    "    def gen_attention_mask(self, token_ids, valid_length):\n",
    "        attention_mask = torch.zeros_like(token_ids)\n",
    "        for i, v in enumerate(valid_length):\n",
    "            attention_mask[i][:v] = 1\n",
    "        return attention_mask.float()\n",
    "\n",
    "    def forward(self, token_ids, valid_length, segment_ids):\n",
    "        attention_mask = self.gen_attention_mask(token_ids, valid_length)\n",
    "\n",
    "        _, pooler = self.bert(input_ids=token_ids, token_type_ids=segment_ids.long(), attention_mask=attention_mask.float().to(token_ids.device))\n",
    "        if self.dr_rate:\n",
    "            out = self.dropout(pooler)\n",
    "        return self.classifier(out)"
   ]
  },
  {
   "cell_type": "code",
   "execution_count": null,
   "id": "f6c3bf42",
   "metadata": {},
   "outputs": [],
   "source": [
    "# 예측 후 확률값을 출력하는 함수\n",
    "\n",
    "def predict_and_print(sentences):\n",
    "    model.eval()\n",
    "\n",
    "    # Tokenize all sentences at once\n",
    "    tokenized_sent = tokenizer(\n",
    "        sentences,\n",
    "        return_tensors=\"pt\",\n",
    "        truncation=True,\n",
    "        padding=True,\n",
    "        max_length=128\n",
    "    )\n",
    "\n",
    "    token_ids = tokenized_sent['input_ids'].to(device)\n",
    "    segment_ids = tokenized_sent['token_type_ids'].to(device)\n",
    "    valid_length = torch.tensor([len(tokenizer.tokenize(sentence)) for sentence in sentences]).to(device)\n",
    "\n",
    "    with torch.no_grad():\n",
    "        logits = model(token_ids, valid_length, segment_ids)\n",
    "        probabilities = F.softmax(logits, dim=1)\n",
    "        _, predicted = torch.max(logits, 1)\n",
    "\n",
    "    # Print the results\n",
    "    for i, (sentence, label, probs) in enumerate(zip(sentences, predicted, probabilities)):\n",
    "        print(f\"Sentence {i + 1}: {sentence}\")\n",
    "        print(\"Predicted Label:\", label.item())\n",
    "        print(\"Predicted Probabilities:\\n\", probs.cpu().numpy())\n",
    "        print(\"----------\")\n",
    "\n",
    "    print(\"Predicted Labels:\", predicted)\n",
    "    print(\"Predicted Probabilities:\\n\", probabilities)\n"
   ]
  },
  {
   "cell_type": "code",
   "execution_count": null,
   "id": "c18c8591",
   "metadata": {},
   "outputs": [],
   "source": [
    "# 그래픽 카드 사용\n",
    "\n",
    "if torch.cuda.is_available():\n",
    "    device = 'cuda:0'\n",
    "#     print('현재 가상환경 GPU 사용 가능상태')\n",
    "else:\n",
    "    device = 'cpu'\n",
    "#     print('GPU 사용 불가능 상태')"
   ]
  },
  {
   "cell_type": "code",
   "execution_count": null,
   "id": "c099b315",
   "metadata": {},
   "outputs": [],
   "source": [
    "# model 정의\n",
    "\n",
    "model = BERTClassifier(bertmodel, dr_rate=0.5).to(device)"
   ]
  },
  {
   "cell_type": "code",
   "execution_count": null,
   "id": "b9292441",
   "metadata": {},
   "outputs": [],
   "source": [
    "# Load the model weights\n",
    "model_path = './vp_text_classification_model.pt'  # Path to your trained model checkpoint\n",
    "model.load_state_dict(torch.load(model_path))"
   ]
  },
  {
   "cell_type": "code",
   "execution_count": null,
   "id": "68f12f65",
   "metadata": {},
   "outputs": [],
   "source": [
    "# wav 파일 불러오기\n",
    "filename = './counsel_merge_1 (mp3cut.net).wav'"
   ]
  },
  {
   "cell_type": "code",
   "execution_count": null,
   "id": "368b018e",
   "metadata": {},
   "outputs": [],
   "source": [
    "# wav to stt, stt to kss 진행\n",
    "\n",
    "stt_result = wav_to_stt(filename, openApiURL, languageCode, accessKey, http)\n",
    "sentences = stt_to_kss(stt_result)\n",
    "# print(sentences)\n",
    "predict_and_print(sentences)"
   ]
  },
  {
   "cell_type": "markdown",
   "id": "08d532ed",
   "metadata": {},
   "source": [
    "- predicted_probs는 각 클래스에 대한 확률을 나타냄\n",
    "- 예를 들어, `[0.9985, 0.0015]`와 같은 출력\n",
    "  - 첫 번째 클래스의 확률이 99.85%이고 두 번째 클래스의 확률이 0.15%임을 의미"
   ]
  }
 ],
 "metadata": {
  "kernelspec": {
   "display_name": "mldl_torch",
   "language": "python",
   "name": "mldl_torch"
  },
  "language_info": {
   "codemirror_mode": {
    "name": "ipython",
    "version": 3
   },
   "file_extension": ".py",
   "mimetype": "text/x-python",
   "name": "python",
   "nbconvert_exporter": "python",
   "pygments_lexer": "ipython3",
   "version": "3.8.17"
  }
 },
 "nbformat": 4,
 "nbformat_minor": 5
}
