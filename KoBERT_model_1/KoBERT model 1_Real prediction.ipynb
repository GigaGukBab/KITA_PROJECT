{
 "cells": [
  {
   "cell_type": "markdown",
   "id": "d9548490",
   "metadata": {},
   "source": [
    "# Load Model, Real Predictions\n",
    "\n",
    " - load wav file, STT"
   ]
  },
  {
   "cell_type": "code",
   "execution_count": 1,
   "id": "59522802",
   "metadata": {},
   "outputs": [
    {
     "name": "stderr",
     "output_type": "stream",
     "text": [
      "/anaconda/envs/mldl_torch/lib/python3.8/site-packages/mxnet/optimizer/optimizer.py:163: UserWarning: WARNING: New optimizer gluonnlp.optimizer.lamb.LAMB is overriding existing optimizer mxnet.optimizer.optimizer.LAMB\n",
      "  warnings.warn('WARNING: New optimizer %s.%s is overriding '\n"
     ]
    }
   ],
   "source": [
    "# 필요 import 문\n",
    "\n",
    "import urllib3\n",
    "import json\n",
    "import base64\n",
    "import kss\n",
    "import torch\n",
    "from torch import nn\n",
    "import torch.nn.functional as F\n",
    "from transformers import BertModel, BertTokenizer\n",
    "import gluonnlp as nlp\n",
    "from tqdm.notebook import tqdm\n",
    "import pandas as pd\n",
    "from sklearn.model_selection import train_test_split\n",
    "import matplotlib.pyplot as plt\n",
    "from kobert_tokenizer import KoBERTTokenizer"
   ]
  },
  {
   "cell_type": "code",
   "execution_count": 2,
   "id": "2882b100",
   "metadata": {},
   "outputs": [],
   "source": [
    "## STT 관련 필요 코드\n",
    "\n",
    "openApiURL = \"http://aiopen.etri.re.kr:8000/WiseASR/Recognition\"\n",
    "accessKey = \"624e30a6-6843-4f56-a417-3685c5ceda16\"  # replace with your key\n",
    "languageCode = \"korean\"\n",
    "http = urllib3.PoolManager()"
   ]
  },
  {
   "cell_type": "code",
   "execution_count": 3,
   "id": "04575ea2",
   "metadata": {},
   "outputs": [],
   "source": [
    "##### STT 변환 함수 정의 #####\n",
    "\n",
    "def wav_to_stt(filename, openApiURL, languageCode, accessKey, http):\n",
    "    result = []\n",
    "\n",
    "    with open(filename, \"rb\") as file:\n",
    "        audioContents = base64.b64encode(file.read()).decode(\"utf8\")\n",
    "\n",
    "    requestJson = {\n",
    "        \"argument\": {\n",
    "            \"language_code\": languageCode,\n",
    "            \"audio\": audioContents\n",
    "        }\n",
    "    }\n",
    "\n",
    "    response = http.request(\n",
    "        \"POST\",\n",
    "        openApiURL,\n",
    "        headers={\n",
    "            \"Content-Type\": \"application/json; charset=UTF-8\",\n",
    "            \"Authorization\": accessKey\n",
    "        },\n",
    "        body=json.dumps(requestJson)\n",
    "    )\n",
    "\n",
    "    try:\n",
    "        response_body = json.loads(response.data.decode('utf-8'))\n",
    "    except json.JSONDecodeError:\n",
    "        print(\"Failed to decode the response as JSON:\")\n",
    "        raise\n",
    "\n",
    "    stt_result = response_body.get('return_object', {}).get('recognized', '')\n",
    "    result = stt_result\n",
    "\n",
    "    return result"
   ]
  },
  {
   "cell_type": "code",
   "execution_count": 4,
   "id": "07992c17",
   "metadata": {},
   "outputs": [],
   "source": [
    "def stt_to_kss(result):\n",
    "    sentences = kss.split_sentences(result)\n",
    "    return sentences"
   ]
  },
  {
   "cell_type": "code",
   "execution_count": 5,
   "id": "ee085534",
   "metadata": {},
   "outputs": [],
   "source": [
    "##### KoBERT 모델 관련 코드 #####\n",
    "\n",
    "tokenizer = KoBERTTokenizer.from_pretrained('skt/kobert-base-v1')\n",
    "bertmodel = BertModel.from_pretrained('skt/kobert-base-v1', return_dict=False)\n",
    "vocab = nlp.vocab.BERTVocab.from_sentencepiece(tokenizer.vocab_file, padding_token='[PAD]')\n",
    "\n",
    "class BERTClassifier(nn.Module):\n",
    "    def __init__(self, bert, hidden_size=768, num_classes=2, dr_rate=None, params=None):\n",
    "        super(BERTClassifier, self).__init__()\n",
    "        self.bert = bert\n",
    "        self.dr_rate = dr_rate\n",
    "\n",
    "        self.classifier = nn.Linear(hidden_size, num_classes)\n",
    "        if dr_rate:\n",
    "            self.dropout = nn.Dropout(p=dr_rate)\n",
    "\n",
    "    def gen_attention_mask(self, token_ids, valid_length):\n",
    "        attention_mask = torch.zeros_like(token_ids)\n",
    "        for i, v in enumerate(valid_length):\n",
    "            attention_mask[i][:v] = 1\n",
    "        return attention_mask.float()\n",
    "\n",
    "    def forward(self, token_ids, valid_length, segment_ids):\n",
    "        attention_mask = self.gen_attention_mask(token_ids, valid_length)\n",
    "\n",
    "        _, pooler = self.bert(input_ids=token_ids, token_type_ids=segment_ids.long(), attention_mask=attention_mask.float().to(token_ids.device))\n",
    "        if self.dr_rate:\n",
    "            out = self.dropout(pooler)\n",
    "        return self.classifier(out)"
   ]
  },
  {
   "cell_type": "code",
   "execution_count": 6,
   "id": "f6c3bf42",
   "metadata": {},
   "outputs": [],
   "source": [
    "# 예측 후 확률값을 출력하는 함수\n",
    "\n",
    "def predict_and_print(sentences):\n",
    "    model.eval()\n",
    "\n",
    "    # Tokenize all sentences at once\n",
    "    tokenized_sent = tokenizer(\n",
    "        sentences,\n",
    "        return_tensors=\"pt\",\n",
    "        truncation=True,\n",
    "        padding=True,\n",
    "        max_length=128\n",
    "    )\n",
    "\n",
    "    token_ids = tokenized_sent['input_ids'].to(device)\n",
    "    segment_ids = tokenized_sent['token_type_ids'].to(device)\n",
    "    valid_length = torch.tensor([len(tokenizer.tokenize(sentence)) for sentence in sentences]).to(device)\n",
    "\n",
    "    with torch.no_grad():\n",
    "        logits = model(token_ids, valid_length, segment_ids)\n",
    "        probabilities = F.softmax(logits, dim=1)\n",
    "        _, predicted = torch.max(logits, 1)\n",
    "\n",
    "    # Print the results\n",
    "    for i, (sentence, label, probs) in enumerate(zip(sentences, predicted, probabilities)):\n",
    "        print(f\"Sentence {i + 1}: {sentence}\")\n",
    "        print(\"Predicted Label:\", label.item())\n",
    "        print(\"Predicted Probabilities:\\n\", probs.cpu().numpy())\n",
    "        print(\"----------\")\n",
    "\n",
    "    print(\"Predicted Labels:\", predicted)\n",
    "    print(\"Predicted Probabilities:\\n\", probabilities)\n"
   ]
  },
  {
   "cell_type": "code",
   "execution_count": 7,
   "id": "c18c8591",
   "metadata": {},
   "outputs": [],
   "source": [
    "# 그래픽 카드 사용\n",
    "\n",
    "if torch.cuda.is_available():\n",
    "    device = 'cuda:0'\n",
    "#     print('현재 가상환경 GPU 사용 가능상태')\n",
    "else:\n",
    "    device = 'cpu'\n",
    "#     print('GPU 사용 불가능 상태')"
   ]
  },
  {
   "cell_type": "code",
   "execution_count": 8,
   "id": "c099b315",
   "metadata": {},
   "outputs": [],
   "source": [
    "# model 정의\n",
    "\n",
    "model = BERTClassifier(bertmodel, dr_rate=0.5).to(device)"
   ]
  },
  {
   "cell_type": "code",
   "execution_count": 9,
   "id": "b9292441",
   "metadata": {},
   "outputs": [
    {
     "data": {
      "text/plain": [
       "<All keys matched successfully>"
      ]
     },
     "execution_count": 9,
     "metadata": {},
     "output_type": "execute_result"
    }
   ],
   "source": [
    "# Load the model weights\n",
    "model_path = '/KITA_Project/Final Model for KoBERT/fianl_vp_text_classification_model.pt'  # Path to your trained model checkpoint\n",
    "model.load_state_dict(torch.load(model_path))"
   ]
  },
  {
   "cell_type": "markdown",
   "id": "f8c3054e",
   "metadata": {},
   "source": [
    "## 상담 음성 예측"
   ]
  },
  {
   "cell_type": "code",
   "execution_count": 10,
   "id": "68f12f65",
   "metadata": {},
   "outputs": [],
   "source": [
    "# wav 파일 불러오기\n",
    "filename_counsel_path = './counsel_merge_1 (mp3cut.net).wav'"
   ]
  },
  {
   "cell_type": "code",
   "execution_count": 11,
   "id": "368b018e",
   "metadata": {
    "scrolled": false
   },
   "outputs": [
    {
     "name": "stderr",
     "output_type": "stream",
     "text": [
      "[Kss]: Because there's no supported C++ morpheme analyzer, Kss will take pecab as a backend. :D\n",
      "For your information, Kss also supports mecab backend.\n",
      "We recommend you to install mecab or konlpy.tag.Mecab for faster execution of Kss.\n",
      "Please refer to following web sites for details:\n",
      "- mecab: https://github.com/hyunwoongko/python-mecab-kor\n",
      "- konlpy.tag.Mecab: https://konlpy.org/en/latest/api/konlpy.tag/#mecab-class\n",
      "\n"
     ]
    },
    {
     "name": "stdout",
     "output_type": "stream",
     "text": [
      "Sentence 1: 네, 카드번호와 명의자 통화 부탁드립니다.\n",
      "Predicted Label: 1\n",
      "Predicted Probabilities:\n",
      " [3.178386e-04 9.996822e-01]\n",
      "----------\n",
      "Sentence 2: 확인되었습니다.\n",
      "Predicted Label: 1\n",
      "Predicted Probabilities:\n",
      " [0.00154106 0.998459  ]\n",
      "----------\n",
      "Sentence 3: 저는 추가로 넣어드렸습니다.\n",
      "Predicted Label: 0\n",
      "Predicted Probabilities:\n",
      " [0.9730498  0.02695015]\n",
      "----------\n",
      "Sentence 4: 더 필요한 사항 없으십니까?\n",
      "Predicted Label: 1\n",
      "Predicted Probabilities:\n",
      " [0.00185173 0.9981483 ]\n",
      "----------\n",
      "Sentence 5: 태양교육상담사 김민재였습니다.\n",
      "Predicted Label: 1\n",
      "Predicted Probabilities:\n",
      " [0.00178066 0.9982193 ]\n",
      "----------\n",
      "Sentence 6: 감사합니다.\n",
      "Predicted Label: 1\n",
      "Predicted Probabilities:\n",
      " [6.6386868e-04 9.9933606e-01]\n",
      "----------\n",
      "Predicted Labels: tensor([1, 1, 0, 1, 1, 1], device='cuda:0')\n",
      "Predicted Probabilities:\n",
      " tensor([[3.1784e-04, 9.9968e-01],\n",
      "        [1.5411e-03, 9.9846e-01],\n",
      "        [9.7305e-01, 2.6950e-02],\n",
      "        [1.8517e-03, 9.9815e-01],\n",
      "        [1.7807e-03, 9.9822e-01],\n",
      "        [6.6387e-04, 9.9934e-01]], device='cuda:0')\n"
     ]
    }
   ],
   "source": [
    "# wav to stt, stt to kss 진행\n",
    "\n",
    "stt_result = wav_to_stt(filename_counsel_path, openApiURL, languageCode, accessKey, http)\n",
    "sentences = stt_to_kss(stt_result)\n",
    "# print(sentences)\n",
    "predict_and_print(sentences)"
   ]
  },
  {
   "cell_type": "markdown",
   "id": "08d532ed",
   "metadata": {},
   "source": [
    "- predicted_probs는 각 클래스에 대한 확률을 나타냄\n",
    "- 예를 들어, `[0.00154106 0.998459]`와 같은 출력\n",
    "  - 첫 번째 클래스`(0)`의 확률이 0.15%이고 두 번째 클래스`(1)`의 확률이 99.84%임을 의미"
   ]
  },
  {
   "cell_type": "markdown",
   "id": "d4f9f8ea",
   "metadata": {},
   "source": [
    "## 보이스 피싱 음성 예측"
   ]
  },
  {
   "cell_type": "code",
   "execution_count": 12,
   "id": "8c56c1c4",
   "metadata": {},
   "outputs": [],
   "source": [
    "# wav 파일 불러오기\n",
    "filename_vp_path = './윤지수_보이스피싱범_testdata_[cut_20sec].wav'"
   ]
  },
  {
   "cell_type": "code",
   "execution_count": 13,
   "id": "0b954889",
   "metadata": {},
   "outputs": [
    {
     "name": "stdout",
     "output_type": "stream",
     "text": [
      "Sentence 1: 여보세요 윤지수 씨 되실까요\n",
      "Predicted Label: 0\n",
      "Predicted Probabilities:\n",
      " [9.9950659e-01 4.9345376e-04]\n",
      "----------\n",
      "Sentence 2: 수고하십니다\n",
      "Predicted Label: 0\n",
      "Predicted Probabilities:\n",
      " [0.9978409  0.00215905]\n",
      "----------\n",
      "Sentence 3: 저는 대검찰청 특수부의 김수영 사무관이에요\n",
      "Predicted Label: 0\n",
      "Predicted Probabilities:\n",
      " [9.996401e-01 3.598673e-04]\n",
      "----------\n",
      "Sentence 4: 지금 저희가 담당하고 있는 사건 중에 전자 금융 거래망 건으로 참고인 조사차 연락드렸습니다\n",
      "Predicted Label: 0\n",
      "Predicted Probabilities:\n",
      " [9.9963391e-01 3.6608314e-04]\n",
      "----------\n",
      "Sentence 5: 몇 가지 확인 차 질문 좀 드리려고 전화드렸습니다\n",
      "Predicted Label: 0\n",
      "Predicted Probabilities:\n",
      " [9.9959558e-01 4.0444086e-04]\n",
      "----------\n",
      "Predicted Labels: tensor([0, 0, 0, 0, 0], device='cuda:0')\n",
      "Predicted Probabilities:\n",
      " tensor([[9.9951e-01, 4.9345e-04],\n",
      "        [9.9784e-01, 2.1590e-03],\n",
      "        [9.9964e-01, 3.5987e-04],\n",
      "        [9.9963e-01, 3.6608e-04],\n",
      "        [9.9960e-01, 4.0444e-04]], device='cuda:0')\n"
     ]
    }
   ],
   "source": [
    "# wav to stt, stt to kss 진행\n",
    "\n",
    "stt_result = wav_to_stt(filename_vp_path, openApiURL, languageCode, accessKey, http)\n",
    "sentences = stt_to_kss(stt_result)\n",
    "# print(sentences)\n",
    "predict_and_print(sentences)"
   ]
  },
  {
   "cell_type": "markdown",
   "id": "21812238",
   "metadata": {},
   "source": [
    "- predicted_probs는 각 클래스에 대한 확률을 나타냄\n",
    "- 예를 들어, `[0.9978409  0.00215905]`와 같은 출력\n",
    "  - 첫 번째 클래스`(0)`의 확률이 99.78%이고 두 번째 클래스`(1)`의 확률이 0.21%임을 의미"
   ]
  }
 ],
 "metadata": {
  "kernelspec": {
   "display_name": "mldl_torch",
   "language": "python",
   "name": "mldl_torch"
  },
  "language_info": {
   "codemirror_mode": {
    "name": "ipython",
    "version": 3
   },
   "file_extension": ".py",
   "mimetype": "text/x-python",
   "name": "python",
   "nbconvert_exporter": "python",
   "pygments_lexer": "ipython3",
   "version": "3.8.17"
  }
 },
 "nbformat": 4,
 "nbformat_minor": 5
}
