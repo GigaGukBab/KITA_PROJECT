{
 "cells": [
  {
   "cell_type": "markdown",
   "metadata": {
    "id": "U_yHuup72bs_"
   },
   "source": [
    "# **Decibel Model Main Code**"
   ]
  },
  {
   "cell_type": "markdown",
   "metadata": {},
   "source": [
    "## 알집파일 해제코드(Optional)"
   ]
  },
  {
   "cell_type": "code",
   "execution_count": 1,
   "metadata": {},
   "outputs": [],
   "source": [
    "import zipfile\n",
    "\n",
    "zip_path_dB_counsel_5244 = './dB_counsel_5244.zip'\n",
    "dir_path_dB_counsel_5244 = './dB_counel(5244)'\n",
    "\n",
    "with zipfile.ZipFile(zip_path_dB_counsel_5244, 'r') as zip_ref:\n",
    "    zip_ref.extractall(dir_path_dB_counsel_5244)"
   ]
  },
  {
   "cell_type": "code",
   "execution_count": 3,
   "metadata": {},
   "outputs": [
    {
     "name": "stdout",
     "output_type": "stream",
     "text": [
      "5244\n"
     ]
    }
   ],
   "source": [
    "import os\n",
    "count=0\n",
    "for filename in os.listdir(dir_path_dB_counsel_5244):\n",
    "    if filename.endswith(\".npy\"):\n",
    "        count+=1\n",
    "\n",
    "print(count)"
   ]
  },
  {
   "cell_type": "code",
   "execution_count": 5,
   "metadata": {},
   "outputs": [],
   "source": [
    "import zipfile\n",
    "\n",
    "zip_path_dB_vp_4756 = './dB_vp_4756.zip'\n",
    "dir_path_dB_vp_4756 = './dB_vp(4756)'\n",
    "\n",
    "with zipfile.ZipFile(zip_path_dB_vp_4756, 'r') as zip_ref:\n",
    "    zip_ref.extractall(dir_path_dB_vp_4756)"
   ]
  },
  {
   "cell_type": "code",
   "execution_count": 6,
   "metadata": {},
   "outputs": [
    {
     "name": "stdout",
     "output_type": "stream",
     "text": [
      "4756\n"
     ]
    }
   ],
   "source": [
    "count=0\n",
    "for filename in os.listdir(dir_path_dB_vp_4756):\n",
    "    if filename.endswith(\".npy\"):\n",
    "        count+=1\n",
    "\n",
    "print(count)\n"
   ]
  },
  {
   "cell_type": "markdown",
   "metadata": {
    "id": "jtQ0NBl6nmWQ"
   },
   "source": [
    "## 필요 Import문 및 Module"
   ]
  },
  {
   "cell_type": "code",
   "execution_count": 7,
   "metadata": {
    "id": "KRTQYKQq2btG"
   },
   "outputs": [
    {
     "name": "stderr",
     "output_type": "stream",
     "text": [
      "2023-08-15 15:54:46.167570: I tensorflow/core/platform/cpu_feature_guard.cc:193] This TensorFlow binary is optimized with oneAPI Deep Neural Network Library (oneDNN) to use the following CPU instructions in performance-critical operations:  AVX2 AVX512F FMA\n",
      "To enable them in other operations, rebuild TensorFlow with the appropriate compiler flags.\n"
     ]
    }
   ],
   "source": [
    "import os\n",
    "import numpy as np\n",
    "import glob\n",
    "from tensorflow.keras.layers.experimental.preprocessing import Normalization\n",
    "from tensorflow.keras.models import Sequential, Model\n",
    "from tensorflow.keras.layers import (Conv1D, Dense, MaxPooling1D,\n",
    "                                     BatchNormalization,\n",
    "                                     GlobalAveragePooling1D,\n",
    "                                     GlobalMaxPool1D,  Flatten, Dropout,\n",
    "                                     Activation, Input)\n",
    "from tensorflow.keras.callbacks import EarlyStopping, ModelCheckpoint, LearningRateScheduler\n",
    "from tensorflow.keras.optimizers import Adam\n",
    "from tensorflow.keras.layers import concatenate\n",
    "from tensorflow.keras.preprocessing.sequence import pad_sequences\n",
    "from sklearn.model_selection import train_test_split\n",
    "import keras.backend as K\n",
    "from tensorflow.keras.callbacks import EarlyStopping\n",
    "from tensorflow.keras.callbacks import LearningRateScheduler\n",
    "from tensorflow.keras.optimizers import Adam\n",
    "from tensorflow.keras.models import load_model\n",
    "import tensorflow as tf\n",
    "from tensorflow.keras.utils import plot_model\n",
    "import matplotlib.pyplot as plt\n",
    "import seaborn as sns"
   ]
  },
  {
   "cell_type": "markdown",
   "metadata": {
    "id": "b2t2M8BxV8Qw"
   },
   "source": [
    "## load decibel data\n",
    " - reshape(-1, 1) : 불러온 numpy 데이터를 2차원으로 변환\n",
    "\n",
    " - -1은 나머지 차원을 자동으로 계산하라는 의미로, (n, 1) 형태의 2차원 배열로 변환하게 됨.\n",
    "\n",
    " - 지정된 폴더 내의 모든 numpy 데이터 파일을 불러와서 2차원 배열로 변환한 후, 이를 하나의 리스트에 저장\n",
    "\n",
    " - 1차원 numpy 배열을 .reshape(-1, 1)을 사용하여 2차원으로 변환하고 있다.\n",
    "\n",
    " - 이렇게 하면 각 데이터 포인트(데시벨 데이터의 각 값)는 하나의 특징만 가지는 `시퀀스`로 간주됨.\n",
    "\n",
    " - 이렇게 변환한 데이터를 Conv1D 레이어에 입력으로 제공하면, 레이어는 이 시퀀스 데이터의 지역적인 패턴을 학습하여 보이스피싱인지 일반 상담인지를 판단하는 데 도움이 되는 특징을 추출하게 된다.\n",
    "\n"
   ]
  },
  {
   "cell_type": "markdown",
   "metadata": {
    "id": "OUgSxyoToymM"
   },
   "source": [
    " - 즉, 'councel decibel npy data'와 'voice phishing decibel npy data'는 각각 1차원의 numpy 배열.\n",
    " - 그 길이(즉, 데이터의 개수)는 157개\n",
    "   - 한 개의 npy 파일에는 157개의 값을 가진 1차원 데이터가 저장되어 있다는 뜻"
   ]
  },
  {
   "cell_type": "code",
   "execution_count": 8,
   "metadata": {},
   "outputs": [],
   "source": [
    "dir_path_dB_counsel_5244 = './dB_counel(5244)'\n",
    "dir_path_dB_vp_4756 = './dB_vp(4756)'"
   ]
  },
  {
   "cell_type": "code",
   "execution_count": 9,
   "metadata": {},
   "outputs": [],
   "source": [
    "vp_dB_data = [np.load(os.path.join(dir_path_dB_vp_4756, f)).reshape(-1,1) for f in os.listdir(dir_path_dB_vp_4756) if f.endswith('.npy')]\n",
    "counsel_dB_data = [np.load(os.path.join(dir_path_dB_counsel_5244, f)).reshape(-1,1) for f in os.listdir(dir_path_dB_counsel_5244) if f.endswith('.npy')]"
   ]
  },
  {
   "cell_type": "code",
   "execution_count": 10,
   "metadata": {
    "colab": {
     "base_uri": "https://localhost:8080/"
    },
    "id": "culdNWoGW0HN",
    "outputId": "d74133b7-a17a-4d60-96dc-845cfd4a254c"
   },
   "outputs": [
    {
     "data": {
      "text/plain": [
       "(5244, 4756)"
      ]
     },
     "execution_count": 10,
     "metadata": {},
     "output_type": "execute_result"
    }
   ],
   "source": [
    "len(counsel_dB_data), len(vp_dB_data)"
   ]
  },
  {
   "cell_type": "code",
   "execution_count": 11,
   "metadata": {
    "colab": {
     "base_uri": "https://localhost:8080/"
    },
    "id": "_sBVJdDEW0HP",
    "outputId": "4187d34d-42fd-48a7-fe20-b9ff843ffc4e"
   },
   "outputs": [
    {
     "data": {
      "text/plain": [
       "((157, 1), (157, 1))"
      ]
     },
     "execution_count": 11,
     "metadata": {},
     "output_type": "execute_result"
    }
   ],
   "source": [
    "counsel_dB_data[0].shape, vp_dB_data[0].shape"
   ]
  },
  {
   "cell_type": "code",
   "execution_count": 12,
   "metadata": {},
   "outputs": [
    {
     "data": {
      "text/plain": [
       "array([[-18.232101  ],\n",
       "       [-15.902384  ],\n",
       "       [ -6.858389  ],\n",
       "       [ -6.6664696 ],\n",
       "       [ -6.546917  ],\n",
       "       [ -4.814249  ],\n",
       "       [ -4.3759346 ],\n",
       "       [ -3.7516203 ],\n",
       "       [ -3.217557  ],\n",
       "       [ -3.3149452 ],\n",
       "       [ -3.2007532 ],\n",
       "       [ -2.0456486 ],\n",
       "       [ -1.376215  ],\n",
       "       [ -1.3520641 ],\n",
       "       [ -1.6109905 ],\n",
       "       [ -2.8434162 ],\n",
       "       [ -5.5545006 ],\n",
       "       [ -7.531845  ],\n",
       "       [ -7.4465237 ],\n",
       "       [ -3.8413658 ],\n",
       "       [ -2.9866219 ],\n",
       "       [ -2.2764359 ],\n",
       "       [ -2.0477839 ],\n",
       "       [ -2.3504295 ],\n",
       "       [ -1.633872  ],\n",
       "       [ -1.3516426 ],\n",
       "       [ -1.4361267 ],\n",
       "       [ -1.8153362 ],\n",
       "       [ -2.6829796 ],\n",
       "       [ -2.869357  ],\n",
       "       [ -2.191742  ],\n",
       "       [ -1.8994675 ],\n",
       "       [ -1.9918985 ],\n",
       "       [ -2.218501  ],\n",
       "       [ -2.5322895 ],\n",
       "       [ -2.2274208 ],\n",
       "       [ -1.8723049 ],\n",
       "       [ -1.7185974 ],\n",
       "       [ -1.6672192 ],\n",
       "       [ -2.065858  ],\n",
       "       [ -2.8454762 ],\n",
       "       [ -4.4059753 ],\n",
       "       [ -7.320099  ],\n",
       "       [-11.16687   ],\n",
       "       [ -7.335644  ],\n",
       "       [ -3.091259  ],\n",
       "       [ -2.1251612 ],\n",
       "       [ -2.084859  ],\n",
       "       [ -1.937911  ],\n",
       "       [ -1.412447  ],\n",
       "       [ -0.83846474],\n",
       "       [ -0.07208061],\n",
       "       [  0.        ],\n",
       "       [ -0.84078217],\n",
       "       [ -2.0452633 ],\n",
       "       [ -2.9900417 ],\n",
       "       [ -1.8351355 ],\n",
       "       [ -1.5253029 ],\n",
       "       [ -0.65113926],\n",
       "       [ -0.8730917 ],\n",
       "       [ -1.9757872 ],\n",
       "       [ -2.1825962 ],\n",
       "       [ -2.8044376 ],\n",
       "       [ -2.72616   ],\n",
       "       [ -2.1595125 ],\n",
       "       [ -1.7902718 ],\n",
       "       [ -1.9446278 ],\n",
       "       [ -2.02316   ],\n",
       "       [ -2.266963  ],\n",
       "       [ -2.7867575 ],\n",
       "       [ -3.7264633 ],\n",
       "       [ -3.7731724 ],\n",
       "       [ -3.7746716 ],\n",
       "       [ -3.453144  ],\n",
       "       [ -3.2114277 ],\n",
       "       [ -3.5194378 ],\n",
       "       [ -3.201542  ],\n",
       "       [ -3.03755   ],\n",
       "       [ -3.3338604 ],\n",
       "       [ -3.5800228 ],\n",
       "       [ -4.183115  ],\n",
       "       [ -4.897009  ],\n",
       "       [ -5.3966713 ],\n",
       "       [ -4.69689   ],\n",
       "       [ -3.2473774 ],\n",
       "       [ -2.2934818 ],\n",
       "       [ -1.5657015 ],\n",
       "       [ -1.4017553 ],\n",
       "       [ -1.7936802 ],\n",
       "       [ -2.6150455 ],\n",
       "       [ -3.9707031 ],\n",
       "       [ -5.8791084 ],\n",
       "       [ -8.991354  ],\n",
       "       [-13.689571  ],\n",
       "       [-16.068432  ],\n",
       "       [-18.281784  ],\n",
       "       [-17.967213  ],\n",
       "       [-17.652765  ],\n",
       "       [-17.707924  ],\n",
       "       [-18.505253  ],\n",
       "       [-20.761013  ],\n",
       "       [-10.3805065 ],\n",
       "       [-10.3805065 ],\n",
       "       [-10.3805065 ],\n",
       "       [-10.3805065 ],\n",
       "       [-10.3805065 ],\n",
       "       [-10.3805065 ],\n",
       "       [-10.3805065 ],\n",
       "       [-10.3805065 ],\n",
       "       [-10.3805065 ],\n",
       "       [-10.3805065 ],\n",
       "       [-10.3805065 ],\n",
       "       [-10.3805065 ],\n",
       "       [-10.3805065 ],\n",
       "       [-10.3805065 ],\n",
       "       [-10.3805065 ],\n",
       "       [-10.3805065 ],\n",
       "       [-10.3805065 ],\n",
       "       [-10.3805065 ],\n",
       "       [-10.3805065 ],\n",
       "       [-10.3805065 ],\n",
       "       [-10.3805065 ],\n",
       "       [-10.3805065 ],\n",
       "       [-10.3805065 ],\n",
       "       [-10.3805065 ],\n",
       "       [-10.3805065 ],\n",
       "       [-10.3805065 ],\n",
       "       [-10.3805065 ],\n",
       "       [-10.3805065 ],\n",
       "       [-10.3805065 ],\n",
       "       [-10.3805065 ],\n",
       "       [-10.3805065 ],\n",
       "       [-10.3805065 ],\n",
       "       [-10.3805065 ],\n",
       "       [-10.3805065 ],\n",
       "       [-10.3805065 ],\n",
       "       [-10.3805065 ],\n",
       "       [-10.3805065 ],\n",
       "       [-10.3805065 ],\n",
       "       [-10.3805065 ],\n",
       "       [-10.3805065 ],\n",
       "       [-10.3805065 ],\n",
       "       [-10.3805065 ],\n",
       "       [-10.3805065 ],\n",
       "       [-10.3805065 ],\n",
       "       [-10.3805065 ],\n",
       "       [-10.3805065 ],\n",
       "       [-10.3805065 ],\n",
       "       [-10.3805065 ],\n",
       "       [-10.3805065 ],\n",
       "       [-10.3805065 ],\n",
       "       [-10.3805065 ],\n",
       "       [-10.3805065 ],\n",
       "       [-10.3805065 ],\n",
       "       [-10.3805065 ],\n",
       "       [-10.3805065 ],\n",
       "       [-10.3805065 ]], dtype=float32)"
      ]
     },
     "execution_count": 12,
     "metadata": {},
     "output_type": "execute_result"
    }
   ],
   "source": [
    "counsel_dB_data[10]"
   ]
  },
  {
   "cell_type": "code",
   "execution_count": 13,
   "metadata": {
    "scrolled": true
   },
   "outputs": [
    {
     "data": {
      "text/plain": [
       "array([[-2.28602638e+01],\n",
       "       [-1.71290245e+01],\n",
       "       [-1.37985992e+01],\n",
       "       [-8.42012787e+00],\n",
       "       [-8.37342262e+00],\n",
       "       [-8.10508347e+00],\n",
       "       [-6.48706007e+00],\n",
       "       [-3.71193171e+00],\n",
       "       [-3.02810144e+00],\n",
       "       [-2.96640062e+00],\n",
       "       [-2.42997408e+00],\n",
       "       [-2.30876398e+00],\n",
       "       [-1.93544436e+00],\n",
       "       [-1.39793158e+00],\n",
       "       [-1.45934725e+00],\n",
       "       [-1.43418455e+00],\n",
       "       [-1.46233845e+00],\n",
       "       [-2.01988268e+00],\n",
       "       [-2.54032373e+00],\n",
       "       [-4.26493597e+00],\n",
       "       [-7.14050531e+00],\n",
       "       [-7.01073122e+00],\n",
       "       [-6.96289206e+00],\n",
       "       [-7.07023287e+00],\n",
       "       [-7.17206621e+00],\n",
       "       [-6.90000772e+00],\n",
       "       [-5.68410063e+00],\n",
       "       [-4.86150599e+00],\n",
       "       [-2.52407122e+00],\n",
       "       [-6.45179749e-01],\n",
       "       [-1.12782955e-01],\n",
       "       [-4.76837158e-07],\n",
       "       [-5.53294659e-01],\n",
       "       [-2.40812445e+00],\n",
       "       [-4.96675920e+00],\n",
       "       [-6.65442896e+00],\n",
       "       [-5.82404089e+00],\n",
       "       [-5.25422907e+00],\n",
       "       [-4.89409971e+00],\n",
       "       [-4.00957727e+00],\n",
       "       [-3.93907213e+00],\n",
       "       [-4.26179075e+00],\n",
       "       [-4.70271540e+00],\n",
       "       [-5.02336740e+00],\n",
       "       [-5.09161425e+00],\n",
       "       [-4.55565596e+00],\n",
       "       [-2.68395090e+00],\n",
       "       [-2.40304136e+00],\n",
       "       [-2.38277864e+00],\n",
       "       [-2.18718767e+00],\n",
       "       [-3.23201132e+00],\n",
       "       [-4.58065176e+00],\n",
       "       [-5.09425020e+00],\n",
       "       [-6.63899374e+00],\n",
       "       [-6.26897287e+00],\n",
       "       [-3.78913069e+00],\n",
       "       [-1.85176468e+00],\n",
       "       [-1.15413809e+00],\n",
       "       [-5.16334057e-01],\n",
       "       [-3.37529182e-01],\n",
       "       [-1.00065756e+00],\n",
       "       [-1.58078289e+00],\n",
       "       [-2.72905016e+00],\n",
       "       [-4.25539255e+00],\n",
       "       [-4.10305738e+00],\n",
       "       [-3.86307192e+00],\n",
       "       [-4.29210329e+00],\n",
       "       [-5.09682798e+00],\n",
       "       [-6.17263842e+00],\n",
       "       [-8.53881454e+00],\n",
       "       [-9.67292786e+00],\n",
       "       [-7.52560663e+00],\n",
       "       [-5.45681143e+00],\n",
       "       [-4.55530024e+00],\n",
       "       [-3.78128290e+00],\n",
       "       [-3.62479067e+00],\n",
       "       [-4.16145277e+00],\n",
       "       [-4.89211130e+00],\n",
       "       [-6.43597841e+00],\n",
       "       [-9.06170654e+00],\n",
       "       [-1.18571529e+01],\n",
       "       [-1.32902546e+01],\n",
       "       [-1.53707047e+01],\n",
       "       [-2.03372173e+01],\n",
       "       [-2.37894230e+01],\n",
       "       [-2.60431404e+01],\n",
       "       [-2.72913513e+01],\n",
       "       [-5.93189583e+01],\n",
       "       [-2.96594791e+01],\n",
       "       [-2.96594791e+01],\n",
       "       [-2.96594791e+01],\n",
       "       [-2.96594791e+01],\n",
       "       [-2.96594791e+01],\n",
       "       [-2.96594791e+01],\n",
       "       [-2.96594791e+01],\n",
       "       [-2.96594791e+01],\n",
       "       [-2.96594791e+01],\n",
       "       [-2.96594791e+01],\n",
       "       [-2.96594791e+01],\n",
       "       [-2.96594791e+01],\n",
       "       [-2.96594791e+01],\n",
       "       [-2.96594791e+01],\n",
       "       [-2.96594791e+01],\n",
       "       [-2.96594791e+01],\n",
       "       [-2.96594791e+01],\n",
       "       [-2.96594791e+01],\n",
       "       [-2.96594791e+01],\n",
       "       [-2.96594791e+01],\n",
       "       [-2.96594791e+01],\n",
       "       [-2.96594791e+01],\n",
       "       [-2.96594791e+01],\n",
       "       [-2.96594791e+01],\n",
       "       [-2.96594791e+01],\n",
       "       [-2.96594791e+01],\n",
       "       [-2.96594791e+01],\n",
       "       [-2.96594791e+01],\n",
       "       [-2.96594791e+01],\n",
       "       [-2.96594791e+01],\n",
       "       [-2.96594791e+01],\n",
       "       [-2.96594791e+01],\n",
       "       [-2.96594791e+01],\n",
       "       [-2.96594791e+01],\n",
       "       [-2.96594791e+01],\n",
       "       [-2.96594791e+01],\n",
       "       [-2.96594791e+01],\n",
       "       [-2.96594791e+01],\n",
       "       [-2.96594791e+01],\n",
       "       [-2.96594791e+01],\n",
       "       [-2.96594791e+01],\n",
       "       [-2.96594791e+01],\n",
       "       [-2.96594791e+01],\n",
       "       [-2.96594791e+01],\n",
       "       [-2.96594791e+01],\n",
       "       [-2.96594791e+01],\n",
       "       [-2.96594791e+01],\n",
       "       [-2.96594791e+01],\n",
       "       [-2.96594791e+01],\n",
       "       [-2.96594791e+01],\n",
       "       [-2.96594791e+01],\n",
       "       [-2.96594791e+01],\n",
       "       [-2.96594791e+01],\n",
       "       [-2.96594791e+01],\n",
       "       [-2.96594791e+01],\n",
       "       [-2.96594791e+01],\n",
       "       [-2.96594791e+01],\n",
       "       [-2.96594791e+01],\n",
       "       [-2.96594791e+01],\n",
       "       [-2.96594791e+01],\n",
       "       [-2.96594791e+01],\n",
       "       [-2.96594791e+01],\n",
       "       [-2.96594791e+01],\n",
       "       [-2.96594791e+01],\n",
       "       [-2.96594791e+01],\n",
       "       [-2.96594791e+01],\n",
       "       [-2.96594791e+01],\n",
       "       [-2.96594791e+01],\n",
       "       [-2.96594791e+01]], dtype=float32)"
      ]
     },
     "execution_count": 13,
     "metadata": {},
     "output_type": "execute_result"
    }
   ],
   "source": [
    "vp_dB_data[1000]"
   ]
  },
  {
   "cell_type": "markdown",
   "metadata": {},
   "source": [
    "# **======================데이터 통계분석======================**"
   ]
  },
  {
   "cell_type": "markdown",
   "metadata": {},
   "source": [
    "## Find outliers\n",
    "\n",
    " - 각 데이터 포인트별로 이상치의 수를 계산하고 그 평균값을 출력\n",
    " - 한 개의 데이터 포인트 (157, 1)에 대해서 평균적으로 몇 개의 이상치가 있나?"
   ]
  },
  {
   "cell_type": "code",
   "execution_count": 14,
   "metadata": {},
   "outputs": [
    {
     "name": "stdout",
     "output_type": "stream",
     "text": [
      "Average number of outliers per data point in VP decibel data: 10.48\n",
      "Average number of outliers per data point in Counsel decibel data: 16.13\n"
     ]
    }
   ],
   "source": [
    "import numpy as np\n",
    "\n",
    "def find_outliers(data):\n",
    "    q1 = np.percentile(data, 25)\n",
    "    q3 = np.percentile(data, 75)\n",
    "    iqr = q3 - q1\n",
    "\n",
    "    lower_bound = q1 - 1.5 * iqr\n",
    "    upper_bound = q3 + 1.5 * iqr\n",
    "\n",
    "    outliers = data[(data < lower_bound) | (data > upper_bound)]\n",
    "    return outliers\n",
    "\n",
    "# 각 데이터 포인트마다 이상치의 개수를 계산합니다.\n",
    "vp_outliers_count = [len(find_outliers(item)) for item in vp_dB_data]\n",
    "counsel_outliers_count = [len(find_outliers(item)) for item in counsel_dB_data]\n",
    "\n",
    "print(f\"Average number of outliers per data point in VP decibel data: {np.mean(vp_outliers_count):.2f}\")\n",
    "print(f\"Average number of outliers per data point in Counsel decibel data: {np.mean(counsel_outliers_count):.2f}\")\n"
   ]
  },
  {
   "cell_type": "markdown",
   "metadata": {},
   "source": [
    "- Voice Phishing (VP) decibel data:\n",
    "  - 평균적으로 각 Voice Phishing 데이터 포인트마다 약 10.48개의 이상치가 있음을 의미합니다.\n",
    "- Counsel decibel data:\n",
    "  - 평균적으로 각 Counsel 데이터 포인트마다 약 6.62개의 이상치가 있음을 의미합니다."
   ]
  },
  {
   "cell_type": "markdown",
   "metadata": {},
   "source": [
    "## 각 데이터 세트의 데이터 포인트에 대한 분포도"
   ]
  },
  {
   "cell_type": "code",
   "execution_count": 15,
   "metadata": {
    "scrolled": false
   },
   "outputs": [
    {
     "data": {
      "image/png": "[encoded data removed]",
      "text/plain": [
       "<Figure size 1200x600 with 1 Axes>"
      ]
     },
     "metadata": {},
     "output_type": "display_data"
    },
    {
     "data": {
      "image/png": "[encoded data removed]",
      "text/plain": [
       "<Figure size 1200x600 with 1 Axes>"
      ]
     },
     "metadata": {},
     "output_type": "display_data"
    }
   ],
   "source": [
    "import matplotlib.pyplot as plt\n",
    "import numpy as np\n",
    "\n",
    "# 각 데이터 포인트에 대한 평균과 분산을 계산하는 함수\n",
    "def compute_individual_means_and_vars(data):\n",
    "    means = [np.mean(item) for item in data]\n",
    "    vars = [np.var(item) for item in data]\n",
    "    return means, vars\n",
    "\n",
    "# 각 데이터 포인트별 평균과 분산 계산\n",
    "vp_means, vp_vars = compute_individual_means_and_vars(vp_dB_data)\n",
    "counsel_means, counsel_vars = compute_individual_means_and_vars(counsel_dB_data)\n",
    "\n",
    "# 평균의 히스토그램 그리기\n",
    "plt.figure(figsize=(12, 6))\n",
    "plt.hist(vp_means, bins=50, alpha=0.5, label='Voice Phishing Means')\n",
    "plt.hist(counsel_means, bins=50, alpha=0.5, label='Counsel Means')\n",
    "plt.xlabel('Mean Decibel Value')\n",
    "plt.ylabel('Number of Files')\n",
    "plt.title('Distribution of Individual Mean Decibel Values')\n",
    "plt.legend(loc='upper right')\n",
    "plt.show()\n",
    "\n",
    "# 분산의 히스토그램 그리기\n",
    "plt.figure(figsize=(12, 6))\n",
    "plt.hist(vp_vars, bins=50, alpha=0.5, label='Voice Phishing Variances')\n",
    "plt.hist(counsel_vars, bins=50, alpha=0.5, label='Counsel Variances')\n",
    "plt.xlabel('Decibel Variance')\n",
    "plt.ylabel('Number of Files')\n",
    "plt.title('Distribution of Individual Decibel Variances')\n",
    "plt.legend(loc='upper right')\n",
    "plt.show()\n"
   ]
  },
  {
   "cell_type": "markdown",
   "metadata": {},
   "source": [
    "## 각 데이터 포인트에 대해 왜도와 첨도를 계산하여 주어진 조건에 따라 정규성을 판단\n",
    " - 이 코드는 각 데이터 셋의 데이터 포인트의 왜도와 첨도를 계산하여 그 값이 0에 가까운지를 기준으로 데이터셋이 정규분포에 가까운지를 판단\n",
    " - 여기서는 왜도의 절댓값이 2 이하, 첨도의 절댓값이 7이하일대 정규성을 만족한다고 판단"
   ]
  },
  {
   "cell_type": "code",
   "execution_count": 16,
   "metadata": {},
   "outputs": [
    {
     "name": "stdout",
     "output_type": "stream",
     "text": [
      "Voice Phishing data points satisfying normality: [3690] out of 4756\n",
      "Counsel data points satisfying normality: [4940] out of 5244\n"
     ]
    }
   ],
   "source": [
    "from scipy import stats\n",
    "\n",
    "def check_normality(data):\n",
    "    skewness = stats.skew(data)\n",
    "    kurtosis = stats.kurtosis(data)\n",
    "    return abs(skewness) <= 2 and abs(kurtosis) <= 7\n",
    "\n",
    "# 각 데이터 포인트에 대한 정규성 판단\n",
    "vp_normality = [check_normality(item) for item in vp_dB_data]\n",
    "counsel_normality = [check_normality(item) for item in counsel_dB_data]\n",
    "\n",
    "# 정규성을 만족하는 데이터 포인트의 개수 계산\n",
    "vp_normal_count = sum(vp_normality)\n",
    "counsel_normal_count = sum(counsel_normality)\n",
    "\n",
    "print(f\"Voice Phishing data points satisfying normality: {vp_normal_count} out of {len(vp_dB_data)}\")\n",
    "print(f\"Counsel data points satisfying normality: {counsel_normal_count} out of {len(counsel_dB_data)}\")\n"
   ]
  },
  {
   "cell_type": "markdown",
   "metadata": {},
   "source": [
    "- Voice Phishing data points satisfying normality: [3690] out of 4756:\n",
    "  - 총 4756개의 보이스 피싱 데이터 포인트 중에서 3690개의 데이터 포인트가 정규성을 만족한다는 의미입니다.\n",
    "- Counsel data points satisfying normality: [4247] out of 4756:\n",
    "  - 총 4756개의 일반상담 데이터 포인트 중에서 4247개의 데이터 포인트가 정규성을 만족한다는 의미입니다. \n",
    "  \n",
    "- 이 결과를 통해 보이스 피싱 데이터의 약 77.6%와 일반상담 데이터의 약 89.3%가 주어진 조건에 따라 정규성을 만족하고 있음을 알 수 있습니다."
   ]
  },
  {
   "cell_type": "markdown",
   "metadata": {},
   "source": [
    "# ============================================================"
   ]
  },
  {
   "cell_type": "markdown",
   "metadata": {
    "id": "p93JjFHzXjGx"
   },
   "source": [
    "## data labeling(decibel data)\n",
    "\n",
    " - 보이스피싱 데이터(vp_data)는 0으로, 상담 데이터(counsel_data)는 1로 라벨링 수행.\n",
    " - 이를 위해 리스트를 생성하는데, 리스트의 길이는 각 데이터의 개수(len(vp_data), len(counsel_data))와 동일함.\n",
    " - 모든 요소는 각 데이터에 해당하는 라벨 (0 또는 1)로 채워짐."
   ]
  },
  {
   "cell_type": "code",
   "execution_count": 17,
   "metadata": {
    "id": "UFOzY7kuXjG-"
   },
   "outputs": [],
   "source": [
    "# Data labeling\n",
    "vp_dB_labels = [0] * len(vp_dB_data) # Label voice phishing data as 0\n",
    "counsel_dB_labels = [1] * len(counsel_dB_data) # Counseling data is labeled as 1"
   ]
  },
  {
   "cell_type": "markdown",
   "metadata": {
    "id": "0NO0YkS-YLxh"
   },
   "source": [
    "## combine decibel data"
   ]
  },
  {
   "cell_type": "markdown",
   "metadata": {
    "id": "xro9eBfD2btH"
   },
   "source": [
    " - 이후, 보이스피싱 데이터와 상담 데이터를 하나의 리스트 x_data로 병합.\n",
    " - 각 데이터에 해당하는 라벨도 하나의 리스트 y_labels로 병합.\n",
    " - `+` 연산자는 리스트를 이어 붙이는 역할을 함.\n",
    " - 따라서 x_data는 모든 데이터를, y_labels는 모든 데이터에 대응하는 라벨을 순서대로 가지게 됨.\n",
    " - 이렇게 만든 x_data와 y_labels는 이후 모델 학습에 사용됨."
   ]
  },
  {
   "cell_type": "code",
   "execution_count": 18,
   "metadata": {
    "id": "8htdxU-GYLxq"
   },
   "outputs": [],
   "source": [
    "# Combine data and labels into one list\n",
    "x_data_dB = vp_dB_data  + counsel_dB_data\n",
    "y_labels_dB = vp_dB_labels + counsel_dB_labels"
   ]
  },
  {
   "cell_type": "markdown",
   "metadata": {
    "id": "8d04zCg62btH"
   },
   "source": [
    "## 데이터 Padding (Optional)\n",
    "\n",
    " - pad_sequences는 시퀀스 데이터(여기서는 x_data)의 길이를 맞춰주는 함수.\n",
    " - 이 함수는 모든 시퀀스 데이터가 동일한 길이를 가지도록 0을 채워넣는 역할을 함.\n",
    " - 이때 `padding='post'`는 시퀀스 `뒤쪽`에 `0`을 채워넣는 것을 의미함.\n",
    " - `dtype='float32'`는 `0`의 데이터 타입을 `float32`로 지정하는 것을 의미함."
   ]
  },
  {
   "cell_type": "code",
   "execution_count": null,
   "metadata": {
    "collapsed": true,
    "id": "m03aQRrV2btH"
   },
   "outputs": [],
   "source": [
    "# Pad sequences to the same length\n",
    "x_data_padded = pad_sequences(x_data, padding='post', dtype='float32')"
   ]
  },
  {
   "cell_type": "markdown",
   "metadata": {
    "id": "jt0Bty2h2btH"
   },
   "source": [
    " - pad_sequences로 동일한 길이로 만든 x_data_padded와 라벨 데이터인 y_labels를 numpy 배열로 변환하는 코드.\n",
    " - `np.array` 함수는 주어진 데이터를 `numpy 배열`로 변환해줌.\n",
    " - 이렇게 `numpy` 배열로 변환한 이유는 이후에 사용할 기계학습 라이브러리가 주로 numpy 배열 형태의 데이터를 입력으로 받기 때문.\n",
    " - 따라서, `x_data_array`는 `입력 데이터`를, `y_labels_array`는 해당 데이터의 `라벨`을 각각 가지게 됨.\n",
    " - 이들은 모델 학습 및 평가에 사용됨."
   ]
  },
  {
   "cell_type": "code",
   "execution_count": null,
   "metadata": {
    "collapsed": true,
    "id": "wdG5rTFS2btH"
   },
   "outputs": [],
   "source": [
    "# Now you can safely convert to a single numpy array\n",
    "x_data_array = np.array(x_data_padded)\n",
    "y_labels_array = np.array(y_labels)"
   ]
  },
  {
   "cell_type": "code",
   "execution_count": null,
   "metadata": {
    "collapsed": true,
    "id": "63YgJVuZ2btH"
   },
   "outputs": [],
   "source": [
    "x_data_array = np.array(x_data)\n",
    "y_labels_array = np.array(y_labels)"
   ]
  },
  {
   "cell_type": "code",
   "execution_count": null,
   "metadata": {
    "colab": {
     "base_uri": "https://localhost:8080/"
    },
    "collapsed": true,
    "id": "-htZvhl92btI",
    "outputId": "c2c605b9-e86b-41ea-ab67-b53afd20670c"
   },
   "outputs": [],
   "source": [
    "x_data_array.shape"
   ]
  },
  {
   "cell_type": "code",
   "execution_count": null,
   "metadata": {
    "id": "Y053jjfe2btI"
   },
   "outputs": [],
   "source": [
    "x_data_array_shape = x_data_array.shape"
   ]
  },
  {
   "cell_type": "markdown",
   "metadata": {
    "id": "AdMhyY5qZ6ej"
   },
   "source": [
    "## Convert list to numpy arrays"
   ]
  },
  {
   "cell_type": "code",
   "execution_count": 19,
   "metadata": {
    "id": "2dt8ioU3piHI"
   },
   "outputs": [],
   "source": [
    "# Convert lists to numpy arrays\n",
    "x_data_dB = np.array(x_data_dB)\n",
    "y_labels_dB = np.array(y_labels_dB)"
   ]
  },
  {
   "cell_type": "markdown",
   "metadata": {
    "id": "Y0nckXsP2btI"
   },
   "source": [
    "## Data Split"
   ]
  },
  {
   "cell_type": "code",
   "execution_count": 20,
   "metadata": {
    "colab": {
     "base_uri": "https://localhost:8080/"
    },
    "id": "vq0_DA0Q2btI",
    "outputId": "52696195-68e9-4c75-890e-56a800287e2a"
   },
   "outputs": [
    {
     "data": {
      "text/plain": [
       "(10000, 157, 1)"
      ]
     },
     "execution_count": 20,
     "metadata": {},
     "output_type": "execute_result"
    }
   ],
   "source": [
    "x_data_dB.shape"
   ]
  },
  {
   "cell_type": "code",
   "execution_count": 21,
   "metadata": {
    "colab": {
     "base_uri": "https://localhost:8080/"
    },
    "id": "HZrie-X62btI",
    "outputId": "2abe6e91-cb6e-44fd-a880-8b949eaa3ed8"
   },
   "outputs": [
    {
     "data": {
      "text/plain": [
       "(10000,)"
      ]
     },
     "execution_count": 21,
     "metadata": {},
     "output_type": "execute_result"
    }
   ],
   "source": [
    "y_labels_dB.shape"
   ]
  },
  {
   "cell_type": "markdown",
   "metadata": {
    "id": "17e6vYAsaE_0"
   },
   "source": [
    "## data splitting"
   ]
  },
  {
   "cell_type": "code",
   "execution_count": 22,
   "metadata": {
    "colab": {
     "base_uri": "https://localhost:8080/"
    },
    "id": "0yn22n_H2btI",
    "outputId": "71eb24f3-07e1-45a0-8c09-92168ecf7a07"
   },
   "outputs": [
    {
     "name": "stdout",
     "output_type": "stream",
     "text": [
      "dB Train data shape: (7800, 157, 1)\n",
      "dB Validation data shape: (1100, 157, 1)\n",
      "dB Test data shape: (1100, 157, 1)\n"
     ]
    }
   ],
   "source": [
    "from sklearn.model_selection import train_test_split\n",
    "\n",
    "# First, split the dataset into a temporary training set and test set.\n",
    "x_temp_dB, x_test_dB, y_temp_dB, y_test_dB = train_test_split(x_data_dB, y_labels_dB, test_size=1100, random_state=42, shuffle=True)\n",
    "\n",
    "# Split the temporary training set into a final training set and a validation set.\n",
    "x_train_dB, x_val_dB, y_train_dB, y_val_dB = train_test_split(x_temp_dB, y_temp_dB, test_size=1100, random_state=42, shuffle=True)\n",
    "\n",
    "print(f\"dB Train data shape: {x_train_dB.shape}\")\n",
    "print(f\"dB Validation data shape: {x_val_dB.shape}\")\n",
    "print(f\"dB Test data shape: {x_test_dB.shape}\")"
   ]
  },
  {
   "cell_type": "markdown",
   "metadata": {
    "id": "uJP9cXJSyBhD"
   },
   "source": [
    "## 모델 layer 초기화"
   ]
  },
  {
   "cell_type": "code",
   "execution_count": 23,
   "metadata": {
    "id": "VmFr2GXmr-WW"
   },
   "outputs": [],
   "source": [
    "K.clear_session()"
   ]
  },
  {
   "cell_type": "markdown",
   "metadata": {
    "id": "EeQ6TpZj2btJ"
   },
   "source": [
    "## Decibel Model Definition"
   ]
  },
  {
   "cell_type": "code",
   "execution_count": 24,
   "metadata": {
    "colab": {
     "base_uri": "https://localhost:8080/"
    },
    "id": "UFKW-82E2btJ",
    "outputId": "fe1e634f-3254-4d17-a4ff-81193c6826bb"
   },
   "outputs": [
    {
     "name": "stderr",
     "output_type": "stream",
     "text": [
      "2023-08-15 15:55:15.575831: I tensorflow/core/platform/cpu_feature_guard.cc:193] This TensorFlow binary is optimized with oneAPI Deep Neural Network Library (oneDNN) to use the following CPU instructions in performance-critical operations:  AVX2 AVX512F FMA\n",
      "To enable them in other operations, rebuild TensorFlow with the appropriate compiler flags.\n",
      "2023-08-15 15:55:17.155007: I tensorflow/core/common_runtime/gpu/gpu_device.cc:1613] Created device /job:localhost/replica:0/task:0/device:GPU:0 with 6635 MB memory:  -> device: 0, name: NVIDIA GeForce RTX 2080, pci bus id: 0000:17:00.0, compute capability: 7.5\n",
      "2023-08-15 15:55:17.155798: I tensorflow/core/common_runtime/gpu/gpu_device.cc:1613] Created device /job:localhost/replica:0/task:0/device:GPU:1 with 6534 MB memory:  -> device: 1, name: NVIDIA GeForce RTX 2080, pci bus id: 0000:b3:00.0, compute capability: 7.5\n"
     ]
    },
    {
     "name": "stdout",
     "output_type": "stream",
     "text": [
      "Model: \"model\"\n",
      "_________________________________________________________________\n",
      " Layer (type)                Output Shape              Param #   \n",
      "=================================================================\n",
      " input_1 (InputLayer)        [(None, 157, 1)]          0         \n",
      "                                                                 \n",
      " normalization (Normalizatio  (None, 157, 1)           315       \n",
      " n)                                                              \n",
      "                                                                 \n",
      " Conv1D_1 (Conv1D)           (None, 157, 32)           128       \n",
      "                                                                 \n",
      " Conv1D_2 (Conv1D)           (None, 157, 64)           6208      \n",
      "                                                                 \n",
      " Conv1D_3 (Conv1D)           (None, 157, 128)          24704     \n",
      "                                                                 \n",
      " Conv1D_4 (Conv1D)           (None, 157, 128)          49280     \n",
      "                                                                 \n",
      " Conv1D_5 (Conv1D)           (None, 157, 256)          98560     \n",
      "                                                                 \n",
      " Conv1D_6 (Conv1D)           (None, 157, 512)          393728    \n",
      "                                                                 \n",
      " global_average_pooling1d (G  (None, 512)              0         \n",
      " lobalAveragePooling1D)                                          \n",
      "                                                                 \n",
      " dense (Dense)               (None, 32)                16416     \n",
      "                                                                 \n",
      " dense_1 (Dense)             (None, 1)                 33        \n",
      "                                                                 \n",
      "=================================================================\n",
      "Total params: 589,372\n",
      "Trainable params: 589,057\n",
      "Non-trainable params: 315\n",
      "_________________________________________________________________\n"
     ]
    }
   ],
   "source": [
    "# Create the Normalization layer\n",
    "norm_layer = Normalization(axis=1)\n",
    "# Adapt it to the data\n",
    "norm_layer.adapt(x_train_dB)\n",
    "\n",
    "# Define the input shape\n",
    "inputs = Input(shape=(x_train_dB.shape[1], 1))\n",
    "# Call it on the inputs\n",
    "x = norm_layer(inputs)\n",
    "\n",
    "# 첫번째 입력에 대한 Convolutional 레이어를 정의합니다.\n",
    "x = Conv1D(32, 3, dilation_rate=1, padding='causal', activation='relu', name=\"Conv1D_1\")(x)\n",
    "x = Conv1D(64, 3, dilation_rate=2, padding='causal', activation='relu', name=\"Conv1D_2\")(x)\n",
    "x = Conv1D(128, 3, dilation_rate=4, padding='causal', activation='relu', name=\"Conv1D_3\")(x)\n",
    "x = Conv1D(128, 3, dilation_rate=8, padding='causal', activation='relu', name=\"Conv1D_4\")(x)\n",
    "x = Conv1D(256, 3, dilation_rate=16, padding='causal', activation='relu', name=\"Conv1D_5\")(x)\n",
    "x = Conv1D(512, 3, dilation_rate=32, padding='causal', activation='relu', name=\"Conv1D_6\")(x)\n",
    "x = GlobalAveragePooling1D()(x)\n",
    "\n",
    "# Dense Layer\n",
    "x = Dense(32, activation='relu')(x)\n",
    "# Output Layer\n",
    "outputs = Dense(1, activation='sigmoid')(x)\n",
    "\n",
    "# Define the model\n",
    "model = Model(inputs=inputs, outputs=outputs)\n",
    "\n",
    "# Model summary\n",
    "model.summary()"
   ]
  },
  {
   "cell_type": "markdown",
   "metadata": {
    "id": "fk0ic1ojxVgq"
   },
   "source": [
    "## Plotting model"
   ]
  },
  {
   "cell_type": "code",
   "execution_count": 25,
   "metadata": {
    "colab": {
     "base_uri": "https://localhost:8080/",
     "height": 1000
    },
    "id": "5Vq4AWfK2btJ",
    "outputId": "0b1e9c9e-a75b-4765-e0ef-00988e400561"
   },
   "outputs": [],
   "source": [
    "# plot_model(model, show_shapes=True, show_layer_activations=True)"
   ]
  },
  {
   "cell_type": "markdown",
   "metadata": {
    "id": "cfGPCn6qxbCV"
   },
   "source": [
    "## Training Model with train data & Final Evaluatation with test data"
   ]
  },
  {
   "cell_type": "code",
   "execution_count": 26,
   "metadata": {
    "colab": {
     "base_uri": "https://localhost:8080/"
    },
    "id": "WhZa3aCZ2btK",
    "outputId": "75b1e002-5b58-42d8-faa3-fe4e18da7f3a",
    "scrolled": false
   },
   "outputs": [
    {
     "name": "stdout",
     "output_type": "stream",
     "text": [
      "Epoch 1/100\n"
     ]
    },
    {
     "name": "stderr",
     "output_type": "stream",
     "text": [
      "2023-08-15 15:55:24.950647: I tensorflow/compiler/xla/stream_executor/cuda/cuda_dnn.cc:428] Loaded cuDNN version 8101\n",
      "2023-08-15 15:55:26.534539: I tensorflow/compiler/xla/service/service.cc:173] XLA service 0x7f5ed1492710 initialized for platform CUDA (this does not guarantee that XLA will be used). Devices:\n",
      "2023-08-15 15:55:26.534578: I tensorflow/compiler/xla/service/service.cc:181]   StreamExecutor device (0): NVIDIA GeForce RTX 2080, Compute Capability 7.5\n",
      "2023-08-15 15:55:26.534590: I tensorflow/compiler/xla/service/service.cc:181]   StreamExecutor device (1): NVIDIA GeForce RTX 2080, Compute Capability 7.5\n",
      "2023-08-15 15:55:26.541696: I tensorflow/compiler/mlir/tensorflow/utils/dump_mlir_util.cc:268] disabling MLIR crash reproducer, set env var `MLIR_CRASH_REPRODUCER_DIRECTORY` to enable.\n",
      "2023-08-15 15:55:26.714090: I tensorflow/compiler/jit/xla_compilation_cache.cc:477] Compiled cluster using XLA!  This line is logged at most once for the lifetime of the process.\n"
     ]
    },
    {
     "name": "stdout",
     "output_type": "stream",
     "text": [
      "122/122 [==============================] - ETA: 0s - loss: 0.5605 - accuracy: 0.7187\n",
      "Epoch 1: val_accuracy improved from -inf to 0.77273, saving model to 230809_decibel_model.h5\n",
      "122/122 [==============================] - 13s 56ms/step - loss: 0.5605 - accuracy: 0.7187 - val_loss: 0.4949 - val_accuracy: 0.7727\n",
      "Epoch 2/100\n",
      "122/122 [==============================] - ETA: 0s - loss: 0.4710 - accuracy: 0.7854\n",
      "Epoch 2: val_accuracy improved from 0.77273 to 0.79455, saving model to 230809_decibel_model.h5\n",
      "122/122 [==============================] - 3s 27ms/step - loss: 0.4710 - accuracy: 0.7854 - val_loss: 0.4319 - val_accuracy: 0.7945\n",
      "Epoch 3/100\n",
      "122/122 [==============================] - ETA: 0s - loss: 0.4145 - accuracy: 0.8112\n",
      "Epoch 3: val_accuracy improved from 0.79455 to 0.80636, saving model to 230809_decibel_model.h5\n",
      "122/122 [==============================] - 3s 25ms/step - loss: 0.4145 - accuracy: 0.8112 - val_loss: 0.4184 - val_accuracy: 0.8064\n",
      "Epoch 4/100\n",
      "122/122 [==============================] - ETA: 0s - loss: 0.3824 - accuracy: 0.8283\n",
      "Epoch 4: val_accuracy improved from 0.80636 to 0.83455, saving model to 230809_decibel_model.h5\n",
      "122/122 [==============================] - 3s 22ms/step - loss: 0.3824 - accuracy: 0.8283 - val_loss: 0.3714 - val_accuracy: 0.8345\n",
      "Epoch 5/100\n",
      "121/122 [============================>.] - ETA: 0s - loss: 0.3548 - accuracy: 0.8428\n",
      "Epoch 5: val_accuracy improved from 0.83455 to 0.85182, saving model to 230809_decibel_model.h5\n",
      "122/122 [==============================] - 2s 20ms/step - loss: 0.3551 - accuracy: 0.8426 - val_loss: 0.3560 - val_accuracy: 0.8518\n",
      "Epoch 6/100\n",
      "121/122 [============================>.] - ETA: 0s - loss: 0.3418 - accuracy: 0.8488\n",
      "Epoch 6: val_accuracy did not improve from 0.85182\n",
      "122/122 [==============================] - 2s 20ms/step - loss: 0.3417 - accuracy: 0.8487 - val_loss: 0.3797 - val_accuracy: 0.8309\n",
      "Epoch 7/100\n",
      "121/122 [============================>.] - ETA: 0s - loss: 0.3262 - accuracy: 0.8564\n",
      "Epoch 7: val_accuracy did not improve from 0.85182\n",
      "122/122 [==============================] - 2s 20ms/step - loss: 0.3272 - accuracy: 0.8556 - val_loss: 0.3385 - val_accuracy: 0.8491\n",
      "Epoch 8/100\n",
      "121/122 [============================>.] - ETA: 0s - loss: 0.3095 - accuracy: 0.8673\n",
      "Epoch 8: val_accuracy improved from 0.85182 to 0.86273, saving model to 230809_decibel_model.h5\n",
      "122/122 [==============================] - 3s 21ms/step - loss: 0.3091 - accuracy: 0.8674 - val_loss: 0.3231 - val_accuracy: 0.8627\n",
      "Epoch 9/100\n",
      "121/122 [============================>.] - ETA: 0s - loss: 0.2948 - accuracy: 0.8750\n",
      "Epoch 9: val_accuracy did not improve from 0.86273\n",
      "122/122 [==============================] - 2s 20ms/step - loss: 0.2951 - accuracy: 0.8751 - val_loss: 0.3277 - val_accuracy: 0.8518\n",
      "Epoch 10/100\n",
      "121/122 [============================>.] - ETA: 0s - loss: 0.2855 - accuracy: 0.8791\n",
      "Epoch 10: val_accuracy improved from 0.86273 to 0.87455, saving model to 230809_decibel_model.h5\n",
      "122/122 [==============================] - 3s 21ms/step - loss: 0.2854 - accuracy: 0.8791 - val_loss: 0.3169 - val_accuracy: 0.8745\n",
      "Epoch 11/100\n",
      "121/122 [============================>.] - ETA: 0s - loss: 0.2820 - accuracy: 0.8800\n",
      "Epoch 11: val_accuracy did not improve from 0.87455\n",
      "122/122 [==============================] - 2s 20ms/step - loss: 0.2822 - accuracy: 0.8796 - val_loss: 0.3125 - val_accuracy: 0.8627\n",
      "Epoch 12/100\n",
      "121/122 [============================>.] - ETA: 0s - loss: 0.2732 - accuracy: 0.8831\n",
      "Epoch 12: val_accuracy did not improve from 0.87455\n",
      "122/122 [==============================] - 2s 20ms/step - loss: 0.2740 - accuracy: 0.8824 - val_loss: 0.3199 - val_accuracy: 0.8673\n",
      "Epoch 13/100\n",
      "121/122 [============================>.] - ETA: 0s - loss: 0.2633 - accuracy: 0.8914\n",
      "Epoch 13: val_accuracy did not improve from 0.87455\n",
      "122/122 [==============================] - 2s 20ms/step - loss: 0.2626 - accuracy: 0.8915 - val_loss: 0.3050 - val_accuracy: 0.8700\n",
      "Epoch 14/100\n",
      "121/122 [============================>.] - ETA: 0s - loss: 0.2478 - accuracy: 0.8971\n",
      "Epoch 14: val_accuracy did not improve from 0.87455\n",
      "122/122 [==============================] - 2s 20ms/step - loss: 0.2483 - accuracy: 0.8971 - val_loss: 0.3508 - val_accuracy: 0.8527\n",
      "Epoch 15/100\n",
      "121/122 [============================>.] - ETA: 0s - loss: 0.2445 - accuracy: 0.9007\n",
      "Epoch 15: val_accuracy did not improve from 0.87455\n",
      "122/122 [==============================] - 2s 20ms/step - loss: 0.2446 - accuracy: 0.9005 - val_loss: 0.2997 - val_accuracy: 0.8736\n",
      "Epoch 16/100\n",
      "121/122 [============================>.] - ETA: 0s - loss: 0.2279 - accuracy: 0.9072\n",
      "Epoch 16: val_accuracy improved from 0.87455 to 0.87818, saving model to 230809_decibel_model.h5\n",
      "122/122 [==============================] - 2s 20ms/step - loss: 0.2277 - accuracy: 0.9072 - val_loss: 0.3109 - val_accuracy: 0.8782\n",
      "Epoch 17/100\n",
      "121/122 [============================>.] - ETA: 0s - loss: 0.2191 - accuracy: 0.9122\n",
      "Epoch 17: val_accuracy did not improve from 0.87818\n",
      "122/122 [==============================] - 2s 20ms/step - loss: 0.2191 - accuracy: 0.9122 - val_loss: 0.3525 - val_accuracy: 0.8536\n",
      "Epoch 18/100\n",
      "121/122 [============================>.] - ETA: 0s - loss: 0.2202 - accuracy: 0.9090\n",
      "Epoch 18: val_accuracy did not improve from 0.87818\n",
      "122/122 [==============================] - 2s 20ms/step - loss: 0.2198 - accuracy: 0.9092 - val_loss: 0.3038 - val_accuracy: 0.8736\n"
     ]
    }
   ],
   "source": [
    "# EarlyStopping callback\n",
    "early_stopping = EarlyStopping(monitor='val_loss', patience=3, mode='auto')\n",
    "\n",
    "# ModelCheckpoint callback\n",
    "model_checkpoint = ModelCheckpoint(\n",
    "    '230809_decibel_model.h5',  # Path where to save the model\n",
    "    monitor='val_accuracy',  # The metric to monitor\n",
    "    verbose=1,  # Log info\n",
    "    save_best_only=True,  # Only save the best model\n",
    "    mode='max',  # Maximize val_accuracy\n",
    "    overwrite=True\n",
    ")\n",
    "\n",
    "callbacks = [early_stopping, model_checkpoint]\n",
    "\n",
    "# Compile the model\n",
    "model.compile(optimizer=Adam(), loss='binary_crossentropy', metrics=['accuracy'])\n",
    "\n",
    "# Fit the model\n",
    "history = model.fit(x_train_dB, y_train_dB,\n",
    "                    validation_data=(x_val_dB, y_val_dB),\n",
    "                    epochs=100, batch_size=64,\n",
    "                    callbacks=callbacks) # Add the callbacks to the model fit method\n"
   ]
  },
  {
   "cell_type": "markdown",
   "metadata": {
    "id": "E_14E_phmGXf"
   },
   "source": [
    "## Plot Accuracy & Loss of train, validation data"
   ]
  },
  {
   "cell_type": "code",
   "execution_count": 27,
   "metadata": {
    "colab": {
     "base_uri": "https://localhost:8080/",
     "height": 432
    },
    "id": "YO2zQmRYmCPV",
    "outputId": "fe185e95-c520-474d-ba05-0ff5ee243e76"
   },
   "outputs": [
    {
     "data": {
      "image/png": "[encoded data removed]",
      "text/plain": [
       "<Figure size 1200x500 with 2 Axes>"
      ]
     },
     "metadata": {},
     "output_type": "display_data"
    }
   ],
   "source": [
    "# seaborn 스타일 설정\n",
    "sns.set()\n",
    "\n",
    "# 그림 생성\n",
    "plt.figure(figsize=(12,5))\n",
    "\n",
    "# 훈련 및 검증 정확도 그리기\n",
    "plt.subplot(1,2,1)\n",
    "plt.plot(history.history['accuracy'])\n",
    "plt.plot(history.history['val_accuracy'])\n",
    "plt.title('Model Accuracy')\n",
    "plt.ylabel('Accuracy')\n",
    "plt.xlabel('Epoch')\n",
    "plt.legend(['Train', 'Validation'], loc='upper left')\n",
    "\n",
    "# 훈련 및 검증 손실 값 그리기\n",
    "plt.subplot(1,2,2)\n",
    "plt.plot(history.history['loss'])\n",
    "plt.plot(history.history['val_loss'])\n",
    "plt.title('Model Loss')\n",
    "plt.ylabel('Loss')\n",
    "plt.xlabel('Epoch')\n",
    "plt.legend(['Train', 'Validation'], loc='upper left')\n",
    "\n",
    "plt.tight_layout()\n",
    "plt.show()\n"
   ]
  },
  {
   "cell_type": "markdown",
   "metadata": {
    "id": "gGrkSpJO7RRA"
   },
   "source": [
    "## Best val accuracy model로 final evaluate"
   ]
  },
  {
   "cell_type": "code",
   "execution_count": 28,
   "metadata": {
    "colab": {
     "base_uri": "https://localhost:8080/"
    },
    "id": "G_PNWCN77Qbe",
    "outputId": "0f736b68-a371-4bcf-fb24-7e51c22ff17d"
   },
   "outputs": [
    {
     "name": "stdout",
     "output_type": "stream",
     "text": [
      "35/35 [==============================] - 1s 8ms/step - loss: 0.3119 - accuracy: 0.8573\n",
      "Test Loss: 0.31190556287765503\n",
      "Test Accuracy: 0.857272744178772\n"
     ]
    }
   ],
   "source": [
    "from tensorflow.keras.models import load_model\n",
    "\n",
    "# Load the saved model\n",
    "model_best = load_model('230809_decibel_model.h5')\n",
    "\n",
    "# Evaluate the model using test data\n",
    "test_loss, test_accuracy = model_best.evaluate(x_test_dB, y_test_dB)\n",
    "\n",
    "print(f'Test Loss: {test_loss}')\n",
    "print(f'Test Accuracy: {test_accuracy}')\n"
   ]
  },
  {
   "cell_type": "markdown",
   "metadata": {
    "id": "CRRZXjEM2btK"
   },
   "source": [
    "## draw confusion matrix"
   ]
  },
  {
   "cell_type": "code",
   "execution_count": 29,
   "metadata": {
    "colab": {
     "base_uri": "https://localhost:8080/",
     "height": 546
    },
    "id": "LpJ2dcXB2btL",
    "outputId": "379bfb0b-e190-4388-c37a-79a0377f5629"
   },
   "outputs": [
    {
     "name": "stdout",
     "output_type": "stream",
     "text": [
      "35/35 [==============================] - 0s 6ms/step\n"
     ]
    },
    {
     "data": {
      "image/png": "[encoded data removed]",
      "text/plain": [
       "<Figure size 1000x700 with 2 Axes>"
      ]
     },
     "metadata": {},
     "output_type": "display_data"
    }
   ],
   "source": [
    "import numpy as np\n",
    "from sklearn.metrics import confusion_matrix\n",
    "import seaborn as sns\n",
    "import matplotlib.pyplot as plt\n",
    "import pandas as pd\n",
    "\n",
    "# Assuming model is your trained model and X_test and y_test are your test data and labels:\n",
    "y_pred = model_best.predict(x_test_dB)\n",
    "y_pred = np.round(y_pred).flatten()  # flatten and round predictions to match label format\n",
    "\n",
    "# Calculate the confusion matrix\n",
    "cm = confusion_matrix(y_test_dB, y_pred)\n",
    "\n",
    "# Create a DataFrame from the confusion matrix\n",
    "# negative = 0 ; 보이스피싱범, positive = 1 ; 상담원\n",
    "cm_df = pd.DataFrame(cm, index=['Negative', 'Positive'], columns=['Negative', 'Positive'])\n",
    "\n",
    "# Plot confusion matrix\n",
    "plt.figure(figsize=(10, 7))\n",
    "sns.heatmap(cm_df, annot=True, fmt='d', cmap='Blues')  # 'd' stands for integer formatting\n",
    "plt.title('Confusion Matrix')\n",
    "plt.ylabel('True label')\n",
    "plt.xlabel('Predicted label')\n",
    "plt.show()\n"
   ]
  },
  {
   "cell_type": "markdown",
   "metadata": {
    "id": "fsnzFLOoGjBV"
   },
   "source": [
    " - True Negative (왼쪽 위 셀): 보이스피싱이라고 예측하고 실제로 보이스피싱인 경우\n",
    " - False Positive (오른쪽 위 셀): 일반 상담이라고 예측하였지만 실제로는 보이스피싱인 경우\n",
    " - False Negative (왼쪽 아래 셀): 보이스피싱이라고 예측하였지만 실제로는 일반 상담인 경우\n",
    " - True Positive (오른쪽 아래 셀): 일반 상담이라고 예측하고 실제로 일반 상담인 경우"
   ]
  },
  {
   "cell_type": "markdown",
   "metadata": {
    "id": "yCXAYKoBBYQG"
   },
   "source": [
    "## 불러온 모델로 새로운 data에 대한 predict"
   ]
  },
  {
   "cell_type": "code",
   "execution_count": 30,
   "metadata": {
    "id": "6MfYIoNwFCeu"
   },
   "outputs": [
    {
     "name": "stdout",
     "output_type": "stream",
     "text": [
      "Model: \"model\"\n",
      "_________________________________________________________________\n",
      " Layer (type)                Output Shape              Param #   \n",
      "=================================================================\n",
      " input_1 (InputLayer)        [(None, 157, 1)]          0         \n",
      "                                                                 \n",
      " normalization (Normalizatio  (None, 157, 1)           315       \n",
      " n)                                                              \n",
      "                                                                 \n",
      " Conv1D_1 (Conv1D)           (None, 157, 32)           128       \n",
      "                                                                 \n",
      " Conv1D_2 (Conv1D)           (None, 157, 64)           6208      \n",
      "                                                                 \n",
      " Conv1D_3 (Conv1D)           (None, 157, 128)          24704     \n",
      "                                                                 \n",
      " Conv1D_4 (Conv1D)           (None, 157, 128)          49280     \n",
      "                                                                 \n",
      " Conv1D_5 (Conv1D)           (None, 157, 256)          98560     \n",
      "                                                                 \n",
      " Conv1D_6 (Conv1D)           (None, 157, 512)          393728    \n",
      "                                                                 \n",
      " global_average_pooling1d (G  (None, 512)              0         \n",
      " lobalAveragePooling1D)                                          \n",
      "                                                                 \n",
      " dense (Dense)               (None, 32)                16416     \n",
      "                                                                 \n",
      " dense_1 (Dense)             (None, 1)                 33        \n",
      "                                                                 \n",
      "=================================================================\n",
      "Total params: 589,372\n",
      "Trainable params: 589,057\n",
      "Non-trainable params: 315\n",
      "_________________________________________________________________\n",
      "Input Shape: [(None, 157, 1)]\n",
      "Input Data Type: float32\n"
     ]
    }
   ],
   "source": [
    "# Load the saved model\n",
    "model_best = load_model('230809_decibel_model.h5')\n",
    "\n",
    "# 모델의 모든 레이어에 대한 정보를 출력합니다.\n",
    "model_best.summary()\n",
    "\n",
    "# 모델의 첫 번째 입력 레이어의 형상과 데이터 형식을 확인합니다.\n",
    "input_shape = model_best.layers[0].input_shape\n",
    "input_dtype = model_best.layers[0].dtype\n",
    "\n",
    "print(\"Input Shape:\", input_shape)\n",
    "print(\"Input Data Type:\", input_dtype)\n"
   ]
  },
  {
   "cell_type": "markdown",
   "metadata": {},
   "source": [
    "## Real world data loading"
   ]
  },
  {
   "cell_type": "code",
   "execution_count": 31,
   "metadata": {},
   "outputs": [],
   "source": [
    "import zipfile\n",
    "\n",
    "zip_path_jisoo_vp_dB = './jisoo_vp_dB.zip'\n",
    "dir_path_jisoo_vp_dB = './jisoo_vp_dB'\n",
    "\n",
    "with zipfile.ZipFile(zip_path_jisoo_vp_dB, 'r') as zip_ref:\n",
    "    zip_ref.extractall(dir_path_jisoo_vp_dB)"
   ]
  },
  {
   "cell_type": "code",
   "execution_count": 32,
   "metadata": {},
   "outputs": [
    {
     "name": "stdout",
     "output_type": "stream",
     "text": [
      "['jisoo_dB (17).npy', 'jisoo_dB (48).npy', 'jisoo_dB (43).npy', 'jisoo_dB (45).npy', 'jisoo_dB (23).npy', 'jisoo_dB (35).npy', 'jisoo_dB (8).npy', 'jisoo_dB (31).npy', 'jisoo_dB (29).npy', 'jisoo_dB (42).npy', 'jisoo_dB (14).npy', 'jisoo_dB (55).npy', 'jisoo_dB (39).npy', 'jisoo_dB (15).npy', 'jisoo_dB (24).npy', 'jisoo_dB (3).npy', 'jisoo_dB (37).npy', 'jisoo_dB (36).npy', 'jisoo_dB (1).npy', 'jisoo_dB (16).npy', 'jisoo_dB (38).npy', 'jisoo_dB (12).npy', 'jisoo_dB (4).npy', 'jisoo_dB (9).npy', 'jisoo_dB (44).npy', 'jisoo_dB (33).npy', 'jisoo_dB (13).npy', 'jisoo_dB (5).npy', 'jisoo_dB (18).npy', 'jisoo_dB (21).npy', 'jisoo_dB (41).npy', 'jisoo_dB (54).npy', 'jisoo_dB (52).npy', 'jisoo_dB (34).npy', 'jisoo_dB (19).npy', 'jisoo_dB (50).npy', 'jisoo_dB (2).npy', 'jisoo_dB (56).npy', 'jisoo_dB (20).npy', 'jisoo_dB (30).npy', 'jisoo_dB (53).npy', 'jisoo_dB (26).npy', 'jisoo_dB (10).npy', 'jisoo_dB (7).npy', 'jisoo_dB (27).npy', 'jisoo_dB (25).npy', 'jisoo_dB (49).npy', 'jisoo_dB (51).npy', 'jisoo_dB (22).npy', 'jisoo_dB (6).npy', 'jisoo_dB (40).npy', 'jisoo_dB (32).npy', 'jisoo_dB (57).npy', 'jisoo_dB (47).npy', 'jisoo_dB (28).npy', 'jisoo_dB (46).npy', 'jisoo_dB (11).npy']\n",
      "57\n"
     ]
    }
   ],
   "source": [
    "import os\n",
    "import numpy as np\n",
    "\n",
    "# test set upload\n",
    "path = './jisoo_vp_dB/' #본인이 확인하고 싶은 데이터가 들어있는 폴더를 적어주세요\n",
    "file_list = os.listdir(path)\n",
    "file_list_pitch = [file for file in file_list if file.endswith('.npy')] \n",
    "print(file_list_pitch)\n",
    "print(len(file_list_pitch))"
   ]
  },
  {
   "cell_type": "markdown",
   "metadata": {
    "id": "QUhhgOhWvrvo"
   },
   "source": [
    "## Predictions for chunks and save label to the list"
   ]
  },
  {
   "cell_type": "code",
   "execution_count": 33,
   "metadata": {
    "id": "r24PwarEugjk",
    "scrolled": true
   },
   "outputs": [
    {
     "name": "stdout",
     "output_type": "stream",
     "text": [
      "\n",
      "=== Predictions ===\n",
      "\n",
      "2/2 [==============================] - 0s 142ms/step\n",
      "=== File 1 ===\n",
      "Class 0 Probability: 0.98503603320568799973\n",
      "Class 1 Probability: 0.01496396679431200027\n",
      "Predicted Label: 0\n",
      "=============================\n",
      "\n",
      "=== File 2 ===\n",
      "Class 0 Probability: 0.95743359625339508057\n",
      "Class 1 Probability: 0.04256640374660491943\n",
      "Predicted Label: 0\n",
      "=============================\n",
      "\n",
      "=== File 3 ===\n",
      "Class 0 Probability: 0.82289417088031768799\n",
      "Class 1 Probability: 0.17710582911968231201\n",
      "Predicted Label: 0\n",
      "=============================\n",
      "\n",
      "=== File 4 ===\n",
      "Class 0 Probability: 0.91583690792322158813\n",
      "Class 1 Probability: 0.08416309207677841187\n",
      "Predicted Label: 0\n",
      "=============================\n",
      "\n",
      "=== File 5 ===\n",
      "Class 0 Probability: 0.99863673688378185034\n",
      "Class 1 Probability: 0.00136326311621814966\n",
      "Predicted Label: 0\n",
      "=============================\n",
      "\n",
      "=== File 6 ===\n",
      "Class 0 Probability: 0.91391777992248535156\n",
      "Class 1 Probability: 0.08608222007751464844\n",
      "Predicted Label: 0\n",
      "=============================\n",
      "\n",
      "=== File 7 ===\n",
      "Class 0 Probability: 0.96315504610538482666\n",
      "Class 1 Probability: 0.03684495389461517334\n",
      "Predicted Label: 0\n",
      "=============================\n",
      "\n",
      "=== File 8 ===\n",
      "Class 0 Probability: 0.94224091619253158569\n",
      "Class 1 Probability: 0.05775908380746841431\n",
      "Predicted Label: 0\n",
      "=============================\n",
      "\n",
      "=== File 9 ===\n",
      "Class 0 Probability: 0.99810324504505842924\n",
      "Class 1 Probability: 0.00189675495494157076\n",
      "Predicted Label: 0\n",
      "=============================\n",
      "\n",
      "=== File 10 ===\n",
      "Class 0 Probability: 0.90368660539388656616\n",
      "Class 1 Probability: 0.09631339460611343384\n",
      "Predicted Label: 0\n",
      "=============================\n",
      "\n",
      "=== File 11 ===\n",
      "Class 0 Probability: 0.96676243096590042114\n",
      "Class 1 Probability: 0.03323756903409957886\n",
      "Predicted Label: 0\n",
      "=============================\n",
      "\n",
      "=== File 12 ===\n",
      "Class 0 Probability: 0.97353039868175983429\n",
      "Class 1 Probability: 0.02646960131824016571\n",
      "Predicted Label: 0\n",
      "=============================\n",
      "\n",
      "=== File 13 ===\n",
      "Class 0 Probability: 0.83422243595123291016\n",
      "Class 1 Probability: 0.16577756404876708984\n",
      "Predicted Label: 0\n",
      "=============================\n",
      "\n",
      "=== File 14 ===\n",
      "Class 0 Probability: 0.98517140932381153107\n",
      "Class 1 Probability: 0.01482859067618846893\n",
      "Predicted Label: 0\n",
      "=============================\n",
      "\n",
      "=== File 15 ===\n",
      "Class 0 Probability: 0.99535680981352925301\n",
      "Class 1 Probability: 0.00464319018647074699\n",
      "Predicted Label: 0\n",
      "=============================\n",
      "\n",
      "=== File 16 ===\n",
      "Class 0 Probability: 0.99437443958595395088\n",
      "Class 1 Probability: 0.00562556041404604912\n",
      "Predicted Label: 0\n",
      "=============================\n",
      "\n",
      "=== File 17 ===\n",
      "Class 0 Probability: 0.97862917743623256683\n",
      "Class 1 Probability: 0.02137082256376743317\n",
      "Predicted Label: 0\n",
      "=============================\n",
      "\n",
      "=== File 18 ===\n",
      "Class 0 Probability: 0.92108774930238723755\n",
      "Class 1 Probability: 0.07891225069761276245\n",
      "Predicted Label: 0\n",
      "=============================\n",
      "\n",
      "=== File 19 ===\n",
      "Class 0 Probability: 0.94618604332208633423\n",
      "Class 1 Probability: 0.05381395667791366577\n",
      "Predicted Label: 0\n",
      "=============================\n",
      "\n",
      "=== File 20 ===\n",
      "Class 0 Probability: 0.99199672229588031769\n",
      "Class 1 Probability: 0.00800327770411968231\n",
      "Predicted Label: 0\n",
      "=============================\n",
      "\n",
      "=== File 21 ===\n",
      "Class 0 Probability: 0.99699077825061976910\n",
      "Class 1 Probability: 0.00300922174938023090\n",
      "Predicted Label: 0\n",
      "=============================\n",
      "\n",
      "=== File 22 ===\n",
      "Class 0 Probability: 0.96251821145415306091\n",
      "Class 1 Probability: 0.03748178854584693909\n",
      "Predicted Label: 0\n",
      "=============================\n",
      "\n",
      "=== File 23 ===\n",
      "Class 0 Probability: 0.99761823401786386967\n",
      "Class 1 Probability: 0.00238176598213613033\n",
      "Predicted Label: 0\n",
      "=============================\n",
      "\n",
      "=== File 24 ===\n",
      "Class 0 Probability: 0.98588977754116058350\n",
      "Class 1 Probability: 0.01411022245883941650\n",
      "Predicted Label: 0\n",
      "=============================\n",
      "\n",
      "=== File 25 ===\n",
      "Class 0 Probability: 0.91739958524703979492\n",
      "Class 1 Probability: 0.08260041475296020508\n",
      "Predicted Label: 0\n",
      "=============================\n",
      "\n",
      "=== File 26 ===\n",
      "Class 0 Probability: 0.99811482510995119810\n",
      "Class 1 Probability: 0.00188517489004880190\n",
      "Predicted Label: 0\n",
      "=============================\n",
      "\n",
      "=== File 27 ===\n",
      "Class 0 Probability: 0.43001937866210937500\n",
      "Class 1 Probability: 0.56998062133789062500\n",
      "Predicted Label: 1\n",
      "=============================\n",
      "\n",
      "=== File 28 ===\n",
      "Class 0 Probability: 0.98152007721364498138\n",
      "Class 1 Probability: 0.01847992278635501862\n",
      "Predicted Label: 0\n",
      "=============================\n",
      "\n",
      "=== File 29 ===\n",
      "Class 0 Probability: 0.81562165915966033936\n",
      "Class 1 Probability: 0.18437834084033966064\n",
      "Predicted Label: 0\n",
      "=============================\n",
      "\n",
      "=== File 30 ===\n",
      "Class 0 Probability: 0.91428950428962707520\n",
      "Class 1 Probability: 0.08571049571037292480\n",
      "Predicted Label: 0\n",
      "=============================\n",
      "\n",
      "=== File 31 ===\n",
      "Class 0 Probability: 0.96742242574691772461\n",
      "Class 1 Probability: 0.03257757425308227539\n",
      "Predicted Label: 0\n",
      "=============================\n",
      "\n",
      "=== File 32 ===\n",
      "Class 0 Probability: 0.99934935214696452022\n",
      "Class 1 Probability: 0.00065064785303547978\n",
      "Predicted Label: 0\n",
      "=============================\n",
      "\n",
      "=== File 33 ===\n",
      "Class 0 Probability: 0.96701006591320037842\n",
      "Class 1 Probability: 0.03298993408679962158\n",
      "Predicted Label: 0\n",
      "=============================\n",
      "\n",
      "=== File 34 ===\n",
      "Class 0 Probability: 0.99958842704654671252\n",
      "Class 1 Probability: 0.00041157295345328748\n",
      "Predicted Label: 0\n",
      "=============================\n",
      "\n",
      "=== File 35 ===\n",
      "Class 0 Probability: 0.98199324868619441986\n",
      "Class 1 Probability: 0.01800675131380558014\n",
      "Predicted Label: 0\n",
      "=============================\n",
      "\n",
      "=== File 36 ===\n",
      "Class 0 Probability: 0.78629218041896820068\n",
      "Class 1 Probability: 0.21370781958103179932\n",
      "Predicted Label: 0\n",
      "=============================\n",
      "\n",
      "=== File 37 ===\n",
      "Class 0 Probability: 0.97880669496953487396\n",
      "Class 1 Probability: 0.02119330503046512604\n",
      "Predicted Label: 0\n",
      "=============================\n",
      "\n",
      "=== File 38 ===\n",
      "Class 0 Probability: 0.99835072120185941458\n",
      "Class 1 Probability: 0.00164927879814058542\n",
      "Predicted Label: 0\n",
      "=============================\n",
      "\n",
      "=== File 39 ===\n",
      "Class 0 Probability: 0.99826399888843297958\n",
      "Class 1 Probability: 0.00173600111156702042\n",
      "Predicted Label: 0\n",
      "=============================\n",
      "\n",
      "=== File 40 ===\n",
      "Class 0 Probability: 0.99684533849358558655\n",
      "Class 1 Probability: 0.00315466150641441345\n",
      "Predicted Label: 0\n",
      "=============================\n",
      "\n",
      "=== File 41 ===\n",
      "Class 0 Probability: 0.99767277366481721401\n",
      "Class 1 Probability: 0.00232722633518278599\n",
      "Predicted Label: 0\n",
      "=============================\n",
      "\n",
      "=== File 42 ===\n",
      "Class 0 Probability: 0.98499207664281129837\n",
      "Class 1 Probability: 0.01500792335718870163\n",
      "Predicted Label: 0\n",
      "=============================\n",
      "\n",
      "=== File 43 ===\n",
      "Class 0 Probability: 0.99863409739919006824\n",
      "Class 1 Probability: 0.00136590260080993176\n",
      "Predicted Label: 0\n",
      "=============================\n",
      "\n",
      "=== File 44 ===\n",
      "Class 0 Probability: 0.99346872605383396149\n",
      "Class 1 Probability: 0.00653127394616603851\n",
      "Predicted Label: 0\n",
      "=============================\n",
      "\n",
      "=== File 45 ===\n",
      "Class 0 Probability: 0.99974926927825435996\n",
      "Class 1 Probability: 0.00025073072174564004\n",
      "Predicted Label: 0\n",
      "=============================\n",
      "\n",
      "=== File 46 ===\n",
      "Class 0 Probability: 0.98467096872627735138\n",
      "Class 1 Probability: 0.01532903127372264862\n",
      "Predicted Label: 0\n",
      "=============================\n",
      "\n",
      "=== File 47 ===\n",
      "Class 0 Probability: 0.99250786891207098961\n",
      "Class 1 Probability: 0.00749213108792901039\n",
      "Predicted Label: 0\n",
      "=============================\n",
      "\n",
      "=== File 48 ===\n",
      "Class 0 Probability: 0.99771601264365017414\n",
      "Class 1 Probability: 0.00228398735634982586\n",
      "Predicted Label: 0\n",
      "=============================\n",
      "\n",
      "=== File 49 ===\n",
      "Class 0 Probability: 0.99900049692951142788\n",
      "Class 1 Probability: 0.00099950307048857212\n",
      "Predicted Label: 0\n",
      "=============================\n",
      "\n",
      "=== File 50 ===\n",
      "Class 0 Probability: 0.96492581814527511597\n",
      "Class 1 Probability: 0.03507418185472488403\n",
      "Predicted Label: 0\n",
      "=============================\n",
      "\n",
      "=== File 51 ===\n",
      "Class 0 Probability: 0.99522127537056803703\n",
      "Class 1 Probability: 0.00477872462943196297\n",
      "Predicted Label: 0\n",
      "=============================\n",
      "\n",
      "=== File 52 ===\n",
      "Class 0 Probability: 0.99913244409253820777\n",
      "Class 1 Probability: 0.00086755590746179223\n",
      "Predicted Label: 0\n",
      "=============================\n",
      "\n",
      "=== File 53 ===\n",
      "Class 0 Probability: 0.96114097163081169128\n",
      "Class 1 Probability: 0.03885902836918830872\n",
      "Predicted Label: 0\n",
      "=============================\n",
      "\n",
      "=== File 54 ===\n",
      "Class 0 Probability: 0.99158114846795797348\n",
      "Class 1 Probability: 0.00841885153204202652\n",
      "Predicted Label: 0\n",
      "=============================\n",
      "\n",
      "=== File 55 ===\n",
      "Class 0 Probability: 0.99166738148778676987\n",
      "Class 1 Probability: 0.00833261851221323013\n",
      "Predicted Label: 0\n",
      "=============================\n",
      "\n",
      "=== File 56 ===\n",
      "Class 0 Probability: 0.99934315943391993642\n",
      "Class 1 Probability: 0.00065684056608006358\n",
      "Predicted Label: 0\n",
      "=============================\n",
      "\n",
      "=== File 57 ===\n",
      "Class 0 Probability: 0.99327117204666137695\n",
      "Class 1 Probability: 0.00672882795333862305\n",
      "Predicted Label: 0\n",
      "=============================\n",
      "\n",
      "Predicted Labels List: [0, 0, 0, 0, 0, 0, 0, 0, 0, 0, 0, 0, 0, 0, 0, 0, 0, 0, 0, 0, 0, 0, 0, 0, 0, 0, 1, 0, 0, 0, 0, 0, 0, 0, 0, 0, 0, 0, 0, 0, 0, 0, 0, 0, 0, 0, 0, 0, 0, 0, 0, 0, 0, 0, 0, 0, 0]\n"
     ]
    }
   ],
   "source": [
    "import numpy as np\n",
    "\n",
    "def preprocess_files(file_list_pitch):\n",
    "    reshaped_files = []\n",
    "    for file in file_list_pitch:\n",
    "        data = np.load(path + file)\n",
    "        reshaped_data = data.reshape(1, 157, 1)\n",
    "        reshaped_files.append(reshaped_data)\n",
    "    return np.vstack(reshaped_files).astype('float32')\n",
    "\n",
    "def predict_with_model(model_best, file_list_pitch):\n",
    "    data = preprocess_files(file_list_pitch)\n",
    "    probabilities = model_best.predict(data)\n",
    "    # 확률이 0.5 이상이면 1, 0.5 미만이면 0\n",
    "    labels = [1 if prob[0] >= 0.5 else 0 for prob in probabilities]\n",
    "\n",
    "    for idx, probability in enumerate(probabilities):\n",
    "        class_0_prob = 1 - probability[0]\n",
    "        class_1_prob = probability[0]\n",
    "        \n",
    "        print(f\"=== File {idx+1} ===\")\n",
    "        print(f\"Class 0 Probability: {class_0_prob:.20f}\")\n",
    "        print(f\"Class 1 Probability: {class_1_prob:.20f}\")\n",
    "        print(\"Predicted Label:\", labels[idx])\n",
    "        print(\"=============================\\n\")\n",
    "\n",
    "    return probabilities, labels\n",
    "\n",
    "# Define model_best and file_list_pitch appropriately before calling predict_with_model\n",
    "\n",
    "print(\"\\n=== Predictions ===\\n\")\n",
    "predictions, labels = predict_with_model(model_best, file_list_pitch)\n",
    "print(\"Predicted Labels List:\", labels)\n"
   ]
  }
 ],
 "metadata": {
  "accelerator": "GPU",
  "colab": {
   "collapsed_sections": [
    "HQ3Jqjfb6edH",
    "8d04zCg62btH"
   ],
   "gpuType": "T4",
   "provenance": []
  },
  "kernelspec": {
   "display_name": "mldl_keras",
   "language": "python",
   "name": "mldl_keras"
  },
  "language_info": {
   "codemirror_mode": {
    "name": "ipython",
    "version": 3
   },
   "file_extension": ".py",
   "mimetype": "text/x-python",
   "name": "python",
   "nbconvert_exporter": "python",
   "pygments_lexer": "ipython3",
   "version": "3.8.17"
  }
 },
 "nbformat": 4,
 "nbformat_minor": 1
}
