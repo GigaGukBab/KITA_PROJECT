{
 "cells": [
  {
   "cell_type": "markdown",
   "id": "480a693b",
   "metadata": {},
   "source": [
    "# **CSV 파일에 있는 경로로 파일 복사**"
   ]
  },
  {
   "cell_type": "code",
   "execution_count": null,
   "id": "8882a1f9",
   "metadata": {
    "scrolled": true
   },
   "outputs": [],
   "source": [
    "import pandas as pd\n",
    "import shutil\n",
    "import os\n",
    "import glob\n",
    "\n",
    "# 작업 경로 설정\n",
    "base_path = \"C:\\\\Users\\\\user\\\\Jinwoo\"\n",
    "\n",
    "# 복사할 폴더 생성 (이미 존재한다면 패스)\n",
    "audio_dest_folder = os.path.join(base_path, 'audioMenCounsel')\n",
    "text_dest_folder = os.path.join(base_path, 'textMenCounsel')\n",
    "csv_file_folder_path = 'C:\\\\Users\\\\user\\\\Jinwoo\\\\men_counselar_path'\n",
    "\n",
    "if not os.path.exists(audio_dest_folder):\n",
    "    os.makedirs(audio_dest_folder)\n",
    "\n",
    "if not os.path.exists(text_dest_folder):\n",
    "    os.makedirs(text_dest_folder)\n",
    "\n",
    "# 작업 경로 내의 모든 CSV 파일을 순회\n",
    "for csv_file in glob.glob(os.path.join(csv_file_folder_path, '*.csv')):\n",
    "    # CSV 파일의 이름을 가져옴 (확장자 제외)\n",
    "    csv_name = os.path.splitext(os.path.basename(csv_file))[0]\n",
    "    \n",
    "    try:\n",
    "        # CSV 파일을 'utf-8-sig' 인코딩으로 읽기\n",
    "        df = pd.read_csv(csv_file, encoding='utf-8-sig')\n",
    "    except UnicodeDecodeError:\n",
    "        print(f\"{csv_file} 파일을 읽는 중 인코딩 오류 발생.\")\n",
    "        continue\n",
    "\n",
    "    # 'audioPath'와 'textPath' 컬럼이 존재하는지 확인\n",
    "    if 'audioPath' in df.columns and 'textPath' in df.columns:\n",
    "        # 각 행을 순회하며 파일 복사\n",
    "        for index, row in df.iterrows():\n",
    "            try:\n",
    "                # 오디오 파일 복사\n",
    "                audio_dest_path = os.path.join(audio_dest_folder, csv_name + \"_\" + os.path.basename(row['audioPath']))\n",
    "                shutil.copy(row['audioPath'], audio_dest_path)\n",
    "            except FileNotFoundError:\n",
    "                print(f\"오디오 파일 {row['audioPath']}를 찾을 수 없습니다.\")\n",
    "            \n",
    "            try:\n",
    "                # 텍스트 파일 복사\n",
    "                text_dest_path = os.path.join(text_dest_folder, csv_name + \"_\" + os.path.basename(row['textPath']))\n",
    "                shutil.copy(row['textPath'], text_dest_path)\n",
    "            except FileNotFoundError:\n",
    "                print(f\"텍스트 파일 {row['textPath']}를 찾을 수 없습니다.\")\n",
    "    else:\n",
    "        print(f\"{csv_file}에 필요한 컬럼이 없습니다.\")\n",
    "\n",
    "print(\"모든 파일이 복사되었습니다!\")\n"
   ]
  }
 ],
 "metadata": {
  "kernelspec": {
   "display_name": "Python (myenv)",
   "language": "python",
   "name": "myenv"
  },
  "language_info": {
   "codemirror_mode": {
    "name": "ipython",
    "version": 3
   },
   "file_extension": ".py",
   "mimetype": "text/x-python",
   "name": "python",
   "nbconvert_exporter": "python",
   "pygments_lexer": "ipython3",
   "version": "3.7.16"
  }
 },
 "nbformat": 4,
 "nbformat_minor": 5
}
