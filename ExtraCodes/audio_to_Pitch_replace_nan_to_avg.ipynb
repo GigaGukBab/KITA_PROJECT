{
 "cells": [
  {
   "cell_type": "markdown",
   "id": "eda946c8",
   "metadata": {
    "id": "eda946c8"
   },
   "source": [
    "# [주의] 로컬 쥬피터에서 실행 후 데이터 c 드라이브에서 바로 추출하기\n",
    "### 1. errorLogPath(제대로 변환 안 된 파일 확인), path(5초 input data 있는 곳), folder(파일저장) 확인하기\n",
    "### 2. 실행 후 쥬피터에서 errorlog에 쓰여진 파일 있으면 파일 추출하지 말고 지수한테 말하기"
   ]
  },
  {
   "cell_type": "code",
   "execution_count": null,
   "id": "7124a56b",
   "metadata": {
    "id": "7124a56b",
    "scrolled": false
   },
   "outputs": [],
   "source": [
    "import librosa\n",
    "import os\n",
    "import numpy as np\n",
    "\n",
    "# Load the audio file using librosa\n",
    "errorLogPath = \"testpitch_error_log.txt\"\n",
    "path = './test/' # path = './파일 있는 경로/'\n",
    "file_list = os.listdir(path)\n",
    "file_list_wav = [file for file in file_list if file.endswith('.wav')]\n",
    "i=1 ; folder_num = 0\n",
    "error_log = []\n",
    "\n",
    "for filename in file_list_wav :\n",
    "    audio_data, sr = librosa.load(path + filename, sr = 16000)\n",
    "\n",
    "# Extract the fundamental frequency using the Yin algorithm\n",
    "    fundamental_frequency, voiced_flag, voiced_probs = librosa.pyin(audio_data, fmin=librosa.note_to_hz('C2'), fmax=librosa.note_to_hz('C7'))\n",
    "    times = librosa.times_like(fundamental_frequency, sr=sr)\n",
    "    data = fundamental_frequency\n",
    "\n",
    "\n",
    "    NAN = False ; B_num = 0 ; NUN_array = [] ; data2 = []\n",
    "    for i in range (len(data)) :\n",
    "\n",
    "        if NAN == False and not np.isnan(data[i]): #not_nun\n",
    "            B_index = i\n",
    "            B_num = data[i]\n",
    "\n",
    "        elif np.isnan(data[i]) and NAN == False :  #nun_starting point\n",
    "\n",
    "            if i == len(data) -1 : # only 1 nan\n",
    "                data[i] = B_num / 2\n",
    "\n",
    "            NAN = True\n",
    "            B_nan = i\n",
    "\n",
    "        elif not np.isnan(data[i]) and NAN == True : #nun_ending point\n",
    "            avg = (B_num + data[i]) / 2\n",
    "            for j in range (B_nan, i) :\n",
    "                data[j] = avg\n",
    "            NAN = False\n",
    "            B_index = i ; B_num = data[i]\n",
    "\n",
    "        elif np.isnan(data[i]) and i == len(data) - 1 : #nun_ending with data_ending\n",
    "            avg = B_num / 2\n",
    "            for j in range (B_nan, i+1) :\n",
    "                data[j] = avg\n",
    "\n",
    "\n",
    "\n",
    "#     data = {'time': times,  'fundamental_frequency': fundamental_frequency}\n",
    "\n",
    "    folder = './PITCH_test/'\n",
    "    file_path = folder  + str(folder_num)\n",
    "    folder_num += 1\n",
    "    np.save(file_path, data)\n",
    "\n",
    "\n",
    "    if True in (np.isnan(np.load(file_path + '.npy'))) :\n",
    "        error_log.append(filename)\n",
    "\n",
    "\n",
    "# 파일 이름 넣기\n",
    "with open(errorLogPath, \"w\") as f:\n",
    "    for filename in error_log:\n",
    "        f.write(f\"{filename}\\n\")"
   ]
  },
  {
   "cell_type": "code",
   "execution_count": null,
   "id": "fe93a075",
   "metadata": {
    "id": "fe93a075"
   },
   "outputs": [],
   "source": []
  }
 ],
 "metadata": {
  "colab": {
   "provenance": []
  },
  "kernelspec": {
   "display_name": "Python 3 (ipykernel)",
   "language": "python",
   "name": "python3"
  },
  "language_info": {
   "codemirror_mode": {
    "name": "ipython",
    "version": 3
   },
   "file_extension": ".py",
   "mimetype": "text/x-python",
   "name": "python",
   "nbconvert_exporter": "python",
   "pygments_lexer": "ipython3",
   "version": "3.10.9"
  }
 },
 "nbformat": 4,
 "nbformat_minor": 5
}
