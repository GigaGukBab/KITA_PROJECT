{
 "cells": [
  {
   "cell_type": "code",
   "execution_count": 1,
   "id": "75eeb3dc",
   "metadata": {},
   "outputs": [],
   "source": [
    "#상황에 맞게 방법 1 or 2를 선택하여 코드 실행하기"
   ]
  },
  {
   "cell_type": "code",
   "execution_count": 30,
   "id": "0a9f54ad",
   "metadata": {},
   "outputs": [],
   "source": [
    "from pydub import AudioSegment\n",
    "import os\n",
    "import wave"
   ]
  },
  {
   "cell_type": "code",
   "execution_count": 31,
   "id": "f3099b13",
   "metadata": {},
   "outputs": [
    {
     "data": {
      "text/plain": [
       "'C:\\\\Users\\\\user\\\\KITA'"
      ]
     },
     "execution_count": 31,
     "metadata": {},
     "output_type": "execute_result"
    }
   ],
   "source": [
    "os.getcwd()"
   ]
  },
  {
   "cell_type": "markdown",
   "id": "6d705b52",
   "metadata": {},
   "source": [
    "# 방법1: wav를 잘라서 5초로 만들되, 3이상 5초 미만짜리는 끝에 padding(무음처리)"
   ]
  },
  {
   "cell_type": "code",
   "execution_count": 38,
   "id": "c311ec3a",
   "metadata": {},
   "outputs": [],
   "source": [
    "input_dir = \"C:\\\\Users\\\\user\\\\KITA\\\\counsel\\\\\" #5초로 자를 파일이 있는 곳\n",
    "output_dir = \"C:\\\\Users\\\\user\\\\KITA\\\\5sec\\\\\" #5초로 잘린 파일 여기다 저장하기\n",
    "\n",
    "# Make sure the output directory exists, and if not, create it\n",
    "if not os.path.exists(output_dir):\n",
    "    os.makedirs(output_dir)\n",
    "\n",
    "# Loop over all files in the directory\n",
    "for filename in os.listdir(input_dir):\n",
    "    if filename.endswith(\".wav\"):\n",
    "        # Load an audio file\n",
    "        audio = AudioSegment.from_wav(input_dir + filename)\n",
    "\n",
    "        length_audio = len(audio)\n",
    "        start = 0\n",
    "        end = 0\n",
    "        counter = 1\n",
    "\n",
    "        # Cut audio every 5 seconds\n",
    "        while start < length_audio:\n",
    "            end += 5000  # 5000 milliseconds == 5 seconds\n",
    "\n",
    "            if end > length_audio:  # If the end point is longer than the audio duration\n",
    "                end = length_audio  # set the end point at the end of the audio\n",
    "\n",
    "            chunk = audio[start:end]  # extract a piece of the audio\n",
    "\n",
    "            # If chunk is 3, 4, or 5 seconds long\n",
    "            if 3000 <= len(chunk) <= 5000:  # Between 3000 and 5000 milliseconds == Between 3 and 5 seconds\n",
    "                # If chunk is less than 5 seconds, add silence to the end to make it 5 seconds long\n",
    "                if len(chunk) < 5000:  # Less than 5 seconds\n",
    "                    silence_duration = 5000 - len(chunk)  # Calculate how much silence we need\n",
    "                    silence = AudioSegment.silent(duration=silence_duration)  # Generate the necessary silence\n",
    "                    chunk += silence  # Add the silence to the end of the chunk\n",
    "\n",
    "                chunk.export(output_dir + f\"{os.path.splitext(filename)[0]}_part_{counter:04d}.wav\", format=\"wav\")  # save the audio chunk\n",
    "                counter += 1\n",
    "\n",
    "            start += 5000  # Move to the next audio chunk"
   ]
  },
  {
   "cell_type": "markdown",
   "id": "79788a3a",
   "metadata": {},
   "source": [
    "#### 위의 코드에서 패딩이 누락된(5초보다 짧은 파일이 있는지) 것을 확인하고, 누락된 것은 다시 패딩하기"
   ]
  },
  {
   "cell_type": "code",
   "execution_count": 40,
   "id": "576fc346",
   "metadata": {},
   "outputs": [
    {
     "name": "stdout",
     "output_type": "stream",
     "text": [
      "Files shorter than 5 seconds: ['counsel_merge_1_part_0004.wav']\n"
     ]
    }
   ],
   "source": [
    "#5초보다 짧은 파일이 있는지 출력\n",
    "\n",
    "short_files = []\n",
    "\n",
    "for filename in os.listdir(output_dir):\n",
    "    if filename.endswith('.wav'):\n",
    "        with wave.open(os.path.join(output_dir, filename), 'rb') as wav_file:\n",
    "            frames = wav_file.getnframes()\n",
    "            frame_rate = wav_file.getframerate()\n",
    "            duration = frames / float(frame_rate)\n",
    "            if duration < 5:\n",
    "                short_files.append(filename)\n",
    "\n",
    "print(f\"Files shorter than 5 seconds: {short_files}\")\n",
    "\n",
    "#다시 패딩 후 초 확인\n",
    "def add_silence(filename, target_length=5):\n",
    "    sound = AudioSegment.from_wav(filename)\n",
    "    silence_needed = (target_length * 1000) - len(sound)  # PyDub works in milliseconds\n",
    "    print(f\"Silence needed for {filename}: {silence_needed} ms\")\n",
    "    silence = AudioSegment.silent(duration=silence_needed)\n",
    "    padded_sound = sound + silence\n",
    "    padded_sound.export(filename, format='wav')\n",
    "    print(f\"New duration of {filename}: {len(padded_sound)/1000} s\")\n",
    "\n",
    "for filename in os.listdir(output_dir):\n",
    "    if filename.endswith('.wav'):\n",
    "        with wave.open(os.path.join(output_dir, filename), 'rb') as wav_file:\n",
    "            frames = wav_file.getnframes()\n",
    "            frame_rate = wav_file.getframerate()\n",
    "            duration = frames / float(frame_rate)\n",
    "            print(f\"Original duration of {filename}: {duration} s\")\n",
    "            if duration < 5:\n",
    "                add_silence(os.path.join(output_dir, filename))"
   ]
  },
  {
   "cell_type": "markdown",
   "id": "c0dd9a16",
   "metadata": {},
   "source": [
    "# 방법 2: wav를 5초로 자르되, padding 없이 하기"
   ]
  },
  {
   "cell_type": "code",
   "execution_count": null,
   "id": "57468d39",
   "metadata": {},
   "outputs": [],
   "source": [
    "def process_wav_files(input_dir, output_dir):\n",
    "    filenames = [os.path.join(input_dir, file) for file in os.listdir(input_dir) if file.endswith('.wav')]\n",
    "    \n",
    "    combined_audio = AudioSegment.empty()\n",
    "    \n",
    "    for file in filenames:\n",
    "        audio = AudioSegment.from_wav(file)\n",
    "        \n",
    "        # If the current audio is exactly 5 seconds\n",
    "        if len(audio) == 5000:\n",
    "            print(f\"Original 5-second file: {file}\")\n",
    "            save_name = os.path.join(output_dir, os.path.basename(file))\n",
    "            audio.export(save_name, format=\"wav\")\n",
    "        \n",
    "        combined_audio += audio\n",
    "\n",
    "    # Split combined_audio into 5-second chunks and save\n",
    "    idx = 0\n",
    "    while len(combined_audio) >= 5000:\n",
    "        chunk = combined_audio[:5000]\n",
    "        chunk.export(os.path.join(output_dir, f\"output_{idx}.wav\"), format=\"wav\")\n",
    "        combined_audio = combined_audio[5000:]\n",
    "        idx += 1\n",
    "\n",
    "    # Note: Any residual audio less than 5 seconds will be ignored. (마지막 residual 1개가 5초 미만이라면 버려진다)\n",
    "\n",
    "if __name__ == \"__main__\":\n",
    "    input_directory = \"D:/user/Downloads/pol 범죄자/\"  # replace with your input folder path\n",
    "    output_directory = \"D:/user/Desktop/5sec_full_vp/\"  # replace with your output folder path\n",
    "    \n",
    "    if not os.path.exists(output_directory):\n",
    "        os.makedirs(output_directory)\n",
    "        \n",
    "    process_wav_files(input_directory, output_directory)"
   ]
  }
 ],
 "metadata": {
  "kernelspec": {
   "display_name": "Python 3 (ipykernel)",
   "language": "python",
   "name": "python3"
  },
  "language_info": {
   "codemirror_mode": {
    "name": "ipython",
    "version": 3
   },
   "file_extension": ".py",
   "mimetype": "text/x-python",
   "name": "python",
   "nbconvert_exporter": "python",
   "pygments_lexer": "ipython3",
   "version": "3.10.9"
  }
 },
 "nbformat": 4,
 "nbformat_minor": 5
}
