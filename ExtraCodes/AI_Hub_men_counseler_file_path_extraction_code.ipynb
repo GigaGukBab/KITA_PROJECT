{
 "cells": [
  {
   "cell_type": "markdown",
   "id": "6c0a4748",
   "metadata": {},
   "source": [
    "# **상담음성 남자상담원만 추출**\n",
    " - text, wav 파일 경로 추출하여 csv 파일로 저장"
   ]
  },
  {
   "cell_type": "code",
   "execution_count": null,
   "id": "ec46d68d",
   "metadata": {},
   "outputs": [],
   "source": [
    "import os\n",
    "os.getcwd()"
   ]
  },
  {
   "cell_type": "code",
   "execution_count": null,
   "id": "a944b447",
   "metadata": {
    "scrolled": false
   },
   "outputs": [],
   "source": [
    "import os\n",
    "\n",
    "# 폴더 경로를 지정합니다. 이 경로는 변경하셔야 합니다.\n",
    "folder_path = \"D:\\\\상담 음성\\\\Training\"\n",
    "\n",
    "# 디렉터리 내의 모든 아이템에 대해\n",
    "for item_name in os.listdir(folder_path):\n",
    "    # 해당 아이템이 디렉터리인 경우 출력합니다.\n",
    "    if os.path.isdir(os.path.join(folder_path, item_name)):\n",
    "        print(item_name)\n"
   ]
  },
  {
   "cell_type": "code",
   "execution_count": null,
   "id": "57ec613b",
   "metadata": {},
   "outputs": [],
   "source": [
    "import os\n",
    "import json\n",
    "import pandas as pd\n",
    "\n",
    "# 경로를 수정하는 함수\n",
    "def modify_path(text_path):\n",
    "    \"\"\"Modify the given text path and return new audio and text paths.\"\"\"\n",
    "    base_text_dir = \"D:\\\\상담 음성\\\\Training\"\n",
    "    base_audio_dir = \"D:\\\\상담 음성\\\\Training\"\n",
    "    \n",
    "    parts = text_path.split('/')\n",
    "    D_folder = parts[1]\n",
    "    J_folder = parts[2]\n",
    "    S_folder = parts[3]\n",
    "    file_name = parts[4]\n",
    "\n",
    "    text_folder = f\"[라벨]KtelSpeech_train_{D_folder}_label_0\"\n",
    "    new_text_path = os.path.join(base_text_dir, text_folder, D_folder, J_folder, S_folder, file_name)\n",
    "\n",
    "    audio_folder = f\"[원천]KtelSpeech_train_{D_folder}_wav_0\"\n",
    "    new_audio_path = os.path.join(base_audio_dir, audio_folder, D_folder, J_folder, S_folder, file_name.replace('.txt', '.wav'))\n",
    "    \n",
    "    return new_audio_path, new_text_path\n",
    "\n",
    "def extract_consultant_dialogs(json_directory_path, csv_output_path):\n",
    "    \"\"\"Extract male consultant dialogs from a given directory and save as CSV.\"\"\"\n",
    "    columns = ['audioPath', 'textPath']\n",
    "    result_df = pd.DataFrame(columns=columns)\n",
    "    \n",
    "    for filename in os.listdir(json_directory_path):\n",
    "        if filename.endswith('.json'):\n",
    "            json_file_path = os.path.join(json_directory_path, filename)\n",
    "            with open(json_file_path, 'r', encoding='utf-8-sig') as file:\n",
    "                json_content = json.load(file)\n",
    "\n",
    "            speakers = json_content['dataSet']['typeInfo']['speakers']\n",
    "            consultant = next((speaker for speaker in speakers if speaker['type'] == '상담원' and speaker['gender'] == '남'), None)\n",
    "            \n",
    "            if consultant:\n",
    "                consultant_id = consultant['id']\n",
    "                dialogs = json_content['dataSet']['dialogs']\n",
    "                for dialog in dialogs:\n",
    "                    if dialog['speaker'] == consultant_id:\n",
    "                        audio_path, text_path = modify_path(dialog['textPath'])\n",
    "                        result_df = result_df.append({'audioPath': audio_path, 'textPath': text_path}, ignore_index=True)\n",
    "    \n",
    "    if not result_df.empty:\n",
    "        result_df.to_csv(csv_output_path, encoding='utf-8-sig', index=False)\n",
    "        print(\"CSV 파일이 다음 위치에 저장되었습니다:\", csv_output_path)\n",
    "    else:\n",
    "        print(f\"{json_directory_path}에서 남성 상담원을 찾을 수 없습니다. CSV 파일이 생성되지 않았습니다.\")\n",
    "\n",
    "# 주요 실행 코드\n",
    "base_directory = \"D:\\\\상담 음성\\\\Training\"\n",
    "csv_directory = \"C:\\\\Users\\\\user\\\\Jinwoo\\\\men_counselar_path\"\n",
    "\n",
    "if not os.path.exists(csv_directory):\n",
    "    os.makedirs(csv_directory)\n",
    "\n",
    "label_directories = [d for d in os.listdir(base_directory) if \"[라벨]\" in d]\n",
    "\n",
    "for sub_directory in label_directories:\n",
    "    D_folder = sub_directory.split('_')[2]\n",
    "    J_folder = \"J\" + str(int(D_folder[1:]) + 31)\n",
    "    \n",
    "    # Check if the path is a directory\n",
    "    path_to_check = os.path.join(base_directory, sub_directory, D_folder, J_folder)\n",
    "    \n",
    "    if os.path.isdir(path_to_check):\n",
    "        for S_folder in os.listdir(path_to_check):\n",
    "            if S_folder.startswith(\"S\"):\n",
    "                full_path = os.path.join(base_directory, sub_directory, D_folder, J_folder, S_folder)\n",
    "                csv_output_path = os.path.join(csv_directory, f'consultant_dialogs_{D_folder}_{J_folder}_{S_folder}.csv')\n",
    "                extract_consultant_dialogs(full_path, csv_output_path)\n"
   ]
  }
 ],
 "metadata": {
  "kernelspec": {
   "display_name": "Python (myenv)",
   "language": "python",
   "name": "myenv"
  },
  "language_info": {
   "codemirror_mode": {
    "name": "ipython",
    "version": 3
   },
   "file_extension": ".py",
   "mimetype": "text/x-python",
   "name": "python",
   "nbconvert_exporter": "python",
   "pygments_lexer": "ipython3",
   "version": "3.7.16"
  }
 },
 "nbformat": 4,
 "nbformat_minor": 5
}
