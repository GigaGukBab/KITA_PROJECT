{
 "cells": [
  {
   "cell_type": "markdown",
   "metadata": {
    "id": "UraOHwmL6bhf"
   },
   "source": [
    "# **Pitch Model Main Code**"
   ]
  },
  {
   "cell_type": "markdown",
   "metadata": {},
   "source": [
    "## 알집파일 해제코드(Optional)"
   ]
  },
  {
   "cell_type": "code",
   "execution_count": 7,
   "metadata": {},
   "outputs": [],
   "source": [
    "                                                                                                                                                                                                                                                                                                                                                                                                                                                                                                                                                                                                                                                                                                                                                                                                                                                                                                                                                                                                                                                                                                                                                                                                                                                                                                                                                                                                                                                                                                                                                                                                                                                                                                                                                                                                                                                                                                                                                                                                                                                                                                                                                                                                                                                                                                                                                                                                                                                                                                                                                                                                                                                                                                                                                                                                                                                                                                                                                                                                                                                                                                                                                                                                                                                                                                import zipfile\n",
    "zip_path_pitch_counsel_5244 = './pitch_counsel_5244.zip'\n",
    "dir_path_pitch_counsel_5244 = './pitch_councel(5244)'\n",
    "\n",
    "with zipfile.ZipFile(zip_path_pitch_counsel_5244, 'r') as zip_ref:\n",
    "    zip_ref.extractall(dir_path_pitch_counsel_5244)\n",
    "        \n",
    "zip_path_pitch_vp_4756 = './pitch_vp_4756.zip'\n",
    "dir_path_pitch_vp_4756 = './pitch_vp(4756)'\n",
    "\n",
    "with zipfile.ZipFile(zip_path_pitch_vp_4756, 'r') as zip_ref:\n",
    "    zip_ref.extractall(dir_path_pitch_vp_4756)"
   ]
  },
  {
   "cell_type": "code",
   "execution_count": 8,
   "metadata": {},
   "outputs": [
    {
     "name": "stdout",
     "output_type": "stream",
     "text": [
      "5244\n",
      "4756\n"
     ]
    }
   ],
   "source": [
    "import os\n",
    "\n",
    "count=0\n",
    "for filename in os.listdir(dir_path_pitch_counsel_5244):\n",
    "    if filename.endswith(\".npy\"):\n",
    "        count+=1\n",
    "\n",
    "print(count)\n",
    "\n",
    "count=0\n",
    "for filename in os.listdir(dir_path_pitch_vp_4756):\n",
    "    if filename.endswith(\".npy\"):\n",
    "        count+=1\n",
    "\n",
    "print(count)"
   ]
  },
  {
   "cell_type": "markdown",
   "metadata": {
    "id": "jtQ0NBl6nmWQ"
   },
   "source": [
    "## 필요 Import문 및 Module"
   ]
  },
  {
   "cell_type": "code",
   "execution_count": 1,
   "metadata": {
    "id": "tBnRrwasZNcG"
   },
   "outputs": [
    {
     "name": "stderr",
     "output_type": "stream",
     "text": [
      "2023-08-14 02:50:53.408992: I tensorflow/core/platform/cpu_feature_guard.cc:193] This TensorFlow binary is optimized with oneAPI Deep Neural Network Library (oneDNN) to use the following CPU instructions in performance-critical operations:  AVX2 AVX512F FMA\n",
      "To enable them in other operations, rebuild TensorFlow with the appropriate compiler flags.\n"
     ]
    }
   ],
   "source": [
    "import os\n",
    "import numpy as np\n",
    "import glob\n",
    "from tensorflow.keras.layers.experimental.preprocessing import Normalization\n",
    "from tensorflow.keras.models import Sequential, Model\n",
    "from tensorflow.keras.layers import (Conv1D, Dense, MaxPooling1D,\n",
    "                                     BatchNormalization,\n",
    "                                     GlobalAveragePooling1D,\n",
    "                                     GlobalMaxPool1D,  Flatten, Dropout,\n",
    "                                     Activation, Input)\n",
    "from tensorflow.keras.callbacks import EarlyStopping, ModelCheckpoint, LearningRateScheduler\n",
    "from tensorflow.keras.optimizers import Adam\n",
    "from tensorflow.keras.layers import concatenate\n",
    "from tensorflow.keras.preprocessing.sequence import pad_sequences\n",
    "from sklearn.model_selection import train_test_split\n",
    "import keras.backend as K\n",
    "from tensorflow.keras.callbacks import EarlyStopping\n",
    "from tensorflow.keras.callbacks import LearningRateScheduler\n",
    "from tensorflow.keras.optimizers import Adam\n",
    "from tensorflow.keras.models import load_model\n",
    "import tensorflow as tf\n",
    "from keras.utils import plot_model\n",
    "import matplotlib.pyplot as plt\n",
    "import seaborn as sns\n",
    "import os"
   ]
  },
  {
   "cell_type": "markdown",
   "metadata": {
    "id": "b2t2M8BxV8Qw"
   },
   "source": [
    "## load pitch data\n",
    " - reshape(-1, 1) : 불러온 numpy 데이터를 2차원으로 변환\n",
    "\n",
    " - -1은 나머지 차원을 자동으로 계산하라는 의미로, (n, 1) 형태의 2차원 배열로 변환하게 됨.\n",
    "\n",
    " - 지정된 폴더 내의 모든 numpy 데이터 파일을 불러와서 2차원 배열로 변환한 후, 이를 하나의 리스트에 저장\n",
    "\n",
    " - 1차원 numpy 배열을 .reshape(-1, 1)을 사용하여 2차원으로 변환하고 있다.\n",
    "\n",
    " - 이렇게 하면 각 데이터 포인트(데시벨 데이터의 각 값)는 하나의 특징만 가지는 `시퀀스`로 간주됨.\n",
    "\n",
    " - 이렇게 변환한 데이터를 Conv1D 레이어에 입력으로 제공하면, 레이어는 이 시퀀스 데이터의 지역적인 패턴을 학습하여 보이스피싱인지 일반 상담인지를 판단하는 데 도움이 되는 특징을 추출하게 된다.\n",
    "\n"
   ]
  },
  {
   "cell_type": "markdown",
   "metadata": {
    "id": "OUgSxyoToymM"
   },
   "source": [
    " - 즉, 'councel decibel npy data'와 'voice phishing decibel npy data'는 각각 1차원의 numpy 배열.\n",
    " - 그 길이(즉, 데이터의 개수)는 157개\n",
    "   - 한 개의 npy 파일에는 157개의 값을 가진 1차원 데이터가 저장되어 있다는 뜻"
   ]
  },
  {
   "cell_type": "code",
   "execution_count": 2,
   "metadata": {
    "id": "Me-8-qaHWHi3"
   },
   "outputs": [],
   "source": [
    "dir_path_pitch_counsel_5244 = './pitch_councel(5244)'\n",
    "dir_path_pitch_vp_4756 = './pitch_vp(4756)'"
   ]
  },
  {
   "cell_type": "code",
   "execution_count": 3,
   "metadata": {
    "id": "9MWZB4zOV-uu"
   },
   "outputs": [],
   "source": [
    "# Load data\n",
    "vp_pit_data = [np.load(os.path.join(dir_path_pitch_vp_4756, f)).reshape(-1,1) for f in os.listdir(dir_path_pitch_vp_4756) if f.endswith('.npy')]\n",
    "counsel_pit_data = [np.load(os.path.join(dir_path_pitch_counsel_5244, f)).reshape(-1,1) for f in os.listdir(dir_path_pitch_counsel_5244) if f.endswith('.npy')]"
   ]
  },
  {
   "cell_type": "code",
   "execution_count": 4,
   "metadata": {
    "colab": {
     "base_uri": "https://localhost:8080/"
    },
    "id": "culdNWoGW0HN",
    "outputId": "18169290-c98a-4478-9869-0b518e600e37"
   },
   "outputs": [
    {
     "data": {
      "text/plain": [
       "(5244, 4756)"
      ]
     },
     "execution_count": 4,
     "metadata": {},
     "output_type": "execute_result"
    }
   ],
   "source": [
    "len(counsel_pit_data), len(vp_pit_data)"
   ]
  },
  {
   "cell_type": "code",
   "execution_count": 5,
   "metadata": {
    "colab": {
     "base_uri": "https://localhost:8080/"
    },
    "id": "_sBVJdDEW0HP",
    "outputId": "8d196586-0a3e-4df8-c6d2-c12b723ea9ba",
    "scrolled": true
   },
   "outputs": [
    {
     "data": {
      "text/plain": [
       "((157, 1), (157, 1))"
      ]
     },
     "execution_count": 5,
     "metadata": {},
     "output_type": "execute_result"
    }
   ],
   "source": [
    "counsel_pit_data[0].shape, vp_pit_data[0].shape"
   ]
  },
  {
   "cell_type": "code",
   "execution_count": 6,
   "metadata": {
    "scrolled": true
   },
   "outputs": [
    {
     "data": {
      "text/plain": [
       "array([[ 89.86534993],\n",
       "       [ 89.86534993],\n",
       "       [ 89.86534993],\n",
       "       [ 89.86534993],\n",
       "       [ 89.86534993],\n",
       "       [ 89.86534993],\n",
       "       [ 89.86534993],\n",
       "       [ 89.86534993],\n",
       "       [ 89.86534993],\n",
       "       [ 89.86534993],\n",
       "       [ 89.86534993],\n",
       "       [179.73069986],\n",
       "       [188.23090565],\n",
       "       [194.8688542 ],\n",
       "       [193.74649219],\n",
       "       [181.81906999],\n",
       "       [180.77186921],\n",
       "       [176.64303401],\n",
       "       [173.60841241],\n",
       "       [171.61434972],\n",
       "       [171.61434972],\n",
       "       [171.61434972],\n",
       "       [168.66611791],\n",
       "       [163.86452094],\n",
       "       [157.37105257],\n",
       "       [155.56349186],\n",
       "       [156.464662  ],\n",
       "       [156.464662  ],\n",
       "       [154.66751208],\n",
       "       [150.26442824],\n",
       "       [148.53849408],\n",
       "       [146.83238396],\n",
       "       [146.83238396],\n",
       "       [145.98669166],\n",
       "       [136.21039964],\n",
       "       [161.98237639],\n",
       "       [152.0104168 ],\n",
       "       [141.01384901],\n",
       "       [152.89100418],\n",
       "       [171.6545238 ],\n",
       "       [171.6545238 ],\n",
       "       [171.6545238 ],\n",
       "       [190.41804342],\n",
       "       [190.41804342],\n",
       "       [192.63059451],\n",
       "       [198.27510177],\n",
       "       [214.97519306],\n",
       "       [218.73289324],\n",
       "       [213.73702705],\n",
       "       [211.28204791],\n",
       "       [211.28204791],\n",
       "       [212.50599236],\n",
       "       [211.28204791],\n",
       "       [210.06515286],\n",
       "       [207.65234879],\n",
       "       [202.90956259],\n",
       "       [200.57894748],\n",
       "       [198.27510177],\n",
       "       [190.41804342],\n",
       "       [193.74649219],\n",
       "       [248.37216906],\n",
       "       [246.94165063],\n",
       "       [248.37216906],\n",
       "       [264.66550794],\n",
       "       [263.14114678],\n",
       "       [258.62053938],\n",
       "       [227.75828325],\n",
       "       [220.        ],\n",
       "       [213.73702705],\n",
       "       [204.08500573],\n",
       "       [197.13312122],\n",
       "       [197.13312122],\n",
       "       [194.8688542 ],\n",
       "       [191.52112393],\n",
       "       [182.87233715],\n",
       "       [191.52112393],\n",
       "       [210.06515286],\n",
       "       [227.75828325],\n",
       "       [234.43211036],\n",
       "       [241.30149553],\n",
       "       [254.52113427],\n",
       "       [267.74077301],\n",
       "       [261.6255653 ],\n",
       "       [255.65002913],\n",
       "       [244.10528385],\n",
       "       [207.65234879],\n",
       "       [195.99771799],\n",
       "       [187.14677541],\n",
       "       [176.64303401],\n",
       "       [169.64319079],\n",
       "       [165.76853496],\n",
       "       [163.86452094],\n",
       "       [163.86452094],\n",
       "       [174.61411572],\n",
       "       [175.625645  ],\n",
       "       [170.6259238 ],\n",
       "       [156.464662  ],\n",
       "       [143.47872767],\n",
       "       [130.81278265],\n",
       "       [125.62905732],\n",
       "       [127.08879666],\n",
       "       [129.31026969],\n",
       "       [130.81278265],\n",
       "       [166.27683608],\n",
       "       [166.27683608],\n",
       "       [166.27683608],\n",
       "       [166.27683608],\n",
       "       [166.27683608],\n",
       "       [166.27683608],\n",
       "       [201.74088951],\n",
       "       [186.0688893 ],\n",
       "       [154.66751208],\n",
       "       [152.89100418],\n",
       "       [163.86452094],\n",
       "       [192.63059451],\n",
       "       [197.13312122],\n",
       "       [195.99771799],\n",
       "       [170.6259238 ],\n",
       "       [162.92073075],\n",
       "       [153.77669276],\n",
       "       [143.47872767],\n",
       "       [145.14587019],\n",
       "       [143.47872767],\n",
       "       [141.01384901],\n",
       "       [137.79308825],\n",
       "       [135.42588547],\n",
       "       [149.39896882],\n",
       "       [149.39896882],\n",
       "       [151.13490122],\n",
       "       [142.65235101],\n",
       "       [139.39416681],\n",
       "       [141.01384901],\n",
       "       [136.21039964],\n",
       "       [134.64588976],\n",
       "       [132.33275397],\n",
       "       [129.31026969],\n",
       "       [128.56549734],\n",
       "       [130.05935646],\n",
       "       [129.31026969],\n",
       "       [ 64.65513485],\n",
       "       [ 64.65513485],\n",
       "       [ 64.65513485],\n",
       "       [ 64.65513485],\n",
       "       [ 64.65513485],\n",
       "       [ 64.65513485],\n",
       "       [ 64.65513485],\n",
       "       [ 64.65513485],\n",
       "       [ 64.65513485],\n",
       "       [ 64.65513485],\n",
       "       [ 64.65513485],\n",
       "       [ 64.65513485],\n",
       "       [ 64.65513485],\n",
       "       [ 64.65513485],\n",
       "       [ 64.65513485],\n",
       "       [ 64.65513485],\n",
       "       [ 64.65513485],\n",
       "       [ 64.65513485]])"
      ]
     },
     "execution_count": 6,
     "metadata": {},
     "output_type": "execute_result"
    }
   ],
   "source": [
    "counsel_pit_data[30]"
   ]
  },
  {
   "cell_type": "code",
   "execution_count": 7,
   "metadata": {
    "scrolled": true
   },
   "outputs": [
    {
     "data": {
      "text/plain": [
       "array([[125.62905732],\n",
       "       [125.62905732],\n",
       "       [125.62905732],\n",
       "       [125.62905732],\n",
       "       [125.62905732],\n",
       "       [251.25811465],\n",
       "       [255.65002913],\n",
       "       [260.11871293],\n",
       "       [261.6255653 ],\n",
       "       [260.11871293],\n",
       "       [255.65002913],\n",
       "       [241.30149553],\n",
       "       [237.15608027],\n",
       "       [234.43211036],\n",
       "       [214.97519306],\n",
       "       [204.08500573],\n",
       "       [194.8688542 ],\n",
       "       [200.66260674],\n",
       "       [206.45635927],\n",
       "       [205.26725814],\n",
       "       [204.08500573],\n",
       "       [201.74088951],\n",
       "       [198.27510177],\n",
       "       [197.13312122],\n",
       "       [193.74649219],\n",
       "       [212.07559961],\n",
       "       [212.07559961],\n",
       "       [212.07559961],\n",
       "       [212.07559961],\n",
       "       [212.07559961],\n",
       "       [212.07559961],\n",
       "       [212.07559961],\n",
       "       [230.40470702],\n",
       "       [233.08188076],\n",
       "       [234.43211036],\n",
       "       [230.40470702],\n",
       "       [218.73289324],\n",
       "       [217.47308448],\n",
       "       [214.97519306],\n",
       "       [187.54852158],\n",
       "       [187.54852158],\n",
       "       [187.54852158],\n",
       "       [187.54852158],\n",
       "       [160.12185011],\n",
       "       [159.19961612],\n",
       "       [154.66751208],\n",
       "       [153.77669276],\n",
       "       [157.37105257],\n",
       "       [157.37105257],\n",
       "       [157.37105257],\n",
       "       [150.26442824],\n",
       "       [151.13490122],\n",
       "       [151.13490122],\n",
       "       [150.26442824],\n",
       "       [148.53849408],\n",
       "       [148.53849408],\n",
       "       [ 74.26924704],\n",
       "       [ 74.26924704],\n",
       "       [ 74.26924704],\n",
       "       [ 74.26924704],\n",
       "       [ 74.26924704],\n",
       "       [ 74.26924704],\n",
       "       [ 74.26924704],\n",
       "       [ 74.26924704],\n",
       "       [ 74.26924704],\n",
       "       [ 74.26924704],\n",
       "       [ 74.26924704],\n",
       "       [ 74.26924704],\n",
       "       [ 74.26924704],\n",
       "       [ 74.26924704],\n",
       "       [ 74.26924704],\n",
       "       [ 74.26924704],\n",
       "       [ 74.26924704],\n",
       "       [ 74.26924704],\n",
       "       [ 74.26924704],\n",
       "       [ 74.26924704],\n",
       "       [ 74.26924704],\n",
       "       [ 74.26924704],\n",
       "       [ 74.26924704],\n",
       "       [ 74.26924704],\n",
       "       [ 74.26924704],\n",
       "       [ 74.26924704],\n",
       "       [ 74.26924704],\n",
       "       [ 74.26924704],\n",
       "       [ 74.26924704],\n",
       "       [ 74.26924704],\n",
       "       [ 74.26924704],\n",
       "       [ 74.26924704],\n",
       "       [ 74.26924704],\n",
       "       [ 74.26924704],\n",
       "       [ 74.26924704],\n",
       "       [ 74.26924704],\n",
       "       [ 74.26924704],\n",
       "       [ 74.26924704],\n",
       "       [ 74.26924704],\n",
       "       [ 74.26924704],\n",
       "       [ 74.26924704],\n",
       "       [ 74.26924704],\n",
       "       [ 74.26924704],\n",
       "       [ 74.26924704],\n",
       "       [ 74.26924704],\n",
       "       [ 74.26924704],\n",
       "       [ 74.26924704],\n",
       "       [ 74.26924704],\n",
       "       [ 74.26924704],\n",
       "       [ 74.26924704],\n",
       "       [ 74.26924704],\n",
       "       [ 74.26924704],\n",
       "       [ 74.26924704],\n",
       "       [ 74.26924704],\n",
       "       [ 74.26924704],\n",
       "       [ 74.26924704],\n",
       "       [ 74.26924704],\n",
       "       [ 74.26924704],\n",
       "       [ 74.26924704],\n",
       "       [ 74.26924704],\n",
       "       [ 74.26924704],\n",
       "       [ 74.26924704],\n",
       "       [ 74.26924704],\n",
       "       [ 74.26924704],\n",
       "       [ 74.26924704],\n",
       "       [ 74.26924704],\n",
       "       [ 74.26924704],\n",
       "       [ 74.26924704],\n",
       "       [ 74.26924704],\n",
       "       [ 74.26924704],\n",
       "       [ 74.26924704],\n",
       "       [ 74.26924704],\n",
       "       [ 74.26924704],\n",
       "       [ 74.26924704],\n",
       "       [ 74.26924704],\n",
       "       [ 74.26924704],\n",
       "       [ 74.26924704],\n",
       "       [ 74.26924704],\n",
       "       [ 74.26924704],\n",
       "       [ 74.26924704],\n",
       "       [ 74.26924704],\n",
       "       [ 74.26924704],\n",
       "       [ 74.26924704],\n",
       "       [ 74.26924704],\n",
       "       [ 74.26924704],\n",
       "       [ 74.26924704],\n",
       "       [ 74.26924704],\n",
       "       [ 74.26924704],\n",
       "       [ 74.26924704],\n",
       "       [ 74.26924704],\n",
       "       [ 74.26924704],\n",
       "       [ 74.26924704],\n",
       "       [ 74.26924704],\n",
       "       [ 74.26924704],\n",
       "       [ 74.26924704],\n",
       "       [ 74.26924704],\n",
       "       [ 74.26924704],\n",
       "       [ 74.26924704],\n",
       "       [ 74.26924704],\n",
       "       [ 74.26924704],\n",
       "       [ 74.26924704]])"
      ]
     },
     "execution_count": 7,
     "metadata": {},
     "output_type": "execute_result"
    }
   ],
   "source": [
    "vp_pit_data[4000]"
   ]
  },
  {
   "cell_type": "markdown",
   "metadata": {},
   "source": [
    "# **======================데이터 통계분석======================**"
   ]
  },
  {
   "cell_type": "markdown",
   "metadata": {},
   "source": [
    "## Find outliers\n",
    "\n",
    " - 각 데이터 포인트별로 이상치의 수를 계산하고 그 평균값을 출력\n",
    " - 한 개의 데이터 포인트 (157, 1)에 대해서 평균적으로 몇 개의 이상치가 있나?"
   ]
  },
  {
   "cell_type": "code",
   "execution_count": 8,
   "metadata": {
    "scrolled": true
   },
   "outputs": [
    {
     "name": "stdout",
     "output_type": "stream",
     "text": [
      "Average number of outliers per data point in VP pitch data: 7.79\n",
      "Average number of outliers per data point in Counsel pitch data: 12.13\n"
     ]
    }
   ],
   "source": [
    "import numpy as np\n",
    "\n",
    "def find_outliers(data):\n",
    "    q1 = np.percentile(data, 25)\n",
    "    q3 = np.percentile(data, 75)\n",
    "    iqr = q3 - q1\n",
    "\n",
    "    lower_bound = q1 - 1.5 * iqr\n",
    "    upper_bound = q3 + 1.5 * iqr\n",
    "\n",
    "    outliers = data[(data < lower_bound) | (data > upper_bound)]\n",
    "    return outliers\n",
    "\n",
    "vp_outliers_count = [len(find_outliers(item)) for item in vp_pit_data]\n",
    "counsel_outliers_count = [len(find_outliers(item)) for item in counsel_pit_data]\n",
    "\n",
    "print(f\"Average number of outliers per data point in VP pitch data: {np.mean(vp_outliers_count):.2f}\")\n",
    "print(f\"Average number of outliers per data point in Counsel pitch data: {np.mean(counsel_outliers_count):.2f}\")\n"
   ]
  },
  {
   "cell_type": "markdown",
   "metadata": {},
   "source": [
    "## 각 데이터 세트의 데이터 포인트에 대한 분포도"
   ]
  },
  {
   "cell_type": "code",
   "execution_count": 9,
   "metadata": {},
   "outputs": [
    {
     "data": {
      "image/png": "[encoded data removed]",
      "text/plain": [
       "<Figure size 1200x600 with 1 Axes>"
      ]
     },
     "metadata": {},
     "output_type": "display_data"
    },
    {
     "data": {
      "image/png": "[encoded data removed]",
      "text/plain": [
       "<Figure size 1200x600 with 1 Axes>"
      ]
     },
     "metadata": {},
     "output_type": "display_data"
    }
   ],
   "source": [
    "import matplotlib.pyplot as plt\n",
    "import numpy as np\n",
    "from scipy import stats\n",
    "\n",
    "# 각 데이터 포인트에 대한 평균과 분산을 계산하는 함수\n",
    "def compute_individual_means_and_vars(data):\n",
    "    means = [np.mean(item) for item in data]\n",
    "    vars = [np.var(item) for item in data]\n",
    "    return means, vars\n",
    "\n",
    "# 각 데이터 포인트별 평균과 분산 계산\n",
    "vp_means, vp_vars = compute_individual_means_and_vars(vp_pit_data)\n",
    "counsel_means, counsel_vars = compute_individual_means_and_vars(counsel_pit_data)\n",
    "\n",
    "# 평균의 히스토그램 그리기\n",
    "plt.figure(figsize=(12, 6))\n",
    "plt.hist(vp_means, bins=50, alpha=0.5, label='Voice Phishing Means')\n",
    "plt.hist(counsel_means, bins=50, alpha=0.5, label='Counsel Means')\n",
    "plt.xlabel('Mean Pitch Value')\n",
    "plt.ylabel('Number of Files')\n",
    "plt.title('Distribution of Individual Mean Pitch Values')\n",
    "plt.legend(loc='upper right')\n",
    "plt.show()\n",
    "\n",
    "# 분산의 히스토그램 그리기\n",
    "plt.figure(figsize=(12, 6))\n",
    "plt.hist(vp_vars, bins=50, alpha=0.5, label='Voice Phishing Variances')\n",
    "plt.hist(counsel_vars, bins=50, alpha=0.5, label='Counsel Variances')\n",
    "plt.xlabel('Pitch Variance')\n",
    "plt.ylabel('Number of Files')\n",
    "plt.title('Distribution of Individual Pitch Variances')\n",
    "plt.legend(loc='upper right')\n",
    "plt.show()"
   ]
  },
  {
   "cell_type": "markdown",
   "metadata": {},
   "source": [
    "## 각 데이터 포인트에 대해 왜도와 첨도를 계산하여 주어진 조건에 따라 정규성을 판단"
   ]
  },
  {
   "cell_type": "markdown",
   "metadata": {},
   "source": [
    " - 이 코드는 각 데이터 셋의 데이터 포인트의 왜도와 첨도를 계산하여 그 값이 0에 가까운지를 기준으로 데이터셋이 정규분포에 가까운지를 판단\n",
    " - 여기서는 왜도의 절댓값이 2 이하, 첨도의 절댓값이 7이하일대 정규성을 만족한다고 판단"
   ]
  },
  {
   "cell_type": "code",
   "execution_count": 10,
   "metadata": {},
   "outputs": [
    {
     "name": "stdout",
     "output_type": "stream",
     "text": [
      "Voice Phishing data points satisfying normality: [4334] out of 4756\n",
      "Counsel data points satisfying normality: [4127] out of 5244\n"
     ]
    }
   ],
   "source": [
    "def check_normality(data):\n",
    "    skewness = stats.skew(data)\n",
    "    kurtosis = stats.kurtosis(data)\n",
    "    return abs(skewness) <= 2 and abs(kurtosis) <= 7\n",
    "\n",
    "# 각 데이터 포인트에 대한 정규성 판단\n",
    "vp_normality = [check_normality(item) for item in vp_pit_data]\n",
    "counsel_normality = [check_normality(item) for item in counsel_pit_data]\n",
    "\n",
    "# 정규성을 만족하는 데이터 포인트의 개수 계산\n",
    "vp_normal_count = sum(vp_normality)\n",
    "counsel_normal_count = sum(counsel_normality)\n",
    "\n",
    "print(f\"Voice Phishing data points satisfying normality: {vp_normal_count} out of {len(vp_pit_data)}\")\n",
    "print(f\"Counsel data points satisfying normality: {counsel_normal_count} out of {len(counsel_pit_data)}\")"
   ]
  },
  {
   "cell_type": "markdown",
   "metadata": {},
   "source": [
    "- Voice Phishing (VP) pitch data:\n",
    "  - 총 4756개의 Voice Phishing 데이터 포인트 중 4334개가 정규성을 만족한다고 판단되었습니다.\n",
    "- Counsel pitch data:\n",
    "  - 총 4756개의 Counsel 데이터 포인트 중 4742개가 정규성을 만족한다고 판단되었습니다"
   ]
  },
  {
   "cell_type": "markdown",
   "metadata": {},
   "source": [
    "# ============================================================"
   ]
  },
  {
   "cell_type": "markdown",
   "metadata": {
    "id": "p93JjFHzXjGx"
   },
   "source": [
    "## data labeling(pitch data)\n",
    "\n",
    " - 보이스피싱 데이터(vp_data)는 0으로, 상담 데이터(counsel_data)는 1로 라벨링 수행.\n",
    " - 이를 위해 리스트를 생성하는데, 리스트의 길이는 각 데이터의 개수(len(vp_data), len(counsel_data))와 동일함.\n",
    " - 모든 요소는 각 데이터에 해당하는 라벨 (0 또는 1)로 채워짐."
   ]
  },
  {
   "cell_type": "code",
   "execution_count": 11,
   "metadata": {
    "id": "UFOzY7kuXjG-"
   },
   "outputs": [
    {
     "name": "stdout",
     "output_type": "stream",
     "text": [
      "4756\n",
      "5244\n"
     ]
    }
   ],
   "source": [
    "# Data labeling\n",
    "vp_pit_labels = [0] * len(vp_pit_data) # Label voice phishing data as 0\n",
    "print(len(vp_pit_labels))\n",
    "counsel_pit_labels = [1] * len(counsel_pit_data) # Counseling data is labeled as 1\n",
    "print(len(counsel_pit_labels))"
   ]
  },
  {
   "cell_type": "markdown",
   "metadata": {
    "id": "0NO0YkS-YLxh"
   },
   "source": [
    "## combine pitch data"
   ]
  },
  {
   "cell_type": "markdown",
   "metadata": {
    "id": "3YcmI9veorXn"
   },
   "source": [
    " - 이후, 보이스피싱 데이터와 상담 데이터를 하나의 리스트 x_data로 병합.\n",
    " - 각 데이터에 해당하는 라벨도 하나의 리스트 y_labels로 병합.\n",
    " - `+` 연산자는 리스트를 이어 붙이는 역할을 함.\n",
    " - 따라서 x_data는 모든 데이터를, y_labels는 모든 데이터에 대응하는 라벨을 순서대로 가지게 됨.\n",
    " - 이렇게 만든 x_data와 y_labels는 이후 모델 학습에 사용됨."
   ]
  },
  {
   "cell_type": "code",
   "execution_count": 12,
   "metadata": {
    "id": "8htdxU-GYLxq"
   },
   "outputs": [],
   "source": [
    "# Combine data and labels into one list\n",
    "x_data_pit = vp_pit_data  + counsel_pit_data\n",
    "y_labels_pit = vp_pit_labels + counsel_pit_labels"
   ]
  },
  {
   "cell_type": "markdown",
   "metadata": {
    "id": "_LOgufi3pIiw"
   },
   "source": [
    "## 데이터 Padding (Optional)\n",
    "\n",
    " - pad_sequences는 시퀀스 데이터(여기서는 x_data)의 길이를 맞춰주는 함수.\n",
    " - 이 함수는 모든 시퀀스 데이터가 동일한 길이를 가지도록 0을 채워넣는 역할을 함.\n",
    " - 이때 `padding='post'`는 시퀀스 `뒤쪽`에 `0`을 채워넣는 것을 의미함.\n",
    " - `dtype='float32'`는 `0`의 데이터 타입을 `float32`로 지정하는 것을 의미함."
   ]
  },
  {
   "cell_type": "code",
   "execution_count": 14,
   "metadata": {
    "collapsed": true,
    "id": "Z0FN6o6_kAHi"
   },
   "outputs": [
    {
     "ename": "NameError",
     "evalue": "name 'x_data' is not defined",
     "output_type": "error",
     "traceback": [
      "\u001b[0;31m---------------------------------------------------------------------------\u001b[0m",
      "\u001b[0;31mNameError\u001b[0m                                 Traceback (most recent call last)",
      "Cell \u001b[0;32mIn[14], line 2\u001b[0m\n\u001b[1;32m      1\u001b[0m \u001b[38;5;66;03m# Pad sequences to the same length\u001b[39;00m\n\u001b[0;32m----> 2\u001b[0m x_data_padded \u001b[38;5;241m=\u001b[39m pad_sequences(\u001b[43mx_data\u001b[49m, padding\u001b[38;5;241m=\u001b[39m\u001b[38;5;124m'\u001b[39m\u001b[38;5;124mpost\u001b[39m\u001b[38;5;124m'\u001b[39m, dtype\u001b[38;5;241m=\u001b[39m\u001b[38;5;124m'\u001b[39m\u001b[38;5;124mfloat32\u001b[39m\u001b[38;5;124m'\u001b[39m)\n",
      "\u001b[0;31mNameError\u001b[0m: name 'x_data' is not defined"
     ]
    }
   ],
   "source": [
    "# Pad sequences to the same length\n",
    "x_data_padded = pad_sequences(x_data, padding='post', dtype='float32')"
   ]
  },
  {
   "cell_type": "markdown",
   "metadata": {
    "id": "KmyvYBvppczK"
   },
   "source": [
    " - pad_sequences로 동일한 길이로 만든 x_data_padded와 라벨 데이터인 y_labels를 numpy 배열로 변환하는 코드.\n",
    " - `np.array` 함수는 주어진 데이터를 `numpy 배열`로 변환해줌.\n",
    " - 이렇게 `numpy` 배열로 변환한 이유는 이후에 사용할 기계학습 라이브러리가 주로 numpy 배열 형태의 데이터를 입력으로 받기 때문.\n",
    " - 따라서, `x_data_array`는 `입력 데이터`를, `y_labels_array`는 해당 데이터의 `라벨`을 각각 가지게 됨.\n",
    " - 이들은 모델 학습 및 평가에 사용됨."
   ]
  },
  {
   "cell_type": "code",
   "execution_count": null,
   "metadata": {
    "id": "Xfs5R0zHpeWQ"
   },
   "outputs": [],
   "source": [
    "# Now you can safely convert to a single numpy array\n",
    "x_data_array = np.array(x_data_padded)\n",
    "y_labels_array = np.array(y_labels)"
   ]
  },
  {
   "cell_type": "code",
   "execution_count": null,
   "metadata": {
    "id": "VKgUcrPH8Z_3"
   },
   "outputs": [],
   "source": [
    "x_data_array = np.array(x_data)\n",
    "y_labels_array = np.array(y_labels)"
   ]
  },
  {
   "cell_type": "code",
   "execution_count": null,
   "metadata": {
    "colab": {
     "base_uri": "https://localhost:8080/"
    },
    "id": "E6X6hWDa9MVN",
    "outputId": "c2c605b9-e86b-41ea-ab67-b53afd20670c"
   },
   "outputs": [],
   "source": [
    "x_data_array.shape"
   ]
  },
  {
   "cell_type": "code",
   "execution_count": null,
   "metadata": {
    "id": "N73-JeKA8jnn"
   },
   "outputs": [],
   "source": [
    "x_data_array_shape = x_data_array.shape"
   ]
  },
  {
   "cell_type": "markdown",
   "metadata": {
    "id": "AdMhyY5qZ6ej"
   },
   "source": [
    "## Convert list to numpy arrays"
   ]
  },
  {
   "cell_type": "code",
   "execution_count": 13,
   "metadata": {
    "id": "2dt8ioU3piHI"
   },
   "outputs": [],
   "source": [
    "# Convert lists to numpy arrays\n",
    "x_data_pit = np.array(x_data_pit)\n",
    "y_labels_pit = np.array(y_labels_pit)"
   ]
  },
  {
   "cell_type": "markdown",
   "metadata": {
    "id": "s5pAKZwapwse"
   },
   "source": [
    "## Data Split"
   ]
  },
  {
   "cell_type": "code",
   "execution_count": 14,
   "metadata": {
    "colab": {
     "base_uri": "https://localhost:8080/"
    },
    "id": "a5PNuX_t88YE",
    "outputId": "82ea3493-245b-45eb-b1dc-cd37df59b76e"
   },
   "outputs": [
    {
     "data": {
      "text/plain": [
       "(10000, 157, 1)"
      ]
     },
     "execution_count": 14,
     "metadata": {},
     "output_type": "execute_result"
    }
   ],
   "source": [
    "x_data_pit.shape"
   ]
  },
  {
   "cell_type": "code",
   "execution_count": 15,
   "metadata": {
    "colab": {
     "base_uri": "https://localhost:8080/"
    },
    "id": "tqM1D_Md898E",
    "outputId": "6a010d03-e060-410d-fb51-3fe1badf423b"
   },
   "outputs": [
    {
     "data": {
      "text/plain": [
       "(10000,)"
      ]
     },
     "execution_count": 15,
     "metadata": {},
     "output_type": "execute_result"
    }
   ],
   "source": [
    "y_labels_pit.shape"
   ]
  },
  {
   "cell_type": "markdown",
   "metadata": {
    "id": "17e6vYAsaE_0"
   },
   "source": [
    "## data splitting"
   ]
  },
  {
   "cell_type": "code",
   "execution_count": 18,
   "metadata": {
    "colab": {
     "base_uri": "https://localhost:8080/"
    },
    "id": "6LMzG5VUMuBQ",
    "outputId": "5d08cf76-e928-4793-bccc-4a7340e389e7"
   },
   "outputs": [
    {
     "name": "stdout",
     "output_type": "stream",
     "text": [
      "Pitch Train data shape: (7000, 157, 1)\n",
      "Pitch Validation data shape: (1500, 157, 1)\n",
      "Pitch Test data shape: (1500, 157, 1)\n"
     ]
    }
   ],
   "source": [
    "from sklearn.model_selection import train_test_split\n",
    "\n",
    "# First, split the dataset into a temporary training set and test set.\n",
    "x_temp_pit, x_test_pit, y_temp_pit, y_test_pit = train_test_split(x_data_pit, y_labels_pit, test_size=1500, random_state=42, shuffle=True)\n",
    "\n",
    "# Split the temporary training set into a final training set and a validation set.\n",
    "x_train_pit, x_val_pit, y_train_pit, y_val_pit = train_test_split(x_temp_pit, y_temp_pit, test_size=1500, random_state=42, shuffle=True)\n",
    "\n",
    "print(f\"Pitch Train data shape: {x_train_pit.shape}\")\n",
    "print(f\"Pitch Validation data shape: {x_val_pit.shape}\")\n",
    "print(f\"Pitch Test data shape: {x_test_pit.shape}\")"
   ]
  },
  {
   "cell_type": "markdown",
   "metadata": {
    "id": "uJP9cXJSyBhD"
   },
   "source": [
    "## 모델 layer 초기화"
   ]
  },
  {
   "cell_type": "code",
   "execution_count": 19,
   "metadata": {
    "id": "VmFr2GXmr-WW"
   },
   "outputs": [],
   "source": [
    "K.clear_session()"
   ]
  },
  {
   "cell_type": "markdown",
   "metadata": {
    "id": "wzH6OJuHp7iz"
   },
   "source": [
    "## Decibel Model Definition"
   ]
  },
  {
   "cell_type": "code",
   "execution_count": 20,
   "metadata": {
    "colab": {
     "base_uri": "https://localhost:8080/"
    },
    "id": "r9frqpCw9BJI",
    "outputId": "71788ae8-1c12-474c-e55c-d651532172c6"
   },
   "outputs": [
    {
     "name": "stderr",
     "output_type": "stream",
     "text": [
      "2023-08-14 02:51:51.741340: I tensorflow/core/platform/cpu_feature_guard.cc:193] This TensorFlow binary is optimized with oneAPI Deep Neural Network Library (oneDNN) to use the following CPU instructions in performance-critical operations:  AVX2 AVX512F FMA\n",
      "To enable them in other operations, rebuild TensorFlow with the appropriate compiler flags.\n",
      "2023-08-14 02:51:53.271621: I tensorflow/core/common_runtime/gpu/gpu_device.cc:1613] Created device /job:localhost/replica:0/task:0/device:GPU:0 with 5565 MB memory:  -> device: 0, name: NVIDIA GeForce RTX 2080, pci bus id: 0000:17:00.0, compute capability: 7.5\n",
      "2023-08-14 02:51:53.272456: I tensorflow/core/common_runtime/gpu/gpu_device.cc:1613] Created device /job:localhost/replica:0/task:0/device:GPU:1 with 6255 MB memory:  -> device: 1, name: NVIDIA GeForce RTX 2080, pci bus id: 0000:b3:00.0, compute capability: 7.5\n"
     ]
    },
    {
     "name": "stdout",
     "output_type": "stream",
     "text": [
      "Model: \"model\"\n",
      "_________________________________________________________________\n",
      " Layer (type)                Output Shape              Param #   \n",
      "=================================================================\n",
      " input_1 (InputLayer)        [(None, 157, 1)]          0         \n",
      "                                                                 \n",
      " normalization (Normalizatio  (None, 157, 1)           315       \n",
      " n)                                                              \n",
      "                                                                 \n",
      " Conv1D_1 (Conv1D)           (None, 157, 32)           128       \n",
      "                                                                 \n",
      " Conv1D_2 (Conv1D)           (None, 157, 64)           6208      \n",
      "                                                                 \n",
      " Conv1D_3 (Conv1D)           (None, 157, 128)          24704     \n",
      "                                                                 \n",
      " Conv1D_4 (Conv1D)           (None, 157, 128)          49280     \n",
      "                                                                 \n",
      " Conv1D_5 (Conv1D)           (None, 157, 256)          98560     \n",
      "                                                                 \n",
      " Conv1D_6 (Conv1D)           (None, 157, 512)          393728    \n",
      "                                                                 \n",
      " global_average_pooling1d (G  (None, 512)              0         \n",
      " lobalAveragePooling1D)                                          \n",
      "                                                                 \n",
      " dense (Dense)               (None, 32)                16416     \n",
      "                                                                 \n",
      " dense_1 (Dense)             (None, 1)                 33        \n",
      "                                                                 \n",
      "=================================================================\n",
      "Total params: 589,372\n",
      "Trainable params: 589,057\n",
      "Non-trainable params: 315\n",
      "_________________________________________________________________\n"
     ]
    }
   ],
   "source": [
    "# Create the Normalization layer\n",
    "norm_layer = Normalization(axis=1)\n",
    "# Adapt it to the data\n",
    "norm_layer.adapt(x_train_pit)\n",
    "\n",
    "# Define the input shape\n",
    "inputs = Input(shape=(x_train_pit.shape[1], 1))\n",
    "# Call it on the inputs\n",
    "x = norm_layer(inputs)\n",
    "\n",
    "# 첫번째 입력에 대한 Convolutional 레이어를 정의합니다.\n",
    "x = Conv1D(32, 3, dilation_rate=1, padding='causal', activation='relu', name=\"Conv1D_1\")(x)\n",
    "x = Conv1D(64, 3, dilation_rate=2, padding='causal', activation='relu', name=\"Conv1D_2\")(x)\n",
    "x = Conv1D(128, 3, dilation_rate=4, padding='causal', activation='relu', name=\"Conv1D_3\")(x)\n",
    "x = Conv1D(128, 3, dilation_rate=8, padding='causal', activation='relu', name=\"Conv1D_4\")(x)\n",
    "x = Conv1D(256, 3, dilation_rate=16, padding='causal', activation='relu', name=\"Conv1D_5\")(x)\n",
    "x = Conv1D(512, 3, dilation_rate=32, padding='causal', activation='relu', name=\"Conv1D_6\")(x)\n",
    "x = GlobalAveragePooling1D()(x)\n",
    "\n",
    "# Dense Layer\n",
    "x = Dense(32, activation='relu')(x)\n",
    "# Output Layer\n",
    "outputs = Dense(1, activation='sigmoid')(x)\n",
    "\n",
    "# Define the model\n",
    "model = Model(inputs=inputs, outputs=outputs)\n",
    "\n",
    "# Model summary\n",
    "model.summary()\n"
   ]
  },
  {
   "cell_type": "markdown",
   "metadata": {
    "id": "fk0ic1ojxVgq"
   },
   "source": [
    "## Plotting model"
   ]
  },
  {
   "cell_type": "code",
   "execution_count": 21,
   "metadata": {
    "colab": {
     "base_uri": "https://localhost:8080/",
     "height": 1000
    },
    "id": "viKYxPd6FB7X",
    "outputId": "eb05b5a2-590f-41de-f185-bca0dd6b1ca2"
   },
   "outputs": [
    {
     "name": "stdout",
     "output_type": "stream",
     "text": [
      "You must install pydot (`pip install pydot`) and install graphviz (see instructions at https://graphviz.gitlab.io/download/) for plot_model to work.\n"
     ]
    }
   ],
   "source": [
    "from tensorflow.keras.utils import plot_model\n",
    "plot_model(model, show_shapes=True, show_layer_activations=True)"
   ]
  },
  {
   "cell_type": "markdown",
   "metadata": {
    "id": "cfGPCn6qxbCV"
   },
   "source": [
    "## Training Model with train data & Final Evaluatation with test data"
   ]
  },
  {
   "cell_type": "code",
   "execution_count": 22,
   "metadata": {
    "colab": {
     "base_uri": "https://localhost:8080/"
    },
    "id": "ZqjfkMeD0X-N",
    "outputId": "97a26271-a87c-41db-f37e-493c882a3a4b",
    "scrolled": true
   },
   "outputs": [
    {
     "name": "stdout",
     "output_type": "stream",
     "text": [
      "Epoch 1/100\n"
     ]
    },
    {
     "name": "stderr",
     "output_type": "stream",
     "text": [
      "2023-08-14 02:52:08.378509: I tensorflow/compiler/xla/stream_executor/cuda/cuda_dnn.cc:428] Loaded cuDNN version 8101\n",
      "2023-08-14 02:52:09.851058: I tensorflow/compiler/xla/service/service.cc:173] XLA service 0x7f83ef20dd20 initialized for platform CUDA (this does not guarantee that XLA will be used). Devices:\n",
      "2023-08-14 02:52:09.851102: I tensorflow/compiler/xla/service/service.cc:181]   StreamExecutor device (0): NVIDIA GeForce RTX 2080, Compute Capability 7.5\n",
      "2023-08-14 02:52:09.851111: I tensorflow/compiler/xla/service/service.cc:181]   StreamExecutor device (1): NVIDIA GeForce RTX 2080, Compute Capability 7.5\n",
      "2023-08-14 02:52:09.855570: I tensorflow/compiler/mlir/tensorflow/utils/dump_mlir_util.cc:268] disabling MLIR crash reproducer, set env var `MLIR_CRASH_REPRODUCER_DIRECTORY` to enable.\n",
      "2023-08-14 02:52:10.029180: I tensorflow/compiler/jit/xla_compilation_cache.cc:477] Compiled cluster using XLA!  This line is logged at most once for the lifetime of the process.\n"
     ]
    },
    {
     "name": "stdout",
     "output_type": "stream",
     "text": [
      "219/219 [==============================] - ETA: 0s - loss: 0.5650 - accuracy: 0.7171\n",
      "Epoch 1: val_accuracy improved from -inf to 0.73333, saving model to 230809_pitch_model.h5\n",
      "219/219 [==============================] - 13s 31ms/step - loss: 0.5650 - accuracy: 0.7171 - val_loss: 0.5466 - val_accuracy: 0.7333\n",
      "Epoch 2/100\n",
      "219/219 [==============================] - ETA: 0s - loss: 0.5195 - accuracy: 0.7514\n",
      "Epoch 2: val_accuracy improved from 0.73333 to 0.73400, saving model to 230809_pitch_model.h5\n",
      "219/219 [==============================] - 5s 21ms/step - loss: 0.5195 - accuracy: 0.7514 - val_loss: 0.5167 - val_accuracy: 0.7340\n",
      "Epoch 3/100\n",
      "219/219 [==============================] - ETA: 0s - loss: 0.4885 - accuracy: 0.7697\n",
      "Epoch 3: val_accuracy improved from 0.73400 to 0.75600, saving model to 230809_pitch_model.h5\n",
      "219/219 [==============================] - 4s 19ms/step - loss: 0.4885 - accuracy: 0.7697 - val_loss: 0.5022 - val_accuracy: 0.7560\n",
      "Epoch 4/100\n",
      "219/219 [==============================] - ETA: 0s - loss: 0.4644 - accuracy: 0.7811\n",
      "Epoch 4: val_accuracy improved from 0.75600 to 0.78067, saving model to 230809_pitch_model.h5\n",
      "219/219 [==============================] - 4s 19ms/step - loss: 0.4644 - accuracy: 0.7811 - val_loss: 0.4639 - val_accuracy: 0.7807\n",
      "Epoch 5/100\n",
      "218/219 [============================>.] - ETA: 0s - loss: 0.4415 - accuracy: 0.8036\n",
      "Epoch 5: val_accuracy did not improve from 0.78067\n",
      "219/219 [==============================] - 4s 18ms/step - loss: 0.4418 - accuracy: 0.8033 - val_loss: 0.4706 - val_accuracy: 0.7747\n",
      "Epoch 6/100\n",
      "218/219 [============================>.] - ETA: 0s - loss: 0.4365 - accuracy: 0.8012\n",
      "Epoch 6: val_accuracy did not improve from 0.78067\n",
      "219/219 [==============================] - 4s 19ms/step - loss: 0.4378 - accuracy: 0.8004 - val_loss: 0.4863 - val_accuracy: 0.7653\n",
      "Epoch 7/100\n",
      "217/219 [============================>.] - ETA: 0s - loss: 0.4162 - accuracy: 0.8174\n",
      "Epoch 7: val_accuracy improved from 0.78067 to 0.80933, saving model to 230809_pitch_model.h5\n",
      "219/219 [==============================] - 4s 19ms/step - loss: 0.4168 - accuracy: 0.8173 - val_loss: 0.4300 - val_accuracy: 0.8093\n",
      "Epoch 8/100\n",
      "219/219 [==============================] - ETA: 0s - loss: 0.4067 - accuracy: 0.8194\n",
      "Epoch 8: val_accuracy did not improve from 0.80933\n",
      "219/219 [==============================] - 4s 18ms/step - loss: 0.4067 - accuracy: 0.8194 - val_loss: 0.4449 - val_accuracy: 0.7947\n",
      "Epoch 9/100\n",
      "217/219 [============================>.] - ETA: 0s - loss: 0.3987 - accuracy: 0.8223\n",
      "Epoch 9: val_accuracy did not improve from 0.80933\n",
      "219/219 [==============================] - 4s 18ms/step - loss: 0.3987 - accuracy: 0.8223 - val_loss: 0.4377 - val_accuracy: 0.8027\n",
      "Epoch 10/100\n",
      "217/219 [============================>.] - ETA: 0s - loss: 0.3764 - accuracy: 0.8345\n",
      "Epoch 10: val_accuracy did not improve from 0.80933\n",
      "219/219 [==============================] - 4s 19ms/step - loss: 0.3768 - accuracy: 0.8339 - val_loss: 0.4272 - val_accuracy: 0.8047\n",
      "Epoch 11/100\n",
      "217/219 [============================>.] - ETA: 0s - loss: 0.3647 - accuracy: 0.8449\n",
      "Epoch 11: val_accuracy improved from 0.80933 to 0.81267, saving model to 230809_pitch_model.h5\n",
      "219/219 [==============================] - 4s 19ms/step - loss: 0.3645 - accuracy: 0.8450 - val_loss: 0.4459 - val_accuracy: 0.8127\n",
      "Epoch 12/100\n",
      "218/219 [============================>.] - ETA: 0s - loss: 0.3575 - accuracy: 0.8426\n",
      "Epoch 12: val_accuracy improved from 0.81267 to 0.81400, saving model to 230809_pitch_model.h5\n",
      "219/219 [==============================] - 4s 19ms/step - loss: 0.3572 - accuracy: 0.8427 - val_loss: 0.4127 - val_accuracy: 0.8140\n",
      "Epoch 13/100\n",
      "219/219 [==============================] - ETA: 0s - loss: 0.3476 - accuracy: 0.8516\n",
      "Epoch 13: val_accuracy did not improve from 0.81400\n",
      "219/219 [==============================] - 4s 19ms/step - loss: 0.3476 - accuracy: 0.8516 - val_loss: 0.4371 - val_accuracy: 0.8073\n",
      "Epoch 14/100\n",
      "217/219 [============================>.] - ETA: 0s - loss: 0.3370 - accuracy: 0.8580\n",
      "Epoch 14: val_accuracy improved from 0.81400 to 0.82333, saving model to 230809_pitch_model.h5\n",
      "219/219 [==============================] - 4s 19ms/step - loss: 0.3362 - accuracy: 0.8584 - val_loss: 0.4000 - val_accuracy: 0.8233\n",
      "Epoch 15/100\n",
      "219/219 [==============================] - ETA: 0s - loss: 0.3204 - accuracy: 0.8617\n",
      "Epoch 15: val_accuracy did not improve from 0.82333\n",
      "219/219 [==============================] - 4s 18ms/step - loss: 0.3204 - accuracy: 0.8617 - val_loss: 0.4368 - val_accuracy: 0.8107\n",
      "Epoch 16/100\n",
      "216/219 [============================>.] - ETA: 0s - loss: 0.3080 - accuracy: 0.8665\n",
      "Epoch 16: val_accuracy improved from 0.82333 to 0.82400, saving model to 230809_pitch_model.h5\n",
      "219/219 [==============================] - 4s 19ms/step - loss: 0.3080 - accuracy: 0.8663 - val_loss: 0.3927 - val_accuracy: 0.8240\n",
      "Epoch 17/100\n",
      "218/219 [============================>.] - ETA: 0s - loss: 0.2901 - accuracy: 0.8766\n",
      "Epoch 17: val_accuracy did not improve from 0.82400\n",
      "219/219 [==============================] - 4s 19ms/step - loss: 0.2902 - accuracy: 0.8766 - val_loss: 0.4209 - val_accuracy: 0.8167\n",
      "Epoch 18/100\n",
      "219/219 [==============================] - ETA: 0s - loss: 0.2790 - accuracy: 0.8793\n",
      "Epoch 18: val_accuracy did not improve from 0.82400\n",
      "219/219 [==============================] - 4s 19ms/step - loss: 0.2790 - accuracy: 0.8793 - val_loss: 0.4286 - val_accuracy: 0.8200\n",
      "Epoch 19/100\n",
      "217/219 [============================>.] - ETA: 0s - loss: 0.2619 - accuracy: 0.8881\n",
      "Epoch 19: val_accuracy did not improve from 0.82400\n",
      "219/219 [==============================] - 4s 19ms/step - loss: 0.2618 - accuracy: 0.8880 - val_loss: 0.4320 - val_accuracy: 0.8140\n"
     ]
    }
   ],
   "source": [
    "# EarlyStopping callback\n",
    "early_stopping = EarlyStopping(monitor='val_loss', patience=3, mode='auto')\n",
    "\n",
    "# ModelCheckpoint callback\n",
    "model_checkpoint = ModelCheckpoint(\n",
    "    '230809_pitch_model.h5',  # Path where to save the model\n",
    "    monitor='val_accuracy',  # The metric to monitor\n",
    "    verbose=1,  # Log info\n",
    "    save_best_only=True,  # Only save the best model\n",
    "    mode='max',  # Maximize val_accuracy\n",
    "    overwrite=True\n",
    ")\n",
    "\n",
    "callbacks = [early_stopping, model_checkpoint]\n",
    "\n",
    "# Compile the model\n",
    "model.compile(optimizer=Adam(), loss='binary_crossentropy', metrics=['accuracy'])\n",
    "\n",
    "# Fit the model\n",
    "history = model.fit(x_train_pit, y_train_pit,\n",
    "                    validation_data=(x_val_pit, y_val_pit),\n",
    "                    epochs=100, batch_size=32,\n",
    "                    callbacks=callbacks) # Add the callbacks to the model fit method\n"
   ]
  },
  {
   "cell_type": "markdown",
   "metadata": {
    "id": "E_14E_phmGXf"
   },
   "source": [
    "## Plot Accuracy & Loss of train, validation data"
   ]
  },
  {
   "cell_type": "code",
   "execution_count": 23,
   "metadata": {
    "colab": {
     "base_uri": "https://localhost:8080/",
     "height": 292
    },
    "id": "YO2zQmRYmCPV",
    "outputId": "c578ea88-dca3-446c-c7e6-e93e641d5f9b"
   },
   "outputs": [
    {
     "data": {
      "image/png": "[encoded data removed]",
      "text/plain": [
       "<Figure size 1200x500 with 2 Axes>"
      ]
     },
     "metadata": {},
     "output_type": "display_data"
    }
   ],
   "source": [
    "# seaborn 스타일 설정\n",
    "sns.set()\n",
    "\n",
    "# 그림 생성\n",
    "plt.figure(figsize=(12,5))\n",
    "\n",
    "# 훈련 및 검증 정확도 그리기\n",
    "plt.subplot(1,2,1)\n",
    "plt.plot(history.history['accuracy'])\n",
    "plt.plot(history.history['val_accuracy'])\n",
    "plt.title('Model Accuracy')\n",
    "plt.ylabel('Accuracy')\n",
    "plt.xlabel('Epoch')\n",
    "plt.legend(['Train', 'Validation'], loc='upper left')\n",
    "\n",
    "# 훈련 및 검증 손실 값 그리기\n",
    "plt.subplot(1,2,2)\n",
    "plt.plot(history.history['loss'])\n",
    "plt.plot(history.history['val_loss'])\n",
    "plt.title('Model Loss')\n",
    "plt.ylabel('Loss')\n",
    "plt.xlabel('Epoch')\n",
    "plt.legend(['Train', 'Validation'], loc='upper left')\n",
    "\n",
    "plt.tight_layout()\n",
    "plt.show()\n"
   ]
  },
  {
   "cell_type": "markdown",
   "metadata": {
    "id": "gGrkSpJO7RRA"
   },
   "source": [
    "## Best val accuracy model로 final evaluate"
   ]
  },
  {
   "cell_type": "code",
   "execution_count": 24,
   "metadata": {
    "colab": {
     "base_uri": "https://localhost:8080/"
    },
    "id": "G_PNWCN77Qbe",
    "outputId": "b78fb499-a690-4b3f-e5c7-a532f74f875e"
   },
   "outputs": [
    {
     "name": "stdout",
     "output_type": "stream",
     "text": [
      "47/47 [==============================] - 1s 8ms/step - loss: 0.3686 - accuracy: 0.8433\n",
      "Test Loss: 0.36855342984199524\n",
      "Test Accuracy: 0.8433333039283752\n"
     ]
    }
   ],
   "source": [
    "from tensorflow.keras.models import load_model\n",
    "\n",
    "# Load the saved model\n",
    "model_best = load_model('230809_pitch_model.h5')\n",
    "\n",
    "# Evaluate the model using test data\n",
    "test_loss, test_accuracy = model_best.evaluate(x_test_pit, y_test_pit)\n",
    "\n",
    "print(f'Test Loss: {test_loss}')\n",
    "print(f'Test Accuracy: {test_accuracy}')\n"
   ]
  },
  {
   "cell_type": "markdown",
   "metadata": {
    "id": "kWo45U3NTwkT"
   },
   "source": [
    "## draw confusion matrix"
   ]
  },
  {
   "cell_type": "code",
   "execution_count": 25,
   "metadata": {
    "colab": {
     "base_uri": "https://localhost:8080/",
     "height": 568
    },
    "id": "HubWVnW5TvFA",
    "outputId": "0d8e8e14-9f43-42be-ce8e-e894118e4d43"
   },
   "outputs": [
    {
     "name": "stdout",
     "output_type": "stream",
     "text": [
      "47/47 [==============================] - 0s 5ms/step\n"
     ]
    },
    {
     "data": {
      "image/png": "[encoded data removed]",
      "text/plain": [
       "<Figure size 1000x700 with 2 Axes>"
      ]
     },
     "metadata": {},
     "output_type": "display_data"
    }
   ],
   "source": [
    "import numpy as np\n",
    "from sklearn.metrics import confusion_matrix\n",
    "import seaborn as sns\n",
    "import matplotlib.pyplot as plt\n",
    "import pandas as pd\n",
    "\n",
    "# Assuming model is your trained model and X_test and y_test are your test data and labels:\n",
    "y_pred = model_best.predict(x_test_pit)\n",
    "y_pred = np.round(y_pred).flatten()  # flatten and round predictions to match label format\n",
    "\n",
    "# Calculate the confusion matrix\n",
    "cm = confusion_matrix(y_test_pit, y_pred)\n",
    "\n",
    "# Create a DataFrame from the confusion matrix\n",
    "# negative = 0 ; 보이스피싱범, positive = 1 ; 상담원\n",
    "cm_df = pd.DataFrame(cm, index=['Negative', 'Positive'], columns=['Negative', 'Positive'])\n",
    "\n",
    "# Plot confusion matrix\n",
    "plt.figure(figsize=(10, 7))\n",
    "sns.heatmap(cm_df, annot=True, fmt='d', cmap='Blues')  # 'd' stands for integer formatting\n",
    "plt.title('Confusion Matrix')\n",
    "plt.ylabel('True label')\n",
    "plt.xlabel('Predicted label')\n",
    "plt.show()\n"
   ]
  },
  {
   "cell_type": "markdown",
   "metadata": {
    "id": "fsnzFLOoGjBV"
   },
   "source": [
    " - True Negative (왼쪽 위 셀): 보이스피싱이라고 예측하고 실제로 보이스피싱인 경우\n",
    " - False Positive (오른쪽 위 셀): 일반 상담이라고 예측하였지만 실제로는 보이스피싱인 경우\n",
    " - False Negative (왼쪽 아래 셀): 보이스피싱이라고 예측하였지만 실제로는 일반 상담인 경우\n",
    " - True Positive (오른쪽 아래 셀): 일반 상담이라고 예측하고 실제로 일반 상담인 경우"
   ]
  },
  {
   "cell_type": "markdown",
   "metadata": {
    "id": "yCXAYKoBBYQG"
   },
   "source": [
    "## 불러온 모델로 새로운 data에 대한 predict"
   ]
  },
  {
   "cell_type": "code",
   "execution_count": 26,
   "metadata": {
    "id": "6MfYIoNwFCeu"
   },
   "outputs": [
    {
     "name": "stdout",
     "output_type": "stream",
     "text": [
      "Model: \"model\"\n",
      "_________________________________________________________________\n",
      " Layer (type)                Output Shape              Param #   \n",
      "=================================================================\n",
      " input_1 (InputLayer)        [(None, 157, 1)]          0         \n",
      "                                                                 \n",
      " normalization (Normalizatio  (None, 157, 1)           315       \n",
      " n)                                                              \n",
      "                                                                 \n",
      " Conv1D_1 (Conv1D)           (None, 157, 32)           128       \n",
      "                                                                 \n",
      " Conv1D_2 (Conv1D)           (None, 157, 64)           6208      \n",
      "                                                                 \n",
      " Conv1D_3 (Conv1D)           (None, 157, 128)          24704     \n",
      "                                                                 \n",
      " Conv1D_4 (Conv1D)           (None, 157, 128)          49280     \n",
      "                                                                 \n",
      " Conv1D_5 (Conv1D)           (None, 157, 256)          98560     \n",
      "                                                                 \n",
      " Conv1D_6 (Conv1D)           (None, 157, 512)          393728    \n",
      "                                                                 \n",
      " global_average_pooling1d (G  (None, 512)              0         \n",
      " lobalAveragePooling1D)                                          \n",
      "                                                                 \n",
      " dense (Dense)               (None, 32)                16416     \n",
      "                                                                 \n",
      " dense_1 (Dense)             (None, 1)                 33        \n",
      "                                                                 \n",
      "=================================================================\n",
      "Total params: 589,372\n",
      "Trainable params: 589,057\n",
      "Non-trainable params: 315\n",
      "_________________________________________________________________\n",
      "Input Shape: [(None, 157, 1)]\n",
      "Input Data Type: float32\n"
     ]
    }
   ],
   "source": [
    "# Load the saved model\n",
    "model_best = load_model('230809_pitch_model.h5')\n",
    "\n",
    "# 모델의 모든 레이어에 대한 정보를 출력합니다.\n",
    "model_best.summary()\n",
    "\n",
    "# 모델의 첫 번째 입력 레이어의 형상과 데이터 형식을 확인합니다.\n",
    "input_shape = model_best.layers[0].input_shape\n",
    "input_dtype = model_best.layers[0].dtype\n",
    "\n",
    "print(\"Input Shape:\", input_shape)\n",
    "print(\"Input Data Type:\", input_dtype)\n"
   ]
  },
  {
   "cell_type": "markdown",
   "metadata": {},
   "source": [
    "## Real world data loading"
   ]
  },
  {
   "cell_type": "code",
   "execution_count": 27,
   "metadata": {},
   "outputs": [
    {
     "name": "stdout",
     "output_type": "stream",
     "text": [
      "['counsel_pitch_st (43).npy', 'counsel_pitch_st (50).npy', 'counsel_pitch_st (6).npy', 'counsel_pitch_st (3).npy', 'counsel_pitch_st (37).npy', 'counsel_pitch_st (14).npy', 'counsel_pitch_st (39).npy', 'counsel_pitch_st (40).npy', 'counsel_pitch_st (2).npy', 'counsel_pitch_st (15).npy', 'counsel_pitch_st (27).npy', 'counsel_pitch_st (44).npy', 'counsel_pitch_st (49).npy', 'counsel_pitch_st (34).npy', 'counsel_pitch_st (9).npy', 'counsel_pitch_st (1).npy', 'counsel_pitch_st (4).npy', 'counsel_pitch_st (33).npy', 'counsel_pitch_st (36).npy', 'counsel_pitch_st (23).npy', 'counsel_pitch_st (11).npy', 'counsel_pitch_st (30).npy', 'counsel_pitch_st (47).npy', 'counsel_pitch_st (52).npy', 'counsel_pitch_st (29).npy', 'counsel_pitch_st (28).npy', 'counsel_pitch_st (45).npy', 'counsel_pitch_st (32).npy', 'counsel_pitch_st (16).npy', 'counsel_pitch_st (26).npy', 'counsel_pitch_st (42).npy', 'counsel_pitch_st (24).npy', 'counsel_pitch_st (38).npy', 'counsel_pitch_st (22).npy', 'counsel_pitch_st (48).npy', 'counsel_pitch_st (17).npy', 'counsel_pitch_st (21).npy', 'counsel_pitch_st (35).npy', 'counsel_pitch_st (7).npy', 'counsel_pitch_st (5).npy', 'counsel_pitch_st (51).npy', 'counsel_pitch_st (10).npy', 'counsel_pitch_st (41).npy', 'counsel_pitch_st (25).npy', 'counsel_pitch_st (46).npy', 'counsel_pitch_st (20).npy', 'counsel_pitch_st (19).npy', 'counsel_pitch_st (31).npy', 'counsel_pitch_st (13).npy', 'counsel_pitch_st (18).npy', 'counsel_pitch_st (12).npy', 'counsel_pitch_st (8).npy']\n",
      "52\n"
     ]
    }
   ],
   "source": [
    "import os\n",
    "import numpy as np\n",
    "\n",
    "# test set upload\n",
    "path = './testing_counsel_pitch_52/' #경로 지정하기!!!!\n",
    "file_list = os.listdir(path)\n",
    "file_list_pitch = [file for file in file_list if file.endswith('.npy')] \n",
    "print(file_list_pitch)\n",
    "print(len(file_list_pitch))"
   ]
  },
  {
   "cell_type": "markdown",
   "metadata": {
    "id": "QUhhgOhWvrvo"
   },
   "source": [
    "## Predictions for chunks and save label to the list"
   ]
  },
  {
   "cell_type": "code",
   "execution_count": 28,
   "metadata": {
    "id": "r24PwarEugjk",
    "scrolled": true
   },
   "outputs": [
    {
     "name": "stdout",
     "output_type": "stream",
     "text": [
      "\n",
      "=== Predictions ===\n",
      "\n",
      "2/2 [==============================] - 0s 123ms/step\n",
      "=== File 1 ===\n",
      "Class 0 Probability: 0.93356440961360931396\n",
      "Class 1 Probability: 0.06643559038639068604\n",
      "Predicted Label: 0\n",
      "=============================\n",
      "\n",
      "=== File 2 ===\n",
      "Class 0 Probability: 0.89369283616542816162\n",
      "Class 1 Probability: 0.10630716383457183838\n",
      "Predicted Label: 0\n",
      "=============================\n",
      "\n",
      "=== File 3 ===\n",
      "Class 0 Probability: 0.25166416168212890625\n",
      "Class 1 Probability: 0.74833583831787109375\n",
      "Predicted Label: 1\n",
      "=============================\n",
      "\n",
      "=== File 4 ===\n",
      "Class 0 Probability: 0.47819155454635620117\n",
      "Class 1 Probability: 0.52180844545364379883\n",
      "Predicted Label: 1\n",
      "=============================\n",
      "\n",
      "=== File 5 ===\n",
      "Class 0 Probability: 0.93464878946542739868\n",
      "Class 1 Probability: 0.06535121053457260132\n",
      "Predicted Label: 0\n",
      "=============================\n",
      "\n",
      "=== File 6 ===\n",
      "Class 0 Probability: 0.21156942844390869141\n",
      "Class 1 Probability: 0.78843057155609130859\n",
      "Predicted Label: 1\n",
      "=============================\n",
      "\n",
      "=== File 7 ===\n",
      "Class 0 Probability: 0.02230083942413330078\n",
      "Class 1 Probability: 0.97769916057586669922\n",
      "Predicted Label: 1\n",
      "=============================\n",
      "\n",
      "=== File 8 ===\n",
      "Class 0 Probability: 0.16060262918472290039\n",
      "Class 1 Probability: 0.83939737081527709961\n",
      "Predicted Label: 1\n",
      "=============================\n",
      "\n",
      "=== File 9 ===\n",
      "Class 0 Probability: 0.59109553694725036621\n",
      "Class 1 Probability: 0.40890446305274963379\n",
      "Predicted Label: 0\n",
      "=============================\n",
      "\n",
      "=== File 10 ===\n",
      "Class 0 Probability: 0.90971396863460540771\n",
      "Class 1 Probability: 0.09028603136539459229\n",
      "Predicted Label: 0\n",
      "=============================\n",
      "\n",
      "=== File 11 ===\n",
      "Class 0 Probability: 0.08867716789245605469\n",
      "Class 1 Probability: 0.91132283210754394531\n",
      "Predicted Label: 1\n",
      "=============================\n",
      "\n",
      "=== File 12 ===\n",
      "Class 0 Probability: 0.47635298967361450195\n",
      "Class 1 Probability: 0.52364701032638549805\n",
      "Predicted Label: 1\n",
      "=============================\n",
      "\n",
      "=== File 13 ===\n",
      "Class 0 Probability: 0.46189045906066894531\n",
      "Class 1 Probability: 0.53810954093933105469\n",
      "Predicted Label: 1\n",
      "=============================\n",
      "\n",
      "=== File 14 ===\n",
      "Class 0 Probability: 0.11064040660858154297\n",
      "Class 1 Probability: 0.88935959339141845703\n",
      "Predicted Label: 1\n",
      "=============================\n",
      "\n",
      "=== File 15 ===\n",
      "Class 0 Probability: 0.08385545015335083008\n",
      "Class 1 Probability: 0.91614454984664916992\n",
      "Predicted Label: 1\n",
      "=============================\n",
      "\n",
      "=== File 16 ===\n",
      "Class 0 Probability: 0.42839062213897705078\n",
      "Class 1 Probability: 0.57160937786102294922\n",
      "Predicted Label: 1\n",
      "=============================\n",
      "\n",
      "=== File 17 ===\n",
      "Class 0 Probability: 0.04683053493499755859\n",
      "Class 1 Probability: 0.95316946506500244141\n",
      "Predicted Label: 1\n",
      "=============================\n",
      "\n",
      "=== File 18 ===\n",
      "Class 0 Probability: 0.21021068096160888672\n",
      "Class 1 Probability: 0.78978931903839111328\n",
      "Predicted Label: 1\n",
      "=============================\n",
      "\n",
      "=== File 19 ===\n",
      "Class 0 Probability: 0.26565408706665039062\n",
      "Class 1 Probability: 0.73434591293334960938\n",
      "Predicted Label: 1\n",
      "=============================\n",
      "\n",
      "=== File 20 ===\n",
      "Class 0 Probability: 0.10833537578582763672\n",
      "Class 1 Probability: 0.89166462421417236328\n",
      "Predicted Label: 1\n",
      "=============================\n",
      "\n",
      "=== File 21 ===\n",
      "Class 0 Probability: 0.90178251266479492188\n",
      "Class 1 Probability: 0.09821748733520507812\n",
      "Predicted Label: 0\n",
      "=============================\n",
      "\n",
      "=== File 22 ===\n",
      "Class 0 Probability: 0.11605548858642578125\n",
      "Class 1 Probability: 0.88394451141357421875\n",
      "Predicted Label: 1\n",
      "=============================\n",
      "\n",
      "=== File 23 ===\n",
      "Class 0 Probability: 0.04875320196151733398\n",
      "Class 1 Probability: 0.95124679803848266602\n",
      "Predicted Label: 1\n",
      "=============================\n",
      "\n",
      "=== File 24 ===\n",
      "Class 0 Probability: 0.09680277109146118164\n",
      "Class 1 Probability: 0.90319722890853881836\n",
      "Predicted Label: 1\n",
      "=============================\n",
      "\n",
      "=== File 25 ===\n",
      "Class 0 Probability: 0.31252157688140869141\n",
      "Class 1 Probability: 0.68747842311859130859\n",
      "Predicted Label: 1\n",
      "=============================\n",
      "\n",
      "=== File 26 ===\n",
      "Class 0 Probability: 0.14169061183929443359\n",
      "Class 1 Probability: 0.85830938816070556641\n",
      "Predicted Label: 1\n",
      "=============================\n",
      "\n",
      "=== File 27 ===\n",
      "Class 0 Probability: 0.15803337097167968750\n",
      "Class 1 Probability: 0.84196662902832031250\n",
      "Predicted Label: 1\n",
      "=============================\n",
      "\n",
      "=== File 28 ===\n",
      "Class 0 Probability: 0.31129276752471923828\n",
      "Class 1 Probability: 0.68870723247528076172\n",
      "Predicted Label: 1\n",
      "=============================\n",
      "\n",
      "=== File 29 ===\n",
      "Class 0 Probability: 0.00635069608688354492\n",
      "Class 1 Probability: 0.99364930391311645508\n",
      "Predicted Label: 1\n",
      "=============================\n",
      "\n",
      "=== File 30 ===\n",
      "Class 0 Probability: 0.27645277976989746094\n",
      "Class 1 Probability: 0.72354722023010253906\n",
      "Predicted Label: 1\n",
      "=============================\n",
      "\n",
      "=== File 31 ===\n",
      "Class 0 Probability: 0.07502198219299316406\n",
      "Class 1 Probability: 0.92497801780700683594\n",
      "Predicted Label: 1\n",
      "=============================\n",
      "\n",
      "=== File 32 ===\n",
      "Class 0 Probability: 0.00420701503753662109\n",
      "Class 1 Probability: 0.99579298496246337891\n",
      "Predicted Label: 1\n",
      "=============================\n",
      "\n",
      "=== File 33 ===\n",
      "Class 0 Probability: 0.97196895629167556763\n",
      "Class 1 Probability: 0.02803104370832443237\n",
      "Predicted Label: 0\n",
      "=============================\n",
      "\n",
      "=== File 34 ===\n",
      "Class 0 Probability: 0.93227958679199218750\n",
      "Class 1 Probability: 0.06772041320800781250\n",
      "Predicted Label: 0\n",
      "=============================\n",
      "\n",
      "=== File 35 ===\n",
      "Class 0 Probability: 0.04052352905273437500\n",
      "Class 1 Probability: 0.95947647094726562500\n",
      "Predicted Label: 1\n",
      "=============================\n",
      "\n",
      "=== File 36 ===\n",
      "Class 0 Probability: 0.69565281271934509277\n",
      "Class 1 Probability: 0.30434718728065490723\n",
      "Predicted Label: 0\n",
      "=============================\n",
      "\n",
      "=== File 37 ===\n",
      "Class 0 Probability: 0.01580071449279785156\n",
      "Class 1 Probability: 0.98419928550720214844\n",
      "Predicted Label: 1\n",
      "=============================\n",
      "\n",
      "=== File 38 ===\n",
      "Class 0 Probability: 0.36246979236602783203\n",
      "Class 1 Probability: 0.63753020763397216797\n",
      "Predicted Label: 1\n",
      "=============================\n",
      "\n",
      "=== File 39 ===\n",
      "Class 0 Probability: 0.68482479453086853027\n",
      "Class 1 Probability: 0.31517520546913146973\n",
      "Predicted Label: 0\n",
      "=============================\n",
      "\n",
      "=== File 40 ===\n",
      "Class 0 Probability: 0.99205607827752828598\n",
      "Class 1 Probability: 0.00794392172247171402\n",
      "Predicted Label: 0\n",
      "=============================\n",
      "\n",
      "=== File 41 ===\n",
      "Class 0 Probability: 0.20137822628021240234\n",
      "Class 1 Probability: 0.79862177371978759766\n",
      "Predicted Label: 1\n",
      "=============================\n",
      "\n",
      "=== File 42 ===\n",
      "Class 0 Probability: 0.63299149274826049805\n",
      "Class 1 Probability: 0.36700850725173950195\n",
      "Predicted Label: 0\n",
      "=============================\n",
      "\n",
      "=== File 43 ===\n",
      "Class 0 Probability: 0.04192703962326049805\n",
      "Class 1 Probability: 0.95807296037673950195\n",
      "Predicted Label: 1\n",
      "=============================\n",
      "\n",
      "=== File 44 ===\n",
      "Class 0 Probability: 0.27934026718139648438\n",
      "Class 1 Probability: 0.72065973281860351562\n",
      "Predicted Label: 1\n",
      "=============================\n",
      "\n",
      "=== File 45 ===\n",
      "Class 0 Probability: 0.12448632717132568359\n",
      "Class 1 Probability: 0.87551367282867431641\n",
      "Predicted Label: 1\n",
      "=============================\n",
      "\n",
      "=== File 46 ===\n",
      "Class 0 Probability: 0.15370303392410278320\n",
      "Class 1 Probability: 0.84629696607589721680\n",
      "Predicted Label: 1\n",
      "=============================\n",
      "\n",
      "=== File 47 ===\n",
      "Class 0 Probability: 0.03559267520904541016\n",
      "Class 1 Probability: 0.96440732479095458984\n",
      "Predicted Label: 1\n",
      "=============================\n",
      "\n",
      "=== File 48 ===\n",
      "Class 0 Probability: 0.05575215816497802734\n",
      "Class 1 Probability: 0.94424784183502197266\n",
      "Predicted Label: 1\n",
      "=============================\n",
      "\n",
      "=== File 49 ===\n",
      "Class 0 Probability: 0.57045260071754455566\n",
      "Class 1 Probability: 0.42954739928245544434\n",
      "Predicted Label: 0\n",
      "=============================\n",
      "\n",
      "=== File 50 ===\n",
      "Class 0 Probability: 0.27226203680038452148\n",
      "Class 1 Probability: 0.72773796319961547852\n",
      "Predicted Label: 1\n",
      "=============================\n",
      "\n",
      "=== File 51 ===\n",
      "Class 0 Probability: 0.01905268430709838867\n",
      "Class 1 Probability: 0.98094731569290161133\n",
      "Predicted Label: 1\n",
      "=============================\n",
      "\n",
      "=== File 52 ===\n",
      "Class 0 Probability: 0.17080652713775634766\n",
      "Class 1 Probability: 0.82919347286224365234\n",
      "Predicted Label: 1\n",
      "=============================\n",
      "\n",
      "Predicted Labels List: [0, 0, 1, 1, 0, 1, 1, 1, 0, 0, 1, 1, 1, 1, 1, 1, 1, 1, 1, 1, 0, 1, 1, 1, 1, 1, 1, 1, 1, 1, 1, 1, 0, 0, 1, 0, 1, 1, 0, 0, 1, 0, 1, 1, 1, 1, 1, 1, 0, 1, 1, 1]\n"
     ]
    }
   ],
   "source": [
    "import numpy as np\n",
    "\n",
    "def preprocess_files(file_list_pitch):\n",
    "    reshaped_files = []\n",
    "    for file in file_list_pitch:\n",
    "        data = np.load(path + file)\n",
    "        reshaped_data = data.reshape(1, 157, 1)\n",
    "        reshaped_files.append(reshaped_data)\n",
    "    return np.vstack(reshaped_files).astype('float32')\n",
    "\n",
    "def predict_with_model(model_best, file_list_pitch):\n",
    "    data = preprocess_files(file_list_pitch)\n",
    "    probabilities = model_best.predict(data)\n",
    "    # 확률이 0.5 이상이면 1, 0.5 미만이면 0\n",
    "    labels = [1 if prob[0] >= 0.5 else 0 for prob in probabilities]\n",
    "\n",
    "    for idx, probability in enumerate(probabilities):\n",
    "        class_0_prob = 1 - probability[0]\n",
    "        class_1_prob = probability[0]\n",
    "        \n",
    "        print(f\"=== File {idx+1} ===\")\n",
    "        print(f\"Class 0 Probability: {class_0_prob:.20f}\")\n",
    "        print(f\"Class 1 Probability: {class_1_prob:.20f}\")\n",
    "        print(\"Predicted Label:\", labels[idx])\n",
    "        print(\"=============================\\n\")\n",
    "\n",
    "    return probabilities, labels\n",
    "\n",
    "# Define model_best and file_list_pitch appropriately before calling predict_with_model\n",
    "\n",
    "print(\"\\n=== Predictions ===\\n\")\n",
    "predictions, labels = predict_with_model(model_best, file_list_pitch)\n",
    "print(\"Predicted Labels List:\", labels)\n"
   ]
  }
 ],
 "metadata": {
  "accelerator": "GPU",
  "colab": {
   "collapsed_sections": [
    "HQ3Jqjfb6edH",
    "_LOgufi3pIiw",
    "fk0ic1ojxVgq",
    "cfGPCn6qxbCV",
    "E_14E_phmGXf",
    "kWo45U3NTwkT",
    "yCXAYKoBBYQG",
    "QUhhgOhWvrvo",
    "l4xodsSyvmfE"
   ],
   "gpuType": "T4",
   "provenance": []
  },
  "kernelspec": {
   "display_name": "mldl_keras",
   "language": "python",
   "name": "mldl_keras"
  },
  "language_info": {
   "codemirror_mode": {
    "name": "ipython",
    "version": 3
   },
   "file_extension": ".py",
   "mimetype": "text/x-python",
   "name": "python",
   "nbconvert_exporter": "python",
   "pygments_lexer": "ipython3",
   "version": "3.8.17"
  }
 },
 "nbformat": 4,
 "nbformat_minor": 1
}
