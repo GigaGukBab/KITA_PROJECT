{
 "cells": [
  {
   "cell_type": "markdown",
   "metadata": {
    "id": "U_yHuup72bs_"
   },
   "source": [
    "# **Decibel Model Main Code**"
   ]
  },
  {
   "cell_type": "markdown",
   "metadata": {},
   "source": [
    "## 알집파일 해제코드(Optional)"
   ]
  },
  {
   "cell_type": "code",
   "execution_count": 1,
   "metadata": {},
   "outputs": [],
   "source": [
    "import zipfile\n",
    "\n",
    "zip_path_dB_counsel_6352 = './dB_counel_6352.zip'\n",
    "dir_path_dB_counsel_6352 = './dB_counel(6352)'\n",
    "\n",
    "with zipfile.ZipFile(zip_path_dB_counsel_6352, 'r') as zip_ref:\n",
    "    zip_ref.extractall(dir_path_dB_counsel_6352)"
   ]
  },
  {
   "cell_type": "code",
   "execution_count": 3,
   "metadata": {},
   "outputs": [
    {
     "name": "stdout",
     "output_type": "stream",
     "text": [
      "6352\n"
     ]
    }
   ],
   "source": [
    "import os\n",
    "count=0\n",
    "for filename in os.listdir(dir_path_dB_counsel_6352):\n",
    "    if filename.endswith(\".npy\"):\n",
    "        count+=1\n",
    "\n",
    "print(count)"
   ]
  },
  {
   "cell_type": "code",
   "execution_count": 4,
   "metadata": {},
   "outputs": [],
   "source": [
    "import zipfile\n",
    "\n",
    "zip_path_dB_vp_4756 = './dB_vp_4756.zip'\n",
    "dir_path_dB_vp_4756 = './dB_vp(4756)'\n",
    "\n",
    "with zipfile.ZipFile(zip_path_dB_vp_4756, 'r') as zip_ref:\n",
    "    zip_ref.extractall(dir_path_dB_vp_4756)"
   ]
  },
  {
   "cell_type": "code",
   "execution_count": 5,
   "metadata": {},
   "outputs": [
    {
     "name": "stdout",
     "output_type": "stream",
     "text": [
      "4756\n"
     ]
    }
   ],
   "source": [
    "count=0\n",
    "for filename in os.listdir(dir_path_dB_vp_4756):\n",
    "    if filename.endswith(\".npy\"):\n",
    "        count+=1\n",
    "\n",
    "print(count)\n"
   ]
  },
  {
   "cell_type": "markdown",
   "metadata": {
    "id": "jtQ0NBl6nmWQ"
   },
   "source": [
    "## 필요 Import문 및 Module"
   ]
  },
  {
   "cell_type": "code",
   "execution_count": 7,
   "metadata": {
    "id": "KRTQYKQq2btG"
   },
   "outputs": [],
   "source": [
    "import os\n",
    "import numpy as np\n",
    "import glob\n",
    "from tensorflow.keras.layers.experimental.preprocessing import Normalization\n",
    "from tensorflow.keras.models import Sequential, Model\n",
    "from tensorflow.keras.layers import (Conv1D, Dense, MaxPooling1D,\n",
    "                                     BatchNormalization,\n",
    "                                     GlobalAveragePooling1D,\n",
    "                                     GlobalMaxPool1D,  Flatten, Dropout,\n",
    "                                     Activation, Input)\n",
    "from tensorflow.keras.callbacks import EarlyStopping, ModelCheckpoint, LearningRateScheduler\n",
    "from tensorflow.keras.optimizers import Adam\n",
    "from tensorflow.keras.layers import concatenate\n",
    "from tensorflow.keras.preprocessing.sequence import pad_sequences\n",
    "from sklearn.model_selection import train_test_split\n",
    "import keras.backend as K\n",
    "from tensorflow.keras.callbacks import EarlyStopping\n",
    "from tensorflow.keras.callbacks import LearningRateScheduler\n",
    "from tensorflow.keras.optimizers import Adam\n",
    "from tensorflow.keras.models import load_model\n",
    "import tensorflow as tf\n",
    "from tensorflow.keras.utils import plot_model\n",
    "import matplotlib.pyplot as plt\n",
    "import seaborn as sns"
   ]
  },
  {
   "cell_type": "markdown",
   "metadata": {
    "id": "b2t2M8BxV8Qw"
   },
   "source": [
    "## load decibel data\n",
    " - reshape(-1, 1) : 불러온 numpy 데이터를 2차원으로 변환\n",
    "\n",
    " - -1은 나머지 차원을 자동으로 계산하라는 의미로, (n, 1) 형태의 2차원 배열로 변환하게 됨.\n",
    "\n",
    " - 지정된 폴더 내의 모든 numpy 데이터 파일을 불러와서 2차원 배열로 변환한 후, 이를 하나의 리스트에 저장\n",
    "\n",
    " - 1차원 numpy 배열을 .reshape(-1, 1)을 사용하여 2차원으로 변환하고 있다.\n",
    "\n",
    " - 이렇게 하면 각 데이터 포인트(데시벨 데이터의 각 값)는 하나의 특징만 가지는 `시퀀스`로 간주됨.\n",
    "\n",
    " - 이렇게 변환한 데이터를 Conv1D 레이어에 입력으로 제공하면, 레이어는 이 시퀀스 데이터의 지역적인 패턴을 학습하여 보이스피싱인지 일반 상담인지를 판단하는 데 도움이 되는 특징을 추출하게 된다.\n",
    "\n"
   ]
  },
  {
   "cell_type": "markdown",
   "metadata": {
    "id": "OUgSxyoToymM"
   },
   "source": [
    " - 즉, 'councel decibel npy data'와 'voice phishing decibel npy data'는 각각 1차원의 numpy 배열.\n",
    " - 그 길이(즉, 데이터의 개수)는 157개\n",
    "   - 한 개의 npy 파일에는 157개의 값을 가진 1차원 데이터가 저장되어 있다는 뜻"
   ]
  },
  {
   "cell_type": "code",
   "execution_count": 8,
   "metadata": {},
   "outputs": [],
   "source": [
    "dir_path_dB_counsel_6352 = './dB_counel(6352)'\n",
    "dir_path_dB_vp_4756 = './dB_vp(4756)'"
   ]
  },
  {
   "cell_type": "code",
   "execution_count": 9,
   "metadata": {},
   "outputs": [],
   "source": [
    "vp_dB_data = [np.load(os.path.join(dir_path_dB_vp_4756, f)).reshape(-1,1) for f in os.listdir(dir_path_dB_vp_4756) if f.endswith('.npy')]\n",
    "counsel_dB_data = [np.load(os.path.join(dir_path_dB_counsel_6352, f)).reshape(-1,1) for f in os.listdir(dir_path_dB_counsel_6352) if f.endswith('.npy')]"
   ]
  },
  {
   "cell_type": "code",
   "execution_count": 10,
   "metadata": {
    "colab": {
     "base_uri": "https://localhost:8080/"
    },
    "id": "culdNWoGW0HN",
    "outputId": "d74133b7-a17a-4d60-96dc-845cfd4a254c"
   },
   "outputs": [
    {
     "data": {
      "text/plain": [
       "(6352, 4756)"
      ]
     },
     "execution_count": 10,
     "metadata": {},
     "output_type": "execute_result"
    }
   ],
   "source": [
    "len(counsel_dB_data), len(vp_dB_data)"
   ]
  },
  {
   "cell_type": "code",
   "execution_count": 11,
   "metadata": {
    "colab": {
     "base_uri": "https://localhost:8080/"
    },
    "id": "_sBVJdDEW0HP",
    "outputId": "4187d34d-42fd-48a7-fe20-b9ff843ffc4e"
   },
   "outputs": [
    {
     "data": {
      "text/plain": [
       "((157, 1), (157, 1))"
      ]
     },
     "execution_count": 11,
     "metadata": {},
     "output_type": "execute_result"
    }
   ],
   "source": [
    "counsel_dB_data[0].shape, vp_dB_data[0].shape"
   ]
  },
  {
   "cell_type": "code",
   "execution_count": 12,
   "metadata": {},
   "outputs": [
    {
     "data": {
      "text/plain": [
       "array([[-21.455065  ],\n",
       "       [-19.53858   ],\n",
       "       [-17.89305   ],\n",
       "       [-16.112951  ],\n",
       "       [-14.278894  ],\n",
       "       [-13.459372  ],\n",
       "       [-13.253853  ],\n",
       "       [-13.4221    ],\n",
       "       [-14.232702  ],\n",
       "       [-15.177401  ],\n",
       "       [-15.631201  ],\n",
       "       [-15.301746  ],\n",
       "       [-14.893568  ],\n",
       "       [-14.476067  ],\n",
       "       [-14.222103  ],\n",
       "       [-13.900385  ],\n",
       "       [-12.524788  ],\n",
       "       [ -6.491873  ],\n",
       "       [ -2.2068624 ],\n",
       "       [ -0.9362173 ],\n",
       "       [ -0.6219311 ],\n",
       "       [  0.        ],\n",
       "       [ -0.69032574],\n",
       "       [ -1.6091852 ],\n",
       "       [ -1.9905071 ],\n",
       "       [ -4.4061337 ],\n",
       "       [ -4.375514  ],\n",
       "       [ -4.1930466 ],\n",
       "       [ -4.181512  ],\n",
       "       [ -4.271598  ],\n",
       "       [ -4.3415785 ],\n",
       "       [ -4.443097  ],\n",
       "       [ -4.8185444 ],\n",
       "       [ -5.3005447 ],\n",
       "       [ -6.475168  ],\n",
       "       [ -8.495953  ],\n",
       "       [ -4.848898  ],\n",
       "       [ -3.4467144 ],\n",
       "       [ -2.9124212 ],\n",
       "       [ -2.6227999 ],\n",
       "       [ -3.0261078 ],\n",
       "       [ -3.7004738 ],\n",
       "       [ -4.1751633 ],\n",
       "       [ -4.7210617 ],\n",
       "       [ -5.4277287 ],\n",
       "       [ -6.002081  ],\n",
       "       [ -6.5649548 ],\n",
       "       [ -7.3766937 ],\n",
       "       [ -8.275759  ],\n",
       "       [-10.077463  ],\n",
       "       [-12.791788  ],\n",
       "       [ -8.252848  ],\n",
       "       [ -7.419636  ],\n",
       "       [ -7.3865376 ],\n",
       "       [ -7.4086113 ],\n",
       "       [ -9.593431  ],\n",
       "       [ -9.813236  ],\n",
       "       [ -8.636278  ],\n",
       "       [ -8.020369  ],\n",
       "       [ -7.0286484 ],\n",
       "       [ -6.550247  ],\n",
       "       [ -6.167677  ],\n",
       "       [ -5.57386   ],\n",
       "       [ -4.906149  ],\n",
       "       [ -4.2104263 ],\n",
       "       [ -4.0028696 ],\n",
       "       [ -4.322792  ],\n",
       "       [ -5.1277313 ],\n",
       "       [ -7.230812  ],\n",
       "       [-12.310631  ],\n",
       "       [-18.04501   ],\n",
       "       [-20.076147  ],\n",
       "       [-22.131983  ],\n",
       "       [-22.54368   ],\n",
       "       [-21.705801  ],\n",
       "       [-21.332453  ],\n",
       "       [-20.993189  ],\n",
       "       [-20.789083  ],\n",
       "       [-21.154718  ],\n",
       "       [-21.448637  ],\n",
       "       [-22.079695  ],\n",
       "       [-21.598673  ],\n",
       "       [-20.654932  ],\n",
       "       [-20.048777  ],\n",
       "       [-19.914682  ],\n",
       "       [-20.082376  ],\n",
       "       [-20.924528  ],\n",
       "       [-22.317133  ],\n",
       "       [-23.01959   ],\n",
       "       [-26.295279  ],\n",
       "       [-13.147639  ],\n",
       "       [-13.147639  ],\n",
       "       [-13.147639  ],\n",
       "       [-13.147639  ],\n",
       "       [-13.147639  ],\n",
       "       [-13.147639  ],\n",
       "       [-13.147639  ],\n",
       "       [-13.147639  ],\n",
       "       [-13.147639  ],\n",
       "       [-13.147639  ],\n",
       "       [-13.147639  ],\n",
       "       [-13.147639  ],\n",
       "       [-13.147639  ],\n",
       "       [-13.147639  ],\n",
       "       [-13.147639  ],\n",
       "       [-13.147639  ],\n",
       "       [-13.147639  ],\n",
       "       [-13.147639  ],\n",
       "       [-13.147639  ],\n",
       "       [-13.147639  ],\n",
       "       [-13.147639  ],\n",
       "       [-13.147639  ],\n",
       "       [-13.147639  ],\n",
       "       [-13.147639  ],\n",
       "       [-13.147639  ],\n",
       "       [-13.147639  ],\n",
       "       [-13.147639  ],\n",
       "       [-13.147639  ],\n",
       "       [-13.147639  ],\n",
       "       [-13.147639  ],\n",
       "       [-13.147639  ],\n",
       "       [-13.147639  ],\n",
       "       [-13.147639  ],\n",
       "       [-13.147639  ],\n",
       "       [-13.147639  ],\n",
       "       [-13.147639  ],\n",
       "       [-13.147639  ],\n",
       "       [-13.147639  ],\n",
       "       [-13.147639  ],\n",
       "       [-13.147639  ],\n",
       "       [-13.147639  ],\n",
       "       [-13.147639  ],\n",
       "       [-13.147639  ],\n",
       "       [-13.147639  ],\n",
       "       [-13.147639  ],\n",
       "       [-13.147639  ],\n",
       "       [-13.147639  ],\n",
       "       [-13.147639  ],\n",
       "       [-13.147639  ],\n",
       "       [-13.147639  ],\n",
       "       [-13.147639  ],\n",
       "       [-13.147639  ],\n",
       "       [-13.147639  ],\n",
       "       [-13.147639  ],\n",
       "       [-13.147639  ],\n",
       "       [-13.147639  ],\n",
       "       [-13.147639  ],\n",
       "       [-13.147639  ],\n",
       "       [-13.147639  ],\n",
       "       [-13.147639  ],\n",
       "       [-13.147639  ],\n",
       "       [-13.147639  ],\n",
       "       [-13.147639  ],\n",
       "       [-13.147639  ],\n",
       "       [-13.147639  ],\n",
       "       [-13.147639  ],\n",
       "       [-13.147639  ]], dtype=float32)"
      ]
     },
     "execution_count": 12,
     "metadata": {},
     "output_type": "execute_result"
    }
   ],
   "source": [
    "counsel_dB_data[10]"
   ]
  },
  {
   "cell_type": "code",
   "execution_count": 7,
   "metadata": {
    "scrolled": true
   },
   "outputs": [
    {
     "data": {
      "text/plain": [
       "array([[-2.28602638e+01],\n",
       "       [-1.71290245e+01],\n",
       "       [-1.37985992e+01],\n",
       "       [-8.42012787e+00],\n",
       "       [-8.37342262e+00],\n",
       "       [-8.10508347e+00],\n",
       "       [-6.48706007e+00],\n",
       "       [-3.71193171e+00],\n",
       "       [-3.02810144e+00],\n",
       "       [-2.96640062e+00],\n",
       "       [-2.42997408e+00],\n",
       "       [-2.30876398e+00],\n",
       "       [-1.93544436e+00],\n",
       "       [-1.39793158e+00],\n",
       "       [-1.45934725e+00],\n",
       "       [-1.43418455e+00],\n",
       "       [-1.46233845e+00],\n",
       "       [-2.01988268e+00],\n",
       "       [-2.54032373e+00],\n",
       "       [-4.26493597e+00],\n",
       "       [-7.14050531e+00],\n",
       "       [-7.01073122e+00],\n",
       "       [-6.96289206e+00],\n",
       "       [-7.07023287e+00],\n",
       "       [-7.17206621e+00],\n",
       "       [-6.90000772e+00],\n",
       "       [-5.68410063e+00],\n",
       "       [-4.86150599e+00],\n",
       "       [-2.52407122e+00],\n",
       "       [-6.45179749e-01],\n",
       "       [-1.12782955e-01],\n",
       "       [-4.76837158e-07],\n",
       "       [-5.53294659e-01],\n",
       "       [-2.40812445e+00],\n",
       "       [-4.96675920e+00],\n",
       "       [-6.65442896e+00],\n",
       "       [-5.82404089e+00],\n",
       "       [-5.25422907e+00],\n",
       "       [-4.89409971e+00],\n",
       "       [-4.00957727e+00],\n",
       "       [-3.93907213e+00],\n",
       "       [-4.26179075e+00],\n",
       "       [-4.70271540e+00],\n",
       "       [-5.02336740e+00],\n",
       "       [-5.09161425e+00],\n",
       "       [-4.55565596e+00],\n",
       "       [-2.68395090e+00],\n",
       "       [-2.40304136e+00],\n",
       "       [-2.38277864e+00],\n",
       "       [-2.18718767e+00],\n",
       "       [-3.23201132e+00],\n",
       "       [-4.58065176e+00],\n",
       "       [-5.09425020e+00],\n",
       "       [-6.63899374e+00],\n",
       "       [-6.26897287e+00],\n",
       "       [-3.78913069e+00],\n",
       "       [-1.85176468e+00],\n",
       "       [-1.15413809e+00],\n",
       "       [-5.16334057e-01],\n",
       "       [-3.37529182e-01],\n",
       "       [-1.00065756e+00],\n",
       "       [-1.58078289e+00],\n",
       "       [-2.72905016e+00],\n",
       "       [-4.25539255e+00],\n",
       "       [-4.10305738e+00],\n",
       "       [-3.86307192e+00],\n",
       "       [-4.29210329e+00],\n",
       "       [-5.09682798e+00],\n",
       "       [-6.17263842e+00],\n",
       "       [-8.53881454e+00],\n",
       "       [-9.67292786e+00],\n",
       "       [-7.52560663e+00],\n",
       "       [-5.45681143e+00],\n",
       "       [-4.55530024e+00],\n",
       "       [-3.78128290e+00],\n",
       "       [-3.62479067e+00],\n",
       "       [-4.16145277e+00],\n",
       "       [-4.89211130e+00],\n",
       "       [-6.43597841e+00],\n",
       "       [-9.06170654e+00],\n",
       "       [-1.18571529e+01],\n",
       "       [-1.32902546e+01],\n",
       "       [-1.53707047e+01],\n",
       "       [-2.03372173e+01],\n",
       "       [-2.37894230e+01],\n",
       "       [-2.60431404e+01],\n",
       "       [-2.72913513e+01],\n",
       "       [-5.93189583e+01],\n",
       "       [-2.96594791e+01],\n",
       "       [-2.96594791e+01],\n",
       "       [-2.96594791e+01],\n",
       "       [-2.96594791e+01],\n",
       "       [-2.96594791e+01],\n",
       "       [-2.96594791e+01],\n",
       "       [-2.96594791e+01],\n",
       "       [-2.96594791e+01],\n",
       "       [-2.96594791e+01],\n",
       "       [-2.96594791e+01],\n",
       "       [-2.96594791e+01],\n",
       "       [-2.96594791e+01],\n",
       "       [-2.96594791e+01],\n",
       "       [-2.96594791e+01],\n",
       "       [-2.96594791e+01],\n",
       "       [-2.96594791e+01],\n",
       "       [-2.96594791e+01],\n",
       "       [-2.96594791e+01],\n",
       "       [-2.96594791e+01],\n",
       "       [-2.96594791e+01],\n",
       "       [-2.96594791e+01],\n",
       "       [-2.96594791e+01],\n",
       "       [-2.96594791e+01],\n",
       "       [-2.96594791e+01],\n",
       "       [-2.96594791e+01],\n",
       "       [-2.96594791e+01],\n",
       "       [-2.96594791e+01],\n",
       "       [-2.96594791e+01],\n",
       "       [-2.96594791e+01],\n",
       "       [-2.96594791e+01],\n",
       "       [-2.96594791e+01],\n",
       "       [-2.96594791e+01],\n",
       "       [-2.96594791e+01],\n",
       "       [-2.96594791e+01],\n",
       "       [-2.96594791e+01],\n",
       "       [-2.96594791e+01],\n",
       "       [-2.96594791e+01],\n",
       "       [-2.96594791e+01],\n",
       "       [-2.96594791e+01],\n",
       "       [-2.96594791e+01],\n",
       "       [-2.96594791e+01],\n",
       "       [-2.96594791e+01],\n",
       "       [-2.96594791e+01],\n",
       "       [-2.96594791e+01],\n",
       "       [-2.96594791e+01],\n",
       "       [-2.96594791e+01],\n",
       "       [-2.96594791e+01],\n",
       "       [-2.96594791e+01],\n",
       "       [-2.96594791e+01],\n",
       "       [-2.96594791e+01],\n",
       "       [-2.96594791e+01],\n",
       "       [-2.96594791e+01],\n",
       "       [-2.96594791e+01],\n",
       "       [-2.96594791e+01],\n",
       "       [-2.96594791e+01],\n",
       "       [-2.96594791e+01],\n",
       "       [-2.96594791e+01],\n",
       "       [-2.96594791e+01],\n",
       "       [-2.96594791e+01],\n",
       "       [-2.96594791e+01],\n",
       "       [-2.96594791e+01],\n",
       "       [-2.96594791e+01],\n",
       "       [-2.96594791e+01],\n",
       "       [-2.96594791e+01],\n",
       "       [-2.96594791e+01],\n",
       "       [-2.96594791e+01],\n",
       "       [-2.96594791e+01],\n",
       "       [-2.96594791e+01],\n",
       "       [-2.96594791e+01]], dtype=float32)"
      ]
     },
     "execution_count": 7,
     "metadata": {},
     "output_type": "execute_result"
    }
   ],
   "source": [
    "vp_dB_data[1000]"
   ]
  },
  {
   "cell_type": "markdown",
   "metadata": {},
   "source": [
    "# **======================데이터 통계분석======================**"
   ]
  },
  {
   "cell_type": "markdown",
   "metadata": {},
   "source": [
    "## Find outliers\n",
    "\n",
    " - 각 데이터 포인트별로 이상치의 수를 계산하고 그 평균값을 출력\n",
    " - 한 개의 데이터 포인트 (157, 1)에 대해서 평균적으로 몇 개의 이상치가 있나?"
   ]
  },
  {
   "cell_type": "code",
   "execution_count": 13,
   "metadata": {},
   "outputs": [
    {
     "name": "stdout",
     "output_type": "stream",
     "text": [
      "Average number of outliers per data point in VP decibel data: 10.48\n",
      "Average number of outliers per data point in Counsel decibel data: 15.91\n"
     ]
    }
   ],
   "source": [
    "import numpy as np\n",
    "\n",
    "def find_outliers(data):\n",
    "    q1 = np.percentile(data, 25)\n",
    "    q3 = np.percentile(data, 75)\n",
    "    iqr = q3 - q1\n",
    "\n",
    "    lower_bound = q1 - 1.5 * iqr\n",
    "    upper_bound = q3 + 1.5 * iqr\n",
    "\n",
    "    outliers = data[(data < lower_bound) | (data > upper_bound)]\n",
    "    return outliers\n",
    "\n",
    "# 각 데이터 포인트마다 이상치의 개수를 계산합니다.\n",
    "vp_outliers_count = [len(find_outliers(item)) for item in vp_dB_data]\n",
    "counsel_outliers_count = [len(find_outliers(item)) for item in counsel_dB_data]\n",
    "\n",
    "print(f\"Average number of outliers per data point in VP decibel data: {np.mean(vp_outliers_count):.2f}\")\n",
    "print(f\"Average number of outliers per data point in Counsel decibel data: {np.mean(counsel_outliers_count):.2f}\")\n"
   ]
  },
  {
   "cell_type": "markdown",
   "metadata": {},
   "source": [
    "- Voice Phishing (VP) decibel data:\n",
    "  - 평균적으로 각 Voice Phishing 데이터 포인트마다 약 10.48개의 이상치가 있음을 의미합니다.\n",
    "- Counsel decibel data:\n",
    "  - 평균적으로 각 Counsel 데이터 포인트마다 약 6.62개의 이상치가 있음을 의미합니다."
   ]
  },
  {
   "cell_type": "markdown",
   "metadata": {},
   "source": [
    "## 각 데이터 세트의 데이터 포인트에 대한 분포도"
   ]
  },
  {
   "cell_type": "code",
   "execution_count": 14,
   "metadata": {
    "scrolled": false
   },
   "outputs": [
    {
     "data": {
      "image/png": "[encoded data removed]",
      "text/plain": [
       "<Figure size 1200x600 with 1 Axes>"
      ]
     },
     "metadata": {},
     "output_type": "display_data"
    },
    {
     "data": {
      "image/png": "[encoded data removed]",
      "text/plain": [
       "<Figure size 1200x600 with 1 Axes>"
      ]
     },
     "metadata": {},
     "output_type": "display_data"
    }
   ],
   "source": [
    "import matplotlib.pyplot as plt\n",
    "import numpy as np\n",
    "\n",
    "# 각 데이터 포인트에 대한 평균과 분산을 계산하는 함수\n",
    "def compute_individual_means_and_vars(data):\n",
    "    means = [np.mean(item) for item in data]\n",
    "    vars = [np.var(item) for item in data]\n",
    "    return means, vars\n",
    "\n",
    "# 각 데이터 포인트별 평균과 분산 계산\n",
    "vp_means, vp_vars = compute_individual_means_and_vars(vp_dB_data)\n",
    "counsel_means, counsel_vars = compute_individual_means_and_vars(counsel_dB_data)\n",
    "\n",
    "# 평균의 히스토그램 그리기\n",
    "plt.figure(figsize=(12, 6))\n",
    "plt.hist(vp_means, bins=50, alpha=0.5, label='Voice Phishing Means')\n",
    "plt.hist(counsel_means, bins=50, alpha=0.5, label='Counsel Means')\n",
    "plt.xlabel('Mean Decibel Value')\n",
    "plt.ylabel('Number of Files')\n",
    "plt.title('Distribution of Individual Mean Decibel Values')\n",
    "plt.legend(loc='upper right')\n",
    "plt.show()\n",
    "\n",
    "# 분산의 히스토그램 그리기\n",
    "plt.figure(figsize=(12, 6))\n",
    "plt.hist(vp_vars, bins=50, alpha=0.5, label='Voice Phishing Variances')\n",
    "plt.hist(counsel_vars, bins=50, alpha=0.5, label='Counsel Variances')\n",
    "plt.xlabel('Decibel Variance')\n",
    "plt.ylabel('Number of Files')\n",
    "plt.title('Distribution of Individual Decibel Variances')\n",
    "plt.legend(loc='upper right')\n",
    "plt.show()\n"
   ]
  },
  {
   "cell_type": "markdown",
   "metadata": {},
   "source": [
    "## 각 데이터 포인트에 대해 왜도와 첨도를 계산하여 주어진 조건에 따라 정규성을 판단\n",
    " - 이 코드는 각 데이터 셋의 데이터 포인트의 왜도와 첨도를 계산하여 그 값이 0에 가까운지를 기준으로 데이터셋이 정규분포에 가까운지를 판단\n",
    " - 여기서는 왜도의 절댓값이 2 이하, 첨도의 절댓값이 7이하일대 정규성을 만족한다고 판단"
   ]
  },
  {
   "cell_type": "code",
   "execution_count": 15,
   "metadata": {},
   "outputs": [
    {
     "name": "stdout",
     "output_type": "stream",
     "text": [
      "Voice Phishing data points satisfying normality: [3690] out of 4756\n",
      "Counsel data points satisfying normality: [5990] out of 6352\n"
     ]
    }
   ],
   "source": [
    "from scipy import stats\n",
    "\n",
    "def check_normality(data):\n",
    "    skewness = stats.skew(data)\n",
    "    kurtosis = stats.kurtosis(data)\n",
    "    return abs(skewness) <= 2 and abs(kurtosis) <= 7\n",
    "\n",
    "# 각 데이터 포인트에 대한 정규성 판단\n",
    "vp_normality = [check_normality(item) for item in vp_dB_data]\n",
    "counsel_normality = [check_normality(item) for item in counsel_dB_data]\n",
    "\n",
    "# 정규성을 만족하는 데이터 포인트의 개수 계산\n",
    "vp_normal_count = sum(vp_normality)\n",
    "counsel_normal_count = sum(counsel_normality)\n",
    "\n",
    "print(f\"Voice Phishing data points satisfying normality: {vp_normal_count} out of {len(vp_dB_data)}\")\n",
    "print(f\"Counsel data points satisfying normality: {counsel_normal_count} out of {len(counsel_dB_data)}\")\n"
   ]
  },
  {
   "cell_type": "markdown",
   "metadata": {},
   "source": [
    "- Voice Phishing data points satisfying normality: [3690] out of 4756:\n",
    "  - 총 4756개의 보이스 피싱 데이터 포인트 중에서 3690개의 데이터 포인트가 정규성을 만족한다는 의미입니다.\n",
    "- Counsel data points satisfying normality: [4247] out of 4756:\n",
    "  - 총 4756개의 일반상담 데이터 포인트 중에서 4247개의 데이터 포인트가 정규성을 만족한다는 의미입니다. \n",
    "  \n",
    "- 이 결과를 통해 보이스 피싱 데이터의 약 77.6%와 일반상담 데이터의 약 89.3%가 주어진 조건에 따라 정규성을 만족하고 있음을 알 수 있습니다."
   ]
  },
  {
   "cell_type": "markdown",
   "metadata": {},
   "source": [
    "# ============================================================"
   ]
  },
  {
   "cell_type": "markdown",
   "metadata": {
    "id": "p93JjFHzXjGx"
   },
   "source": [
    "## data labeling(decibel data)\n",
    "\n",
    " - 보이스피싱 데이터(vp_data)는 0으로, 상담 데이터(counsel_data)는 1로 라벨링 수행.\n",
    " - 이를 위해 리스트를 생성하는데, 리스트의 길이는 각 데이터의 개수(len(vp_data), len(counsel_data))와 동일함.\n",
    " - 모든 요소는 각 데이터에 해당하는 라벨 (0 또는 1)로 채워짐."
   ]
  },
  {
   "cell_type": "code",
   "execution_count": 16,
   "metadata": {
    "id": "UFOzY7kuXjG-"
   },
   "outputs": [],
   "source": [
    "# Data labeling\n",
    "vp_dB_labels = [0] * len(vp_dB_data) # Label voice phishing data as 0\n",
    "counsel_dB_labels = [1] * len(counsel_dB_data) # Counseling data is labeled as 1"
   ]
  },
  {
   "cell_type": "markdown",
   "metadata": {
    "id": "0NO0YkS-YLxh"
   },
   "source": [
    "## combine decibel data"
   ]
  },
  {
   "cell_type": "markdown",
   "metadata": {
    "id": "xro9eBfD2btH"
   },
   "source": [
    " - 이후, 보이스피싱 데이터와 상담 데이터를 하나의 리스트 x_data로 병합.\n",
    " - 각 데이터에 해당하는 라벨도 하나의 리스트 y_labels로 병합.\n",
    " - `+` 연산자는 리스트를 이어 붙이는 역할을 함.\n",
    " - 따라서 x_data는 모든 데이터를, y_labels는 모든 데이터에 대응하는 라벨을 순서대로 가지게 됨.\n",
    " - 이렇게 만든 x_data와 y_labels는 이후 모델 학습에 사용됨."
   ]
  },
  {
   "cell_type": "code",
   "execution_count": 17,
   "metadata": {
    "id": "8htdxU-GYLxq"
   },
   "outputs": [],
   "source": [
    "# Combine data and labels into one list\n",
    "x_data_dB = vp_dB_data  + counsel_dB_data\n",
    "y_labels_dB = vp_dB_labels + counsel_dB_labels"
   ]
  },
  {
   "cell_type": "markdown",
   "metadata": {
    "id": "8d04zCg62btH"
   },
   "source": [
    "## 데이터 Padding (Optional)\n",
    "\n",
    " - pad_sequences는 시퀀스 데이터(여기서는 x_data)의 길이를 맞춰주는 함수.\n",
    " - 이 함수는 모든 시퀀스 데이터가 동일한 길이를 가지도록 0을 채워넣는 역할을 함.\n",
    " - 이때 `padding='post'`는 시퀀스 `뒤쪽`에 `0`을 채워넣는 것을 의미함.\n",
    " - `dtype='float32'`는 `0`의 데이터 타입을 `float32`로 지정하는 것을 의미함."
   ]
  },
  {
   "cell_type": "code",
   "execution_count": 18,
   "metadata": {
    "collapsed": true,
    "id": "m03aQRrV2btH"
   },
   "outputs": [
    {
     "ename": "NameError",
     "evalue": "name 'x_data' is not defined",
     "output_type": "error",
     "traceback": [
      "\u001b[0;31m---------------------------------------------------------------------------\u001b[0m",
      "\u001b[0;31mNameError\u001b[0m                                 Traceback (most recent call last)",
      "Cell \u001b[0;32mIn[18], line 2\u001b[0m\n\u001b[1;32m      1\u001b[0m \u001b[38;5;66;03m# Pad sequences to the same length\u001b[39;00m\n\u001b[0;32m----> 2\u001b[0m x_data_padded \u001b[38;5;241m=\u001b[39m pad_sequences(\u001b[43mx_data\u001b[49m, padding\u001b[38;5;241m=\u001b[39m\u001b[38;5;124m'\u001b[39m\u001b[38;5;124mpost\u001b[39m\u001b[38;5;124m'\u001b[39m, dtype\u001b[38;5;241m=\u001b[39m\u001b[38;5;124m'\u001b[39m\u001b[38;5;124mfloat32\u001b[39m\u001b[38;5;124m'\u001b[39m)\n",
      "\u001b[0;31mNameError\u001b[0m: name 'x_data' is not defined"
     ]
    }
   ],
   "source": [
    "# Pad sequences to the same length\n",
    "x_data_padded = pad_sequences(x_data, padding='post', dtype='float32')"
   ]
  },
  {
   "cell_type": "markdown",
   "metadata": {
    "id": "jt0Bty2h2btH"
   },
   "source": [
    " - pad_sequences로 동일한 길이로 만든 x_data_padded와 라벨 데이터인 y_labels를 numpy 배열로 변환하는 코드.\n",
    " - `np.array` 함수는 주어진 데이터를 `numpy 배열`로 변환해줌.\n",
    " - 이렇게 `numpy` 배열로 변환한 이유는 이후에 사용할 기계학습 라이브러리가 주로 numpy 배열 형태의 데이터를 입력으로 받기 때문.\n",
    " - 따라서, `x_data_array`는 `입력 데이터`를, `y_labels_array`는 해당 데이터의 `라벨`을 각각 가지게 됨.\n",
    " - 이들은 모델 학습 및 평가에 사용됨."
   ]
  },
  {
   "cell_type": "code",
   "execution_count": 72,
   "metadata": {
    "collapsed": true,
    "id": "wdG5rTFS2btH"
   },
   "outputs": [
    {
     "ename": "NameError",
     "evalue": "name 'x_data_padded' is not defined",
     "output_type": "error",
     "traceback": [
      "\u001b[0;31m---------------------------------------------------------------------------\u001b[0m",
      "\u001b[0;31mNameError\u001b[0m                                 Traceback (most recent call last)",
      "Cell \u001b[0;32mIn[72], line 2\u001b[0m\n\u001b[1;32m      1\u001b[0m \u001b[38;5;66;03m# Now you can safely convert to a single numpy array\u001b[39;00m\n\u001b[0;32m----> 2\u001b[0m x_data_array \u001b[38;5;241m=\u001b[39m np\u001b[38;5;241m.\u001b[39marray(\u001b[43mx_data_padded\u001b[49m)\n\u001b[1;32m      3\u001b[0m y_labels_array \u001b[38;5;241m=\u001b[39m np\u001b[38;5;241m.\u001b[39marray(y_labels)\n",
      "\u001b[0;31mNameError\u001b[0m: name 'x_data_padded' is not defined"
     ]
    }
   ],
   "source": [
    "# Now you can safely convert to a single numpy array\n",
    "x_data_array = np.array(x_data_padded)\n",
    "y_labels_array = np.array(y_labels)"
   ]
  },
  {
   "cell_type": "code",
   "execution_count": 74,
   "metadata": {
    "collapsed": true,
    "id": "63YgJVuZ2btH"
   },
   "outputs": [
    {
     "ename": "NameError",
     "evalue": "name 'x_data' is not defined",
     "output_type": "error",
     "traceback": [
      "\u001b[0;31m---------------------------------------------------------------------------\u001b[0m",
      "\u001b[0;31mNameError\u001b[0m                                 Traceback (most recent call last)",
      "Cell \u001b[0;32mIn[74], line 1\u001b[0m\n\u001b[0;32m----> 1\u001b[0m x_data_array \u001b[38;5;241m=\u001b[39m np\u001b[38;5;241m.\u001b[39marray(\u001b[43mx_data\u001b[49m)\n\u001b[1;32m      2\u001b[0m y_labels_array \u001b[38;5;241m=\u001b[39m np\u001b[38;5;241m.\u001b[39marray(y_labels)\n",
      "\u001b[0;31mNameError\u001b[0m: name 'x_data' is not defined"
     ]
    }
   ],
   "source": [
    "x_data_array = np.array(x_data)\n",
    "y_labels_array = np.array(y_labels)"
   ]
  },
  {
   "cell_type": "code",
   "execution_count": 75,
   "metadata": {
    "colab": {
     "base_uri": "https://localhost:8080/"
    },
    "collapsed": true,
    "id": "-htZvhl92btI",
    "outputId": "c2c605b9-e86b-41ea-ab67-b53afd20670c"
   },
   "outputs": [
    {
     "ename": "NameError",
     "evalue": "name 'x_data_array' is not defined",
     "output_type": "error",
     "traceback": [
      "\u001b[0;31m---------------------------------------------------------------------------\u001b[0m",
      "\u001b[0;31mNameError\u001b[0m                                 Traceback (most recent call last)",
      "Cell \u001b[0;32mIn[75], line 1\u001b[0m\n\u001b[0;32m----> 1\u001b[0m \u001b[43mx_data_array\u001b[49m\u001b[38;5;241m.\u001b[39mshape\n",
      "\u001b[0;31mNameError\u001b[0m: name 'x_data_array' is not defined"
     ]
    }
   ],
   "source": [
    "x_data_array.shape"
   ]
  },
  {
   "cell_type": "code",
   "execution_count": null,
   "metadata": {
    "id": "Y053jjfe2btI"
   },
   "outputs": [],
   "source": [
    "x_data_array_shape = x_data_array.shape"
   ]
  },
  {
   "cell_type": "markdown",
   "metadata": {
    "id": "AdMhyY5qZ6ej"
   },
   "source": [
    "## Convert list to numpy arrays"
   ]
  },
  {
   "cell_type": "code",
   "execution_count": 19,
   "metadata": {
    "id": "2dt8ioU3piHI"
   },
   "outputs": [],
   "source": [
    "# Convert lists to numpy arrays\n",
    "x_data_dB = np.array(x_data_dB)\n",
    "y_labels_dB = np.array(y_labels_dB)"
   ]
  },
  {
   "cell_type": "markdown",
   "metadata": {
    "id": "Y0nckXsP2btI"
   },
   "source": [
    "## Data Split"
   ]
  },
  {
   "cell_type": "code",
   "execution_count": 20,
   "metadata": {
    "colab": {
     "base_uri": "https://localhost:8080/"
    },
    "id": "vq0_DA0Q2btI",
    "outputId": "52696195-68e9-4c75-890e-56a800287e2a"
   },
   "outputs": [
    {
     "data": {
      "text/plain": [
       "(11108, 157, 1)"
      ]
     },
     "execution_count": 20,
     "metadata": {},
     "output_type": "execute_result"
    }
   ],
   "source": [
    "x_data_dB.shape"
   ]
  },
  {
   "cell_type": "code",
   "execution_count": 21,
   "metadata": {
    "colab": {
     "base_uri": "https://localhost:8080/"
    },
    "id": "HZrie-X62btI",
    "outputId": "2abe6e91-cb6e-44fd-a880-8b949eaa3ed8"
   },
   "outputs": [
    {
     "data": {
      "text/plain": [
       "(11108,)"
      ]
     },
     "execution_count": 21,
     "metadata": {},
     "output_type": "execute_result"
    }
   ],
   "source": [
    "y_labels_dB.shape"
   ]
  },
  {
   "cell_type": "markdown",
   "metadata": {
    "id": "17e6vYAsaE_0"
   },
   "source": [
    "## data splitting"
   ]
  },
  {
   "cell_type": "code",
   "execution_count": 30,
   "metadata": {
    "colab": {
     "base_uri": "https://localhost:8080/"
    },
    "id": "0yn22n_H2btI",
    "outputId": "71eb24f3-07e1-45a0-8c09-92168ecf7a07"
   },
   "outputs": [
    {
     "name": "stdout",
     "output_type": "stream",
     "text": [
      "dB Train data shape: (8908, 157, 1)\n",
      "dB Validation data shape: (1100, 157, 1)\n",
      "dB Test data shape: (1100, 157, 1)\n"
     ]
    }
   ],
   "source": [
    "from sklearn.model_selection import train_test_split\n",
    "\n",
    "# First, split the dataset into a temporary training set and test set.\n",
    "x_temp_dB, x_test_dB, y_temp_dB, y_test_dB = train_test_split(x_data_dB, y_labels_dB, test_size=1100, random_state=42, shuffle=True)\n",
    "\n",
    "# Split the temporary training set into a final training set and a validation set.\n",
    "x_train_dB, x_val_dB, y_train_dB, y_val_dB = train_test_split(x_temp_dB, y_temp_dB, test_size=1100, random_state=42, shuffle=True)\n",
    "\n",
    "print(f\"dB Train data shape: {x_train_dB.shape}\")\n",
    "print(f\"dB Validation data shape: {x_val_dB.shape}\")\n",
    "print(f\"dB Test data shape: {x_test_dB.shape}\")"
   ]
  },
  {
   "cell_type": "markdown",
   "metadata": {
    "id": "uJP9cXJSyBhD"
   },
   "source": [
    "## 모델 layer 초기화"
   ]
  },
  {
   "cell_type": "code",
   "execution_count": 31,
   "metadata": {
    "id": "VmFr2GXmr-WW"
   },
   "outputs": [],
   "source": [
    "K.clear_session()"
   ]
  },
  {
   "cell_type": "markdown",
   "metadata": {
    "id": "EeQ6TpZj2btJ"
   },
   "source": [
    "## Decibel Model Definition"
   ]
  },
  {
   "cell_type": "code",
   "execution_count": 32,
   "metadata": {
    "colab": {
     "base_uri": "https://localhost:8080/"
    },
    "id": "UFKW-82E2btJ",
    "outputId": "fe1e634f-3254-4d17-a4ff-81193c6826bb"
   },
   "outputs": [
    {
     "name": "stdout",
     "output_type": "stream",
     "text": [
      "Model: \"model\"\n",
      "_________________________________________________________________\n",
      " Layer (type)                Output Shape              Param #   \n",
      "=================================================================\n",
      " input_1 (InputLayer)        [(None, 157, 1)]          0         \n",
      "                                                                 \n",
      " normalization (Normalizatio  (None, 157, 1)           315       \n",
      " n)                                                              \n",
      "                                                                 \n",
      " Conv1D_1 (Conv1D)           (None, 157, 32)           128       \n",
      "                                                                 \n",
      " Conv1D_2 (Conv1D)           (None, 157, 64)           6208      \n",
      "                                                                 \n",
      " Conv1D_3 (Conv1D)           (None, 157, 128)          24704     \n",
      "                                                                 \n",
      " Conv1D_4 (Conv1D)           (None, 157, 128)          49280     \n",
      "                                                                 \n",
      " Conv1D_5 (Conv1D)           (None, 157, 256)          98560     \n",
      "                                                                 \n",
      " Conv1D_6 (Conv1D)           (None, 157, 512)          393728    \n",
      "                                                                 \n",
      " global_average_pooling1d (G  (None, 512)              0         \n",
      " lobalAveragePooling1D)                                          \n",
      "                                                                 \n",
      " dense (Dense)               (None, 32)                16416     \n",
      "                                                                 \n",
      " dense_1 (Dense)             (None, 1)                 33        \n",
      "                                                                 \n",
      "=================================================================\n",
      "Total params: 589,372\n",
      "Trainable params: 589,057\n",
      "Non-trainable params: 315\n",
      "_________________________________________________________________\n"
     ]
    }
   ],
   "source": [
    "# Create the Normalization layer\n",
    "norm_layer = Normalization(axis=1)\n",
    "# Adapt it to the data\n",
    "norm_layer.adapt(x_train_dB)\n",
    "\n",
    "# Define the input shape\n",
    "inputs = Input(shape=(x_train_dB.shape[1], 1))\n",
    "# Call it on the inputs\n",
    "x = norm_layer(inputs)\n",
    "\n",
    "# 첫번째 입력에 대한 Convolutional 레이어를 정의합니다.\n",
    "x = Conv1D(32, 3, dilation_rate=1, padding='causal', activation='relu', name=\"Conv1D_1\")(x)\n",
    "x = Conv1D(64, 3, dilation_rate=2, padding='causal', activation='relu', name=\"Conv1D_2\")(x)\n",
    "x = Conv1D(128, 3, dilation_rate=4, padding='causal', activation='relu', name=\"Conv1D_3\")(x)\n",
    "x = Conv1D(128, 3, dilation_rate=8, padding='causal', activation='relu', name=\"Conv1D_4\")(x)\n",
    "x = Conv1D(256, 3, dilation_rate=16, padding='causal', activation='relu', name=\"Conv1D_5\")(x)\n",
    "x = Conv1D(512, 3, dilation_rate=32, padding='causal', activation='relu', name=\"Conv1D_6\")(x)\n",
    "x = GlobalAveragePooling1D()(x)\n",
    "\n",
    "# Dense Layer\n",
    "x = Dense(32, activation='relu')(x)\n",
    "# Output Layer\n",
    "outputs = Dense(1, activation='sigmoid')(x)\n",
    "\n",
    "# Define the model\n",
    "model = Model(inputs=inputs, outputs=outputs)\n",
    "\n",
    "# Model summary\n",
    "model.summary()"
   ]
  },
  {
   "cell_type": "markdown",
   "metadata": {
    "id": "fk0ic1ojxVgq"
   },
   "source": [
    "## Plotting model"
   ]
  },
  {
   "cell_type": "code",
   "execution_count": 33,
   "metadata": {
    "colab": {
     "base_uri": "https://localhost:8080/",
     "height": 1000
    },
    "id": "5Vq4AWfK2btJ",
    "outputId": "0b1e9c9e-a75b-4765-e0ef-00988e400561"
   },
   "outputs": [],
   "source": [
    "# plot_model(model, show_shapes=True, show_layer_activations=True)"
   ]
  },
  {
   "cell_type": "markdown",
   "metadata": {
    "id": "cfGPCn6qxbCV"
   },
   "source": [
    "## Training Model with train data & Final Evaluatation with test data"
   ]
  },
  {
   "cell_type": "code",
   "execution_count": 34,
   "metadata": {
    "colab": {
     "base_uri": "https://localhost:8080/"
    },
    "id": "WhZa3aCZ2btK",
    "outputId": "75b1e002-5b58-42d8-faa3-fe4e18da7f3a",
    "scrolled": false
   },
   "outputs": [
    {
     "name": "stdout",
     "output_type": "stream",
     "text": [
      "Epoch 1/100\n",
      "140/140 [==============================] - ETA: 0s - loss: 0.5523 - accuracy: 0.7348\n",
      "Epoch 1: val_accuracy improved from -inf to 0.78909, saving model to 230809_decibel_model.h5\n",
      "140/140 [==============================] - 6s 23ms/step - loss: 0.5523 - accuracy: 0.7348 - val_loss: 0.4654 - val_accuracy: 0.7891\n",
      "Epoch 2/100\n",
      "140/140 [==============================] - ETA: 0s - loss: 0.4403 - accuracy: 0.7969\n",
      "Epoch 2: val_accuracy improved from 0.78909 to 0.84182, saving model to 230809_decibel_model.h5\n",
      "140/140 [==============================] - 3s 20ms/step - loss: 0.4403 - accuracy: 0.7969 - val_loss: 0.3656 - val_accuracy: 0.8418\n",
      "Epoch 3/100\n",
      "139/140 [============================>.] - ETA: 0s - loss: 0.3820 - accuracy: 0.8316\n",
      "Epoch 3: val_accuracy improved from 0.84182 to 0.84727, saving model to 230809_decibel_model.h5\n",
      "140/140 [==============================] - 3s 20ms/step - loss: 0.3819 - accuracy: 0.8315 - val_loss: 0.3506 - val_accuracy: 0.8473\n",
      "Epoch 4/100\n",
      "140/140 [==============================] - ETA: 0s - loss: 0.3589 - accuracy: 0.8435\n",
      "Epoch 4: val_accuracy did not improve from 0.84727\n",
      "140/140 [==============================] - 3s 20ms/step - loss: 0.3589 - accuracy: 0.8435 - val_loss: 0.4179 - val_accuracy: 0.8200\n",
      "Epoch 5/100\n",
      "139/140 [============================>.] - ETA: 0s - loss: 0.3402 - accuracy: 0.8530\n",
      "Epoch 5: val_accuracy improved from 0.84727 to 0.87727, saving model to 230809_decibel_model.h5\n",
      "140/140 [==============================] - 3s 20ms/step - loss: 0.3407 - accuracy: 0.8525 - val_loss: 0.3049 - val_accuracy: 0.8773\n",
      "Epoch 6/100\n",
      "140/140 [==============================] - ETA: 0s - loss: 0.3239 - accuracy: 0.8596\n",
      "Epoch 6: val_accuracy improved from 0.87727 to 0.87909, saving model to 230809_decibel_model.h5\n",
      "140/140 [==============================] - 3s 20ms/step - loss: 0.3239 - accuracy: 0.8596 - val_loss: 0.2814 - val_accuracy: 0.8791\n",
      "Epoch 7/100\n",
      "139/140 [============================>.] - ETA: 0s - loss: 0.3168 - accuracy: 0.8645\n",
      "Epoch 7: val_accuracy improved from 0.87909 to 0.88727, saving model to 230809_decibel_model.h5\n",
      "140/140 [==============================] - 3s 20ms/step - loss: 0.3165 - accuracy: 0.8647 - val_loss: 0.2927 - val_accuracy: 0.8873\n",
      "Epoch 8/100\n",
      "139/140 [============================>.] - ETA: 0s - loss: 0.3004 - accuracy: 0.8722\n",
      "Epoch 8: val_accuracy did not improve from 0.88727\n",
      "140/140 [==============================] - 3s 20ms/step - loss: 0.3003 - accuracy: 0.8721 - val_loss: 0.2844 - val_accuracy: 0.8800\n",
      "Epoch 9/100\n",
      "139/140 [============================>.] - ETA: 0s - loss: 0.2862 - accuracy: 0.8796\n",
      "Epoch 9: val_accuracy did not improve from 0.88727\n",
      "140/140 [==============================] - 3s 20ms/step - loss: 0.2859 - accuracy: 0.8798 - val_loss: 0.3159 - val_accuracy: 0.8627\n"
     ]
    }
   ],
   "source": [
    "# EarlyStopping callback\n",
    "early_stopping = EarlyStopping(monitor='val_loss', patience=3, mode='auto')\n",
    "\n",
    "# ModelCheckpoint callback\n",
    "model_checkpoint = ModelCheckpoint(\n",
    "    '230809_decibel_model.h5',  # Path where to save the model\n",
    "    monitor='val_accuracy',  # The metric to monitor\n",
    "    verbose=1,  # Log info\n",
    "    save_best_only=True,  # Only save the best model\n",
    "    mode='max',  # Maximize val_accuracy\n",
    "    overwrite=True\n",
    ")\n",
    "\n",
    "callbacks = [early_stopping, model_checkpoint]\n",
    "\n",
    "# Compile the model\n",
    "model.compile(optimizer=Adam(), loss='binary_crossentropy', metrics=['accuracy'])\n",
    "\n",
    "# Fit the model\n",
    "history = model.fit(x_train_dB, y_train_dB,\n",
    "                    validation_data=(x_val_dB, y_val_dB),\n",
    "                    epochs=100, batch_size=64,\n",
    "                    callbacks=callbacks) # Add the callbacks to the model fit method\n"
   ]
  },
  {
   "cell_type": "markdown",
   "metadata": {
    "id": "E_14E_phmGXf"
   },
   "source": [
    "## Plot Accuracy & Loss of train, validation data"
   ]
  },
  {
   "cell_type": "code",
   "execution_count": 35,
   "metadata": {
    "colab": {
     "base_uri": "https://localhost:8080/",
     "height": 432
    },
    "id": "YO2zQmRYmCPV",
    "outputId": "fe185e95-c520-474d-ba05-0ff5ee243e76"
   },
   "outputs": [
    {
     "data": {
      "image/png": "[encoded data removed]",
      "text/plain": [
       "<Figure size 1200x500 with 2 Axes>"
      ]
     },
     "metadata": {},
     "output_type": "display_data"
    }
   ],
   "source": [
    "# seaborn 스타일 설정\n",
    "sns.set()\n",
    "\n",
    "# 그림 생성\n",
    "plt.figure(figsize=(12,5))\n",
    "\n",
    "# 훈련 및 검증 정확도 그리기\n",
    "plt.subplot(1,2,1)\n",
    "plt.plot(history.history['accuracy'])\n",
    "plt.plot(history.history['val_accuracy'])\n",
    "plt.title('Model Accuracy')\n",
    "plt.ylabel('Accuracy')\n",
    "plt.xlabel('Epoch')\n",
    "plt.legend(['Train', 'Validation'], loc='upper left')\n",
    "\n",
    "# 훈련 및 검증 손실 값 그리기\n",
    "plt.subplot(1,2,2)\n",
    "plt.plot(history.history['loss'])\n",
    "plt.plot(history.history['val_loss'])\n",
    "plt.title('Model Loss')\n",
    "plt.ylabel('Loss')\n",
    "plt.xlabel('Epoch')\n",
    "plt.legend(['Train', 'Validation'], loc='upper left')\n",
    "\n",
    "plt.tight_layout()\n",
    "plt.show()\n"
   ]
  },
  {
   "cell_type": "markdown",
   "metadata": {
    "id": "gGrkSpJO7RRA"
   },
   "source": [
    "## Best val accuracy model로 final evaluate"
   ]
  },
  {
   "cell_type": "code",
   "execution_count": 37,
   "metadata": {
    "colab": {
     "base_uri": "https://localhost:8080/"
    },
    "id": "G_PNWCN77Qbe",
    "outputId": "0f736b68-a371-4bcf-fb24-7e51c22ff17d"
   },
   "outputs": [
    {
     "name": "stdout",
     "output_type": "stream",
     "text": [
      "35/35 [==============================] - 1s 8ms/step - loss: 0.3262 - accuracy: 0.8609\n",
      "Test Loss: 0.3262028694152832\n",
      "Test Accuracy: 0.860909104347229\n"
     ]
    }
   ],
   "source": [
    "from tensorflow.keras.models import load_model\n",
    "\n",
    "# Load the saved model\n",
    "model_best = load_model('230809_decibel_model.h5')\n",
    "\n",
    "# Evaluate the model using test data\n",
    "test_loss, test_accuracy = model_best.evaluate(x_test_dB, y_test_dB)\n",
    "\n",
    "print(f'Test Loss: {test_loss}')\n",
    "print(f'Test Accuracy: {test_accuracy}')\n"
   ]
  },
  {
   "cell_type": "markdown",
   "metadata": {
    "id": "CRRZXjEM2btK"
   },
   "source": [
    "## draw confusion matrix"
   ]
  },
  {
   "cell_type": "code",
   "execution_count": 38,
   "metadata": {
    "colab": {
     "base_uri": "https://localhost:8080/",
     "height": 546
    },
    "id": "LpJ2dcXB2btL",
    "outputId": "379bfb0b-e190-4388-c37a-79a0377f5629"
   },
   "outputs": [
    {
     "name": "stdout",
     "output_type": "stream",
     "text": [
      "35/35 [==============================] - 0s 6ms/step\n"
     ]
    },
    {
     "data": {
      "image/png": "[encoded data removed]",
      "text/plain": [
       "<Figure size 1000x700 with 2 Axes>"
      ]
     },
     "metadata": {},
     "output_type": "display_data"
    }
   ],
   "source": [
    "import numpy as np\n",
    "from sklearn.metrics import confusion_matrix\n",
    "import seaborn as sns\n",
    "import matplotlib.pyplot as plt\n",
    "import pandas as pd\n",
    "\n",
    "# Assuming model is your trained model and X_test and y_test are your test data and labels:\n",
    "y_pred = model_best.predict(x_test_dB)\n",
    "y_pred = np.round(y_pred).flatten()  # flatten and round predictions to match label format\n",
    "\n",
    "# Calculate the confusion matrix\n",
    "cm = confusion_matrix(y_test_dB, y_pred)\n",
    "\n",
    "# Create a DataFrame from the confusion matrix\n",
    "# negative = 0 ; 보이스피싱범, positive = 1 ; 상담원\n",
    "cm_df = pd.DataFrame(cm, index=['Negative', 'Positive'], columns=['Negative', 'Positive'])\n",
    "\n",
    "# Plot confusion matrix\n",
    "plt.figure(figsize=(10, 7))\n",
    "sns.heatmap(cm_df, annot=True, fmt='d', cmap='Blues')  # 'd' stands for integer formatting\n",
    "plt.title('Confusion Matrix')\n",
    "plt.ylabel('True label')\n",
    "plt.xlabel('Predicted label')\n",
    "plt.show()\n"
   ]
  },
  {
   "cell_type": "markdown",
   "metadata": {
    "id": "fsnzFLOoGjBV"
   },
   "source": [
    " - True Negative (왼쪽 위 셀): 보이스피싱이라고 예측하고 실제로 보이스피싱인 경우\n",
    " - False Positive (오른쪽 위 셀): 일반 상담이라고 예측하였지만 실제로는 보이스피싱인 경우\n",
    " - False Negative (왼쪽 아래 셀): 보이스피싱이라고 예측하였지만 실제로는 일반 상담인 경우\n",
    " - True Positive (오른쪽 아래 셀): 일반 상담이라고 예측하고 실제로 일반 상담인 경우"
   ]
  },
  {
   "cell_type": "markdown",
   "metadata": {
    "id": "yCXAYKoBBYQG"
   },
   "source": [
    "## 불러온 모델로 새로운 data에 대한 predict"
   ]
  },
  {
   "cell_type": "code",
   "execution_count": 39,
   "metadata": {
    "id": "6MfYIoNwFCeu"
   },
   "outputs": [
    {
     "name": "stdout",
     "output_type": "stream",
     "text": [
      "Model: \"model\"\n",
      "_________________________________________________________________\n",
      " Layer (type)                Output Shape              Param #   \n",
      "=================================================================\n",
      " input_1 (InputLayer)        [(None, 157, 1)]          0         \n",
      "                                                                 \n",
      " normalization (Normalizatio  (None, 157, 1)           315       \n",
      " n)                                                              \n",
      "                                                                 \n",
      " Conv1D_1 (Conv1D)           (None, 157, 32)           128       \n",
      "                                                                 \n",
      " Conv1D_2 (Conv1D)           (None, 157, 64)           6208      \n",
      "                                                                 \n",
      " Conv1D_3 (Conv1D)           (None, 157, 128)          24704     \n",
      "                                                                 \n",
      " Conv1D_4 (Conv1D)           (None, 157, 128)          49280     \n",
      "                                                                 \n",
      " Conv1D_5 (Conv1D)           (None, 157, 256)          98560     \n",
      "                                                                 \n",
      " Conv1D_6 (Conv1D)           (None, 157, 512)          393728    \n",
      "                                                                 \n",
      " global_average_pooling1d (G  (None, 512)              0         \n",
      " lobalAveragePooling1D)                                          \n",
      "                                                                 \n",
      " dense (Dense)               (None, 32)                16416     \n",
      "                                                                 \n",
      " dense_1 (Dense)             (None, 1)                 33        \n",
      "                                                                 \n",
      "=================================================================\n",
      "Total params: 589,372\n",
      "Trainable params: 589,057\n",
      "Non-trainable params: 315\n",
      "_________________________________________________________________\n",
      "Input Shape: [(None, 157, 1)]\n",
      "Input Data Type: float32\n"
     ]
    }
   ],
   "source": [
    "# Load the saved model\n",
    "model_best = load_model('230809_decibel_model.h5')\n",
    "\n",
    "# 모델의 모든 레이어에 대한 정보를 출력합니다.\n",
    "model_best.summary()\n",
    "\n",
    "# 모델의 첫 번째 입력 레이어의 형상과 데이터 형식을 확인합니다.\n",
    "input_shape = model_best.layers[0].input_shape\n",
    "input_dtype = model_best.layers[0].dtype\n",
    "\n",
    "print(\"Input Shape:\", input_shape)\n",
    "print(\"Input Data Type:\", input_dtype)\n"
   ]
  },
  {
   "cell_type": "markdown",
   "metadata": {},
   "source": [
    "## Real world data loading"
   ]
  },
  {
   "cell_type": "code",
   "execution_count": 40,
   "metadata": {},
   "outputs": [],
   "source": [
    "import zipfile\n",
    "\n",
    "zip_path_jisoo_vp_dB = './jisoo_vp_dB.zip'\n",
    "dir_path_jisoo_vp_dB = './jisoo_vp_dB'\n",
    "\n",
    "with zipfile.ZipFile(zip_path_jisoo_vp_dB, 'r') as zip_ref:\n",
    "    zip_ref.extractall(dir_path_jisoo_vp_dB)"
   ]
  },
  {
   "cell_type": "code",
   "execution_count": 41,
   "metadata": {},
   "outputs": [
    {
     "name": "stdout",
     "output_type": "stream",
     "text": [
      "['jisoo_dB (17).npy', 'jisoo_dB (48).npy', 'jisoo_dB (43).npy', 'jisoo_dB (45).npy', 'jisoo_dB (23).npy', 'jisoo_dB (35).npy', 'jisoo_dB (8).npy', 'jisoo_dB (31).npy', 'jisoo_dB (29).npy', 'jisoo_dB (42).npy', 'jisoo_dB (14).npy', 'jisoo_dB (55).npy', 'jisoo_dB (39).npy', 'jisoo_dB (15).npy', 'jisoo_dB (24).npy', 'jisoo_dB (3).npy', 'jisoo_dB (37).npy', 'jisoo_dB (36).npy', 'jisoo_dB (1).npy', 'jisoo_dB (16).npy', 'jisoo_dB (38).npy', 'jisoo_dB (12).npy', 'jisoo_dB (4).npy', 'jisoo_dB (9).npy', 'jisoo_dB (44).npy', 'jisoo_dB (33).npy', 'jisoo_dB (13).npy', 'jisoo_dB (5).npy', 'jisoo_dB (18).npy', 'jisoo_dB (21).npy', 'jisoo_dB (41).npy', 'jisoo_dB (54).npy', 'jisoo_dB (52).npy', 'jisoo_dB (34).npy', 'jisoo_dB (19).npy', 'jisoo_dB (50).npy', 'jisoo_dB (2).npy', 'jisoo_dB (56).npy', 'jisoo_dB (20).npy', 'jisoo_dB (30).npy', 'jisoo_dB (53).npy', 'jisoo_dB (26).npy', 'jisoo_dB (10).npy', 'jisoo_dB (7).npy', 'jisoo_dB (27).npy', 'jisoo_dB (25).npy', 'jisoo_dB (49).npy', 'jisoo_dB (51).npy', 'jisoo_dB (22).npy', 'jisoo_dB (6).npy', 'jisoo_dB (40).npy', 'jisoo_dB (32).npy', 'jisoo_dB (57).npy', 'jisoo_dB (47).npy', 'jisoo_dB (28).npy', 'jisoo_dB (46).npy', 'jisoo_dB (11).npy']\n",
      "57\n"
     ]
    }
   ],
   "source": [
    "import os\n",
    "import numpy as np\n",
    "\n",
    "# test set upload\n",
    "path = './jisoo_vp_dB/' #본인이 확인하고 싶은 데이터가 들어있는 폴더를 적어주세요\n",
    "file_list = os.listdir(path)\n",
    "file_list_pitch = [file for file in file_list if file.endswith('.npy')] \n",
    "print(file_list_pitch)\n",
    "print(len(file_list_pitch))"
   ]
  },
  {
   "cell_type": "markdown",
   "metadata": {
    "id": "QUhhgOhWvrvo"
   },
   "source": [
    "## Predictions for chunks and save label to the list"
   ]
  },
  {
   "cell_type": "code",
   "execution_count": 42,
   "metadata": {
    "id": "r24PwarEugjk"
   },
   "outputs": [
    {
     "name": "stdout",
     "output_type": "stream",
     "text": [
      "\n",
      "=== Predictions ===\n",
      "\n",
      "2/2 [==============================] - 0s 39ms/step\n",
      "=== File 1 ===\n",
      "Class 0 Probability: 0.99115886911749839783\n",
      "Class 1 Probability: 0.00884113088250160217\n",
      "Predicted Label: 0\n",
      "=============================\n",
      "\n",
      "=== File 2 ===\n",
      "Class 0 Probability: 0.96355730667710304260\n",
      "Class 1 Probability: 0.03644269332289695740\n",
      "Predicted Label: 0\n",
      "=============================\n",
      "\n",
      "=== File 3 ===\n",
      "Class 0 Probability: 0.51111280918121337891\n",
      "Class 1 Probability: 0.48888719081878662109\n",
      "Predicted Label: 0\n",
      "=============================\n",
      "\n",
      "=== File 4 ===\n",
      "Class 0 Probability: 0.98769668117165565491\n",
      "Class 1 Probability: 0.01230331882834434509\n",
      "Predicted Label: 0\n",
      "=============================\n",
      "\n",
      "=== File 5 ===\n",
      "Class 0 Probability: 0.99191061034798622131\n",
      "Class 1 Probability: 0.00808938965201377869\n",
      "Predicted Label: 0\n",
      "=============================\n",
      "\n",
      "=== File 6 ===\n",
      "Class 0 Probability: 0.97362290695309638977\n",
      "Class 1 Probability: 0.02637709304690361023\n",
      "Predicted Label: 0\n",
      "=============================\n",
      "\n",
      "=== File 7 ===\n",
      "Class 0 Probability: 0.93505429476499557495\n",
      "Class 1 Probability: 0.06494570523500442505\n",
      "Predicted Label: 0\n",
      "=============================\n",
      "\n",
      "=== File 8 ===\n",
      "Class 0 Probability: 0.36286932229995727539\n",
      "Class 1 Probability: 0.63713067770004272461\n",
      "Predicted Label: 1\n",
      "=============================\n",
      "\n",
      "=== File 9 ===\n",
      "Class 0 Probability: 0.98838961124420166016\n",
      "Class 1 Probability: 0.01161038875579833984\n",
      "Predicted Label: 0\n",
      "=============================\n",
      "\n",
      "=== File 10 ===\n",
      "Class 0 Probability: 0.76989658176898956299\n",
      "Class 1 Probability: 0.23010341823101043701\n",
      "Predicted Label: 0\n",
      "=============================\n",
      "\n",
      "=== File 11 ===\n",
      "Class 0 Probability: 0.91827804595232009888\n",
      "Class 1 Probability: 0.08172195404767990112\n",
      "Predicted Label: 0\n",
      "=============================\n",
      "\n",
      "=== File 12 ===\n",
      "Class 0 Probability: 0.71292170882225036621\n",
      "Class 1 Probability: 0.28707829117774963379\n",
      "Predicted Label: 0\n",
      "=============================\n",
      "\n",
      "=== File 13 ===\n",
      "Class 0 Probability: 0.51769313216209411621\n",
      "Class 1 Probability: 0.48230686783790588379\n",
      "Predicted Label: 0\n",
      "=============================\n",
      "\n",
      "=== File 14 ===\n",
      "Class 0 Probability: 0.99122287426143884659\n",
      "Class 1 Probability: 0.00877712573856115341\n",
      "Predicted Label: 0\n",
      "=============================\n",
      "\n",
      "=== File 15 ===\n",
      "Class 0 Probability: 0.98299155384302139282\n",
      "Class 1 Probability: 0.01700844615697860718\n",
      "Predicted Label: 0\n",
      "=============================\n",
      "\n",
      "=== File 16 ===\n",
      "Class 0 Probability: 0.99729967419989407063\n",
      "Class 1 Probability: 0.00270032580010592937\n",
      "Predicted Label: 0\n",
      "=============================\n",
      "\n",
      "=== File 17 ===\n",
      "Class 0 Probability: 0.98751002456992864609\n",
      "Class 1 Probability: 0.01248997543007135391\n",
      "Predicted Label: 0\n",
      "=============================\n",
      "\n",
      "=== File 18 ===\n",
      "Class 0 Probability: 0.83735674619674682617\n",
      "Class 1 Probability: 0.16264325380325317383\n",
      "Predicted Label: 0\n",
      "=============================\n",
      "\n",
      "=== File 19 ===\n",
      "Class 0 Probability: 0.92547631263732910156\n",
      "Class 1 Probability: 0.07452368736267089844\n",
      "Predicted Label: 0\n",
      "=============================\n",
      "\n",
      "=== File 20 ===\n",
      "Class 0 Probability: 0.98630761913955211639\n",
      "Class 1 Probability: 0.01369238086044788361\n",
      "Predicted Label: 0\n",
      "=============================\n",
      "\n",
      "=== File 21 ===\n",
      "Class 0 Probability: 0.99365448206663131714\n",
      "Class 1 Probability: 0.00634551793336868286\n",
      "Predicted Label: 0\n",
      "=============================\n",
      "\n",
      "=== File 22 ===\n",
      "Class 0 Probability: 0.97502801567316055298\n",
      "Class 1 Probability: 0.02497198432683944702\n",
      "Predicted Label: 0\n",
      "=============================\n",
      "\n",
      "=== File 23 ===\n",
      "Class 0 Probability: 0.99744940665550529957\n",
      "Class 1 Probability: 0.00255059334449470043\n",
      "Predicted Label: 0\n",
      "=============================\n",
      "\n",
      "=== File 24 ===\n",
      "Class 0 Probability: 0.95374322310090065002\n",
      "Class 1 Probability: 0.04625677689909934998\n",
      "Predicted Label: 0\n",
      "=============================\n",
      "\n",
      "=== File 25 ===\n",
      "Class 0 Probability: 0.36183148622512817383\n",
      "Class 1 Probability: 0.63816851377487182617\n",
      "Predicted Label: 1\n",
      "=============================\n",
      "\n",
      "=== File 26 ===\n",
      "Class 0 Probability: 0.96391354501247406006\n",
      "Class 1 Probability: 0.03608645498752593994\n",
      "Predicted Label: 0\n",
      "=============================\n",
      "\n",
      "=== File 27 ===\n",
      "Class 0 Probability: 0.77222457528114318848\n",
      "Class 1 Probability: 0.22777542471885681152\n",
      "Predicted Label: 0\n",
      "=============================\n",
      "\n",
      "=== File 28 ===\n",
      "Class 0 Probability: 0.97777996957302093506\n",
      "Class 1 Probability: 0.02222003042697906494\n",
      "Predicted Label: 0\n",
      "=============================\n",
      "\n",
      "=== File 29 ===\n",
      "Class 0 Probability: 0.94868054613471031189\n",
      "Class 1 Probability: 0.05131945386528968811\n",
      "Predicted Label: 0\n",
      "=============================\n",
      "\n",
      "=== File 30 ===\n",
      "Class 0 Probability: 0.88536141067743301392\n",
      "Class 1 Probability: 0.11463858932256698608\n",
      "Predicted Label: 0\n",
      "=============================\n",
      "\n",
      "=== File 31 ===\n",
      "Class 0 Probability: 0.96154659241437911987\n",
      "Class 1 Probability: 0.03845340758562088013\n",
      "Predicted Label: 0\n",
      "=============================\n",
      "\n",
      "=== File 32 ===\n",
      "Class 0 Probability: 0.99885045748669654131\n",
      "Class 1 Probability: 0.00114954251330345869\n",
      "Predicted Label: 0\n",
      "=============================\n",
      "\n",
      "=== File 33 ===\n",
      "Class 0 Probability: 0.93790182471275329590\n",
      "Class 1 Probability: 0.06209817528724670410\n",
      "Predicted Label: 0\n",
      "=============================\n",
      "\n",
      "=== File 34 ===\n",
      "Class 0 Probability: 0.99942602048395201564\n",
      "Class 1 Probability: 0.00057397951604798436\n",
      "Predicted Label: 0\n",
      "=============================\n",
      "\n",
      "=== File 35 ===\n",
      "Class 0 Probability: 0.97291776537895202637\n",
      "Class 1 Probability: 0.02708223462104797363\n",
      "Predicted Label: 0\n",
      "=============================\n",
      "\n",
      "=== File 36 ===\n",
      "Class 0 Probability: 0.91481754183769226074\n",
      "Class 1 Probability: 0.08518245816230773926\n",
      "Predicted Label: 0\n",
      "=============================\n",
      "\n",
      "=== File 37 ===\n",
      "Class 0 Probability: 0.87246499955654144287\n",
      "Class 1 Probability: 0.12753500044345855713\n",
      "Predicted Label: 0\n",
      "=============================\n",
      "\n",
      "=== File 38 ===\n",
      "Class 0 Probability: 0.99508832441642880440\n",
      "Class 1 Probability: 0.00491167558357119560\n",
      "Predicted Label: 0\n",
      "=============================\n",
      "\n",
      "=== File 39 ===\n",
      "Class 0 Probability: 0.98731778841465711594\n",
      "Class 1 Probability: 0.01268221158534288406\n",
      "Predicted Label: 0\n",
      "=============================\n",
      "\n",
      "=== File 40 ===\n",
      "Class 0 Probability: 0.98792192712426185608\n",
      "Class 1 Probability: 0.01207807287573814392\n",
      "Predicted Label: 0\n",
      "=============================\n",
      "\n",
      "=== File 41 ===\n",
      "Class 0 Probability: 0.99400968383997678757\n",
      "Class 1 Probability: 0.00599031616002321243\n",
      "Predicted Label: 0\n",
      "=============================\n",
      "\n",
      "=== File 42 ===\n",
      "Class 0 Probability: 0.98806422390043735504\n",
      "Class 1 Probability: 0.01193577609956264496\n",
      "Predicted Label: 0\n",
      "=============================\n",
      "\n",
      "=== File 43 ===\n",
      "Class 0 Probability: 0.99874525552149862051\n",
      "Class 1 Probability: 0.00125474447850137949\n",
      "Predicted Label: 0\n",
      "=============================\n",
      "\n",
      "=== File 44 ===\n",
      "Class 0 Probability: 0.98277768678963184357\n",
      "Class 1 Probability: 0.01722231321036815643\n",
      "Predicted Label: 0\n",
      "=============================\n",
      "\n",
      "=== File 45 ===\n",
      "Class 0 Probability: 0.99879922845866531134\n",
      "Class 1 Probability: 0.00120077154133468866\n",
      "Predicted Label: 0\n",
      "=============================\n",
      "\n",
      "=== File 46 ===\n",
      "Class 0 Probability: 0.99148854799568653107\n",
      "Class 1 Probability: 0.00851145200431346893\n",
      "Predicted Label: 0\n",
      "=============================\n",
      "\n",
      "=== File 47 ===\n",
      "Class 0 Probability: 0.94476253911852836609\n",
      "Class 1 Probability: 0.05523746088147163391\n",
      "Predicted Label: 0\n",
      "=============================\n",
      "\n",
      "=== File 48 ===\n",
      "Class 0 Probability: 0.98844882752746343613\n",
      "Class 1 Probability: 0.01155117247253656387\n",
      "Predicted Label: 0\n",
      "=============================\n",
      "\n",
      "=== File 49 ===\n",
      "Class 0 Probability: 0.99905657989438623190\n",
      "Class 1 Probability: 0.00094342010561376810\n",
      "Predicted Label: 0\n",
      "=============================\n",
      "\n",
      "=== File 50 ===\n",
      "Class 0 Probability: 0.94733631983399391174\n",
      "Class 1 Probability: 0.05266368016600608826\n",
      "Predicted Label: 0\n",
      "=============================\n",
      "\n",
      "=== File 51 ===\n",
      "Class 0 Probability: 0.99607220431789755821\n",
      "Class 1 Probability: 0.00392779568210244179\n",
      "Predicted Label: 0\n",
      "=============================\n",
      "\n",
      "=== File 52 ===\n",
      "Class 0 Probability: 0.99986492520838510245\n",
      "Class 1 Probability: 0.00013507479161489755\n",
      "Predicted Label: 0\n",
      "=============================\n",
      "\n",
      "=== File 53 ===\n",
      "Class 0 Probability: 0.80459751188755035400\n",
      "Class 1 Probability: 0.19540248811244964600\n",
      "Predicted Label: 0\n",
      "=============================\n",
      "\n",
      "=== File 54 ===\n",
      "Class 0 Probability: 0.97396866604685783386\n",
      "Class 1 Probability: 0.02603133395314216614\n",
      "Predicted Label: 0\n",
      "=============================\n",
      "\n",
      "=== File 55 ===\n",
      "Class 0 Probability: 0.83164764940738677979\n",
      "Class 1 Probability: 0.16835235059261322021\n",
      "Predicted Label: 0\n",
      "=============================\n",
      "\n",
      "=== File 56 ===\n",
      "Class 0 Probability: 0.98719835001975297928\n",
      "Class 1 Probability: 0.01280164998024702072\n",
      "Predicted Label: 0\n",
      "=============================\n",
      "\n",
      "=== File 57 ===\n",
      "Class 0 Probability: 0.89873484522104263306\n",
      "Class 1 Probability: 0.10126515477895736694\n",
      "Predicted Label: 0\n",
      "=============================\n",
      "\n",
      "Predicted Labels List: [0, 0, 0, 0, 0, 0, 0, 1, 0, 0, 0, 0, 0, 0, 0, 0, 0, 0, 0, 0, 0, 0, 0, 0, 1, 0, 0, 0, 0, 0, 0, 0, 0, 0, 0, 0, 0, 0, 0, 0, 0, 0, 0, 0, 0, 0, 0, 0, 0, 0, 0, 0, 0, 0, 0, 0, 0]\n"
     ]
    }
   ],
   "source": [
    "import numpy as np\n",
    "\n",
    "def preprocess_files(file_list_pitch):\n",
    "    reshaped_files = []\n",
    "    for file in file_list_pitch:\n",
    "        data = np.load(path + file)\n",
    "        reshaped_data = data.reshape(1, 157, 1)\n",
    "        reshaped_files.append(reshaped_data)\n",
    "    return np.vstack(reshaped_files).astype('float32')\n",
    "\n",
    "def predict_with_model(model_best, file_list_pitch):\n",
    "    data = preprocess_files(file_list_pitch)\n",
    "    probabilities = model_best.predict(data)\n",
    "    # 확률이 0.5 이상이면 1, 0.5 미만이면 0\n",
    "    labels = [1 if prob[0] >= 0.5 else 0 for prob in probabilities]\n",
    "\n",
    "    for idx, probability in enumerate(probabilities):\n",
    "        class_0_prob = 1 - probability[0]\n",
    "        class_1_prob = probability[0]\n",
    "        \n",
    "        print(f\"=== File {idx+1} ===\")\n",
    "        print(f\"Class 0 Probability: {class_0_prob:.20f}\")\n",
    "        print(f\"Class 1 Probability: {class_1_prob:.20f}\")\n",
    "        print(\"Predicted Label:\", labels[idx])\n",
    "        print(\"=============================\\n\")\n",
    "\n",
    "    return probabilities, labels\n",
    "\n",
    "# Define model_best and file_list_pitch appropriately before calling predict_with_model\n",
    "\n",
    "print(\"\\n=== Predictions ===\\n\")\n",
    "predictions, labels = predict_with_model(model_best, file_list_pitch)\n",
    "print(\"Predicted Labels List:\", labels)\n"
   ]
  }
 ],
 "metadata": {
  "accelerator": "GPU",
  "colab": {
   "collapsed_sections": [
    "HQ3Jqjfb6edH",
    "8d04zCg62btH"
   ],
   "gpuType": "T4",
   "provenance": []
  },
  "kernelspec": {
   "display_name": "mldl_keras",
   "language": "python",
   "name": "mldl_keras"
  },
  "language_info": {
   "codemirror_mode": {
    "name": "ipython",
    "version": 3
   },
   "file_extension": ".py",
   "mimetype": "text/x-python",
   "name": "python",
   "nbconvert_exporter": "python",
   "pygments_lexer": "ipython3",
   "version": "3.8.17"
  }
 },
 "nbformat": 4,
 "nbformat_minor": 1
}
