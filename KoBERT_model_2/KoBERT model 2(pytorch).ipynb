{
 "cells": [
  {
   "cell_type": "markdown",
   "metadata": {
    "id": "s-iFfqfH7Xik"
   },
   "source": [
    "# **KoBERT Model with fine tuning**\n",
    "\n",
    " - 2번분석, 발화 내용 기반 보이스피싱 발화문, 일반 상담 발화문 감정 판별"
   ]
  },
  {
   "cell_type": "code",
   "execution_count": 2,
   "metadata": {
    "id": "gNaiWhP17Xio"
   },
   "outputs": [],
   "source": [
    "# # 원본 https://github.com/SKTBrain/KoBERT에 나와있는 using pytorch 코드\n",
    "# !pip install git+https://git@github.com/SKTBrain/KoBERT.git@master"
   ]
  },
  {
   "cell_type": "code",
   "execution_count": 20,
   "metadata": {
    "id": "IX4wdoTN7Xip",
    "scrolled": true
   },
   "outputs": [],
   "source": [
    "# # RUN\n",
    "# 필요 import 문 \n",
    "import torch\n",
    "from torch import nn\n",
    "import torch.nn.functional as F\n",
    "import torch.optim as optim\n",
    "from torch.utils.data import Dataset, DataLoader\n",
    "import gluonnlp as nlp\n",
    "import numpy as np  # 'ersion : '1.23.5'\n",
    "from tqdm.notebook import tqdm\n",
    "import pandas as pd\n",
    "from sklearn.model_selection import train_test_split\n",
    "import matplotlib.pyplot as plt\n",
    "import seaborn as sns"
   ]
  },
  {
   "cell_type": "code",
   "execution_count": 4,
   "metadata": {},
   "outputs": [],
   "source": [
    "# # 원본 https://github.com/SKTBrain/KoBERT에 나와있는 using pytorch 코드\n",
    "# from kobert import get_tokenizer\n",
    "# from kobert import get_pytorch_kobert_model"
   ]
  },
  {
   "cell_type": "code",
   "execution_count": 5,
   "metadata": {},
   "outputs": [],
   "source": [
    "# # 원본 https://github.com/SKTBrain/KoBERT에 나와있는 using pytorch 코드\n",
    "# bertmodel, vocab = get_pytorch_kobert_model(cachedir=\".cache\")"
   ]
  },
  {
   "cell_type": "markdown",
   "metadata": {},
   "source": [
    "### HuggingFace 우회"
   ]
  },
  {
   "cell_type": "code",
   "execution_count": 6,
   "metadata": {},
   "outputs": [],
   "source": [
    "# # RUN\n",
    "# ModuleNotFoundError: No module named 'kobert'로 인한 허깅페이스 우회\n",
    "# !pip install 'git+https://github.com/SKTBrain/KoBERT.git#egg=kobert_tokenizer&subdirectory=kobert_hf'"
   ]
  },
  {
   "cell_type": "code",
   "execution_count": 7,
   "metadata": {},
   "outputs": [],
   "source": [
    "# # RUN\n",
    "from kobert_tokenizer import KoBERTTokenizer\n",
    "from transformers import BertModel"
   ]
  },
  {
   "cell_type": "code",
   "execution_count": 8,
   "metadata": {},
   "outputs": [],
   "source": [
    "# # RUN\n",
    "tokenizer = KoBERTTokenizer.from_pretrained('skt/kobert-base-v1')\n",
    "bertmodel = BertModel.from_pretrained('skt/kobert-base-v1', return_dict=False)\n",
    "vocab = nlp.vocab.BERTVocab.from_sentencepiece(tokenizer.vocab_file, padding_token='[PAD]')"
   ]
  },
  {
   "cell_type": "code",
   "execution_count": 9,
   "metadata": {
    "id": "Qn13zOr57Xiq"
   },
   "outputs": [
    {
     "name": "stderr",
     "output_type": "stream",
     "text": [
      "2023-08-13 10:42:31.180823: I tensorflow/tsl/cuda/cudart_stub.cc:28] Could not find cuda drivers on your machine, GPU will not be used.\n",
      "2023-08-13 10:42:31.220931: I tensorflow/tsl/cuda/cudart_stub.cc:28] Could not find cuda drivers on your machine, GPU will not be used.\n",
      "2023-08-13 10:42:31.221998: I tensorflow/core/platform/cpu_feature_guard.cc:182] This TensorFlow binary is optimized to use available CPU instructions in performance-critical operations.\n",
      "To enable the following instructions: AVX2 AVX512F FMA, in other operations, rebuild TensorFlow with the appropriate compiler flags.\n",
      "2023-08-13 10:42:32.050234: W tensorflow/compiler/tf2tensorrt/utils/py_utils.cc:38] TF-TRT Warning: Could not find TensorRT\n"
     ]
    }
   ],
   "source": [
    "# RUN\n",
    "from transformers import AdamW\n",
    "from transformers.optimization import get_cosine_schedule_with_warmup"
   ]
  },
  {
   "cell_type": "code",
   "execution_count": 10,
   "metadata": {
    "id": "p9YRdvhE7Xiq",
    "scrolled": true
   },
   "outputs": [
    {
     "name": "stdout",
     "output_type": "stream",
     "text": [
      "torch version: 1.10.1+cu102\n",
      "현재 가상환경 GPU 사용 가능상태\n"
     ]
    }
   ],
   "source": [
    "# # RUN\n",
    "# # 그래픽 카드 사용\n",
    "print('torch version: {}'.format(torch.__version__))\n",
    "\n",
    "if torch.cuda.is_available() == True:\n",
    "    device = 'cuda:0'\n",
    "    print('현재 가상환경 GPU 사용 가능상태')\n",
    "else:\n",
    "    device = 'cpu'\n",
    "    print('GPU 사용 불가능 상태')"
   ]
  },
  {
   "cell_type": "code",
   "execution_count": 11,
   "metadata": {},
   "outputs": [
    {
     "data": {
      "text/plain": [
       "'NVIDIA GeForce RTX 2080'"
      ]
     },
     "execution_count": 11,
     "metadata": {},
     "output_type": "execute_result"
    }
   ],
   "source": [
    "# 사용하는 Graffic card 이름 확인\n",
    "torch.cuda.is_available()\n",
    "torch.cuda.get_device_name()"
   ]
  },
  {
   "cell_type": "code",
   "execution_count": 12,
   "metadata": {},
   "outputs": [
    {
     "name": "stdout",
     "output_type": "stream",
     "text": [
      "Allocated memory: 0.00 MB\n",
      "Reserved memory: 0.00 MB\n"
     ]
    }
   ],
   "source": [
    "# GPU 용량 확인\n",
    "# Get the current memory usage (in bytes)\n",
    "allocated = torch.cuda.memory_allocated(device)\n",
    "reserved = torch.cuda.memory_reserved(device)\n",
    "\n",
    "# Convert to MB\n",
    "allocated_mb = allocated / 1024 / 1024\n",
    "reserved_mb = reserved / 1024 / 1024\n",
    "\n",
    "print(f'Allocated memory: {allocated_mb:.2f} MB')\n",
    "print(f'Reserved memory: {reserved_mb:.2f} MB')"
   ]
  },
  {
   "cell_type": "markdown",
   "metadata": {},
   "source": [
    "### Loading Data and preprocessing"
   ]
  },
  {
   "cell_type": "code",
   "execution_count": 13,
   "metadata": {},
   "outputs": [
    {
     "data": {
      "text/plain": [
       "'/KITA_Project'"
      ]
     },
     "execution_count": 13,
     "metadata": {},
     "output_type": "execute_result"
    }
   ],
   "source": [
    "import os\n",
    "os.getcwd()"
   ]
  },
  {
   "cell_type": "code",
   "execution_count": 14,
   "metadata": {
    "scrolled": true
   },
   "outputs": [],
   "source": [
    "# File pathS\n",
    "file_path_data= \"/KITA_Project/5차년도2차_수정.csv\" # 필요에 따라 파일 경로 변경\n",
    "\n",
    "df_emo = pd.read_csv(file_path_data, encoding='utf-8')"
   ]
  },
  {
   "cell_type": "code",
   "execution_count": 16,
   "metadata": {},
   "outputs": [
    {
     "data": {
      "text/plain": [
       "array(['neutral', 'angry', 'disgust', 'fear'], dtype=object)"
      ]
     },
     "execution_count": 16,
     "metadata": {},
     "output_type": "execute_result"
    }
   ],
   "source": [
    "# label 확인\n",
    "\n",
    "df_emo['상황'].unique()"
   ]
  },
  {
   "cell_type": "code",
   "execution_count": 17,
   "metadata": {},
   "outputs": [
    {
     "data": {
      "text/html": [
       "<div>\n",
       "<style scoped>\n",
       "    .dataframe tbody tr th:only-of-type {\n",
       "        vertical-align: middle;\n",
       "    }\n",
       "\n",
       "    .dataframe tbody tr th {\n",
       "        vertical-align: top;\n",
       "    }\n",
       "\n",
       "    .dataframe thead th {\n",
       "        text-align: right;\n",
       "    }\n",
       "</style>\n",
       "<table border=\"1\" class=\"dataframe\">\n",
       "  <thead>\n",
       "    <tr style=\"text-align: right;\">\n",
       "      <th></th>\n",
       "      <th>발화문</th>\n",
       "      <th>상황</th>\n",
       "    </tr>\n",
       "  </thead>\n",
       "  <tbody>\n",
       "    <tr>\n",
       "      <th>0</th>\n",
       "      <td>에피타이저 정말 좋아해. 그 것도 괜찮은 생각인 것 같애.</td>\n",
       "      <td>neutral</td>\n",
       "    </tr>\n",
       "    <tr>\n",
       "      <th>1</th>\n",
       "      <td>난 부페 형식의 음식들도 정말 좋아해. 그 것도 좀 알려 줘.</td>\n",
       "      <td>neutral</td>\n",
       "    </tr>\n",
       "    <tr>\n",
       "      <th>2</th>\n",
       "      <td>내가 좋아하는 유튜버가 좋은 제품이라고 하길래 나도 샀지. 그런데 그게 돈 받고 하...</td>\n",
       "      <td>angry</td>\n",
       "    </tr>\n",
       "    <tr>\n",
       "      <th>3</th>\n",
       "      <td>그래서 사람들이 증거 사진을 올렸더니 그 때서야 광고였다고 미안하다고 하는 거야.</td>\n",
       "      <td>angry</td>\n",
       "    </tr>\n",
       "    <tr>\n",
       "      <th>4</th>\n",
       "      <td>처음부터 자기 잘못을 알고 미안하다고 했으면 화가 이렇게 나진 않았을 거야. 사람들...</td>\n",
       "      <td>angry</td>\n",
       "    </tr>\n",
       "  </tbody>\n",
       "</table>\n",
       "</div>"
      ],
      "text/plain": [
       "                                                 발화문       상황\n",
       "0                   에피타이저 정말 좋아해. 그 것도 괜찮은 생각인 것 같애.  neutral\n",
       "1                 난 부페 형식의 음식들도 정말 좋아해. 그 것도 좀 알려 줘.  neutral\n",
       "2  내가 좋아하는 유튜버가 좋은 제품이라고 하길래 나도 샀지. 그런데 그게 돈 받고 하...    angry\n",
       "3      그래서 사람들이 증거 사진을 올렸더니 그 때서야 광고였다고 미안하다고 하는 거야.    angry\n",
       "4  처음부터 자기 잘못을 알고 미안하다고 했으면 화가 이렇게 나진 않았을 거야. 사람들...    angry"
      ]
     },
     "execution_count": 17,
     "metadata": {},
     "output_type": "execute_result"
    }
   ],
   "source": [
    "df_emo.head()"
   ]
  },
  {
   "cell_type": "code",
   "execution_count": 18,
   "metadata": {
    "scrolled": true
   },
   "outputs": [
    {
     "data": {
      "text/plain": [
       "array(['neutral', 'angry', 'disgust', 'fear'], dtype=object)"
      ]
     },
     "execution_count": 18,
     "metadata": {},
     "output_type": "execute_result"
    }
   ],
   "source": [
    "df_emo['상황'].unique()"
   ]
  },
  {
   "cell_type": "code",
   "execution_count": 22,
   "metadata": {
    "scrolled": false
   },
   "outputs": [
    {
     "name": "stderr",
     "output_type": "stream",
     "text": [
      "/anaconda/envs/mldl_torch/lib/python3.8/site-packages/IPython/core/pylabtools.py:152: UserWarning: Glyph 49345 (\\N{HANGUL SYLLABLE SANG}) missing from current font.\n",
      "  fig.canvas.print_figure(bytes_io, **kw)\n",
      "/anaconda/envs/mldl_torch/lib/python3.8/site-packages/IPython/core/pylabtools.py:152: UserWarning: Glyph 54889 (\\N{HANGUL SYLLABLE HWANG}) missing from current font.\n",
      "  fig.canvas.print_figure(bytes_io, **kw)\n"
     ]
    },
    {
     "data": {
      "image/png": "[encoded data removed]",
      "text/plain": [
       "<Figure size 1000x600 with 1 Axes>"
      ]
     },
     "metadata": {},
     "output_type": "display_data"
    }
   ],
   "source": [
    "# Count the number of each sentiment\n",
    "sentiment_counts = df_emo['상황'].value_counts()\n",
    "\n",
    "# Create a barplot\n",
    "plt.figure(figsize=(10,6))\n",
    "sns.barplot(x=sentiment_counts.index, y=sentiment_counts.values)\n",
    "\n",
    "# Add title and labels\n",
    "plt.title('Distribution of Sentiments')\n",
    "plt.xlabel('상황')\n",
    "plt.ylabel('Count')\n",
    "\n",
    "# Show the plot\n",
    "plt.show()\n"
   ]
  },
  {
   "cell_type": "code",
   "execution_count": 23,
   "metadata": {},
   "outputs": [],
   "source": [
    "# Lableing\n",
    "\n",
    "df_emo.loc[(df_emo['상황'] == \"neutral\"), '상황'] = 0 \n",
    "df_emo.loc[(df_emo['상황'] == \"angry\"), '상황'] = 1 \n",
    "df_emo.loc[(df_emo['상황'] == \"disgust\"), '상황'] = 2  \n",
    "df_emo.loc[(df_emo['상황'] == \"fear\"), '상황'] = 3 "
   ]
  },
  {
   "cell_type": "code",
   "execution_count": 24,
   "metadata": {
    "scrolled": true
   },
   "outputs": [],
   "source": [
    "data_list= []\n",
    "for q, label in zip(df_emo['발화문'], df_emo['상황'])  :\n",
    "    data = []\n",
    "    data.append(q)\n",
    "    data.append(str(label))\n",
    "\n",
    "    data_list.append(data)"
   ]
  },
  {
   "cell_type": "code",
   "execution_count": 25,
   "metadata": {},
   "outputs": [
    {
     "name": "stdout",
     "output_type": "stream",
     "text": [
      "10223\n",
      "['에피타이저 정말 좋아해. 그 것도 괜찮은 생각인 것 같애.', '0']\n",
      "['따로 가서 서핑을 즐기려고 했지.', '1']\n",
      "['몸은 괜찮은데 걱정이야.', '3']\n",
      "['어. 보니까 쓰레기통에 버려뒀던 음식물 쓰레기가 그 사이 썩은 것 같애.', '2']\n"
     ]
    }
   ],
   "source": [
    "print(len(data_list))\n",
    "print(data_list[0])\n",
    "print(data_list[3000])\n",
    "print(data_list[6000])\n",
    "print(data_list[10000])"
   ]
  },
  {
   "cell_type": "markdown",
   "metadata": {},
   "source": [
    "### Data Splitting"
   ]
  },
  {
   "cell_type": "code",
   "execution_count": 26,
   "metadata": {
    "scrolled": true
   },
   "outputs": [
    {
     "name": "stdout",
     "output_type": "stream",
     "text": [
      "8178\n",
      "1636\n",
      "409\n"
     ]
    }
   ],
   "source": [
    "# Split data into training, validation, and testing sets\n",
    "# Assuming data_list is your full data\n",
    "dataset_train, dataset_temp = train_test_split(data_list, test_size=0.2, random_state=42, shuffle=True)\n",
    "dataset_valid, dataset_test = train_test_split(dataset_temp, test_size=0.2, random_state=42, shuffle=True)\n",
    "print(len(dataset_train))\n",
    "print(len(dataset_valid))\n",
    "print(len(dataset_test))\n"
   ]
  },
  {
   "cell_type": "code",
   "execution_count": 27,
   "metadata": {},
   "outputs": [
    {
     "name": "stdout",
     "output_type": "stream",
     "text": [
      "['나 오늘 대학교에 짭새가 몰려있어서 궁금해서 구경하고 왔어.', '0']\n",
      "['습기가 많고 환기가 잘 되지 않는 거 같아서 매일 청소를 하는데 곰팡이가 안 없어져.', '1']\n",
      "['지만, 그 분은 욕을 좀 먹어야 돼.', '1']\n"
     ]
    }
   ],
   "source": [
    "print(dataset_train[5])\n",
    "print(dataset_valid[10])\n",
    "print(dataset_test[15])"
   ]
  },
  {
   "cell_type": "code",
   "execution_count": 28,
   "metadata": {},
   "outputs": [],
   "source": [
    "class BERTDataset(Dataset):\n",
    "    def __init__(self, dataset, sent_idx, label_idx, bert_tokenizer, max_len, vocab, pad, pair):\n",
    "        transform = nlp.data.BERTSentenceTransform(bert_tokenizer, max_seq_length=max_len, vocab=vocab, pad=pad, pair=pair)\n",
    "\n",
    "        self.sentences = [transform([i[sent_idx]]) for i in dataset]\n",
    "        self.labels = [np.int32(i[label_idx]) for i in dataset]\n",
    "\n",
    "    def __getitem__(self, i):\n",
    "        return (self.sentences[i] + (self.labels[i], ))\n",
    "\n",
    "    def __len__(self):\n",
    "        return (len(self.labels))\n"
   ]
  },
  {
   "cell_type": "code",
   "execution_count": 47,
   "metadata": {},
   "outputs": [],
   "source": [
    "# Setting parameters\n",
    "max_len = 64\n",
    "batch_size = 64\n",
    "warmup_ratio = 0.1\n",
    "num_epochs = 20\n",
    "max_grad_norm = 1\n",
    "log_interval = 500\n",
    "learning_rate =  5e-5"
   ]
  },
  {
   "cell_type": "code",
   "execution_count": 30,
   "metadata": {},
   "outputs": [],
   "source": [
    "# Define your datasets\n",
    "dataset_train = BERTDataset(dataset_train, 0, 1, tokenizer, max_len, vocab, True, False)\n",
    "dataset_valid = BERTDataset(dataset_valid, 0, 1, tokenizer, max_len, vocab, True, False)\n",
    "dataset_test = BERTDataset(dataset_test, 0, 1, tokenizer, max_len, vocab, True, False)"
   ]
  },
  {
   "cell_type": "code",
   "execution_count": 31,
   "metadata": {},
   "outputs": [
    {
     "data": {
      "text/plain": [
       "(array([   2,  517, 6983,    5, 4396, 7178, 6198, 6903, 2309, 6050, 1396,\n",
       "          54,    3,    1,    1,    1,    1,    1,    1,    1,    1,    1,\n",
       "           1,    1,    1,    1,    1,    1,    1,    1,    1,    1,    1,\n",
       "           1,    1,    1,    1,    1,    1,    1,    1,    1,    1,    1,\n",
       "           1,    1,    1,    1,    1,    1,    1,    1,    1,    1,    1,\n",
       "           1,    1,    1,    1,    1,    1,    1,    1,    1], dtype=int32),\n",
       " array(13, dtype=int32),\n",
       " array([0, 0, 0, 0, 0, 0, 0, 0, 0, 0, 0, 0, 0, 0, 0, 0, 0, 0, 0, 0, 0, 0,\n",
       "        0, 0, 0, 0, 0, 0, 0, 0, 0, 0, 0, 0, 0, 0, 0, 0, 0, 0, 0, 0, 0, 0,\n",
       "        0, 0, 0, 0, 0, 0, 0, 0, 0, 0, 0, 0, 0, 0, 0, 0, 0, 0, 0, 0],\n",
       "       dtype=int32),\n",
       " 2)"
      ]
     },
     "execution_count": 31,
     "metadata": {},
     "output_type": "execute_result"
    }
   ],
   "source": [
    "dataset_train[0]"
   ]
  },
  {
   "cell_type": "code",
   "execution_count": 32,
   "metadata": {},
   "outputs": [
    {
     "data": {
      "text/plain": [
       "(array([   2,  806,  517, 6187, 7461, 5838, 4048, 7096, 1370, 5348, 6855,\n",
       "          54,    3,    1,    1,    1,    1,    1,    1,    1,    1,    1,\n",
       "           1,    1,    1,    1,    1,    1,    1,    1,    1,    1,    1,\n",
       "           1,    1,    1,    1,    1,    1,    1,    1,    1,    1,    1,\n",
       "           1,    1,    1,    1,    1,    1,    1,    1,    1,    1,    1,\n",
       "           1,    1,    1,    1,    1,    1,    1,    1,    1], dtype=int32),\n",
       " array(13, dtype=int32),\n",
       " array([0, 0, 0, 0, 0, 0, 0, 0, 0, 0, 0, 0, 0, 0, 0, 0, 0, 0, 0, 0, 0, 0,\n",
       "        0, 0, 0, 0, 0, 0, 0, 0, 0, 0, 0, 0, 0, 0, 0, 0, 0, 0, 0, 0, 0, 0,\n",
       "        0, 0, 0, 0, 0, 0, 0, 0, 0, 0, 0, 0, 0, 0, 0, 0, 0, 0, 0, 0],\n",
       "       dtype=int32),\n",
       " 3)"
      ]
     },
     "execution_count": 32,
     "metadata": {},
     "output_type": "execute_result"
    }
   ],
   "source": [
    "dataset_valid[0]"
   ]
  },
  {
   "cell_type": "code",
   "execution_count": 33,
   "metadata": {},
   "outputs": [
    {
     "data": {
      "text/plain": [
       "(array([   2, 1434, 7126, 4627, 6116, 1933, 5571, 5018,  517, 6249, 2010,\n",
       "        6856, 4977, 7318, 2049, 5405, 6855,   54,    3,    1,    1,    1,\n",
       "           1,    1,    1,    1,    1,    1,    1,    1,    1,    1,    1,\n",
       "           1,    1,    1,    1,    1,    1,    1,    1,    1,    1,    1,\n",
       "           1,    1,    1,    1,    1,    1,    1,    1,    1,    1,    1,\n",
       "           1,    1,    1,    1,    1,    1,    1,    1,    1], dtype=int32),\n",
       " array(19, dtype=int32),\n",
       " array([0, 0, 0, 0, 0, 0, 0, 0, 0, 0, 0, 0, 0, 0, 0, 0, 0, 0, 0, 0, 0, 0,\n",
       "        0, 0, 0, 0, 0, 0, 0, 0, 0, 0, 0, 0, 0, 0, 0, 0, 0, 0, 0, 0, 0, 0,\n",
       "        0, 0, 0, 0, 0, 0, 0, 0, 0, 0, 0, 0, 0, 0, 0, 0, 0, 0, 0, 0],\n",
       "       dtype=int32),\n",
       " 0)"
      ]
     },
     "execution_count": 33,
     "metadata": {},
     "output_type": "execute_result"
    }
   ],
   "source": [
    "dataset_test[0]"
   ]
  },
  {
   "cell_type": "code",
   "execution_count": 34,
   "metadata": {},
   "outputs": [],
   "source": [
    "# Define your dataloaders\n",
    "train_dataloader = DataLoader(dataset_train, batch_size=batch_size, shuffle=True, num_workers=5)\n",
    "valid_dataloader = DataLoader(dataset_valid, batch_size=batch_size, shuffle=True, num_workers=5)\n",
    "test_dataloader = DataLoader(dataset_test, batch_size=batch_size, shuffle=True, num_workers=5)"
   ]
  },
  {
   "cell_type": "code",
   "execution_count": 35,
   "metadata": {},
   "outputs": [],
   "source": [
    "class BERTClassifier(nn.Module):\n",
    "    def __init__(self,\n",
    "                 bert,\n",
    "                 hidden_size = 768,\n",
    "                 num_classes=4,\n",
    "                 dr_rate=None,\n",
    "                 params=None):\n",
    "        super(BERTClassifier, self).__init__()\n",
    "        self.bert = bert\n",
    "        self.dr_rate = dr_rate\n",
    "\n",
    "        self.classifier = nn.Linear(hidden_size , num_classes)\n",
    "        if dr_rate:\n",
    "            self.dropout = nn.Dropout(p=dr_rate)\n",
    "\n",
    "    def gen_attention_mask(self, token_ids, valid_length):\n",
    "        attention_mask = torch.zeros_like(token_ids)\n",
    "        for i, v in enumerate(valid_length):\n",
    "            attention_mask[i][:v] = 1\n",
    "        return attention_mask.float()\n",
    "\n",
    "    def forward(self, token_ids, valid_length, segment_ids):\n",
    "        attention_mask = self.gen_attention_mask(token_ids, valid_length)\n",
    "\n",
    "        _, pooler = self.bert(input_ids = token_ids, token_type_ids = segment_ids.long(), attention_mask = attention_mask.float().to(token_ids.device))\n",
    "        if self.dr_rate:\n",
    "            out = self.dropout(pooler)\n",
    "        return self.classifier(out)"
   ]
  },
  {
   "cell_type": "code",
   "execution_count": 36,
   "metadata": {},
   "outputs": [],
   "source": [
    "model = BERTClassifier(bertmodel,  dr_rate=0.5).to(device)"
   ]
  },
  {
   "cell_type": "code",
   "execution_count": 37,
   "metadata": {
    "scrolled": true
   },
   "outputs": [],
   "source": [
    "# Prepare optimizer and schedule (linear warmup and decay)\n",
    "no_decay = ['bias', 'LayerNorm.weight']\n",
    "optimizer_grouped_parameters = [\n",
    "    {'params': [p for n, p in model.named_parameters() if not any(nd in n for nd in no_decay)], 'weight_decay': 0.01},\n",
    "    {'params': [p for n, p in model.named_parameters() if any(nd in n for nd in no_decay)], 'weight_decay': 0.0}\n",
    "]\n",
    "optimizer = AdamW(optimizer_grouped_parameters, lr=learning_rate)\n",
    "\n",
    "loss_fn = nn.CrossEntropyLoss()\n",
    "\n",
    "t_total = len(train_dataloader) * num_epochs\n",
    "warmup_step = int(t_total * warmup_ratio)\n",
    "\n",
    "scheduler = get_cosine_schedule_with_warmup(optimizer, num_warmup_steps=warmup_step, num_training_steps=t_total)"
   ]
  },
  {
   "cell_type": "code",
   "execution_count": 38,
   "metadata": {},
   "outputs": [],
   "source": [
    "def calc_accuracy(X,Y):\n",
    "    max_vals, max_indices = torch.max(X, 1)\n",
    "    train_acc = (max_indices == Y).sum().data.cpu().numpy()/max_indices.size()[0]\n",
    "    return train_acc"
   ]
  },
  {
   "cell_type": "code",
   "execution_count": 39,
   "metadata": {},
   "outputs": [],
   "source": [
    "class EarlyStopping:\n",
    "    def __init__(self, patience=5, verbose=False, delta=0, path='checkpoint.pt', trace_func=print):\n",
    "        self.patience = patience\n",
    "        self.verbose = verbose\n",
    "        self.counter = 0\n",
    "        self.best_score = None\n",
    "        self.early_stop = False\n",
    "        self.valid_score_min = np.Inf\n",
    "        self.delta = delta\n",
    "        self.path = path\n",
    "        self.trace_func = trace_func\n",
    "\n",
    "    def __call__(self, valid_score, model):\n",
    "        score = -valid_score\n",
    "        if self.best_score is None:\n",
    "            self.best_score = score\n",
    "            self.save_checkpoint(valid_score, model)\n",
    "        elif score < self.best_score + self.delta:\n",
    "            self.counter += 1\n",
    "            self.trace_func(f'EarlyStopping counter: {self.counter} out of {self.patience}')\n",
    "            if self.counter >= self.patience:\n",
    "                self.early_stop = True\n",
    "        else:\n",
    "            self.best_score = score\n",
    "            self.save_checkpoint(valid_score, model)\n",
    "            self.counter = 0\n",
    "\n",
    "    def save_checkpoint(self, valid_score, model):\n",
    "        if self.verbose:\n",
    "            self.trace_func(f'Validation score decreased ({self.valid_score_min:.6f} --> {valid_score:.6f}).  Saving model ...')\n",
    "        torch.save(model.state_dict(), self.path)\n",
    "        self.valid_score_min = valid_score"
   ]
  },
  {
   "cell_type": "markdown",
   "metadata": {},
   "source": [
    "### Model train"
   ]
  },
  {
   "cell_type": "code",
   "execution_count": 40,
   "metadata": {
    "scrolled": false
   },
   "outputs": [
    {
     "data": {
      "application/vnd.jupyter.widget-view+json": {
       "model_id": "abbe1e8c79264c0b9e6faf6d336e000f",
       "version_major": 2,
       "version_minor": 0
      },
      "text/plain": [
       "  0%|          | 0/128 [00:00<?, ?it/s]"
      ]
     },
     "metadata": {},
     "output_type": "display_data"
    },
    {
     "name": "stdout",
     "output_type": "stream",
     "text": [
      "epoch 1 batch id 1 loss 1.4280422925949097 train acc 0.234375\n",
      "epoch 1 train acc 0.5095263671875\n"
     ]
    },
    {
     "data": {
      "application/vnd.jupyter.widget-view+json": {
       "model_id": "7583f5ebf50a46c9b40bd94202e87933",
       "version_major": 2,
       "version_minor": 0
      },
      "text/plain": [
       "  0%|          | 0/26 [00:00<?, ?it/s]"
      ]
     },
     "metadata": {},
     "output_type": "display_data"
    },
    {
     "name": "stdout",
     "output_type": "stream",
     "text": [
      "epoch 1 valid acc 0.8519631410256411\n",
      "Validation score decreased (inf --> 0.474595).  Saving model ...\n"
     ]
    },
    {
     "data": {
      "application/vnd.jupyter.widget-view+json": {
       "model_id": "decca33f1cf64a2fb83e3bd81fa8d496",
       "version_major": 2,
       "version_minor": 0
      },
      "text/plain": [
       "  0%|          | 0/128 [00:00<?, ?it/s]"
      ]
     },
     "metadata": {},
     "output_type": "display_data"
    },
    {
     "name": "stdout",
     "output_type": "stream",
     "text": [
      "epoch 2 batch id 1 loss 0.511427640914917 train acc 0.84375\n",
      "epoch 2 train acc 0.89654296875\n"
     ]
    },
    {
     "data": {
      "application/vnd.jupyter.widget-view+json": {
       "model_id": "937e7c0bf31140c7b58079efe88d9c9b",
       "version_major": 2,
       "version_minor": 0
      },
      "text/plain": [
       "  0%|          | 0/26 [00:00<?, ?it/s]"
      ]
     },
     "metadata": {},
     "output_type": "display_data"
    },
    {
     "name": "stdout",
     "output_type": "stream",
     "text": [
      "epoch 2 valid acc 0.9103899572649573\n",
      "Validation score decreased (0.474595 --> 0.250310).  Saving model ...\n"
     ]
    },
    {
     "data": {
      "application/vnd.jupyter.widget-view+json": {
       "model_id": "d6e3f7b5b91b4fa0ac3d795e68bdb3e4",
       "version_major": 2,
       "version_minor": 0
      },
      "text/plain": [
       "  0%|          | 0/128 [00:00<?, ?it/s]"
      ]
     },
     "metadata": {},
     "output_type": "display_data"
    },
    {
     "name": "stdout",
     "output_type": "stream",
     "text": [
      "epoch 3 batch id 1 loss 0.2578696608543396 train acc 0.9375\n",
      "epoch 3 train acc 0.937275390625\n"
     ]
    },
    {
     "data": {
      "application/vnd.jupyter.widget-view+json": {
       "model_id": "d2ed82d553c749ce95e0cdf21cc08afa",
       "version_major": 2,
       "version_minor": 0
      },
      "text/plain": [
       "  0%|          | 0/26 [00:00<?, ?it/s]"
      ]
     },
     "metadata": {},
     "output_type": "display_data"
    },
    {
     "name": "stdout",
     "output_type": "stream",
     "text": [
      "epoch 3 valid acc 0.9206063034188035\n",
      "Validation score decreased (0.250310 --> 0.228314).  Saving model ...\n"
     ]
    },
    {
     "data": {
      "application/vnd.jupyter.widget-view+json": {
       "model_id": "60149437e74e4a38b5f756345bb1be90",
       "version_major": 2,
       "version_minor": 0
      },
      "text/plain": [
       "  0%|          | 0/128 [00:00<?, ?it/s]"
      ]
     },
     "metadata": {},
     "output_type": "display_data"
    },
    {
     "name": "stdout",
     "output_type": "stream",
     "text": [
      "epoch 4 batch id 1 loss 0.16292379796504974 train acc 0.953125\n",
      "epoch 4 train acc 0.9556201171875\n"
     ]
    },
    {
     "data": {
      "application/vnd.jupyter.widget-view+json": {
       "model_id": "f258a2c2a0b54c6989e4812229cfe323",
       "version_major": 2,
       "version_minor": 0
      },
      "text/plain": [
       "  0%|          | 0/26 [00:00<?, ?it/s]"
      ]
     },
     "metadata": {},
     "output_type": "display_data"
    },
    {
     "name": "stdout",
     "output_type": "stream",
     "text": [
      "epoch 4 valid acc 0.9262152777777778\n",
      "EarlyStopping counter: 1 out of 3\n"
     ]
    },
    {
     "data": {
      "application/vnd.jupyter.widget-view+json": {
       "model_id": "292ba32b3d9d41798d9182c286979b55",
       "version_major": 2,
       "version_minor": 0
      },
      "text/plain": [
       "  0%|          | 0/128 [00:00<?, ?it/s]"
      ]
     },
     "metadata": {},
     "output_type": "display_data"
    },
    {
     "name": "stdout",
     "output_type": "stream",
     "text": [
      "epoch 5 batch id 1 loss 0.042246706783771515 train acc 0.96875\n",
      "epoch 5 train acc 0.9655078125\n"
     ]
    },
    {
     "data": {
      "application/vnd.jupyter.widget-view+json": {
       "model_id": "4a514b9ba4f544a98ef82fc94d9e35b7",
       "version_major": 2,
       "version_minor": 0
      },
      "text/plain": [
       "  0%|          | 0/26 [00:00<?, ?it/s]"
      ]
     },
     "metadata": {},
     "output_type": "display_data"
    },
    {
     "name": "stdout",
     "output_type": "stream",
     "text": [
      "epoch 5 valid acc 0.9149305555555555\n",
      "EarlyStopping counter: 2 out of 3\n"
     ]
    },
    {
     "data": {
      "application/vnd.jupyter.widget-view+json": {
       "model_id": "e61569d5fab7454f813d1350a4652d57",
       "version_major": 2,
       "version_minor": 0
      },
      "text/plain": [
       "  0%|          | 0/128 [00:00<?, ?it/s]"
      ]
     },
     "metadata": {},
     "output_type": "display_data"
    },
    {
     "name": "stdout",
     "output_type": "stream",
     "text": [
      "epoch 6 batch id 1 loss 0.12535329163074493 train acc 0.953125\n",
      "epoch 6 train acc 0.9745751953125\n"
     ]
    },
    {
     "data": {
      "application/vnd.jupyter.widget-view+json": {
       "model_id": "d4b54d4fd168489eb98d1482b77d399b",
       "version_major": 2,
       "version_minor": 0
      },
      "text/plain": [
       "  0%|          | 0/26 [00:00<?, ?it/s]"
      ]
     },
     "metadata": {},
     "output_type": "display_data"
    },
    {
     "name": "stdout",
     "output_type": "stream",
     "text": [
      "epoch 6 valid acc 0.906784188034188\n",
      "EarlyStopping counter: 3 out of 3\n",
      "Early stopping\n"
     ]
    }
   ],
   "source": [
    "# Initialize lists for storing history\n",
    "train_history = []\n",
    "valid_history = []\n",
    "test_history = []\n",
    "loss_history = []\n",
    "valid_loss_history = []\n",
    "test_loss_history = []\n",
    "\n",
    "# Initialize early_stopping object\n",
    "early_stopping = EarlyStopping(patience=3, verbose=True, path='model_vp_classification.pt')\n",
    "\n",
    "best_valid_acc = 0.0\n",
    "\n",
    "# Training loop\n",
    "for e in range(num_epochs):\n",
    "    train_acc = 0.0\n",
    "    train_loss = 0.0\n",
    "    valid_acc = 0.0\n",
    "    valid_loss = 0.0\n",
    "    test_acc = 0.0\n",
    "    test_loss = 0.0\n",
    "    model.train()  # Set the model to training mode\n",
    "\n",
    "    for batch_id, (token_ids, valid_length, segment_ids, label) in enumerate(tqdm(train_dataloader)):\n",
    "        # Clear gradients\n",
    "        optimizer.zero_grad()\n",
    "        \n",
    "        # Move tensors to the configured device\n",
    "        token_ids = token_ids.long().to(device)\n",
    "        segment_ids = segment_ids.long().to(device)\n",
    "        valid_length = valid_length.to(device)\n",
    "        label = label.long().to(device)\n",
    "\n",
    "        out = model(token_ids, valid_length, segment_ids)  # Forward pass\n",
    "\n",
    "        loss = loss_fn(out, label)  # Compute the loss\n",
    "        loss.backward()  # Perform backpropagation\n",
    "        torch.nn.utils.clip_grad_norm_(model.parameters(), max_grad_norm)  # Clip gradients\n",
    "        optimizer.step()  # Update weights\n",
    "        scheduler.step()  # Update learning rate schedule\n",
    "\n",
    "        train_loss += loss.item()\n",
    "        train_acc += calc_accuracy(out, label)  # Calculate accuracy\n",
    "\n",
    "        if batch_id % log_interval == 0:\n",
    "            print(f\"epoch {e+1} batch id {batch_id+1} loss {loss.item()} train acc {train_acc / (batch_id+1)}\")\n",
    "            train_history.append(train_acc / (batch_id+1))  # Update training history\n",
    "            loss_history.append(loss.item())  # Update loss history\n",
    "\n",
    "    print(f\"epoch {e+1} train acc {train_acc / (len(train_dataloader))}\")\n",
    "    train_loss /= len(train_dataloader)\n",
    "\n",
    "    model.eval()  # Set the model to evaluation mode\n",
    "    for batch_id, (token_ids, valid_length, segment_ids, label) in enumerate(tqdm(valid_dataloader)):\n",
    "        token_ids = token_ids.long().to(device)\n",
    "        segment_ids = segment_ids.long().to(device)\n",
    "        valid_length = valid_length.to(device)\n",
    "        label = label.long().to(device)\n",
    "\n",
    "        with torch.no_grad():\n",
    "            out = model(token_ids, valid_length, segment_ids)  # Forward pass\n",
    "        loss = loss_fn(out, label)\n",
    "        valid_loss += loss.item()\n",
    "        valid_acc += calc_accuracy(out, label)  # Calculate accuracy\n",
    "\n",
    "    print(f\"epoch {e+1} valid acc {valid_acc / (len(valid_dataloader))}\")\n",
    "    valid_history.append(valid_acc / (len(valid_dataloader)))  # Update validation history\n",
    "    valid_loss /= len(valid_dataloader)\n",
    "    valid_loss_history.append(valid_loss)\n",
    "\n",
    "    # If the validation accuracy of this epoch is better than before, save the model\n",
    "    if valid_acc > best_valid_acc:\n",
    "        best_valid_acc = valid_acc\n",
    "        torch.save(model.state_dict(), f'vp_sem_clf_model_{e+1}.pt')\n",
    "\n",
    "    # Early stopping\n",
    "    early_stopping(valid_loss, model)\n",
    "    \n",
    "    if early_stopping.early_stop:\n",
    "        print(\"Early stopping\")\n",
    "        break"
   ]
  },
  {
   "cell_type": "markdown",
   "metadata": {},
   "source": [
    "### Final Evaluation"
   ]
  },
  {
   "cell_type": "code",
   "execution_count": 41,
   "metadata": {},
   "outputs": [
    {
     "data": {
      "application/vnd.jupyter.widget-view+json": {
       "model_id": "7c1a4915ebf9468ea24af305d2ca4b0b",
       "version_major": 2,
       "version_minor": 0
      },
      "text/plain": [
       "  0%|          | 0/7 [00:00<?, ?it/s]"
      ]
     },
     "metadata": {},
     "output_type": "display_data"
    },
    {
     "name": "stdout",
     "output_type": "stream",
     "text": [
      "test acc 0.9022321428571428\n"
     ]
    }
   ],
   "source": [
    "# Finally, your testing code will be the same as before\n",
    "model.eval()  # Set the model to evaluation mode\n",
    "for batch_id, (token_ids, valid_length, segment_ids, label) in enumerate(tqdm(test_dataloader)):\n",
    "    token_ids = token_ids.long().to(device)\n",
    "    segment_ids = segment_ids.long().to(device)\n",
    "    valid_length = valid_length.to(device)\n",
    "    label = label.long().to(device)\n",
    "\n",
    "    with torch.no_grad():\n",
    "        out = model(token_ids, valid_length, segment_ids)  # Forward pass\n",
    "    loss = loss_fn(out, label)\n",
    "    test_loss += loss.item()\n",
    "    test_acc += calc_accuracy(out, label)  # Calculate accuracy\n",
    "\n",
    "print(f\"test acc {test_acc / (len(test_dataloader))}\")\n",
    "test_history.append(test_acc / (len(test_dataloader)))  # Update test history\n",
    "test_loss /= len(test_dataloader)\n",
    "test_loss_history.append(test_loss)\n",
    "\n"
   ]
  },
  {
   "cell_type": "markdown",
   "metadata": {},
   "source": [
    "### Plotting training, validation data's Accuracy and Loss"
   ]
  },
  {
   "cell_type": "code",
   "execution_count": 42,
   "metadata": {
    "scrolled": false
   },
   "outputs": [
    {
     "data": {
      "image/png": "[encoded data removed]",
      "text/plain": [
       "<Figure size 1000x500 with 1 Axes>"
      ]
     },
     "metadata": {},
     "output_type": "display_data"
    },
    {
     "data": {
      "image/png": "[encoded data removed]",
      "text/plain": [
       "<Figure size 1000x500 with 1 Axes>"
      ]
     },
     "metadata": {},
     "output_type": "display_data"
    }
   ],
   "source": [
    "# Plot training and validation loss\n",
    "plt.figure(figsize=(10,5))\n",
    "plt.title(\"Training and Validation Loss\")\n",
    "plt.plot(loss_history, label=\"train\")\n",
    "plt.plot(valid_loss_history, label=\"valid\")\n",
    "plt.xlabel(\"Epochs\")\n",
    "plt.ylabel(\"Loss\")\n",
    "plt.legend()\n",
    "plt.show()\n",
    "\n",
    "# Plot training and validation accuracy\n",
    "plt.figure(figsize=(10,5))\n",
    "plt.title(\"Training and Validation Accuracy\")\n",
    "plt.plot(train_history, label=\"train\")\n",
    "plt.plot(valid_history, label=\"valid\")\n",
    "plt.xlabel(\"Epochs\")\n",
    "plt.ylabel(\"Accuracy\")\n",
    "plt.legend()\n",
    "plt.show()"
   ]
  },
  {
   "cell_type": "markdown",
   "metadata": {},
   "source": [
    "### Model Load & test evaluation"
   ]
  },
  {
   "cell_type": "code",
   "execution_count": null,
   "metadata": {},
   "outputs": [],
   "source": [
    "# Load the best model\n",
    "model_path = 'final_model_koBERT_vp_clf'  # adjust the path if needed\n",
    "model.load_state_dict(torch.load(model_path))\n",
    "\n",
    "# Initialize variables\n",
    "test_acc = 0.0\n",
    "test_loss = 0.0\n",
    "\n",
    "# Set the model to evaluation mode\n",
    "model.eval()\n",
    "\n",
    "# Loop over test data\n",
    "for batch_id, (token_ids, valid_length, segment_ids, label) in enumerate(tqdm(test_dataloader)):\n",
    "    token_ids = token_ids.long().to(device)\n",
    "    segment_ids = segment_ids.long().to(device)\n",
    "    valid_length = valid_length.to(device)\n",
    "    label = label.long().to(device)\n",
    "\n",
    "    # Make predictions\n",
    "    with torch.no_grad():\n",
    "        out = model(token_ids, valid_length, segment_ids)\n",
    "\n",
    "    # Compute loss and accuracy\n",
    "    loss = loss_fn(out, label)\n",
    "    test_loss += loss.item()\n",
    "    test_acc += calc_accuracy(out, label)\n",
    "\n",
    "# Compute average test loss and accuracy\n",
    "test_acc /= len(test_dataloader)\n",
    "test_loss /= len(test_dataloader)\n",
    "\n",
    "# Print results\n",
    "print(f\"test acc {test_acc}\")\n",
    "print(f\"test loss {test_loss}\")\n"
   ]
  },
  {
   "cell_type": "markdown",
   "metadata": {},
   "source": [
    "## predict with real data"
   ]
  },
  {
   "cell_type": "code",
   "execution_count": 52,
   "metadata": {},
   "outputs": [
    {
     "name": "stdout",
     "output_type": "stream",
     "text": [
      "하고싶은 말을 입력해주세요 : 안녕하세요.\n",
      ">> 입력하신 문장은 99.81%의 확률로 \"중립\"감정이 느껴지는 문장입니다.\n",
      "\n",
      "\n",
      "하고싶은 말을 입력해주세요 : 아니 내가 왜 해야해?\n",
      ">> 입력하신 문장은 80.36%의 확률로 \"화남\"감정이 느껴지는 문장입니다.\n",
      "\n",
      "\n",
      "하고싶은 말을 입력해주세요 : 흠...\n",
      ">> 입력하신 문장은 95.58%의 확률로 \"중립\"감정이 느껴지는 문장입니다.\n",
      "\n",
      "\n",
      "하고싶은 말을 입력해주세요 : 그러면 지금 스마트 뱅킹이나 인터넷 뱅킹을 사용하고 계신 건가요?\n",
      ">> 입력하신 문장은 67.67%의 확률로 \"화남\"감정이 느껴지는 문장입니다.\n",
      "\n",
      "\n",
      "하고싶은 말을 입력해주세요 : 어플에서 가능합니다.\n",
      ">> 입력하신 문장은 65.14%의 확률로 \"화남\"감정이 느껴지는 문장입니다.\n",
      "\n",
      "\n",
      "하고싶은 말을 입력해주세요 : 이용권에 따라 다릅니다.\n",
      ">> 입력하신 문장은 86.54%의 확률로 \"중립\"감정이 느껴지는 문장입니다.\n",
      "\n",
      "\n",
      "하고싶은 말을 입력해주세요 : 궁금한 게 통장을 개설할 때 주민등록증하고 주민등록증하고 왜 본인이 같은 서울 영등포구 문래동 물래 지점에서 농협과 신한의 통장 결산하신 적 있습니까?\n",
      ">> 입력하신 문장은 99.79%의 확률로 \"중립\"감정이 느껴지는 문장입니다.\n",
      "\n",
      "\n",
      "하고싶은 말을 입력해주세요 : 네, 쿠폰은 같이 드립니다. 단 삼 단계는 현재 재고가 다 소진되어 있습니다.\n",
      ">> 입력하신 문장은 99.02%의 확률로 \"화남\"감정이 느껴지는 문장입니다.\n",
      "\n",
      "\n",
      "하고싶은 말을 입력해주세요 : 저희 농협 대출 나가면 그거 가지고 친구분한테 빌렸던 거 갚아주면 되는 거니까요.\n",
      ">> 입력하신 문장은 97.43%의 확률로 \"화남\"감정이 느껴지는 문장입니다.\n",
      "\n",
      "\n",
      "하고싶은 말을 입력해주세요 : 0\n"
     ]
    }
   ],
   "source": [
    "def predict(predict_sentence):\n",
    "    data = [predict_sentence, '0']\n",
    "    dataset_another = [data]\n",
    "    \n",
    "    # Define the maximum length for the tokens. You can adjust this value.\n",
    "    max_len = 64\n",
    "    \n",
    "    another_test = BERTDataset(dataset_another, 0, 1, tokenizer, max_len, vocab, True, False)\n",
    "    test_dataloader = torch.utils.data.DataLoader(another_test, batch_size=1, num_workers=5)\n",
    "    \n",
    "    model.eval()\n",
    "    \n",
    "    sentiment_labels = [\"중립\", \"화남\", \"역겨움\", \"두려움\"]\n",
    "\n",
    "    for batch_id, (token_ids, valid_length, segment_ids, label) in enumerate(test_dataloader):\n",
    "        token_ids = token_ids.long().to(device)\n",
    "        segment_ids = segment_ids.long().to(device)\n",
    "        valid_length = valid_length\n",
    "        label = label.long().to(device)\n",
    "\n",
    "        out = model(token_ids, valid_length, segment_ids)\n",
    "        probs = F.softmax(out, dim=1)  # Convert logits to probabilities\n",
    "\n",
    "        # Get the predicted label and its probability\n",
    "        predicted_label_idx = torch.argmax(out).item()\n",
    "        predicted_label_prob = probs[0][predicted_label_idx].item() * 100  # Convert to percentage\n",
    "\n",
    "        print(f\">> 입력하신 문장은 {predicted_label_prob:.2f}%의 확률로 \\\"{sentiment_labels[predicted_label_idx]}\\\"감정이 느껴지는 문장입니다.\")\n",
    "\n",
    "# User input loop\n",
    "end = 1\n",
    "while end == 1:\n",
    "    sentence = input(\"하고싶은 말을 입력해주세요 : \")\n",
    "    if sentence == \"0\":\n",
    "        break\n",
    "    predict(sentence)\n",
    "    print(\"\\n\")\n"
   ]
  },
  {
   "cell_type": "code",
   "execution_count": null,
   "metadata": {},
   "outputs": [],
   "source": []
  }
 ],
 "metadata": {
  "colab": {
   "provenance": []
  },
  "kernelspec": {
   "display_name": "mldl_torch",
   "language": "python",
   "name": "mldl_torch"
  },
  "language_info": {
   "codemirror_mode": {
    "name": "ipython",
    "version": 3
   },
   "file_extension": ".py",
   "mimetype": "text/x-python",
   "name": "python",
   "nbconvert_exporter": "python",
   "pygments_lexer": "ipython3",
   "version": "3.8.17"
  }
 },
 "nbformat": 4,
 "nbformat_minor": 4
}
